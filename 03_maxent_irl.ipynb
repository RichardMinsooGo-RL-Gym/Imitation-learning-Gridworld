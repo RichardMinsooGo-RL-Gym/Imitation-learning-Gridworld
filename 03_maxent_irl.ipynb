{
  "cells": [
    {
      "cell_type": "markdown",
      "metadata": {
        "id": "j7D5JOBj8pyF"
      },
      "source": [
        "# Maximum Entropy Inverse Reinforcement Learning (MaxEnt IRL)\n",
        "\n",
        "In behavior cloning (BC), only the learner policy is trained by using expert demonstration.\n",
        "\n",
        "Inverse Reinforcement Learning (IRL) is a method to learn a cost function, i.e, recovering the unknown reward function from expert's behaviors.\n",
        "\n",
        "For the first example of IRL, I'll show you Maximum Entropy Inverse Reinforcement Learning by step-by-step manner in this notebook.\n",
        "\n",
        "*(back to [index](https://github.com/tsmatz/imitation-learning-tutorials/))*"
      ],
      "id": "j7D5JOBj8pyF"
    },
    {
      "cell_type": "code",
      "source": [
        "import numpy as np\n",
        "print(np.__version__)"
      ],
      "metadata": {
        "colab": {
          "base_uri": "https://localhost:8080/"
        },
        "id": "PSz1KN7A0kyi",
        "outputId": "7dcda17d-f8bd-4d05-a07a-65e948c0d247"
      },
      "execution_count": null,
      "outputs": [
        {
          "output_type": "stream",
          "name": "stdout",
          "text": [
            "2.0.2\n"
          ]
        }
      ],
      "id": "PSz1KN7A0kyi"
    },
    {
      "cell_type": "code",
      "execution_count": null,
      "metadata": {
        "id": "TpZufgx1veLO"
      },
      "outputs": [],
      "source": [
        "from IPython.display import clear_output\n",
        "clear_output()"
      ],
      "id": "TpZufgx1veLO"
    },
    {
      "cell_type": "code",
      "execution_count": null,
      "metadata": {
        "id": "autMsTegxadV",
        "colab": {
          "base_uri": "https://localhost:8080/"
        },
        "outputId": "7e0ad60f-8d16-4a55-daef-7d74e6a7d715"
      },
      "outputs": [
        {
          "output_type": "stream",
          "name": "stdout",
          "text": [
            "Requirement already satisfied: torch in /usr/local/lib/python3.11/dist-packages (2.6.0+cu124)\n",
            "Requirement already satisfied: numpy in /usr/local/lib/python3.11/dist-packages (2.0.2)\n",
            "Requirement already satisfied: filelock in /usr/local/lib/python3.11/dist-packages (from torch) (3.18.0)\n",
            "Requirement already satisfied: typing-extensions>=4.10.0 in /usr/local/lib/python3.11/dist-packages (from torch) (4.14.1)\n",
            "Requirement already satisfied: networkx in /usr/local/lib/python3.11/dist-packages (from torch) (3.5)\n",
            "Requirement already satisfied: jinja2 in /usr/local/lib/python3.11/dist-packages (from torch) (3.1.6)\n",
            "Requirement already satisfied: fsspec in /usr/local/lib/python3.11/dist-packages (from torch) (2025.3.0)\n",
            "Collecting nvidia-cuda-nvrtc-cu12==12.4.127 (from torch)\n",
            "  Downloading nvidia_cuda_nvrtc_cu12-12.4.127-py3-none-manylinux2014_x86_64.whl.metadata (1.5 kB)\n",
            "Collecting nvidia-cuda-runtime-cu12==12.4.127 (from torch)\n",
            "  Downloading nvidia_cuda_runtime_cu12-12.4.127-py3-none-manylinux2014_x86_64.whl.metadata (1.5 kB)\n",
            "Collecting nvidia-cuda-cupti-cu12==12.4.127 (from torch)\n",
            "  Downloading nvidia_cuda_cupti_cu12-12.4.127-py3-none-manylinux2014_x86_64.whl.metadata (1.6 kB)\n",
            "Collecting nvidia-cudnn-cu12==9.1.0.70 (from torch)\n",
            "  Downloading nvidia_cudnn_cu12-9.1.0.70-py3-none-manylinux2014_x86_64.whl.metadata (1.6 kB)\n",
            "Collecting nvidia-cublas-cu12==12.4.5.8 (from torch)\n",
            "  Downloading nvidia_cublas_cu12-12.4.5.8-py3-none-manylinux2014_x86_64.whl.metadata (1.5 kB)\n",
            "Collecting nvidia-cufft-cu12==11.2.1.3 (from torch)\n",
            "  Downloading nvidia_cufft_cu12-11.2.1.3-py3-none-manylinux2014_x86_64.whl.metadata (1.5 kB)\n",
            "Collecting nvidia-curand-cu12==10.3.5.147 (from torch)\n",
            "  Downloading nvidia_curand_cu12-10.3.5.147-py3-none-manylinux2014_x86_64.whl.metadata (1.5 kB)\n",
            "Collecting nvidia-cusolver-cu12==11.6.1.9 (from torch)\n",
            "  Downloading nvidia_cusolver_cu12-11.6.1.9-py3-none-manylinux2014_x86_64.whl.metadata (1.6 kB)\n",
            "Collecting nvidia-cusparse-cu12==12.3.1.170 (from torch)\n",
            "  Downloading nvidia_cusparse_cu12-12.3.1.170-py3-none-manylinux2014_x86_64.whl.metadata (1.6 kB)\n",
            "Requirement already satisfied: nvidia-cusparselt-cu12==0.6.2 in /usr/local/lib/python3.11/dist-packages (from torch) (0.6.2)\n",
            "Requirement already satisfied: nvidia-nccl-cu12==2.21.5 in /usr/local/lib/python3.11/dist-packages (from torch) (2.21.5)\n",
            "Requirement already satisfied: nvidia-nvtx-cu12==12.4.127 in /usr/local/lib/python3.11/dist-packages (from torch) (12.4.127)\n",
            "Collecting nvidia-nvjitlink-cu12==12.4.127 (from torch)\n",
            "  Downloading nvidia_nvjitlink_cu12-12.4.127-py3-none-manylinux2014_x86_64.whl.metadata (1.5 kB)\n",
            "Requirement already satisfied: triton==3.2.0 in /usr/local/lib/python3.11/dist-packages (from torch) (3.2.0)\n",
            "Requirement already satisfied: sympy==1.13.1 in /usr/local/lib/python3.11/dist-packages (from torch) (1.13.1)\n",
            "Requirement already satisfied: mpmath<1.4,>=1.1.0 in /usr/local/lib/python3.11/dist-packages (from sympy==1.13.1->torch) (1.3.0)\n",
            "Requirement already satisfied: MarkupSafe>=2.0 in /usr/local/lib/python3.11/dist-packages (from jinja2->torch) (3.0.2)\n",
            "Downloading nvidia_cublas_cu12-12.4.5.8-py3-none-manylinux2014_x86_64.whl (363.4 MB)\n",
            "\u001b[2K   \u001b[90m━━━━━━━━━━━━━━━━━━━━━━━━━━━━━━━━━━━━━━━━\u001b[0m \u001b[32m363.4/363.4 MB\u001b[0m \u001b[31m3.6 MB/s\u001b[0m eta \u001b[36m0:00:00\u001b[0m\n",
            "\u001b[?25hDownloading nvidia_cuda_cupti_cu12-12.4.127-py3-none-manylinux2014_x86_64.whl (13.8 MB)\n",
            "\u001b[2K   \u001b[90m━━━━━━━━━━━━━━━━━━━━━━━━━━━━━━━━━━━━━━━━\u001b[0m \u001b[32m13.8/13.8 MB\u001b[0m \u001b[31m31.3 MB/s\u001b[0m eta \u001b[36m0:00:00\u001b[0m\n",
            "\u001b[?25hDownloading nvidia_cuda_nvrtc_cu12-12.4.127-py3-none-manylinux2014_x86_64.whl (24.6 MB)\n",
            "\u001b[2K   \u001b[90m━━━━━━━━━━━━━━━━━━━━━━━━━━━━━━━━━━━━━━━━\u001b[0m \u001b[32m24.6/24.6 MB\u001b[0m \u001b[31m41.8 MB/s\u001b[0m eta \u001b[36m0:00:00\u001b[0m\n",
            "\u001b[?25hDownloading nvidia_cuda_runtime_cu12-12.4.127-py3-none-manylinux2014_x86_64.whl (883 kB)\n",
            "\u001b[2K   \u001b[90m━━━━━━━━━━━━━━━━━━━━━━━━━━━━━━━━━━━━━━━━\u001b[0m \u001b[32m883.7/883.7 kB\u001b[0m \u001b[31m24.1 MB/s\u001b[0m eta \u001b[36m0:00:00\u001b[0m\n",
            "\u001b[?25hDownloading nvidia_cudnn_cu12-9.1.0.70-py3-none-manylinux2014_x86_64.whl (664.8 MB)\n",
            "\u001b[2K   \u001b[90m━━━━━━━━━━━━━━━━━━━━━━━━━━━━━━━━━━━━━━━━\u001b[0m \u001b[32m664.8/664.8 MB\u001b[0m \u001b[31m2.1 MB/s\u001b[0m eta \u001b[36m0:00:00\u001b[0m\n",
            "\u001b[?25hDownloading nvidia_cufft_cu12-11.2.1.3-py3-none-manylinux2014_x86_64.whl (211.5 MB)\n",
            "\u001b[2K   \u001b[90m━━━━━━━━━━━━━━━━━━━━━━━━━━━━━━━━━━━━━━━━\u001b[0m \u001b[32m211.5/211.5 MB\u001b[0m \u001b[31m5.9 MB/s\u001b[0m eta \u001b[36m0:00:00\u001b[0m\n",
            "\u001b[?25hDownloading nvidia_curand_cu12-10.3.5.147-py3-none-manylinux2014_x86_64.whl (56.3 MB)\n",
            "\u001b[2K   \u001b[90m━━━━━━━━━━━━━━━━━━━━━━━━━━━━━━━━━━━━━━━━\u001b[0m \u001b[32m56.3/56.3 MB\u001b[0m \u001b[31m13.1 MB/s\u001b[0m eta \u001b[36m0:00:00\u001b[0m\n",
            "\u001b[?25hDownloading nvidia_cusolver_cu12-11.6.1.9-py3-none-manylinux2014_x86_64.whl (127.9 MB)\n",
            "\u001b[2K   \u001b[90m━━━━━━━━━━━━━━━━━━━━━━━━━━━━━━━━━━━━━━━━\u001b[0m \u001b[32m127.9/127.9 MB\u001b[0m \u001b[31m7.5 MB/s\u001b[0m eta \u001b[36m0:00:00\u001b[0m\n",
            "\u001b[?25hDownloading nvidia_cusparse_cu12-12.3.1.170-py3-none-manylinux2014_x86_64.whl (207.5 MB)\n",
            "\u001b[2K   \u001b[90m━━━━━━━━━━━━━━━━━━━━━━━━━━━━━━━━━━━━━━━━\u001b[0m \u001b[32m207.5/207.5 MB\u001b[0m \u001b[31m5.8 MB/s\u001b[0m eta \u001b[36m0:00:00\u001b[0m\n",
            "\u001b[?25hDownloading nvidia_nvjitlink_cu12-12.4.127-py3-none-manylinux2014_x86_64.whl (21.1 MB)\n",
            "\u001b[2K   \u001b[90m━━━━━━━━━━━━━━━━━━━━━━━━━━━━━━━━━━━━━━━━\u001b[0m \u001b[32m21.1/21.1 MB\u001b[0m \u001b[31m69.4 MB/s\u001b[0m eta \u001b[36m0:00:00\u001b[0m\n",
            "\u001b[?25hInstalling collected packages: nvidia-nvjitlink-cu12, nvidia-curand-cu12, nvidia-cufft-cu12, nvidia-cuda-runtime-cu12, nvidia-cuda-nvrtc-cu12, nvidia-cuda-cupti-cu12, nvidia-cublas-cu12, nvidia-cusparse-cu12, nvidia-cudnn-cu12, nvidia-cusolver-cu12\n",
            "  Attempting uninstall: nvidia-nvjitlink-cu12\n",
            "    Found existing installation: nvidia-nvjitlink-cu12 12.5.82\n",
            "    Uninstalling nvidia-nvjitlink-cu12-12.5.82:\n",
            "      Successfully uninstalled nvidia-nvjitlink-cu12-12.5.82\n",
            "  Attempting uninstall: nvidia-curand-cu12\n",
            "    Found existing installation: nvidia-curand-cu12 10.3.6.82\n",
            "    Uninstalling nvidia-curand-cu12-10.3.6.82:\n",
            "      Successfully uninstalled nvidia-curand-cu12-10.3.6.82\n",
            "  Attempting uninstall: nvidia-cufft-cu12\n",
            "    Found existing installation: nvidia-cufft-cu12 11.2.3.61\n",
            "    Uninstalling nvidia-cufft-cu12-11.2.3.61:\n",
            "      Successfully uninstalled nvidia-cufft-cu12-11.2.3.61\n",
            "  Attempting uninstall: nvidia-cuda-runtime-cu12\n",
            "    Found existing installation: nvidia-cuda-runtime-cu12 12.5.82\n",
            "    Uninstalling nvidia-cuda-runtime-cu12-12.5.82:\n",
            "      Successfully uninstalled nvidia-cuda-runtime-cu12-12.5.82\n",
            "  Attempting uninstall: nvidia-cuda-nvrtc-cu12\n",
            "    Found existing installation: nvidia-cuda-nvrtc-cu12 12.5.82\n",
            "    Uninstalling nvidia-cuda-nvrtc-cu12-12.5.82:\n",
            "      Successfully uninstalled nvidia-cuda-nvrtc-cu12-12.5.82\n",
            "  Attempting uninstall: nvidia-cuda-cupti-cu12\n",
            "    Found existing installation: nvidia-cuda-cupti-cu12 12.5.82\n",
            "    Uninstalling nvidia-cuda-cupti-cu12-12.5.82:\n",
            "      Successfully uninstalled nvidia-cuda-cupti-cu12-12.5.82\n",
            "  Attempting uninstall: nvidia-cublas-cu12\n",
            "    Found existing installation: nvidia-cublas-cu12 12.5.3.2\n",
            "    Uninstalling nvidia-cublas-cu12-12.5.3.2:\n",
            "      Successfully uninstalled nvidia-cublas-cu12-12.5.3.2\n",
            "  Attempting uninstall: nvidia-cusparse-cu12\n",
            "    Found existing installation: nvidia-cusparse-cu12 12.5.1.3\n",
            "    Uninstalling nvidia-cusparse-cu12-12.5.1.3:\n",
            "      Successfully uninstalled nvidia-cusparse-cu12-12.5.1.3\n",
            "  Attempting uninstall: nvidia-cudnn-cu12\n",
            "    Found existing installation: nvidia-cudnn-cu12 9.3.0.75\n",
            "    Uninstalling nvidia-cudnn-cu12-9.3.0.75:\n",
            "      Successfully uninstalled nvidia-cudnn-cu12-9.3.0.75\n",
            "  Attempting uninstall: nvidia-cusolver-cu12\n",
            "    Found existing installation: nvidia-cusolver-cu12 11.6.3.83\n",
            "    Uninstalling nvidia-cusolver-cu12-11.6.3.83:\n",
            "      Successfully uninstalled nvidia-cusolver-cu12-11.6.3.83\n",
            "Successfully installed nvidia-cublas-cu12-12.4.5.8 nvidia-cuda-cupti-cu12-12.4.127 nvidia-cuda-nvrtc-cu12-12.4.127 nvidia-cuda-runtime-cu12-12.4.127 nvidia-cudnn-cu12-9.1.0.70 nvidia-cufft-cu12-11.2.1.3 nvidia-curand-cu12-10.3.5.147 nvidia-cusolver-cu12-11.6.1.9 nvidia-cusparse-cu12-12.3.1.170 nvidia-nvjitlink-cu12-12.4.127\n"
          ]
        }
      ],
      "source": [
        "get_ipython().system('pip install torch numpy')"
      ],
      "id": "autMsTegxadV"
    },
    {
      "cell_type": "code",
      "execution_count": null,
      "metadata": {
        "colab": {
          "base_uri": "https://localhost:8080/"
        },
        "id": "ZaWwPFttIVXg",
        "outputId": "bca79e82-f182-44b7-b101-04badfac432c"
      },
      "outputs": [
        {
          "output_type": "stream",
          "name": "stdout",
          "text": [
            "\u001b[33mhint: Using 'master' as the name for the initial branch. This default branch name\u001b[m\n",
            "\u001b[33mhint: is subject to change. To configure the initial branch name to use in all\u001b[m\n",
            "\u001b[33mhint: of your new repositories, which will suppress this warning, call:\u001b[m\n",
            "\u001b[33mhint: \u001b[m\n",
            "\u001b[33mhint: \tgit config --global init.defaultBranch <name>\u001b[m\n",
            "\u001b[33mhint: \u001b[m\n",
            "\u001b[33mhint: Names commonly chosen instead of 'master' are 'main', 'trunk' and\u001b[m\n",
            "\u001b[33mhint: 'development'. The just-created branch can be renamed via this command:\u001b[m\n",
            "\u001b[33mhint: \u001b[m\n",
            "\u001b[33mhint: \tgit branch -m <name>\u001b[m\n",
            "Initialized empty Git repository in /content/.git/\n",
            "remote: Enumerating objects: 141, done.\u001b[K\n",
            "remote: Counting objects: 100% (141/141), done.\u001b[K\n",
            "remote: Compressing objects: 100% (106/106), done.\u001b[K\n",
            "remote: Total 141 (delta 90), reused 76 (delta 34), pack-reused 0 (from 0)\u001b[K\n",
            "Receiving objects: 100% (141/141), 1.45 MiB | 3.38 MiB/s, done.\n",
            "Resolving deltas: 100% (90/90), done.\n",
            "From https://github.com/tsmatz/imitation-learning-tutorials\n",
            " * branch            master     -> FETCH_HEAD\n",
            " * [new branch]      master     -> origin/master\n"
          ]
        }
      ],
      "source": [
        "# Clone from Github Repository\n",
        "! git init .\n",
        "! git remote add origin https://github.com/RichardMinsooGo-RL-Gym/Imitation-learning-Gridworld.git\n",
        "! git pull origin master\n",
        "# ! git pull origin main"
      ],
      "id": "ZaWwPFttIVXg"
    },
    {
      "cell_type": "markdown",
      "metadata": {
        "id": "RO_Mmf8D8pyM"
      },
      "source": [
        "## Why Maximum Entropy Inverse Reinforcement Learning ? (Short history)\n",
        "\n",
        "The first approach for IRL (apprenticeship learning) is proposed by [[Abbeel and Ng, 2004](https://ai.stanford.edu/~ang/papers/icml04-apprentice.pdf)], which is based on **feature expectation matching**.<br>\n",
        "Feature expectation matching assumes that the reward is linear to the feature of trajectory, i.e, $\\verb|reward| = \\mathbf{w}^T \\cdot \\phi(\\tau)$, where $\\phi(\\tau)$ is a trajectory-to-feature mapping function (i.e, the feature of trajectory).\n",
        "\n",
        "> Note : We will discuss IRL with nonlinear rewards in [GAIL example](./06_gail.ipynb).\n",
        "\n",
        "In this assumption, the idea of feature expectation matching finds the optimal policy $\\pi^L$ in the training, which satisfies :\n",
        "\n",
        "$\\displaystyle \\mathbb{E}_{\\pi^L}[\\phi(\\tau)] = \\mathbb{E}_{\\pi^{\\ast}}[\\phi(\\tau)]$\n",
        "\n",
        "where\n",
        "\n",
        "- $\\pi^{\\ast}$ is the expert policy\n",
        "- $\\mathbb{E}_{\\pi^L}[\\phi(\\tau)]$ is the expected feature under the policy $\\pi^L$\n",
        "- $\\mathbb{E}_{\\pi^{\\ast}}[\\phi(\\tau)]$ is the expected feature under the expert policy $\\pi^{\\ast}$\n",
        "\n",
        "To obtain the solution, [[Ratliff et al., 2006](https://papers.nips.cc/paper/3154-boosting-structured-prediction-for-imitation-learning)] has proposed **Maximum-Margin Planning (MMP)** method, which method is to find a cost function to maximize the difference between the optimal policy and others.<br>\n",
        "These methods are based on applying margin maximization. (See [my old post](https://tsmatz.wordpress.com/2020/06/01/svm-and-kernel-functions-mathematics/) for the fundamental idea of margin maximization in classification.)\n",
        "\n",
        "This approach works well, when it's clearly better than alternatives. The obtained reward function, however, may be sub-optimal (i.e, ill-posed) in complex cases.<br>\n",
        "To address this problem, [[Brian et al., 2008](https://cdn.aaai.org/AAAI/2008/AAAI08-227.pdf)] has proposed to apply the maximum entropy principle - i.e, **Maximum Entropy Inverse Reinforcement Learning** (MaxEnt IRL).\n",
        "\n",
        "In information theory, **entropy** is the value of average amount of information to represent its distribution, and it's known that the stable probability distribution (i.e, appropriate randomness) leads to the large entropy. (See [[Christopher M. Bishop, Microsoft](https://www.microsoft.com/en-us/research/uploads/prod/2006/01/Bishop-Pattern-Recognition-and-Machine-Learning-2006.pdf)].)<br>\n",
        "Maximum Entropy Inverse Reinforcement Learning is a method to find the optimal solution by maximizing the entropy, while meeting the other optional conditions.<br>\n",
        "The problem can be solved by applying Lagrange multipliers."
      ],
      "id": "RO_Mmf8D8pyM"
    },
    {
      "cell_type": "markdown",
      "metadata": {
        "id": "l6w_-UzR8pyO"
      },
      "source": [
        "## Overview of Maximum Entropy Inverse Reinforcement Learning method\n",
        "\n",
        "Now let's briefly follow this method along with the original paper [[Brian et al., 2008](https://cdn.aaai.org/AAAI/2008/AAAI08-227.pdf)].\n",
        "\n",
        "First, we consider to find a policy $p()$ to maximize the entropy :\n",
        "\n",
        "$\\displaystyle \\sum p(\\tau) \\log \\frac{1}{p(\\tau)}$\n",
        "\n",
        "subjects to the following constraint (feature expectation matching constraint) :\n",
        "\n",
        "$\\displaystyle \\mathbb{E}_{\\pi^L}[\\phi(\\tau)] = \\mathbb{E}_{\\pi^{\\ast}}[\\phi(\\tau)]$\n",
        "\n",
        "By applying Lagrangian multiplier $\\theta$, this distribution follows :\n",
        "\n",
        "$\\displaystyle p(\\tau) \\propto \\exp(\\theta^T \\cdot \\phi(\\tau)) $\n",
        "\n",
        "> Note : See Wikipedia \"[Maximum entropy probability distribution](https://en.wikipedia.org/wiki/Maximum_entropy_probability_distribution)\".\n",
        "\n",
        "I note that Lagrangian multiplier $\\theta$ becomes a reward weight, and the policy will then be given by using $\\theta$.\n",
        "\n",
        "Above equation is trajectory view of equation, but now let's switch to the state-action's view.\n",
        "\n",
        "When it's finite time horizon, the feature of trajectory $\\phi(\\tau)$ is the sum of state's features, i.e $\\phi(\\tau) = \\sum_{s_i \\in \\tau} \\phi(s_i)$. (Because $\\verb|[reward of trajectory|\\;\\tau\\verb|]| = \\sum_{s_i \\in \\tau} \\verb|[reward of state|\\;s_i\\verb|]|$ in feature expectation.)<br>\n",
        "Then it can be written by :\n",
        "\n",
        "$\\displaystyle p(\\tau) \\propto \\exp(\\theta^T \\cdot \\sum_{s_i \\in \\tau} \\phi(s_i)) $\n",
        "\n",
        "> Note : You can also design the trajectory feature $\\phi(\\tau)$ as the sum of features $\\phi(s_i,a_i)$, instead of $\\phi(s_i)$.<br>\n",
        "> In this design, $\\theta^T \\cdot \\phi(s_i, a_i)$ is a reward for taking action $a_i$ on state $s_i$. (i.e, The reward should also be linear to the feature vector $\\phi(s_i, a_i)$.)\n",
        "\n",
        "> Note : As I have mentioned in [Readme.md](https://github.com/tsmatz/imitation-learning-tutorials/blob/master/Readme.md), here we assume the time horizon is finite (which has 200 time-steps).<br>\n",
        "> If it's infinite time horizon, apply the discounted reward's weights for features. (In this example, I use reward's weights without discount.)\n",
        "\n",
        "Because $\\sum_{\\tau} p(\\tau) = 1$, this then leads to the following equation:\n",
        "\n",
        "$\\displaystyle p(\\tau) = \\frac{1}{Z(\\theta)} \\exp(\\theta^T \\cdot \\sum_{s_i \\in \\tau} \\phi(s_i))$\n",
        "\n",
        "where $Z(\\theta)=\\sum_{\\tau} \\exp(\\theta^T \\cdot \\sum_{s_i \\in \\tau} \\phi(s_i))$\n",
        "\n",
        "You should remember that our environment has stochastic (non-deterministic) transition.<br>\n",
        "The above equation is then rewritten as follows. :\n",
        "\n",
        "$\\displaystyle p(\\tau) = \\frac{1}{Z(\\theta)} \\exp(\\theta^T \\cdot \\sum_{s_i \\in \\tau} \\phi(s_i)) \\prod_{s_{t+1},a_t,s_t \\in \\tau} p(s_{t+1} | s_t, a_t)$\n",
        "\n",
        "where $Z(\\theta)=\\sum_{\\tau} \\exp(\\theta^T \\cdot \\sum_{s_i \\in \\tau} \\phi(s_i)) \\prod_{s_{t+1},a_t,s_t \\in \\tau} p(s_{t+1} | s_t, a_t)$\n",
        "\n",
        "Now we should find the optimal $\\theta$ to maximize the log-likelihood of above formula with demonstrated expert's examples. :\n",
        "\n",
        "$ \\displaystyle \\theta^{\\ast} = \\arg \\max_{\\theta} L(\\theta) = \\arg \\max_{\\theta} \\sum_{\\verb|expert's examples|} \\log p(\\tau) $\n",
        "\n",
        "> Note : See [here](https://tsmatz.wordpress.com/2017/08/30/regression-in-machine-learning-math-for-beginners/) for duality between maximizing likelihood and maximizing entropy.\n",
        "\n",
        "Because this function is convex, the optimal $\\theta$ can be obtained using gradient-based optimization. In this case, the gradient is given by the difference between expert's (empirical) features and expected features (which is obtained by using current $\\theta$) as follows. :\n",
        "\n",
        "$ \\displaystyle \\nabla L(\\theta) = \\mathbb{E}_{\\pi^{\\ast}}[\\phi(\\tau)] - \\sum_{\\tau} p(\\tau) \\phi(\\tau) $\n",
        "\n",
        "Now we consider to get this gradient by state-action notations.<br>\n",
        "The first term in above equation is $\\mathbb{E}_{\\pi^{\\ast}}[\\phi(\\tau)] = \\mathbb{E}_{\\pi^{\\ast}}[\\sum_{s_i \\in \\tau} \\phi(s_i)]$, and we can easily get the empirical expectation by the average of expert's demostrations.<br>\n",
        "The second term in above equation is $\\sum_{\\tau} p(\\tau) \\phi(\\tau) = \\sum_{s_i} D_{s_i} \\phi(s_i)$, where $D_{s_i}$ is the visitation frequency which can be obtained by using current $\\theta$.\n",
        "\n",
        "In order to get $D_{s_i}$, the most straight-forward approach is to enumerate each possible paths.<br>\n",
        "But this approach is computationally expensive, and we now estimate by applying the following algorithm with large $N$ to get $D_{s_i}$. (This algorithm\n",
        "approximates the state frequencies for the infinite time horizon using a large fixed time horizon $N$.) :\n",
        "\n",
        "<ins>Backward pass</ins>\n",
        "\n",
        "1. Set $Z_{s_{\\verb|goal|}} = 1$ and $Z_{s_{\\verb|others|}} = 0$\n",
        "2. Compute the following for $N$ iterations. This will recursively (by backward from goal to initial state) fill $Z_s$ values. :\n",
        "    - $Z_{s_i, a_j} = \\sum_{k} p(s_k | s_i, a_j) \\exp(\\theta^T \\cdot \\phi(s_i)) Z_{s_k} \\;\\; (\\forall i, j)$\n",
        "    - then $Z_{s_i} = \\sum_j Z_{s_i, a_j} \\;\\; (\\forall i)$\n",
        "\n",
        "<ins>Local action probability computation</ins>\n",
        "\n",
        "3. Compute $p(a_j | s_i) = \\frac{Z_{s_i, a_j}}{Z_{s_i}} \\;\\; (\\forall i, j)$\n",
        "\n",
        "<ins>Forward pass</ins>\n",
        "\n",
        "4. Set $D_{s_i, 1} = p(s_i \\verb| is initial state|) \\;\\; (\\forall i)$\n",
        "5. Compute the following for $t=1$ to $N$. This will recursively (by forward from $t=1$ to $N$) fill $D$ values. :\n",
        "    - $D_{s_i, t+1} = \\sum_k \\sum_j D_{s_k, t} p(a_j | s_k) p(s_i | a_j, s_k) \\;\\; (\\forall i)$\n",
        "\n",
        "> Note : In our example, $ p(s_i \\verb| is initial state|) $ may simply be $\\frac{1}{\\verb| the number of possible initial states|}$.\n",
        "\n",
        "<ins>Summing frequencies</ins>\n",
        "\n",
        "6. Compute $D_{s_i} = \\sum_t D_{s_i, t} \\;\\; (\\forall i)$\n",
        "\n",
        "Now we have got $\\nabla L(\\theta)$ and we can then apply gradient method to get optimal $\\theta$.\n",
        "\n",
        "To get the optimal policy $\\pi^L$ with the trained parameters $\\theta$, you can reuse above algorithm and then get $p(a_j | s_i)$.\n",
        "\n",
        "It's worth noting that this method assumes that the state transition distribution $p(s_i | a_j, s_k)$ is known, which is not the case in many robotic applications.\n",
        "\n",
        "> Note : The following work, **Maximum Causal Entropy Inverse Reinforcement Learning** method [[Ziebart et al., 2010](https://www.cs.cmu.edu/~bziebart/publications/maximum-causal-entropy.pdf)], addresses the drawbacks of Maximum Entropy Inverse Reinforcement Learning by applying the principle of maximum causal entropy, instead of applying the principle of maximum entropy.<br>\n",
        "> See the [following example](./04_mce_irl.ipynb) for Maximum Causal Entropy IRL."
      ],
      "id": "l6w_-UzR8pyO"
    },
    {
      "cell_type": "markdown",
      "metadata": {
        "id": "VSmahyzW8pyR"
      },
      "source": [
        "## Implementation"
      ],
      "id": "VSmahyzW8pyR"
    },
    {
      "cell_type": "markdown",
      "metadata": {
        "id": "DB66WfEN8pyS"
      },
      "source": [
        "Firstly, our example (GridWorld) obviously satisfies that the reward is linearly dependent on the state's feature.<br>\n",
        "Hence we can apply Maximum Entropy IRL method on our example.\n",
        "\n",
        "Now let's implement above algorithm.\n",
        "\n",
        "> Note : To speed up computation, I'll implement operations with PyTorch tensors."
      ],
      "id": "DB66WfEN8pyS"
    },
    {
      "cell_type": "markdown",
      "metadata": {
        "id": "CFZBPxUl8pyS"
      },
      "source": [
        "### 1. Restore environment and load expert's data"
      ],
      "id": "CFZBPxUl8pyS"
    },
    {
      "cell_type": "markdown",
      "metadata": {
        "id": "RkeV2T4X8pyX"
      },
      "source": [
        "Before we start, we need to install the required packages."
      ],
      "id": "RkeV2T4X8pyX"
    },
    {
      "cell_type": "code",
      "execution_count": null,
      "metadata": {
        "id": "Ceh6IPZB8pyY"
      },
      "outputs": [],
      "source": [
        "!pip install torch numpy matplotlib"
      ],
      "id": "Ceh6IPZB8pyY"
    },
    {
      "cell_type": "markdown",
      "metadata": {
        "id": "yDeo2-Pe8pya"
      },
      "source": [
        "This algorithm needs to compute the joint probability and then needs precision.<br>\n",
        "In order to prevent from overflows, I apply double precision for float operations."
      ],
      "id": "yDeo2-Pe8pya"
    },
    {
      "cell_type": "code",
      "execution_count": null,
      "metadata": {
        "id": "pQl8O7Qb8pyc"
      },
      "outputs": [],
      "source": [
        "import torch\n",
        "\n",
        "torch.set_default_dtype(torch.float64)"
      ],
      "id": "pQl8O7Qb8pyc"
    },
    {
      "cell_type": "markdown",
      "metadata": {
        "id": "nmObcBfw8pyd"
      },
      "source": [
        "Firstly, I restore GridWorld environment from JSON file.\n",
        "\n",
        "For details about this environment, see [Readme.md](https://github.com/tsmatz/imitation-learning-tutorials/blob/master/Readme.md).\n",
        "\n",
        "> Note : See [this script](./00_generate_expert_trajectories.ipynb) for generating the same environment."
      ],
      "id": "nmObcBfw8pyd"
    },
    {
      "cell_type": "code",
      "execution_count": null,
      "metadata": {
        "id": "H61RLnxJ8pyd"
      },
      "outputs": [],
      "source": [
        "import json\n",
        "from gridworld import GridWorld\n",
        "\n",
        "device = torch.device(\"cuda\" if torch.cuda.is_available() else \"cpu\")\n",
        "\n",
        "with open(\"gridworld.json\", \"r\") as f:\n",
        "    json_object = json.load(f)\n",
        "    env = GridWorld(**json_object, device=device)"
      ],
      "id": "H61RLnxJ8pyd"
    },
    {
      "cell_type": "markdown",
      "metadata": {
        "id": "wlRkIkj18pye"
      },
      "source": [
        "Now I visualize our GridWorld environment.\n",
        "\n",
        "The number in each cell indicates the reward score on this state.<br>\n",
        "The goal state is on the right-bottom corner (in which the reward is ```10.0```), and the initial state is uniformly picked up from the gray-colored cells.<br>\n",
        "If the agent can reach to goal state without losing any rewards, it will get ```10.0``` for total reward.\n",
        "\n",
        "See [Readme.md](https://github.com/tsmatz/imitation-learning-tutorials/blob/master/Readme.md) for details about the game rule of this environment."
      ],
      "id": "wlRkIkj18pye"
    },
    {
      "cell_type": "code",
      "execution_count": null,
      "metadata": {
        "id": "w04ssL1e8pyf",
        "outputId": "a68f5b43-66c4-414a-fdfc-45f345eff944"
      },
      "outputs": [
        {
          "data": {
            "text/html": [
              "<table><tr><td>0</td><td>-1</td><td>0</td><td>0</td><td>0</td><td>-1</td><td bgcolor=\"gray\">0</td><td bgcolor=\"gray\">0</td><td bgcolor=\"gray\">0</td><td bgcolor=\"gray\">0</td><td bgcolor=\"gray\">0</td><td bgcolor=\"gray\">0</td><td>-1</td><td bgcolor=\"gray\">0</td><td>-1</td><td>-1</td><td>-1</td><td>-1</td><td bgcolor=\"gray\">0</td><td>-1</td><td bgcolor=\"gray\">0</td><td>-1</td><td bgcolor=\"gray\">0</td><td bgcolor=\"gray\">0</td><td bgcolor=\"gray\">0</td><td>-1</td><td bgcolor=\"gray\">0</td><td bgcolor=\"gray\">0</td><td bgcolor=\"gray\">0</td><td>-1</td><td>-1</td><td>0</td><td>-1</td><td bgcolor=\"gray\">0</td><td bgcolor=\"gray\">0</td><td bgcolor=\"gray\">0</td><td bgcolor=\"gray\">0</td><td>-1</td><td>-1</td><td>0</td><td>0</td><td>0</td><td>0</td><td>0</td><td>0</td><td>0</td><td>0</td><td>0</td><td>0</td><td>0</td></tr><tr><td>-1</td><td>0</td><td>0</td><td>0</td><td>0</td><td>-1</td><td bgcolor=\"gray\">0</td><td>-1</td><td bgcolor=\"gray\">0</td><td bgcolor=\"gray\">0</td><td bgcolor=\"gray\">0</td><td bgcolor=\"gray\">0</td><td bgcolor=\"gray\">0</td><td bgcolor=\"gray\">0</td><td bgcolor=\"gray\">0</td><td bgcolor=\"gray\">0</td><td bgcolor=\"gray\">0</td><td bgcolor=\"gray\">0</td><td bgcolor=\"gray\">0</td><td bgcolor=\"gray\">0</td><td bgcolor=\"gray\">0</td><td>-1</td><td>-1</td><td>-1</td><td bgcolor=\"gray\">0</td><td>-1</td><td bgcolor=\"gray\">0</td><td bgcolor=\"gray\">0</td><td bgcolor=\"gray\">0</td><td bgcolor=\"gray\">0</td><td bgcolor=\"gray\">0</td><td>-1</td><td bgcolor=\"gray\">0</td><td>-1</td><td bgcolor=\"gray\">0</td><td>-1</td><td bgcolor=\"gray\">0</td><td>-1</td><td>0</td><td>-1</td><td>-1</td><td>0</td><td>0</td><td>0</td><td>-1</td><td>-1</td><td>0</td><td>0</td><td>-1</td><td>-1</td></tr><tr><td>0</td><td>0</td><td>-1</td><td>-1</td><td>0</td><td>-1</td><td bgcolor=\"gray\">0</td><td>-1</td><td bgcolor=\"gray\">0</td><td>-1</td><td bgcolor=\"gray\">0</td><td bgcolor=\"gray\">0</td><td bgcolor=\"gray\">0</td><td bgcolor=\"gray\">0</td><td bgcolor=\"gray\">0</td><td bgcolor=\"gray\">0</td><td bgcolor=\"gray\">0</td><td>-1</td><td bgcolor=\"gray\">0</td><td bgcolor=\"gray\">0</td><td>-1</td><td bgcolor=\"gray\">0</td><td bgcolor=\"gray\">0</td><td>-1</td><td bgcolor=\"gray\">0</td><td bgcolor=\"gray\">0</td><td bgcolor=\"gray\">0</td><td bgcolor=\"gray\">0</td><td bgcolor=\"gray\">0</td><td bgcolor=\"gray\">0</td><td bgcolor=\"gray\">0</td><td>-1</td><td bgcolor=\"gray\">0</td><td bgcolor=\"gray\">0</td><td>-1</td><td bgcolor=\"gray\">0</td><td bgcolor=\"gray\">0</td><td>-1</td><td>-1</td><td bgcolor=\"gray\">0</td><td bgcolor=\"gray\">0</td><td>-1</td><td>0</td><td>0</td><td>0</td><td>0</td><td>-1</td><td>0</td><td>0</td><td>0</td></tr><tr><td>0</td><td>0</td><td>-1</td><td bgcolor=\"gray\">0</td><td>-1</td><td>-1</td><td bgcolor=\"gray\">0</td><td bgcolor=\"gray\">0</td><td>-1</td><td bgcolor=\"gray\">0</td><td>-1</td><td bgcolor=\"gray\">0</td><td bgcolor=\"gray\">0</td><td bgcolor=\"gray\">0</td><td bgcolor=\"gray\">0</td><td>-1</td><td bgcolor=\"gray\">0</td><td>-1</td><td bgcolor=\"gray\">0</td><td>-1</td><td>0</td><td>-1</td><td bgcolor=\"gray\">0</td><td bgcolor=\"gray\">0</td><td>-1</td><td>-1</td><td bgcolor=\"gray\">0</td><td bgcolor=\"gray\">0</td><td>-1</td><td bgcolor=\"gray\">0</td><td bgcolor=\"gray\">0</td><td bgcolor=\"gray\">0</td><td bgcolor=\"gray\">0</td><td bgcolor=\"gray\">0</td><td bgcolor=\"gray\">0</td><td bgcolor=\"gray\">0</td><td bgcolor=\"gray\">0</td><td bgcolor=\"gray\">0</td><td bgcolor=\"gray\">0</td><td bgcolor=\"gray\">0</td><td bgcolor=\"gray\">0</td><td>-1</td><td>0</td><td>0</td><td>0</td><td>0</td><td>0</td><td>0</td><td>0</td><td>-1</td></tr><tr><td>-1</td><td>-1</td><td>-1</td><td bgcolor=\"gray\">0</td><td bgcolor=\"gray\">0</td><td bgcolor=\"gray\">0</td><td bgcolor=\"gray\">0</td><td bgcolor=\"gray\">0</td><td bgcolor=\"gray\">0</td><td bgcolor=\"gray\">0</td><td bgcolor=\"gray\">0</td><td bgcolor=\"gray\">0</td><td bgcolor=\"gray\">0</td><td bgcolor=\"gray\">0</td><td bgcolor=\"gray\">0</td><td bgcolor=\"gray\">0</td><td bgcolor=\"gray\">0</td><td bgcolor=\"gray\">0</td><td bgcolor=\"gray\">0</td><td>-1</td><td>-1</td><td bgcolor=\"gray\">0</td><td>-1</td><td bgcolor=\"gray\">0</td><td bgcolor=\"gray\">0</td><td bgcolor=\"gray\">0</td><td bgcolor=\"gray\">0</td><td bgcolor=\"gray\">0</td><td bgcolor=\"gray\">0</td><td bgcolor=\"gray\">0</td><td bgcolor=\"gray\">0</td><td bgcolor=\"gray\">0</td><td bgcolor=\"gray\">0</td><td bgcolor=\"gray\">0</td><td bgcolor=\"gray\">0</td><td>-1</td><td bgcolor=\"gray\">0</td><td>-1</td><td bgcolor=\"gray\">0</td><td bgcolor=\"gray\">0</td><td bgcolor=\"gray\">0</td><td>-1</td><td>0</td><td>0</td><td>-1</td><td>0</td><td>-1</td><td>-1</td><td>0</td><td>0</td></tr><tr><td>0</td><td>-1</td><td>-1</td><td bgcolor=\"gray\">0</td><td bgcolor=\"gray\">0</td><td>-1</td><td bgcolor=\"gray\">0</td><td>-1</td><td bgcolor=\"gray\">0</td><td bgcolor=\"gray\">0</td><td>-1</td><td bgcolor=\"gray\">0</td><td bgcolor=\"gray\">0</td><td>-1</td><td bgcolor=\"gray\">0</td><td bgcolor=\"gray\">0</td><td>-1</td><td>-1</td><td bgcolor=\"gray\">0</td><td bgcolor=\"gray\">0</td><td>-1</td><td bgcolor=\"gray\">0</td><td bgcolor=\"gray\">0</td><td bgcolor=\"gray\">0</td><td>-1</td><td bgcolor=\"gray\">0</td><td bgcolor=\"gray\">0</td><td bgcolor=\"gray\">0</td><td bgcolor=\"gray\">0</td><td>-1</td><td>-1</td><td bgcolor=\"gray\">0</td><td bgcolor=\"gray\">0</td><td>-1</td><td bgcolor=\"gray\">0</td><td>-1</td><td>-1</td><td>-1</td><td>-1</td><td bgcolor=\"gray\">0</td><td bgcolor=\"gray\">0</td><td>-1</td><td>0</td><td>-1</td><td>0</td><td>0</td><td>0</td><td>0</td><td>0</td><td>-1</td></tr><tr><td>-1</td><td>-1</td><td bgcolor=\"gray\">0</td><td bgcolor=\"gray\">0</td><td bgcolor=\"gray\">0</td><td bgcolor=\"gray\">0</td><td bgcolor=\"gray\">0</td><td bgcolor=\"gray\">0</td><td bgcolor=\"gray\">0</td><td bgcolor=\"gray\">0</td><td bgcolor=\"gray\">0</td><td bgcolor=\"gray\">0</td><td>-1</td><td>0</td><td>-1</td><td bgcolor=\"gray\">0</td><td bgcolor=\"gray\">0</td><td bgcolor=\"gray\">0</td><td bgcolor=\"gray\">0</td><td bgcolor=\"gray\">0</td><td>-1</td><td>-1</td><td bgcolor=\"gray\">0</td><td bgcolor=\"gray\">0</td><td>-1</td><td>-1</td><td bgcolor=\"gray\">0</td><td bgcolor=\"gray\">0</td><td>-1</td><td>-1</td><td>0</td><td>-1</td><td bgcolor=\"gray\">0</td><td bgcolor=\"gray\">0</td><td bgcolor=\"gray\">0</td><td bgcolor=\"gray\">0</td><td bgcolor=\"gray\">0</td><td bgcolor=\"gray\">0</td><td bgcolor=\"gray\">0</td><td>-1</td><td>-1</td><td>0</td><td>0</td><td>0</td><td>-1</td><td>0</td><td>-1</td><td>0</td><td>-1</td><td>-1</td></tr><tr><td bgcolor=\"gray\">0</td><td bgcolor=\"gray\">0</td><td bgcolor=\"gray\">0</td><td bgcolor=\"gray\">0</td><td>-1</td><td bgcolor=\"gray\">0</td><td bgcolor=\"gray\">0</td><td bgcolor=\"gray\">0</td><td>-1</td><td bgcolor=\"gray\">0</td><td bgcolor=\"gray\">0</td><td bgcolor=\"gray\">0</td><td bgcolor=\"gray\">0</td><td>-1</td><td bgcolor=\"gray\">0</td><td bgcolor=\"gray\">0</td><td>-1</td><td>-1</td><td bgcolor=\"gray\">0</td><td bgcolor=\"gray\">0</td><td>-1</td><td bgcolor=\"gray\">0</td><td bgcolor=\"gray\">0</td><td>-1</td><td bgcolor=\"gray\">0</td><td bgcolor=\"gray\">0</td><td>-1</td><td bgcolor=\"gray\">0</td><td bgcolor=\"gray\">0</td><td bgcolor=\"gray\">0</td><td>-1</td><td>-1</td><td bgcolor=\"gray\">0</td><td bgcolor=\"gray\">0</td><td>-1</td><td bgcolor=\"gray\">0</td><td>-1</td><td bgcolor=\"gray\">0</td><td>-1</td><td>0</td><td>0</td><td>-1</td><td>0</td><td>-1</td><td>0</td><td>0</td><td>0</td><td>0</td><td>0</td><td>0</td></tr><tr><td bgcolor=\"gray\">0</td><td bgcolor=\"gray\">0</td><td bgcolor=\"gray\">0</td><td bgcolor=\"gray\">0</td><td bgcolor=\"gray\">0</td><td bgcolor=\"gray\">0</td><td bgcolor=\"gray\">0</td><td bgcolor=\"gray\">0</td><td bgcolor=\"gray\">0</td><td bgcolor=\"gray\">0</td><td>-1</td><td>-1</td><td bgcolor=\"gray\">0</td><td>-1</td><td bgcolor=\"gray\">0</td><td bgcolor=\"gray\">0</td><td>-1</td><td bgcolor=\"gray\">0</td><td bgcolor=\"gray\">0</td><td>-1</td><td>-1</td><td bgcolor=\"gray\">0</td><td bgcolor=\"gray\">0</td><td bgcolor=\"gray\">0</td><td bgcolor=\"gray\">0</td><td bgcolor=\"gray\">0</td><td bgcolor=\"gray\">0</td><td>-1</td><td bgcolor=\"gray\">0</td><td bgcolor=\"gray\">0</td><td bgcolor=\"gray\">0</td><td>-1</td><td>-1</td><td>-1</td><td>-1</td><td>-1</td><td>-1</td><td bgcolor=\"gray\">0</td><td>-1</td><td>-1</td><td>0</td><td>-1</td><td>0</td><td>0</td><td>0</td><td>-1</td><td>0</td><td>0</td><td>0</td><td>0</td></tr><tr><td bgcolor=\"gray\">0</td><td bgcolor=\"gray\">0</td><td bgcolor=\"gray\">0</td><td>-1</td><td bgcolor=\"gray\">0</td><td>-1</td><td bgcolor=\"gray\">0</td><td bgcolor=\"gray\">0</td><td>-1</td><td>-1</td><td bgcolor=\"gray\">0</td><td bgcolor=\"gray\">0</td><td>-1</td><td bgcolor=\"gray\">0</td><td bgcolor=\"gray\">0</td><td bgcolor=\"gray\">0</td><td bgcolor=\"gray\">0</td><td bgcolor=\"gray\">0</td><td bgcolor=\"gray\">0</td><td bgcolor=\"gray\">0</td><td bgcolor=\"gray\">0</td><td bgcolor=\"gray\">0</td><td>-1</td><td>-1</td><td>-1</td><td bgcolor=\"gray\">0</td><td>-1</td><td bgcolor=\"gray\">0</td><td bgcolor=\"gray\">0</td><td bgcolor=\"gray\">0</td><td bgcolor=\"gray\">0</td><td bgcolor=\"gray\">0</td><td bgcolor=\"gray\">0</td><td bgcolor=\"gray\">0</td><td bgcolor=\"gray\">0</td><td bgcolor=\"gray\">0</td><td bgcolor=\"gray\">0</td><td>-1</td><td>0</td><td>0</td><td>0</td><td>0</td><td>0</td><td>0</td><td>-1</td><td>-1</td><td>0</td><td>-1</td><td>-1</td><td>-1</td></tr><tr><td bgcolor=\"gray\">0</td><td bgcolor=\"gray\">0</td><td bgcolor=\"gray\">0</td><td bgcolor=\"gray\">0</td><td bgcolor=\"gray\">0</td><td>-1</td><td bgcolor=\"gray\">0</td><td bgcolor=\"gray\">0</td><td bgcolor=\"gray\">0</td><td bgcolor=\"gray\">0</td><td>-1</td><td bgcolor=\"gray\">0</td><td bgcolor=\"gray\">0</td><td>-1</td><td bgcolor=\"gray\">0</td><td bgcolor=\"gray\">0</td><td bgcolor=\"gray\">0</td><td>-1</td><td bgcolor=\"gray\">0</td><td bgcolor=\"gray\">0</td><td bgcolor=\"gray\">0</td><td>-1</td><td bgcolor=\"gray\">0</td><td bgcolor=\"gray\">0</td><td>-1</td><td bgcolor=\"gray\">0</td><td bgcolor=\"gray\">0</td><td bgcolor=\"gray\">0</td><td>-1</td><td>-1</td><td bgcolor=\"gray\">0</td><td>-1</td><td>-1</td><td bgcolor=\"gray\">0</td><td bgcolor=\"gray\">0</td><td bgcolor=\"gray\">0</td><td bgcolor=\"gray\">0</td><td bgcolor=\"gray\">0</td><td>-1</td><td>-1</td><td>-1</td><td>-1</td><td>-1</td><td>-1</td><td>0</td><td>0</td><td>-1</td><td>-1</td><td>-1</td><td bgcolor=\"gray\">0</td></tr><tr><td>-1</td><td bgcolor=\"gray\">0</td><td>-1</td><td bgcolor=\"gray\">0</td><td bgcolor=\"gray\">0</td><td bgcolor=\"gray\">0</td><td>-1</td><td bgcolor=\"gray\">0</td><td>-1</td><td bgcolor=\"gray\">0</td><td bgcolor=\"gray\">0</td><td bgcolor=\"gray\">0</td><td bgcolor=\"gray\">0</td><td bgcolor=\"gray\">0</td><td bgcolor=\"gray\">0</td><td bgcolor=\"gray\">0</td><td bgcolor=\"gray\">0</td><td>-1</td><td bgcolor=\"gray\">0</td><td bgcolor=\"gray\">0</td><td>-1</td><td bgcolor=\"gray\">0</td><td bgcolor=\"gray\">0</td><td>-1</td><td bgcolor=\"gray\">0</td><td bgcolor=\"gray\">0</td><td bgcolor=\"gray\">0</td><td bgcolor=\"gray\">0</td><td bgcolor=\"gray\">0</td><td bgcolor=\"gray\">0</td><td bgcolor=\"gray\">0</td><td>-1</td><td>-1</td><td bgcolor=\"gray\">0</td><td bgcolor=\"gray\">0</td><td bgcolor=\"gray\">0</td><td bgcolor=\"gray\">0</td><td>-1</td><td bgcolor=\"gray\">0</td><td bgcolor=\"gray\">0</td><td bgcolor=\"gray\">0</td><td bgcolor=\"gray\">0</td><td bgcolor=\"gray\">0</td><td>-1</td><td>-1</td><td>0</td><td>-1</td><td bgcolor=\"gray\">0</td><td bgcolor=\"gray\">0</td><td bgcolor=\"gray\">0</td></tr><tr><td>-1</td><td bgcolor=\"gray\">0</td><td>-1</td><td bgcolor=\"gray\">0</td><td>-1</td><td bgcolor=\"gray\">0</td><td bgcolor=\"gray\">0</td><td bgcolor=\"gray\">0</td><td bgcolor=\"gray\">0</td><td>-1</td><td bgcolor=\"gray\">0</td><td bgcolor=\"gray\">0</td><td bgcolor=\"gray\">0</td><td bgcolor=\"gray\">0</td><td>-1</td><td bgcolor=\"gray\">0</td><td bgcolor=\"gray\">0</td><td bgcolor=\"gray\">0</td><td>-1</td><td bgcolor=\"gray\">0</td><td>-1</td><td bgcolor=\"gray\">0</td><td>-1</td><td>-1</td><td>-1</td><td bgcolor=\"gray\">0</td><td>-1</td><td bgcolor=\"gray\">0</td><td bgcolor=\"gray\">0</td><td bgcolor=\"gray\">0</td><td>-1</td><td>-1</td><td bgcolor=\"gray\">0</td><td bgcolor=\"gray\">0</td><td bgcolor=\"gray\">0</td><td bgcolor=\"gray\">0</td><td>-1</td><td bgcolor=\"gray\">0</td><td bgcolor=\"gray\">0</td><td bgcolor=\"gray\">0</td><td>-1</td><td>-1</td><td bgcolor=\"gray\">0</td><td bgcolor=\"gray\">0</td><td bgcolor=\"gray\">0</td><td>-1</td><td bgcolor=\"gray\">0</td><td>-1</td><td bgcolor=\"gray\">0</td><td bgcolor=\"gray\">0</td></tr><tr><td bgcolor=\"gray\">0</td><td bgcolor=\"gray\">0</td><td bgcolor=\"gray\">0</td><td>-1</td><td bgcolor=\"gray\">0</td><td>-1</td><td bgcolor=\"gray\">0</td><td bgcolor=\"gray\">0</td><td>-1</td><td>-1</td><td>-1</td><td bgcolor=\"gray\">0</td><td bgcolor=\"gray\">0</td><td bgcolor=\"gray\">0</td><td>-1</td><td bgcolor=\"gray\">0</td><td bgcolor=\"gray\">0</td><td bgcolor=\"gray\">0</td><td bgcolor=\"gray\">0</td><td bgcolor=\"gray\">0</td><td>-1</td><td bgcolor=\"gray\">0</td><td bgcolor=\"gray\">0</td><td bgcolor=\"gray\">0</td><td bgcolor=\"gray\">0</td><td bgcolor=\"gray\">0</td><td>-1</td><td>-1</td><td bgcolor=\"gray\">0</td><td bgcolor=\"gray\">0</td><td bgcolor=\"gray\">0</td><td bgcolor=\"gray\">0</td><td bgcolor=\"gray\">0</td><td bgcolor=\"gray\">0</td><td bgcolor=\"gray\">0</td><td bgcolor=\"gray\">0</td><td bgcolor=\"gray\">0</td><td bgcolor=\"gray\">0</td><td>-1</td><td bgcolor=\"gray\">0</td><td bgcolor=\"gray\">0</td><td bgcolor=\"gray\">0</td><td bgcolor=\"gray\">0</td><td>-1</td><td bgcolor=\"gray\">0</td><td>-1</td><td bgcolor=\"gray\">0</td><td bgcolor=\"gray\">0</td><td bgcolor=\"gray\">0</td><td bgcolor=\"gray\">0</td></tr><tr><td>-1</td><td bgcolor=\"gray\">0</td><td>-1</td><td bgcolor=\"gray\">0</td><td bgcolor=\"gray\">0</td><td>-1</td><td bgcolor=\"gray\">0</td><td>-1</td><td>-1</td><td>-1</td><td bgcolor=\"gray\">0</td><td bgcolor=\"gray\">0</td><td>-1</td><td bgcolor=\"gray\">0</td><td bgcolor=\"gray\">0</td><td bgcolor=\"gray\">0</td><td>-1</td><td bgcolor=\"gray\">0</td><td>-1</td><td bgcolor=\"gray\">0</td><td bgcolor=\"gray\">0</td><td bgcolor=\"gray\">0</td><td bgcolor=\"gray\">0</td><td bgcolor=\"gray\">0</td><td bgcolor=\"gray\">0</td><td>-1</td><td>-1</td><td>0</td><td>-1</td><td>-1</td><td bgcolor=\"gray\">0</td><td>-1</td><td bgcolor=\"gray\">0</td><td>-1</td><td>-1</td><td bgcolor=\"gray\">0</td><td>-1</td><td bgcolor=\"gray\">0</td><td bgcolor=\"gray\">0</td><td bgcolor=\"gray\">0</td><td bgcolor=\"gray\">0</td><td bgcolor=\"gray\">0</td><td>-1</td><td>0</td><td>-1</td><td bgcolor=\"gray\">0</td><td bgcolor=\"gray\">0</td><td bgcolor=\"gray\">0</td><td>-1</td><td bgcolor=\"gray\">0</td></tr><tr><td>-1</td><td>-1</td><td bgcolor=\"gray\">0</td><td bgcolor=\"gray\">0</td><td>-1</td><td bgcolor=\"gray\">0</td><td bgcolor=\"gray\">0</td><td>-1</td><td>-1</td><td bgcolor=\"gray\">0</td><td bgcolor=\"gray\">0</td><td bgcolor=\"gray\">0</td><td>-1</td><td bgcolor=\"gray\">0</td><td bgcolor=\"gray\">0</td><td bgcolor=\"gray\">0</td><td>-1</td><td bgcolor=\"gray\">0</td><td bgcolor=\"gray\">0</td><td bgcolor=\"gray\">0</td><td bgcolor=\"gray\">0</td><td>-1</td><td bgcolor=\"gray\">0</td><td>-1</td><td bgcolor=\"gray\">0</td><td>-1</td><td>0</td><td>-1</td><td>0</td><td>-1</td><td>-1</td><td>-1</td><td bgcolor=\"gray\">0</td><td bgcolor=\"gray\">0</td><td bgcolor=\"gray\">0</td><td bgcolor=\"gray\">0</td><td bgcolor=\"gray\">0</td><td>-1</td><td>-1</td><td>-1</td><td>-1</td><td>-1</td><td>-1</td><td>-1</td><td>-1</td><td bgcolor=\"gray\">0</td><td bgcolor=\"gray\">0</td><td>-1</td><td>0</td><td>-1</td></tr><tr><td>0</td><td>-1</td><td bgcolor=\"gray\">0</td><td bgcolor=\"gray\">0</td><td bgcolor=\"gray\">0</td><td bgcolor=\"gray\">0</td><td bgcolor=\"gray\">0</td><td>-1</td><td bgcolor=\"gray\">0</td><td bgcolor=\"gray\">0</td><td bgcolor=\"gray\">0</td><td bgcolor=\"gray\">0</td><td bgcolor=\"gray\">0</td><td bgcolor=\"gray\">0</td><td>-1</td><td bgcolor=\"gray\">0</td><td bgcolor=\"gray\">0</td><td>-1</td><td>-1</td><td bgcolor=\"gray\">0</td><td bgcolor=\"gray\">0</td><td>-1</td><td>-1</td><td>0</td><td>-1</td><td>0</td><td>-1</td><td>0</td><td>-1</td><td>-1</td><td bgcolor=\"gray\">0</td><td bgcolor=\"gray\">0</td><td bgcolor=\"gray\">0</td><td bgcolor=\"gray\">0</td><td bgcolor=\"gray\">0</td><td bgcolor=\"gray\">0</td><td bgcolor=\"gray\">0</td><td>-1</td><td>-1</td><td bgcolor=\"gray\">0</td><td>-1</td><td bgcolor=\"gray\">0</td><td>-1</td><td>-1</td><td>0</td><td>-1</td><td bgcolor=\"gray\">0</td><td>-1</td><td>-1</td><td>-1</td></tr><tr><td>0</td><td>-1</td><td bgcolor=\"gray\">0</td><td bgcolor=\"gray\">0</td><td>-1</td><td>-1</td><td bgcolor=\"gray\">0</td><td bgcolor=\"gray\">0</td><td bgcolor=\"gray\">0</td><td bgcolor=\"gray\">0</td><td bgcolor=\"gray\">0</td><td bgcolor=\"gray\">0</td><td bgcolor=\"gray\">0</td><td>-1</td><td bgcolor=\"gray\">0</td><td bgcolor=\"gray\">0</td><td bgcolor=\"gray\">0</td><td bgcolor=\"gray\">0</td><td bgcolor=\"gray\">0</td><td>-1</td><td bgcolor=\"gray\">0</td><td bgcolor=\"gray\">0</td><td bgcolor=\"gray\">0</td><td>-1</td><td>0</td><td>0</td><td>-1</td><td>0</td><td>0</td><td>0</td><td>-1</td><td>-1</td><td bgcolor=\"gray\">0</td><td>-1</td><td bgcolor=\"gray\">0</td><td>-1</td><td>-1</td><td bgcolor=\"gray\">0</td><td>-1</td><td bgcolor=\"gray\">0</td><td bgcolor=\"gray\">0</td><td bgcolor=\"gray\">0</td><td>-1</td><td>-1</td><td>-1</td><td bgcolor=\"gray\">0</td><td bgcolor=\"gray\">0</td><td bgcolor=\"gray\">0</td><td bgcolor=\"gray\">0</td><td>-1</td></tr><tr><td>0</td><td>-1</td><td>-1</td><td bgcolor=\"gray\">0</td><td bgcolor=\"gray\">0</td><td bgcolor=\"gray\">0</td><td bgcolor=\"gray\">0</td><td bgcolor=\"gray\">0</td><td bgcolor=\"gray\">0</td><td bgcolor=\"gray\">0</td><td bgcolor=\"gray\">0</td><td>-1</td><td bgcolor=\"gray\">0</td><td bgcolor=\"gray\">0</td><td>-1</td><td bgcolor=\"gray\">0</td><td>-1</td><td>-1</td><td>-1</td><td bgcolor=\"gray\">0</td><td bgcolor=\"gray\">0</td><td bgcolor=\"gray\">0</td><td>-1</td><td>0</td><td>0</td><td>-1</td><td>0</td><td>0</td><td>0</td><td>-1</td><td bgcolor=\"gray\">0</td><td bgcolor=\"gray\">0</td><td bgcolor=\"gray\">0</td><td bgcolor=\"gray\">0</td><td bgcolor=\"gray\">0</td><td>-1</td><td bgcolor=\"gray\">0</td><td bgcolor=\"gray\">0</td><td bgcolor=\"gray\">0</td><td bgcolor=\"gray\">0</td><td>-1</td><td bgcolor=\"gray\">0</td><td bgcolor=\"gray\">0</td><td bgcolor=\"gray\">0</td><td bgcolor=\"gray\">0</td><td bgcolor=\"gray\">0</td><td bgcolor=\"gray\">0</td><td bgcolor=\"gray\">0</td><td>-1</td><td>0</td></tr><tr><td>0</td><td>-1</td><td>-1</td><td bgcolor=\"gray\">0</td><td bgcolor=\"gray\">0</td><td bgcolor=\"gray\">0</td><td>-1</td><td bgcolor=\"gray\">0</td><td bgcolor=\"gray\">0</td><td bgcolor=\"gray\">0</td><td>-1</td><td bgcolor=\"gray\">0</td><td bgcolor=\"gray\">0</td><td bgcolor=\"gray\">0</td><td bgcolor=\"gray\">0</td><td>-1</td><td bgcolor=\"gray\">0</td><td bgcolor=\"gray\">0</td><td bgcolor=\"gray\">0</td><td bgcolor=\"gray\">0</td><td bgcolor=\"gray\">0</td><td bgcolor=\"gray\">0</td><td>-1</td><td>0</td><td>-1</td><td bgcolor=\"gray\">0</td><td>-1</td><td>-1</td><td>-1</td><td bgcolor=\"gray\">0</td><td bgcolor=\"gray\">0</td><td bgcolor=\"gray\">0</td><td bgcolor=\"gray\">0</td><td bgcolor=\"gray\">0</td><td>-1</td><td>-1</td><td bgcolor=\"gray\">0</td><td bgcolor=\"gray\">0</td><td bgcolor=\"gray\">0</td><td bgcolor=\"gray\">0</td><td bgcolor=\"gray\">0</td><td bgcolor=\"gray\">0</td><td bgcolor=\"gray\">0</td><td bgcolor=\"gray\">0</td><td bgcolor=\"gray\">0</td><td bgcolor=\"gray\">0</td><td>-1</td><td bgcolor=\"gray\">0</td><td>-1</td><td>-1</td></tr><tr><td>-1</td><td>-1</td><td>-1</td><td>-1</td><td bgcolor=\"gray\">0</td><td bgcolor=\"gray\">0</td><td bgcolor=\"gray\">0</td><td>-1</td><td>-1</td><td bgcolor=\"gray\">0</td><td>-1</td><td>-1</td><td bgcolor=\"gray\">0</td><td bgcolor=\"gray\">0</td><td>-1</td><td bgcolor=\"gray\">0</td><td bgcolor=\"gray\">0</td><td>-1</td><td bgcolor=\"gray\">0</td><td bgcolor=\"gray\">0</td><td bgcolor=\"gray\">0</td><td bgcolor=\"gray\">0</td><td bgcolor=\"gray\">0</td><td>-1</td><td bgcolor=\"gray\">0</td><td bgcolor=\"gray\">0</td><td bgcolor=\"gray\">0</td><td bgcolor=\"gray\">0</td><td bgcolor=\"gray\">0</td><td>-1</td><td>-1</td><td bgcolor=\"gray\">0</td><td bgcolor=\"gray\">0</td><td bgcolor=\"gray\">0</td><td>-1</td><td bgcolor=\"gray\">0</td><td bgcolor=\"gray\">0</td><td bgcolor=\"gray\">0</td><td>-1</td><td>-1</td><td>-1</td><td>-1</td><td bgcolor=\"gray\">0</td><td bgcolor=\"gray\">0</td><td>-1</td><td>-1</td><td bgcolor=\"gray\">0</td><td>-1</td><td>-1</td><td>-1</td></tr><tr><td>-1</td><td bgcolor=\"gray\">0</td><td bgcolor=\"gray\">0</td><td bgcolor=\"gray\">0</td><td bgcolor=\"gray\">0</td><td bgcolor=\"gray\">0</td><td>-1</td><td bgcolor=\"gray\">0</td><td bgcolor=\"gray\">0</td><td bgcolor=\"gray\">0</td><td>-1</td><td bgcolor=\"gray\">0</td><td bgcolor=\"gray\">0</td><td>-1</td><td>-1</td><td>-1</td><td bgcolor=\"gray\">0</td><td bgcolor=\"gray\">0</td><td>-1</td><td bgcolor=\"gray\">0</td><td bgcolor=\"gray\">0</td><td bgcolor=\"gray\">0</td><td>-1</td><td bgcolor=\"gray\">0</td><td bgcolor=\"gray\">0</td><td>-1</td><td bgcolor=\"gray\">0</td><td bgcolor=\"gray\">0</td><td bgcolor=\"gray\">0</td><td bgcolor=\"gray\">0</td><td>-1</td><td>-1</td><td bgcolor=\"gray\">0</td><td bgcolor=\"gray\">0</td><td bgcolor=\"gray\">0</td><td bgcolor=\"gray\">0</td><td>-1</td><td bgcolor=\"gray\">0</td><td>-1</td><td>0</td><td>0</td><td>-1</td><td bgcolor=\"gray\">0</td><td bgcolor=\"gray\">0</td><td>-1</td><td bgcolor=\"gray\">0</td><td bgcolor=\"gray\">0</td><td bgcolor=\"gray\">0</td><td bgcolor=\"gray\">0</td><td bgcolor=\"gray\">0</td></tr><tr><td>0</td><td>-1</td><td bgcolor=\"gray\">0</td><td bgcolor=\"gray\">0</td><td>-1</td><td bgcolor=\"gray\">0</td><td>-1</td><td>-1</td><td>-1</td><td bgcolor=\"gray\">0</td><td>-1</td><td>-1</td><td>-1</td><td bgcolor=\"gray\">0</td><td bgcolor=\"gray\">0</td><td bgcolor=\"gray\">0</td><td bgcolor=\"gray\">0</td><td bgcolor=\"gray\">0</td><td bgcolor=\"gray\">0</td><td bgcolor=\"gray\">0</td><td bgcolor=\"gray\">0</td><td bgcolor=\"gray\">0</td><td bgcolor=\"gray\">0</td><td>-1</td><td>-1</td><td bgcolor=\"gray\">0</td><td bgcolor=\"gray\">0</td><td>-1</td><td bgcolor=\"gray\">0</td><td bgcolor=\"gray\">0</td><td bgcolor=\"gray\">0</td><td>-1</td><td bgcolor=\"gray\">0</td><td bgcolor=\"gray\">0</td><td>-1</td><td>-1</td><td>-1</td><td>-1</td><td bgcolor=\"gray\">0</td><td>-1</td><td>-1</td><td bgcolor=\"gray\">0</td><td bgcolor=\"gray\">0</td><td>-1</td><td>-1</td><td bgcolor=\"gray\">0</td><td>-1</td><td bgcolor=\"gray\">0</td><td>-1</td><td bgcolor=\"gray\">0</td></tr><tr><td>-1</td><td bgcolor=\"gray\">0</td><td bgcolor=\"gray\">0</td><td bgcolor=\"gray\">0</td><td>-1</td><td>-1</td><td bgcolor=\"gray\">0</td><td bgcolor=\"gray\">0</td><td>-1</td><td bgcolor=\"gray\">0</td><td bgcolor=\"gray\">0</td><td bgcolor=\"gray\">0</td><td bgcolor=\"gray\">0</td><td bgcolor=\"gray\">0</td><td bgcolor=\"gray\">0</td><td bgcolor=\"gray\">0</td><td>-1</td><td bgcolor=\"gray\">0</td><td>-1</td><td bgcolor=\"gray\">0</td><td bgcolor=\"gray\">0</td><td>-1</td><td bgcolor=\"gray\">0</td><td>-1</td><td>-1</td><td bgcolor=\"gray\">0</td><td bgcolor=\"gray\">0</td><td>-1</td><td>-1</td><td bgcolor=\"gray\">0</td><td>-1</td><td bgcolor=\"gray\">0</td><td bgcolor=\"gray\">0</td><td bgcolor=\"gray\">0</td><td bgcolor=\"gray\">0</td><td>-1</td><td>-1</td><td>-1</td><td bgcolor=\"gray\">0</td><td bgcolor=\"gray\">0</td><td bgcolor=\"gray\">0</td><td bgcolor=\"gray\">0</td><td bgcolor=\"gray\">0</td><td bgcolor=\"gray\">0</td><td bgcolor=\"gray\">0</td><td>-1</td><td>-1</td><td bgcolor=\"gray\">0</td><td bgcolor=\"gray\">0</td><td bgcolor=\"gray\">0</td></tr><tr><td bgcolor=\"gray\">0</td><td bgcolor=\"gray\">0</td><td bgcolor=\"gray\">0</td><td>-1</td><td bgcolor=\"gray\">0</td><td bgcolor=\"gray\">0</td><td bgcolor=\"gray\">0</td><td>-1</td><td bgcolor=\"gray\">0</td><td bgcolor=\"gray\">0</td><td>-1</td><td bgcolor=\"gray\">0</td><td>-1</td><td bgcolor=\"gray\">0</td><td bgcolor=\"gray\">0</td><td bgcolor=\"gray\">0</td><td bgcolor=\"gray\">0</td><td>-1</td><td bgcolor=\"gray\">0</td><td>-1</td><td bgcolor=\"gray\">0</td><td bgcolor=\"gray\">0</td><td bgcolor=\"gray\">0</td><td bgcolor=\"gray\">0</td><td>-1</td><td bgcolor=\"gray\">0</td><td bgcolor=\"gray\">0</td><td bgcolor=\"gray\">0</td><td>-1</td><td bgcolor=\"gray\">0</td><td>-1</td><td bgcolor=\"gray\">0</td><td bgcolor=\"gray\">0</td><td bgcolor=\"gray\">0</td><td>-1</td><td bgcolor=\"gray\">0</td><td bgcolor=\"gray\">0</td><td>-1</td><td bgcolor=\"gray\">0</td><td bgcolor=\"gray\">0</td><td>-1</td><td>-1</td><td bgcolor=\"gray\">0</td><td>-1</td><td>-1</td><td>-1</td><td>-1</td><td>-1</td><td bgcolor=\"gray\">0</td><td bgcolor=\"gray\">0</td></tr><tr><td bgcolor=\"gray\">0</td><td>-1</td><td bgcolor=\"gray\">0</td><td>-1</td><td bgcolor=\"gray\">0</td><td bgcolor=\"gray\">0</td><td bgcolor=\"gray\">0</td><td bgcolor=\"gray\">0</td><td bgcolor=\"gray\">0</td><td bgcolor=\"gray\">0</td><td>-1</td><td bgcolor=\"gray\">0</td><td>-1</td><td>-1</td><td bgcolor=\"gray\">0</td><td>-1</td><td bgcolor=\"gray\">0</td><td>-1</td><td bgcolor=\"gray\">0</td><td bgcolor=\"gray\">0</td><td bgcolor=\"gray\">0</td><td>-1</td><td bgcolor=\"gray\">0</td><td bgcolor=\"gray\">0</td><td>-1</td><td bgcolor=\"gray\">0</td><td>-1</td><td>-1</td><td bgcolor=\"gray\">0</td><td bgcolor=\"gray\">0</td><td>-1</td><td bgcolor=\"gray\">0</td><td bgcolor=\"gray\">0</td><td bgcolor=\"gray\">0</td><td bgcolor=\"gray\">0</td><td bgcolor=\"gray\">0</td><td>-1</td><td>-1</td><td>-1</td><td bgcolor=\"gray\">0</td><td>-1</td><td bgcolor=\"gray\">0</td><td bgcolor=\"gray\">0</td><td bgcolor=\"gray\">0</td><td bgcolor=\"gray\">0</td><td>-1</td><td>-1</td><td>-1</td><td bgcolor=\"gray\">0</td><td bgcolor=\"gray\">0</td></tr><tr><td>-1</td><td bgcolor=\"gray\">0</td><td bgcolor=\"gray\">0</td><td bgcolor=\"gray\">0</td><td bgcolor=\"gray\">0</td><td bgcolor=\"gray\">0</td><td bgcolor=\"gray\">0</td><td bgcolor=\"gray\">0</td><td bgcolor=\"gray\">0</td><td>-1</td><td>0</td><td>-1</td><td>-1</td><td bgcolor=\"gray\">0</td><td bgcolor=\"gray\">0</td><td bgcolor=\"gray\">0</td><td>-1</td><td>-1</td><td bgcolor=\"gray\">0</td><td>-1</td><td>-1</td><td>0</td><td>-1</td><td bgcolor=\"gray\">0</td><td bgcolor=\"gray\">0</td><td bgcolor=\"gray\">0</td><td>-1</td><td bgcolor=\"gray\">0</td><td bgcolor=\"gray\">0</td><td bgcolor=\"gray\">0</td><td bgcolor=\"gray\">0</td><td>-1</td><td bgcolor=\"gray\">0</td><td>-1</td><td bgcolor=\"gray\">0</td><td>-1</td><td bgcolor=\"gray\">0</td><td bgcolor=\"gray\">0</td><td>-1</td><td bgcolor=\"gray\">0</td><td bgcolor=\"gray\">0</td><td>-1</td><td bgcolor=\"gray\">0</td><td bgcolor=\"gray\">0</td><td bgcolor=\"gray\">0</td><td bgcolor=\"gray\">0</td><td bgcolor=\"gray\">0</td><td bgcolor=\"gray\">0</td><td>-1</td><td bgcolor=\"gray\">0</td></tr><tr><td bgcolor=\"gray\">0</td><td>-1</td><td>-1</td><td>-1</td><td bgcolor=\"gray\">0</td><td>-1</td><td>-1</td><td bgcolor=\"gray\">0</td><td bgcolor=\"gray\">0</td><td>-1</td><td>-1</td><td bgcolor=\"gray\">0</td><td>-1</td><td bgcolor=\"gray\">0</td><td bgcolor=\"gray\">0</td><td bgcolor=\"gray\">0</td><td bgcolor=\"gray\">0</td><td>-1</td><td bgcolor=\"gray\">0</td><td bgcolor=\"gray\">0</td><td bgcolor=\"gray\">0</td><td>-1</td><td bgcolor=\"gray\">0</td><td bgcolor=\"gray\">0</td><td bgcolor=\"gray\">0</td><td bgcolor=\"gray\">0</td><td bgcolor=\"gray\">0</td><td bgcolor=\"gray\">0</td><td bgcolor=\"gray\">0</td><td>-1</td><td>-1</td><td bgcolor=\"gray\">0</td><td bgcolor=\"gray\">0</td><td bgcolor=\"gray\">0</td><td>-1</td><td bgcolor=\"gray\">0</td><td bgcolor=\"gray\">0</td><td bgcolor=\"gray\">0</td><td bgcolor=\"gray\">0</td><td bgcolor=\"gray\">0</td><td bgcolor=\"gray\">0</td><td bgcolor=\"gray\">0</td><td>-1</td><td bgcolor=\"gray\">0</td><td bgcolor=\"gray\">0</td><td bgcolor=\"gray\">0</td><td bgcolor=\"gray\">0</td><td bgcolor=\"gray\">0</td><td bgcolor=\"gray\">0</td><td bgcolor=\"gray\">0</td></tr><tr><td bgcolor=\"gray\">0</td><td bgcolor=\"gray\">0</td><td>-1</td><td>-1</td><td bgcolor=\"gray\">0</td><td bgcolor=\"gray\">0</td><td>-1</td><td>-1</td><td bgcolor=\"gray\">0</td><td bgcolor=\"gray\">0</td><td bgcolor=\"gray\">0</td><td bgcolor=\"gray\">0</td><td bgcolor=\"gray\">0</td><td>-1</td><td bgcolor=\"gray\">0</td><td bgcolor=\"gray\">0</td><td>-1</td><td>-1</td><td bgcolor=\"gray\">0</td><td bgcolor=\"gray\">0</td><td bgcolor=\"gray\">0</td><td>-1</td><td bgcolor=\"gray\">0</td><td bgcolor=\"gray\">0</td><td>-1</td><td bgcolor=\"gray\">0</td><td bgcolor=\"gray\">0</td><td>-1</td><td bgcolor=\"gray\">0</td><td>-1</td><td>-1</td><td bgcolor=\"gray\">0</td><td bgcolor=\"gray\">0</td><td bgcolor=\"gray\">0</td><td>-1</td><td>-1</td><td bgcolor=\"gray\">0</td><td bgcolor=\"gray\">0</td><td bgcolor=\"gray\">0</td><td bgcolor=\"gray\">0</td><td bgcolor=\"gray\">0</td><td>-1</td><td bgcolor=\"gray\">0</td><td bgcolor=\"gray\">0</td><td>-1</td><td bgcolor=\"gray\">0</td><td bgcolor=\"gray\">0</td><td>-1</td><td bgcolor=\"gray\">0</td><td bgcolor=\"gray\">0</td></tr><tr><td bgcolor=\"gray\">0</td><td bgcolor=\"gray\">0</td><td bgcolor=\"gray\">0</td><td bgcolor=\"gray\">0</td><td bgcolor=\"gray\">0</td><td bgcolor=\"gray\">0</td><td>-1</td><td>-1</td><td>-1</td><td>-1</td><td bgcolor=\"gray\">0</td><td bgcolor=\"gray\">0</td><td bgcolor=\"gray\">0</td><td bgcolor=\"gray\">0</td><td>-1</td><td bgcolor=\"gray\">0</td><td>-1</td><td bgcolor=\"gray\">0</td><td>-1</td><td bgcolor=\"gray\">0</td><td bgcolor=\"gray\">0</td><td bgcolor=\"gray\">0</td><td bgcolor=\"gray\">0</td><td>-1</td><td>-1</td><td>-1</td><td>-1</td><td>-1</td><td>-1</td><td>-1</td><td>-1</td><td bgcolor=\"gray\">0</td><td bgcolor=\"gray\">0</td><td bgcolor=\"gray\">0</td><td>-1</td><td>0</td><td>-1</td><td bgcolor=\"gray\">0</td><td>-1</td><td bgcolor=\"gray\">0</td><td bgcolor=\"gray\">0</td><td bgcolor=\"gray\">0</td><td bgcolor=\"gray\">0</td><td bgcolor=\"gray\">0</td><td bgcolor=\"gray\">0</td><td bgcolor=\"gray\">0</td><td bgcolor=\"gray\">0</td><td>-1</td><td bgcolor=\"gray\">0</td><td bgcolor=\"gray\">0</td></tr><tr><td bgcolor=\"gray\">0</td><td>-1</td><td bgcolor=\"gray\">0</td><td>-1</td><td bgcolor=\"gray\">0</td><td bgcolor=\"gray\">0</td><td bgcolor=\"gray\">0</td><td>-1</td><td>-1</td><td bgcolor=\"gray\">0</td><td bgcolor=\"gray\">0</td><td>-1</td><td bgcolor=\"gray\">0</td><td>-1</td><td>-1</td><td bgcolor=\"gray\">0</td><td bgcolor=\"gray\">0</td><td bgcolor=\"gray\">0</td><td bgcolor=\"gray\">0</td><td bgcolor=\"gray\">0</td><td bgcolor=\"gray\">0</td><td bgcolor=\"gray\">0</td><td bgcolor=\"gray\">0</td><td bgcolor=\"gray\">0</td><td bgcolor=\"gray\">0</td><td bgcolor=\"gray\">0</td><td bgcolor=\"gray\">0</td><td bgcolor=\"gray\">0</td><td bgcolor=\"gray\">0</td><td bgcolor=\"gray\">0</td><td bgcolor=\"gray\">0</td><td bgcolor=\"gray\">0</td><td bgcolor=\"gray\">0</td><td>-1</td><td>0</td><td>-1</td><td bgcolor=\"gray\">0</td><td bgcolor=\"gray\">0</td><td bgcolor=\"gray\">0</td><td bgcolor=\"gray\">0</td><td bgcolor=\"gray\">0</td><td>-1</td><td>-1</td><td bgcolor=\"gray\">0</td><td bgcolor=\"gray\">0</td><td bgcolor=\"gray\">0</td><td bgcolor=\"gray\">0</td><td bgcolor=\"gray\">0</td><td bgcolor=\"gray\">0</td><td bgcolor=\"gray\">0</td></tr><tr><td bgcolor=\"gray\">0</td><td bgcolor=\"gray\">0</td><td>-1</td><td bgcolor=\"gray\">0</td><td bgcolor=\"gray\">0</td><td>-1</td><td>-1</td><td>-1</td><td bgcolor=\"gray\">0</td><td bgcolor=\"gray\">0</td><td bgcolor=\"gray\">0</td><td bgcolor=\"gray\">0</td><td bgcolor=\"gray\">0</td><td bgcolor=\"gray\">0</td><td bgcolor=\"gray\">0</td><td bgcolor=\"gray\">0</td><td bgcolor=\"gray\">0</td><td>-1</td><td>-1</td><td bgcolor=\"gray\">0</td><td bgcolor=\"gray\">0</td><td bgcolor=\"gray\">0</td><td>-1</td><td>-1</td><td>-1</td><td bgcolor=\"gray\">0</td><td bgcolor=\"gray\">0</td><td bgcolor=\"gray\">0</td><td bgcolor=\"gray\">0</td><td bgcolor=\"gray\">0</td><td bgcolor=\"gray\">0</td><td>-1</td><td>-1</td><td>0</td><td>0</td><td>0</td><td>-1</td><td bgcolor=\"gray\">0</td><td bgcolor=\"gray\">0</td><td>-1</td><td>-1</td><td bgcolor=\"gray\">0</td><td bgcolor=\"gray\">0</td><td bgcolor=\"gray\">0</td><td bgcolor=\"gray\">0</td><td>-1</td><td>-1</td><td bgcolor=\"gray\">0</td><td bgcolor=\"gray\">0</td><td>-1</td></tr><tr><td bgcolor=\"gray\">0</td><td bgcolor=\"gray\">0</td><td bgcolor=\"gray\">0</td><td bgcolor=\"gray\">0</td><td>-1</td><td>0</td><td>-1</td><td bgcolor=\"gray\">0</td><td bgcolor=\"gray\">0</td><td bgcolor=\"gray\">0</td><td bgcolor=\"gray\">0</td><td bgcolor=\"gray\">0</td><td bgcolor=\"gray\">0</td><td bgcolor=\"gray\">0</td><td bgcolor=\"gray\">0</td><td bgcolor=\"gray\">0</td><td bgcolor=\"gray\">0</td><td>-1</td><td bgcolor=\"gray\">0</td><td>-1</td><td>-1</td><td>-1</td><td>0</td><td>-1</td><td>-1</td><td>-1</td><td bgcolor=\"gray\">0</td><td bgcolor=\"gray\">0</td><td bgcolor=\"gray\">0</td><td>-1</td><td bgcolor=\"gray\">0</td><td bgcolor=\"gray\">0</td><td bgcolor=\"gray\">0</td><td>-1</td><td>0</td><td>-1</td><td>-1</td><td bgcolor=\"gray\">0</td><td bgcolor=\"gray\">0</td><td bgcolor=\"gray\">0</td><td bgcolor=\"gray\">0</td><td bgcolor=\"gray\">0</td><td bgcolor=\"gray\">0</td><td bgcolor=\"gray\">0</td><td bgcolor=\"gray\">0</td><td bgcolor=\"gray\">0</td><td>-1</td><td bgcolor=\"gray\">0</td><td bgcolor=\"gray\">0</td><td bgcolor=\"gray\">0</td></tr><tr><td>-1</td><td bgcolor=\"gray\">0</td><td bgcolor=\"gray\">0</td><td>-1</td><td>-1</td><td>0</td><td>-1</td><td bgcolor=\"gray\">0</td><td>-1</td><td bgcolor=\"gray\">0</td><td bgcolor=\"gray\">0</td><td bgcolor=\"gray\">0</td><td bgcolor=\"gray\">0</td><td bgcolor=\"gray\">0</td><td>-1</td><td bgcolor=\"gray\">0</td><td>-1</td><td>-1</td><td bgcolor=\"gray\">0</td><td>-1</td><td bgcolor=\"gray\">0</td><td bgcolor=\"gray\">0</td><td>-1</td><td bgcolor=\"gray\">0</td><td bgcolor=\"gray\">0</td><td>-1</td><td bgcolor=\"gray\">0</td><td bgcolor=\"gray\">0</td><td bgcolor=\"gray\">0</td><td>-1</td><td>-1</td><td bgcolor=\"gray\">0</td><td bgcolor=\"gray\">0</td><td bgcolor=\"gray\">0</td><td>-1</td><td bgcolor=\"gray\">0</td><td bgcolor=\"gray\">0</td><td bgcolor=\"gray\">0</td><td>-1</td><td>-1</td><td bgcolor=\"gray\">0</td><td>-1</td><td bgcolor=\"gray\">0</td><td>-1</td><td>-1</td><td bgcolor=\"gray\">0</td><td bgcolor=\"gray\">0</td><td bgcolor=\"gray\">0</td><td bgcolor=\"gray\">0</td><td bgcolor=\"gray\">0</td></tr><tr><td bgcolor=\"gray\">0</td><td bgcolor=\"gray\">0</td><td>-1</td><td bgcolor=\"gray\">0</td><td bgcolor=\"gray\">0</td><td>-1</td><td bgcolor=\"gray\">0</td><td>-1</td><td bgcolor=\"gray\">0</td><td>-1</td><td>-1</td><td bgcolor=\"gray\">0</td><td bgcolor=\"gray\">0</td><td>-1</td><td>-1</td><td>-1</td><td>-1</td><td>-1</td><td bgcolor=\"gray\">0</td><td bgcolor=\"gray\">0</td><td bgcolor=\"gray\">0</td><td>-1</td><td>-1</td><td bgcolor=\"gray\">0</td><td>-1</td><td bgcolor=\"gray\">0</td><td bgcolor=\"gray\">0</td><td bgcolor=\"gray\">0</td><td bgcolor=\"gray\">0</td><td bgcolor=\"gray\">0</td><td bgcolor=\"gray\">0</td><td bgcolor=\"gray\">0</td><td bgcolor=\"gray\">0</td><td>-1</td><td>-1</td><td>-1</td><td bgcolor=\"gray\">0</td><td bgcolor=\"gray\">0</td><td bgcolor=\"gray\">0</td><td>-1</td><td bgcolor=\"gray\">0</td><td bgcolor=\"gray\">0</td><td bgcolor=\"gray\">0</td><td>-1</td><td bgcolor=\"gray\">0</td><td bgcolor=\"gray\">0</td><td>-1</td><td>-1</td><td bgcolor=\"gray\">0</td><td bgcolor=\"gray\">0</td></tr><tr><td bgcolor=\"gray\">0</td><td>-1</td><td>-1</td><td bgcolor=\"gray\">0</td><td bgcolor=\"gray\">0</td><td bgcolor=\"gray\">0</td><td bgcolor=\"gray\">0</td><td bgcolor=\"gray\">0</td><td bgcolor=\"gray\">0</td><td bgcolor=\"gray\">0</td><td>-1</td><td bgcolor=\"gray\">0</td><td>-1</td><td>0</td><td>-1</td><td bgcolor=\"gray\">0</td><td>-1</td><td bgcolor=\"gray\">0</td><td bgcolor=\"gray\">0</td><td bgcolor=\"gray\">0</td><td bgcolor=\"gray\">0</td><td bgcolor=\"gray\">0</td><td bgcolor=\"gray\">0</td><td bgcolor=\"gray\">0</td><td>-1</td><td bgcolor=\"gray\">0</td><td bgcolor=\"gray\">0</td><td bgcolor=\"gray\">0</td><td bgcolor=\"gray\">0</td><td>-1</td><td bgcolor=\"gray\">0</td><td bgcolor=\"gray\">0</td><td bgcolor=\"gray\">0</td><td bgcolor=\"gray\">0</td><td bgcolor=\"gray\">0</td><td bgcolor=\"gray\">0</td><td>-1</td><td bgcolor=\"gray\">0</td><td bgcolor=\"gray\">0</td><td>-1</td><td>-1</td><td bgcolor=\"gray\">0</td><td bgcolor=\"gray\">0</td><td bgcolor=\"gray\">0</td><td bgcolor=\"gray\">0</td><td>-1</td><td bgcolor=\"gray\">0</td><td bgcolor=\"gray\">0</td><td bgcolor=\"gray\">0</td><td bgcolor=\"gray\">0</td></tr><tr><td bgcolor=\"gray\">0</td><td bgcolor=\"gray\">0</td><td bgcolor=\"gray\">0</td><td bgcolor=\"gray\">0</td><td>-1</td><td bgcolor=\"gray\">0</td><td>-1</td><td bgcolor=\"gray\">0</td><td bgcolor=\"gray\">0</td><td bgcolor=\"gray\">0</td><td>-1</td><td bgcolor=\"gray\">0</td><td>-1</td><td>-1</td><td bgcolor=\"gray\">0</td><td bgcolor=\"gray\">0</td><td bgcolor=\"gray\">0</td><td bgcolor=\"gray\">0</td><td bgcolor=\"gray\">0</td><td>-1</td><td>-1</td><td bgcolor=\"gray\">0</td><td bgcolor=\"gray\">0</td><td bgcolor=\"gray\">0</td><td bgcolor=\"gray\">0</td><td bgcolor=\"gray\">0</td><td>-1</td><td bgcolor=\"gray\">0</td><td bgcolor=\"gray\">0</td><td bgcolor=\"gray\">0</td><td bgcolor=\"gray\">0</td><td bgcolor=\"gray\">0</td><td bgcolor=\"gray\">0</td><td bgcolor=\"gray\">0</td><td>-1</td><td bgcolor=\"gray\">0</td><td bgcolor=\"gray\">0</td><td>-1</td><td bgcolor=\"gray\">0</td><td bgcolor=\"gray\">0</td><td bgcolor=\"gray\">0</td><td bgcolor=\"gray\">0</td><td bgcolor=\"gray\">0</td><td>-1</td><td>-1</td><td bgcolor=\"gray\">0</td><td bgcolor=\"gray\">0</td><td>-1</td><td bgcolor=\"gray\">0</td><td bgcolor=\"gray\">0</td></tr><tr><td bgcolor=\"gray\">0</td><td bgcolor=\"gray\">0</td><td bgcolor=\"gray\">0</td><td>-1</td><td bgcolor=\"gray\">0</td><td bgcolor=\"gray\">0</td><td>-1</td><td bgcolor=\"gray\">0</td><td>-1</td><td bgcolor=\"gray\">0</td><td bgcolor=\"gray\">0</td><td bgcolor=\"gray\">0</td><td>-1</td><td bgcolor=\"gray\">0</td><td bgcolor=\"gray\">0</td><td>-1</td><td>-1</td><td>-1</td><td bgcolor=\"gray\">0</td><td bgcolor=\"gray\">0</td><td bgcolor=\"gray\">0</td><td bgcolor=\"gray\">0</td><td bgcolor=\"gray\">0</td><td bgcolor=\"gray\">0</td><td>-1</td><td bgcolor=\"gray\">0</td><td bgcolor=\"gray\">0</td><td bgcolor=\"gray\">0</td><td>-1</td><td bgcolor=\"gray\">0</td><td>-1</td><td bgcolor=\"gray\">0</td><td bgcolor=\"gray\">0</td><td>-1</td><td>-1</td><td bgcolor=\"gray\">0</td><td bgcolor=\"gray\">0</td><td bgcolor=\"gray\">0</td><td bgcolor=\"gray\">0</td><td>-1</td><td>-1</td><td bgcolor=\"gray\">0</td><td bgcolor=\"gray\">0</td><td bgcolor=\"gray\">0</td><td bgcolor=\"gray\">0</td><td bgcolor=\"gray\">0</td><td bgcolor=\"gray\">0</td><td>-1</td><td bgcolor=\"gray\">0</td><td>-1</td></tr><tr><td bgcolor=\"gray\">0</td><td bgcolor=\"gray\">0</td><td bgcolor=\"gray\">0</td><td bgcolor=\"gray\">0</td><td bgcolor=\"gray\">0</td><td bgcolor=\"gray\">0</td><td bgcolor=\"gray\">0</td><td>-1</td><td>-1</td><td bgcolor=\"gray\">0</td><td bgcolor=\"gray\">0</td><td bgcolor=\"gray\">0</td><td bgcolor=\"gray\">0</td><td bgcolor=\"gray\">0</td><td bgcolor=\"gray\">0</td><td bgcolor=\"gray\">0</td><td>-1</td><td bgcolor=\"gray\">0</td><td bgcolor=\"gray\">0</td><td bgcolor=\"gray\">0</td><td>-1</td><td>-1</td><td bgcolor=\"gray\">0</td><td bgcolor=\"gray\">0</td><td bgcolor=\"gray\">0</td><td>-1</td><td>-1</td><td>-1</td><td bgcolor=\"gray\">0</td><td>-1</td><td bgcolor=\"gray\">0</td><td bgcolor=\"gray\">0</td><td>-1</td><td>0</td><td>-1</td><td bgcolor=\"gray\">0</td><td>-1</td><td bgcolor=\"gray\">0</td><td>-1</td><td bgcolor=\"gray\">0</td><td bgcolor=\"gray\">0</td><td bgcolor=\"gray\">0</td><td bgcolor=\"gray\">0</td><td>-1</td><td>-1</td><td bgcolor=\"gray\">0</td><td bgcolor=\"gray\">0</td><td bgcolor=\"gray\">0</td><td bgcolor=\"gray\">0</td><td bgcolor=\"gray\">0</td></tr><tr><td bgcolor=\"gray\">0</td><td bgcolor=\"gray\">0</td><td bgcolor=\"gray\">0</td><td bgcolor=\"gray\">0</td><td bgcolor=\"gray\">0</td><td bgcolor=\"gray\">0</td><td>-1</td><td bgcolor=\"gray\">0</td><td bgcolor=\"gray\">0</td><td>-1</td><td bgcolor=\"gray\">0</td><td bgcolor=\"gray\">0</td><td>-1</td><td bgcolor=\"gray\">0</td><td>-1</td><td bgcolor=\"gray\">0</td><td bgcolor=\"gray\">0</td><td bgcolor=\"gray\">0</td><td bgcolor=\"gray\">0</td><td bgcolor=\"gray\">0</td><td>-1</td><td>0</td><td>-1</td><td bgcolor=\"gray\">0</td><td bgcolor=\"gray\">0</td><td bgcolor=\"gray\">0</td><td bgcolor=\"gray\">0</td><td bgcolor=\"gray\">0</td><td bgcolor=\"gray\">0</td><td>-1</td><td bgcolor=\"gray\">0</td><td>-1</td><td bgcolor=\"gray\">0</td><td>-1</td><td bgcolor=\"gray\">0</td><td bgcolor=\"gray\">0</td><td bgcolor=\"gray\">0</td><td bgcolor=\"gray\">0</td><td bgcolor=\"gray\">0</td><td bgcolor=\"gray\">0</td><td bgcolor=\"gray\">0</td><td>-1</td><td bgcolor=\"gray\">0</td><td>-1</td><td>-1</td><td bgcolor=\"gray\">0</td><td bgcolor=\"gray\">0</td><td bgcolor=\"gray\">0</td><td>-1</td><td bgcolor=\"gray\">0</td></tr><tr><td bgcolor=\"gray\">0</td><td>-1</td><td bgcolor=\"gray\">0</td><td bgcolor=\"gray\">0</td><td bgcolor=\"gray\">0</td><td>-1</td><td>-1</td><td>-1</td><td bgcolor=\"gray\">0</td><td bgcolor=\"gray\">0</td><td bgcolor=\"gray\">0</td><td>-1</td><td bgcolor=\"gray\">0</td><td>-1</td><td bgcolor=\"gray\">0</td><td>-1</td><td bgcolor=\"gray\">0</td><td>-1</td><td>-1</td><td bgcolor=\"gray\">0</td><td bgcolor=\"gray\">0</td><td>-1</td><td>-1</td><td bgcolor=\"gray\">0</td><td bgcolor=\"gray\">0</td><td bgcolor=\"gray\">0</td><td>-1</td><td>-1</td><td bgcolor=\"gray\">0</td><td bgcolor=\"gray\">0</td><td bgcolor=\"gray\">0</td><td bgcolor=\"gray\">0</td><td bgcolor=\"gray\">0</td><td>-1</td><td bgcolor=\"gray\">0</td><td>-1</td><td bgcolor=\"gray\">0</td><td bgcolor=\"gray\">0</td><td>-1</td><td>-1</td><td>-1</td><td>-1</td><td>-1</td><td bgcolor=\"gray\">0</td><td bgcolor=\"gray\">0</td><td bgcolor=\"gray\">0</td><td>-1</td><td>-1</td><td>-1</td><td bgcolor=\"gray\">0</td></tr><tr><td bgcolor=\"gray\">0</td><td bgcolor=\"gray\">0</td><td bgcolor=\"gray\">0</td><td bgcolor=\"gray\">0</td><td>-1</td><td>-1</td><td>-1</td><td bgcolor=\"gray\">0</td><td bgcolor=\"gray\">0</td><td>-1</td><td bgcolor=\"gray\">0</td><td>-1</td><td bgcolor=\"gray\">0</td><td>-1</td><td bgcolor=\"gray\">0</td><td>-1</td><td>-1</td><td>-1</td><td bgcolor=\"gray\">0</td><td bgcolor=\"gray\">0</td><td>-1</td><td bgcolor=\"gray\">0</td><td bgcolor=\"gray\">0</td><td bgcolor=\"gray\">0</td><td bgcolor=\"gray\">0</td><td>-1</td><td>-1</td><td>-1</td><td bgcolor=\"gray\">0</td><td bgcolor=\"gray\">0</td><td bgcolor=\"gray\">0</td><td bgcolor=\"gray\">0</td><td>-1</td><td bgcolor=\"gray\">0</td><td bgcolor=\"gray\">0</td><td>-1</td><td bgcolor=\"gray\">0</td><td>-1</td><td bgcolor=\"gray\">0</td><td bgcolor=\"gray\">0</td><td bgcolor=\"gray\">0</td><td bgcolor=\"gray\">0</td><td bgcolor=\"gray\">0</td><td>-1</td><td>-1</td><td bgcolor=\"gray\">0</td><td bgcolor=\"gray\">0</td><td bgcolor=\"gray\">0</td><td>-1</td><td bgcolor=\"gray\">0</td></tr><tr><td bgcolor=\"gray\">0</td><td bgcolor=\"gray\">0</td><td bgcolor=\"gray\">0</td><td>-1</td><td bgcolor=\"gray\">0</td><td bgcolor=\"gray\">0</td><td bgcolor=\"gray\">0</td><td bgcolor=\"gray\">0</td><td bgcolor=\"gray\">0</td><td bgcolor=\"gray\">0</td><td bgcolor=\"gray\">0</td><td>-1</td><td bgcolor=\"gray\">0</td><td bgcolor=\"gray\">0</td><td bgcolor=\"gray\">0</td><td bgcolor=\"gray\">0</td><td bgcolor=\"gray\">0</td><td bgcolor=\"gray\">0</td><td>-1</td><td bgcolor=\"gray\">0</td><td bgcolor=\"gray\">0</td><td>-1</td><td>-1</td><td bgcolor=\"gray\">0</td><td>-1</td><td bgcolor=\"gray\">0</td><td>-1</td><td bgcolor=\"gray\">0</td><td bgcolor=\"gray\">0</td><td>-1</td><td bgcolor=\"gray\">0</td><td bgcolor=\"gray\">0</td><td bgcolor=\"gray\">0</td><td bgcolor=\"gray\">0</td><td>-1</td><td bgcolor=\"gray\">0</td><td bgcolor=\"gray\">0</td><td bgcolor=\"gray\">0</td><td bgcolor=\"gray\">0</td><td bgcolor=\"gray\">0</td><td bgcolor=\"gray\">0</td><td>-1</td><td bgcolor=\"gray\">0</td><td bgcolor=\"gray\">0</td><td>-1</td><td>-1</td><td>-1</td><td bgcolor=\"gray\">0</td><td>-1</td><td>-1</td></tr><tr><td bgcolor=\"gray\">0</td><td bgcolor=\"gray\">0</td><td bgcolor=\"gray\">0</td><td bgcolor=\"gray\">0</td><td bgcolor=\"gray\">0</td><td bgcolor=\"gray\">0</td><td bgcolor=\"gray\">0</td><td bgcolor=\"gray\">0</td><td>-1</td><td>-1</td><td bgcolor=\"gray\">0</td><td bgcolor=\"gray\">0</td><td bgcolor=\"gray\">0</td><td>-1</td><td bgcolor=\"gray\">0</td><td bgcolor=\"gray\">0</td><td bgcolor=\"gray\">0</td><td>-1</td><td>-1</td><td>-1</td><td bgcolor=\"gray\">0</td><td bgcolor=\"gray\">0</td><td bgcolor=\"gray\">0</td><td bgcolor=\"gray\">0</td><td bgcolor=\"gray\">0</td><td bgcolor=\"gray\">0</td><td bgcolor=\"gray\">0</td><td bgcolor=\"gray\">0</td><td>-1</td><td bgcolor=\"gray\">0</td><td>-1</td><td>-1</td><td bgcolor=\"gray\">0</td><td>-1</td><td bgcolor=\"gray\">0</td><td>-1</td><td bgcolor=\"gray\">0</td><td bgcolor=\"gray\">0</td><td>-1</td><td bgcolor=\"gray\">0</td><td bgcolor=\"gray\">0</td><td bgcolor=\"gray\">0</td><td bgcolor=\"gray\">0</td><td bgcolor=\"gray\">0</td><td bgcolor=\"gray\">0</td><td bgcolor=\"gray\">0</td><td bgcolor=\"gray\">0</td><td bgcolor=\"gray\">0</td><td bgcolor=\"gray\">0</td><td bgcolor=\"gray\">0</td></tr><tr><td>-1</td><td>-1</td><td bgcolor=\"gray\">0</td><td bgcolor=\"gray\">0</td><td bgcolor=\"gray\">0</td><td bgcolor=\"gray\">0</td><td bgcolor=\"gray\">0</td><td>-1</td><td bgcolor=\"gray\">0</td><td bgcolor=\"gray\">0</td><td bgcolor=\"gray\">0</td><td>-1</td><td bgcolor=\"gray\">0</td><td bgcolor=\"gray\">0</td><td>-1</td><td>-1</td><td>-1</td><td bgcolor=\"gray\">0</td><td>-1</td><td bgcolor=\"gray\">0</td><td bgcolor=\"gray\">0</td><td bgcolor=\"gray\">0</td><td>-1</td><td bgcolor=\"gray\">0</td><td bgcolor=\"gray\">0</td><td bgcolor=\"gray\">0</td><td bgcolor=\"gray\">0</td><td>-1</td><td bgcolor=\"gray\">0</td><td bgcolor=\"gray\">0</td><td>-1</td><td>-1</td><td bgcolor=\"gray\">0</td><td>-1</td><td bgcolor=\"gray\">0</td><td>-1</td><td>-1</td><td bgcolor=\"gray\">0</td><td bgcolor=\"gray\">0</td><td>-1</td><td>-1</td><td bgcolor=\"gray\">0</td><td>-1</td><td bgcolor=\"gray\">0</td><td>-1</td><td bgcolor=\"gray\">0</td><td bgcolor=\"gray\">0</td><td bgcolor=\"gray\">0</td><td bgcolor=\"gray\">0</td><td bgcolor=\"gray\">0</td></tr><tr><td>-1</td><td>0</td><td>-1</td><td>-1</td><td>-1</td><td>-1</td><td bgcolor=\"gray\">0</td><td bgcolor=\"gray\">0</td><td bgcolor=\"gray\">0</td><td>-1</td><td bgcolor=\"gray\">0</td><td bgcolor=\"gray\">0</td><td>-1</td><td bgcolor=\"gray\">0</td><td bgcolor=\"gray\">0</td><td bgcolor=\"gray\">0</td><td>-1</td><td bgcolor=\"gray\">0</td><td bgcolor=\"gray\">0</td><td bgcolor=\"gray\">0</td><td>-1</td><td>-1</td><td bgcolor=\"gray\">0</td><td bgcolor=\"gray\">0</td><td bgcolor=\"gray\">0</td><td>-1</td><td bgcolor=\"gray\">0</td><td>-1</td><td bgcolor=\"gray\">0</td><td bgcolor=\"gray\">0</td><td bgcolor=\"gray\">0</td><td bgcolor=\"gray\">0</td><td>-1</td><td bgcolor=\"gray\">0</td><td bgcolor=\"gray\">0</td><td bgcolor=\"gray\">0</td><td bgcolor=\"gray\">0</td><td>-1</td><td>-1</td><td bgcolor=\"gray\">0</td><td bgcolor=\"gray\">0</td><td bgcolor=\"gray\">0</td><td bgcolor=\"gray\">0</td><td bgcolor=\"gray\">0</td><td>-1</td><td>-1</td><td bgcolor=\"gray\">0</td><td bgcolor=\"gray\">0</td><td bgcolor=\"gray\">0</td><td bgcolor=\"gray\">0</td></tr><tr><td>0</td><td>0</td><td>0</td><td>0</td><td>0</td><td>-1</td><td bgcolor=\"gray\">0</td><td>-1</td><td>-1</td><td bgcolor=\"gray\">0</td><td bgcolor=\"gray\">0</td><td bgcolor=\"gray\">0</td><td bgcolor=\"gray\">0</td><td bgcolor=\"gray\">0</td><td>-1</td><td bgcolor=\"gray\">0</td><td>-1</td><td bgcolor=\"gray\">0</td><td>-1</td><td bgcolor=\"gray\">0</td><td bgcolor=\"gray\">0</td><td bgcolor=\"gray\">0</td><td bgcolor=\"gray\">0</td><td>-1</td><td>-1</td><td bgcolor=\"gray\">0</td><td>-1</td><td bgcolor=\"gray\">0</td><td bgcolor=\"gray\">0</td><td bgcolor=\"gray\">0</td><td bgcolor=\"gray\">0</td><td>-1</td><td>-1</td><td>-1</td><td bgcolor=\"gray\">0</td><td bgcolor=\"gray\">0</td><td>-1</td><td bgcolor=\"gray\">0</td><td>-1</td><td>-1</td><td bgcolor=\"gray\">0</td><td bgcolor=\"gray\">0</td><td bgcolor=\"gray\">0</td><td bgcolor=\"gray\">0</td><td bgcolor=\"gray\">0</td><td bgcolor=\"gray\">0</td><td bgcolor=\"gray\">0</td><td bgcolor=\"gray\">0</td><td bgcolor=\"gray\">0</td><td>-1</td></tr><tr><td>0</td><td>0</td><td>-1</td><td>-1</td><td>-1</td><td>-1</td><td>-1</td><td>0</td><td>0</td><td>-1</td><td bgcolor=\"gray\">0</td><td bgcolor=\"gray\">0</td><td bgcolor=\"gray\">0</td><td bgcolor=\"gray\">0</td><td>-1</td><td>-1</td><td bgcolor=\"gray\">0</td><td bgcolor=\"gray\">0</td><td>-1</td><td bgcolor=\"gray\">0</td><td bgcolor=\"gray\">0</td><td bgcolor=\"gray\">0</td><td bgcolor=\"gray\">0</td><td>-1</td><td bgcolor=\"gray\">0</td><td bgcolor=\"gray\">0</td><td bgcolor=\"gray\">0</td><td bgcolor=\"gray\">0</td><td>-1</td><td>-1</td><td>-1</td><td>0</td><td>-1</td><td>-1</td><td bgcolor=\"gray\">0</td><td bgcolor=\"gray\">0</td><td bgcolor=\"gray\">0</td><td bgcolor=\"gray\">0</td><td>-1</td><td>-1</td><td bgcolor=\"gray\">0</td><td>-1</td><td>-1</td><td bgcolor=\"gray\">0</td><td>-1</td><td bgcolor=\"gray\">0</td><td>-1</td><td bgcolor=\"gray\">0</td><td bgcolor=\"gray\">0</td><td bgcolor=\"gray\">0</td></tr><tr><td>-1</td><td>0</td><td>0</td><td>-1</td><td>-1</td><td>0</td><td>-1</td><td>0</td><td>0</td><td>-1</td><td bgcolor=\"gray\">0</td><td>-1</td><td bgcolor=\"gray\">0</td><td bgcolor=\"gray\">0</td><td bgcolor=\"gray\">0</td><td bgcolor=\"gray\">0</td><td bgcolor=\"gray\">0</td><td bgcolor=\"gray\">0</td><td>-1</td><td>-1</td><td bgcolor=\"gray\">0</td><td>-1</td><td bgcolor=\"gray\">0</td><td bgcolor=\"gray\">0</td><td bgcolor=\"gray\">0</td><td>-1</td><td bgcolor=\"gray\">0</td><td bgcolor=\"gray\">0</td><td bgcolor=\"gray\">0</td><td bgcolor=\"gray\">0</td><td bgcolor=\"gray\">0</td><td>-1</td><td bgcolor=\"gray\">0</td><td bgcolor=\"gray\">0</td><td bgcolor=\"gray\">0</td><td bgcolor=\"gray\">0</td><td bgcolor=\"gray\">0</td><td bgcolor=\"gray\">0</td><td>-1</td><td bgcolor=\"gray\">0</td><td bgcolor=\"gray\">0</td><td>-1</td><td>-1</td><td bgcolor=\"gray\">0</td><td bgcolor=\"gray\">0</td><td bgcolor=\"gray\">0</td><td>-1</td><td bgcolor=\"gray\">0</td><td bgcolor=\"gray\">0</td><td bgcolor=\"gray\">0</td></tr><tr><td>-1</td><td>0</td><td>0</td><td>0</td><td>-1</td><td>0</td><td>-1</td><td>-1</td><td>-1</td><td>-1</td><td bgcolor=\"gray\">0</td><td>-1</td><td bgcolor=\"gray\">0</td><td>-1</td><td>-1</td><td bgcolor=\"gray\">0</td><td bgcolor=\"gray\">0</td><td>-1</td><td bgcolor=\"gray\">0</td><td bgcolor=\"gray\">0</td><td bgcolor=\"gray\">0</td><td>-1</td><td bgcolor=\"gray\">0</td><td bgcolor=\"gray\">0</td><td bgcolor=\"gray\">0</td><td bgcolor=\"gray\">0</td><td>-1</td><td>-1</td><td bgcolor=\"gray\">0</td><td bgcolor=\"gray\">0</td><td bgcolor=\"gray\">0</td><td bgcolor=\"gray\">0</td><td bgcolor=\"gray\">0</td><td>-1</td><td bgcolor=\"gray\">0</td><td>-1</td><td>-1</td><td bgcolor=\"gray\">0</td><td bgcolor=\"gray\">0</td><td>-1</td><td bgcolor=\"gray\">0</td><td bgcolor=\"gray\">0</td><td bgcolor=\"gray\">0</td><td bgcolor=\"gray\">0</td><td bgcolor=\"gray\">0</td><td>-1</td><td bgcolor=\"gray\">0</td><td bgcolor=\"gray\">0</td><td>-1</td><td bgcolor=\"gray\">10</td></tr></table>"
            ],
            "text/plain": [
              "<IPython.core.display.HTML object>"
            ]
          },
          "metadata": {},
          "output_type": "display_data"
        }
      ],
      "source": [
        "from IPython.display import HTML, display\n",
        "\n",
        "valid_states_all = torch.cat((env.valid_states, torch.tensor([env.grid_size-1,env.grid_size-1]).to(device).unsqueeze(dim=0)))\n",
        "valid_states_all = valid_states_all[:,0] * env.grid_size + valid_states_all[:,1]\n",
        "\n",
        "html_text = \"<table>\"\n",
        "for row in range(env.grid_size):\n",
        "    html_text += \"<tr>\"\n",
        "    for col in range(env.grid_size):\n",
        "        if row*env.grid_size + col in valid_states_all:\n",
        "            html_text += \"<td bgcolor=\\\"gray\\\">\"\n",
        "        else:\n",
        "            html_text += \"<td>\"\n",
        "        html_text += str(env.reward_map[row*env.grid_size+col].tolist())\n",
        "        html_text += \"</td>\"\n",
        "    html_text += \"</tr>\"\n",
        "html_text += \"</table>\"\n",
        "\n",
        "display(HTML(html_text))"
      ],
      "id": "w04ssL1e8pyf"
    },
    {
      "cell_type": "markdown",
      "metadata": {
        "id": "fzvR0n4i8pyh"
      },
      "source": [
        "Load expert's data (demonstrations) which is saved in ```./expert_data``` folder in this repository.\n",
        "\n",
        "> Note : See [this script](./00_generate_expert_trajectories.ipynb) for generating expert dataset."
      ],
      "id": "fzvR0n4i8pyh"
    },
    {
      "cell_type": "code",
      "execution_count": null,
      "metadata": {
        "id": "iXlQsX9m8pyh"
      },
      "outputs": [],
      "source": [
        "import pickle\n",
        "\n",
        "dest_dir = \"./expert_data\"\n",
        "checkpoint_file = \"ckpt0.pkl\"\n",
        "\n",
        "# load expert data from pickle\n",
        "with open(f\"{dest_dir}/{checkpoint_file}\", \"rb\") as f:\n",
        "    exp_data = pickle.load(f)\n",
        "exp_states = exp_data[\"states\"]\n",
        "exp_actions = exp_data[\"actions\"]\n",
        "timestep_lens = exp_data[\"timestep_lens\"]"
      ],
      "id": "iXlQsX9m8pyh"
    },
    {
      "cell_type": "markdown",
      "metadata": {
        "id": "trDXwLfF8pyi"
      },
      "source": [
        "### 2. Get expert's feature expectation $\\mathbb{E}_{\\pi^{\\ast}}[\\phi(\\tau)]$"
      ],
      "id": "trDXwLfF8pyi"
    },
    {
      "cell_type": "markdown",
      "metadata": {
        "id": "_pRNrCST8pyi"
      },
      "source": [
        "We can easily get the expert's feature expectation (i.e, the empirical expectation) by the average of expert's demostrations as follows.\n",
        "\n",
        "$\\displaystyle \\mathbb{E}_{\\pi^{\\ast}}[\\phi(\\tau)] = \\frac{1}{|\\mathcal{D}|} \\sum_{\\tau \\in \\mathcal{D}} \\sum_{s \\in \\tau} \\phi(s)$\n",
        "\n",
        "I note that expert's dataset doesn't have final state, but the expert's feature expectation needs the whole states (especially, goal state).<br>\n",
        "Hence I add the final state in each trajectory.\n",
        "\n",
        "> Note : As you can see below, the expert's actions are not used in this algorithm. (It only uses the features of expert's states.)<br>\n",
        "> The algorithm of Maximum Entropy IRL knows the transition probability $p(s_i | a_j, s_k)$ by taking action $a_j$ in state $s_k$, and it can then estimate the actions taken by the expert."
      ],
      "id": "_pRNrCST8pyi"
    },
    {
      "cell_type": "code",
      "execution_count": null,
      "metadata": {
        "id": "Q3oB7d_B8pyj",
        "outputId": "380ac4b3-a904-4318-a616-0175ab288093"
      },
      "outputs": [
        {
          "data": {
            "text/plain": [
              "tensor([0.0000e+00, 0.0000e+00, 0.0000e+00,  ..., 2.0000e-03, 2.0000e-04,\n",
              "        9.0210e-01], device='cuda:0')"
            ]
          },
          "execution_count": 5,
          "metadata": {},
          "output_type": "execute_result"
        }
      ],
      "source": [
        "import numpy as np\n",
        "\n",
        "STATE_SIZE = env.grid_size*env.grid_size  # 2500\n",
        "ACTION_SIZE = env.action_size             # 4\n",
        "\n",
        "# initialize\n",
        "sum_of_features = np.zeros(STATE_SIZE)\n",
        "\n",
        "#\n",
        "# get final state in all episodes\n",
        "#\n",
        "\n",
        "# collect states before final states in all episodes\n",
        "current_timestep = 0\n",
        "prev_states = []\n",
        "for timestep_len in timestep_lens:\n",
        "    prev_states.append(exp_states[current_timestep+timestep_len-1])\n",
        "    current_timestep += timestep_len\n",
        "prev_states = torch.tensor(prev_states).to(device)\n",
        "\n",
        "# collect actions before final states in all episodes\n",
        "current_timestep = 0\n",
        "prev_actions = []\n",
        "for timestep_len in timestep_lens:\n",
        "    prev_actions.append(exp_actions[current_timestep+timestep_len-1])\n",
        "    current_timestep += timestep_len\n",
        "prev_actions = torch.tensor(prev_actions).to(device)\n",
        "\n",
        "# get final states in all episodes\n",
        "final_states = env.step(prev_actions, prev_states, trans_state_only=True)\n",
        "final_states = final_states.cpu().numpy()\n",
        "\n",
        "#\n",
        "# loop and sum all episodes in demonstration\n",
        "#\n",
        "\n",
        "current_timestep = 0\n",
        "for i, timestep_len in enumerate(timestep_lens):\n",
        "    # pick up state's id array in a single episode\n",
        "    states_in_traj = exp_states[current_timestep:current_timestep+timestep_len]\n",
        "\n",
        "    # add final state\n",
        "    states_in_traj = np.append(states_in_traj, final_states[i])\n",
        "\n",
        "    # convert into state's features (i.e, one-hot)\n",
        "    traj_features = np.zeros((states_in_traj.size, STATE_SIZE), dtype=int)\n",
        "    traj_features[np.arange(states_in_traj.size), states_in_traj] = 1\n",
        "\n",
        "    # sum up\n",
        "    sum_of_features += np.sum(traj_features, axis=0)\n",
        "\n",
        "    # proceed to next episodes\n",
        "    current_timestep += timestep_len\n",
        "\n",
        "# divide by the number of episodes\n",
        "feature_exp = sum_of_features / len(timestep_lens)\n",
        "feature_exp = torch.from_numpy(feature_exp).to(device)\n",
        "\n",
        "# show expert expectation\n",
        "feature_exp"
      ],
      "id": "Q3oB7d_B8pyj"
    },
    {
      "cell_type": "markdown",
      "metadata": {
        "id": "e-d6K5MH8pyk"
      },
      "source": [
        "### 3. Create a transition probability matrix"
      ],
      "id": "e-d6K5MH8pyk"
    },
    {
      "cell_type": "markdown",
      "metadata": {
        "id": "bwDWbF7n8pyl"
      },
      "source": [
        "As I have mentioned above, the algorithm (Maximum Entropy IRL learner) should know the transition probabilities.\n",
        "\n",
        "Now I generate a matrix with shape ```(STATE_SIZE, ACTION_SIZE, STATE_SIZE)```, in which the transition probability $p(s_k | s_i, a_j)$ is stored in the element of $(i,j,k)$, where $i, k = 0,1,\\ldots,2499$ and $j=0,1,2,3$.\n",
        "\n",
        "In this example, the environment has deterministic transition, where $p(s_k | s_i, a_j ) = 1.0$ for one successor state and $0.0$ for all others.\n",
        "\n",
        "> Note : You can apply stochastic probability in this environment by setting ```transition_prob=True``` in constructor - in which, the action succeeds with probability `0.7`, a failure results in a uniform random transition (i.e, `0.1`, `0.1`, `0.1` respectively) to one of the adjacent states. (Change [this script](./00_generate_expert_trajectories.ipynb) and recreate expert's data.)<br>\n",
        "> If you apply the stochastic transition probability, you should set the corresponding probabilities ($0 \\lt p \\lt 1$) in below matrics instead."
      ],
      "id": "bwDWbF7n8pyl"
    },
    {
      "cell_type": "code",
      "execution_count": null,
      "metadata": {
        "id": "7RVkCTnt8pym",
        "outputId": "998b6f27-4f25-4cb7-ed95-6e9e06497b8e"
      },
      "outputs": [
        {
          "name": "stdout",
          "output_type": "stream",
          "text": [
            "***** transition matrix (shape : (2500, 4))*****\n",
            "tensor([[   0,   50,    0,    1],\n",
            "        [   1,   51,    0,    2],\n",
            "        [   2,   52,    1,    3],\n",
            "        ...,\n",
            "        [2447, 2497, 2496, 2498],\n",
            "        [2448, 2498, 2497, 2499],\n",
            "        [2449, 2499, 2498, 2499]], device='cuda:0')\n",
            "***** transition probability matrix (shape : (2500, 4, 2500))*****\n",
            "tensor([[[1., 0., 0.,  ..., 0., 0., 0.],\n",
            "         [0., 0., 0.,  ..., 0., 0., 0.],\n",
            "         [1., 0., 0.,  ..., 0., 0., 0.],\n",
            "         [0., 1., 0.,  ..., 0., 0., 0.]],\n",
            "\n",
            "        [[0., 1., 0.,  ..., 0., 0., 0.],\n",
            "         [0., 0., 0.,  ..., 0., 0., 0.],\n",
            "         [1., 0., 0.,  ..., 0., 0., 0.],\n",
            "         [0., 0., 1.,  ..., 0., 0., 0.]],\n",
            "\n",
            "        [[0., 0., 1.,  ..., 0., 0., 0.],\n",
            "         [0., 0., 0.,  ..., 0., 0., 0.],\n",
            "         [0., 1., 0.,  ..., 0., 0., 0.],\n",
            "         [0., 0., 0.,  ..., 0., 0., 0.]],\n",
            "\n",
            "        ...,\n",
            "\n",
            "        [[0., 0., 0.,  ..., 0., 0., 0.],\n",
            "         [0., 0., 0.,  ..., 1., 0., 0.],\n",
            "         [0., 0., 0.,  ..., 0., 0., 0.],\n",
            "         [0., 0., 0.,  ..., 0., 1., 0.]],\n",
            "\n",
            "        [[0., 0., 0.,  ..., 0., 0., 0.],\n",
            "         [0., 0., 0.,  ..., 0., 1., 0.],\n",
            "         [0., 0., 0.,  ..., 1., 0., 0.],\n",
            "         [0., 0., 0.,  ..., 0., 0., 1.]],\n",
            "\n",
            "        [[0., 0., 0.,  ..., 0., 0., 0.],\n",
            "         [0., 0., 0.,  ..., 0., 0., 1.],\n",
            "         [0., 0., 0.,  ..., 0., 1., 0.],\n",
            "         [0., 0., 0.,  ..., 0., 0., 1.]]], device='cuda:0')\n"
          ]
        }
      ],
      "source": [
        "from torch.nn import functional as F\n",
        "\n",
        "states = torch.arange(STATE_SIZE).to(device)\n",
        "states = states.unsqueeze(dim=-1).expand(-1,ACTION_SIZE)\n",
        "\n",
        "actions = torch.arange(ACTION_SIZE).to(device)\n",
        "actions = actions.unsqueeze(dim=0).expand(STATE_SIZE,-1)\n",
        "\n",
        "next_states = env.step(actions.flatten(), states.flatten(), trans_state_only=True)\n",
        "next_states = torch.reshape(next_states, (STATE_SIZE, ACTION_SIZE))\n",
        "print(f\"***** transition matrix (shape : ({STATE_SIZE}, {ACTION_SIZE}))*****\")\n",
        "print(next_states)\n",
        "\n",
        "tran_probs = F.one_hot(next_states, num_classes=STATE_SIZE).double()\n",
        "print(f\"***** transition probability matrix (shape : ({STATE_SIZE}, {ACTION_SIZE}, {STATE_SIZE}))*****\")\n",
        "print(tran_probs)"
      ],
      "id": "7RVkCTnt8pym"
    },
    {
      "cell_type": "markdown",
      "metadata": {
        "id": "xZ1q12YT8pyn"
      },
      "source": [
        "### 4. Perform backward pass"
      ],
      "id": "xZ1q12YT8pyn"
    },
    {
      "cell_type": "markdown",
      "metadata": {
        "id": "C9fwwv-S8pyn"
      },
      "source": [
        "Now we generate a function to perform the following backward pass.\n",
        "\n",
        "1. Set $Z_{s_{\\verb|goal|}} = 1$ and $Z_{s_{\\verb|others|}} = 0$\n",
        "2. Compute the following for $N$ iterations. This will recursively (by backward from goal to initial state) fill $Z_s$ values. :\n",
        "    - $Z_{s_i, a_j} = \\sum_{k} p(s_k | s_i, a_j) \\exp(\\theta^T \\cdot \\phi(s_i)) Z_{s_k} \\;\\; (\\forall i, j)$\n",
        "    - then $Z_{s_i} = \\sum_j Z_{s_i, a_j} \\;\\; (\\forall i)$\n",
        "\n",
        "To speed up computation, here I implement the procedure in each iteration by matrix operations of torch tensors."
      ],
      "id": "C9fwwv-S8pyn"
    },
    {
      "cell_type": "code",
      "execution_count": null,
      "metadata": {
        "id": "ydZ2VcLA8pyn"
      },
      "outputs": [],
      "source": [
        "# create feature's matrix for all states\n",
        "all_features = torch.zeros(STATE_SIZE, STATE_SIZE).to(device)\n",
        "all_features[torch.arange(STATE_SIZE), torch.arange(STATE_SIZE)] = 1.0\n",
        "\n",
        "def backward_pass(theta, N, tran_probs):\n",
        "    # initialize Z_s\n",
        "    z_s = torch.zeros(STATE_SIZE).to(device)\n",
        "    z_s[-1] = 1.0\n",
        "\n",
        "    # loop N iterations\n",
        "    for n in range(N):\n",
        "\n",
        "        # compute exp(\\theta^T \\cdot \\phi(s_i))\n",
        "        all_states_exp = torch.exp(torch.matmul(theta, torch.transpose(all_features, 0, 1))) ### shape (i)\n",
        "\n",
        "        # sum up for all transition state s_k\n",
        "        x = torch.mul(tran_probs, z_s) ### shape (i,j,k)\n",
        "        x = torch.sum(x, dim=2) ### shape (i,j)\n",
        "        x = torch.mul(x, torch.unsqueeze(all_states_exp, dim=-1)) ### shape (i,j)\n",
        "        z_sa = x\n",
        "\n",
        "        # compute Z_s\n",
        "        z_s = torch.sum(z_sa, dim=1)\n",
        "\n",
        "    # return result\n",
        "    return z_s, z_sa"
      ],
      "id": "ydZ2VcLA8pyn"
    },
    {
      "cell_type": "markdown",
      "metadata": {
        "id": "mBAU7qig8pyo"
      },
      "source": [
        "### 5. Perform forward pass"
      ],
      "id": "mBAU7qig8pyo"
    },
    {
      "cell_type": "markdown",
      "metadata": {
        "id": "IqlpmXg58pyo"
      },
      "source": [
        "Next we generate a function to perform the following forward pass.\n",
        "\n",
        "1. Set $D_{s_i, 1} = p(s_i \\verb| is initial state|) \\;\\; (\\forall i)$\n",
        "2. Compute the following for $t=1$ to $N$. This will recursively (by forward from $t=1$ to $N$) fill $D$ values. :\n",
        "    - $D_{s_i, t+1} = \\sum_k \\sum_j D_{s_k, t} p(a_j | s_k) p(s_i | a_j, s_k) \\;\\; (\\forall i)$\n",
        "\n",
        "In this example, the above $p(s_i \\verb| is initial state|)$ is simply $\\frac{1}{\\verb| the number of possible initial states|}$.\n",
        "\n",
        "The above $p(a_j | s_k)$ is a learner probability to take action $a_j$ in the state $s_k$, which is induced by the previous backward's results. (The following ```action_probs``` is a ```STATE_SIZE``` * ```ACTION_SIZE``` matrix, in which each element holds this probability.)"
      ],
      "id": "IqlpmXg58pyo"
    },
    {
      "cell_type": "code",
      "execution_count": null,
      "metadata": {
        "id": "tH2zi5E98pyo"
      },
      "outputs": [],
      "source": [
        "# generate list of possible initial state's id\n",
        "valid_states_2d = env.valid_states\n",
        "valid_states_1d = valid_states_2d[:,0] * env.grid_size + valid_states_2d[:,1]\n",
        "\n",
        "def forward_pass(N, tran_probs, action_probs):\n",
        "    # initialize D_{s,t}\n",
        "    d_st = torch.zeros(STATE_SIZE, N).to(device)\n",
        "\n",
        "    # set D_{s,1} = p(initial state)\n",
        "    d_st[valid_states_1d,0] = 1.0 / valid_states_1d.size(dim=0)\n",
        "\n",
        "    # compute in t=2, ... ,N\n",
        "    for t in range(1, N):\n",
        "        tran_probs_T = torch.transpose(tran_probs, 0, 2) ### shape (i,j,k)\n",
        "        action_probs_T = torch.transpose(action_probs, 0, 1) ### shape (j,k)\n",
        "        x_T = torch.mul(tran_probs_T, action_probs_T) ### shape (i,j,k)\n",
        "        x_T = torch.mul(x_T, d_st[:,t-1]) ### shape (i,j,k)\n",
        "        d_st[:,t] = torch.sum(torch.sum(x_T, dim=-1), dim=-1) ### shape (i)\n",
        "\n",
        "    # return results\n",
        "    return d_st"
      ],
      "id": "tH2zi5E98pyo"
    },
    {
      "cell_type": "markdown",
      "metadata": {
        "id": "PfyYYbQO8pyp"
      },
      "source": [
        "### 6. Evaluate with random probabilities"
      ],
      "id": "PfyYYbQO8pyp"
    },
    {
      "cell_type": "markdown",
      "metadata": {
        "id": "7Bx5N8Fi8pyp"
      },
      "source": [
        "For comparison, now I evaluate the obtained reward by using random probabities.\n",
        "\n",
        "In this game, the maximum episode's reward without losing any rewards is ```10.0```. (See [Readme.md](https://github.com/tsmatz/imitation-learning-tutorials/blob/master/Readme.md) for game rule in this environment.)<br>\n",
        "As you can see below, it has low average of rewards."
      ],
      "id": "7Bx5N8Fi8pyp"
    },
    {
      "cell_type": "code",
      "execution_count": null,
      "metadata": {
        "id": "8dFaUXk78pyq",
        "outputId": "e6bebeff-632f-4bb6-ec8a-af32e74dea01"
      },
      "outputs": [
        {
          "name": "stdout",
          "output_type": "stream",
          "text": [
            "Estimated rewards (random pick-up): -68.20333333333333\n"
          ]
        }
      ],
      "source": [
        "def evaluate(env, action_probs, batch_size=300):\n",
        "    total_reward = torch.tensor(0.0).to(device)\n",
        "    s = env.reset(batch_size)\n",
        "    while True:\n",
        "        a_probs = action_probs[s,:]\n",
        "        a = torch.multinomial(a_probs, num_samples=1).squeeze(dim=-1)\n",
        "        s, r, term, trunc = env.step(a, s)\n",
        "        total_reward += torch.sum(r)\n",
        "        done = torch.logical_or(term, trunc)\n",
        "        work_indices = (done==False).nonzero().squeeze(dim=-1)\n",
        "        if not (len(work_indices) > 0):\n",
        "            break;\n",
        "        s = s[work_indices]\n",
        "    return total_reward.item() / batch_size\n",
        "\n",
        "action_probs = torch.ones(STATE_SIZE, ACTION_SIZE).to(device) / ACTION_SIZE  # random probabilities\n",
        "avg_reward = evaluate(env, action_probs)\n",
        "print(f\"Estimated rewards (random pick-up): {avg_reward}\")"
      ],
      "id": "8dFaUXk78pyq"
    },
    {
      "cell_type": "markdown",
      "metadata": {
        "id": "QLX-C3XK8pyq"
      },
      "source": [
        "### 7. Put it all together (Optimize $\\theta$)"
      ],
      "id": "QLX-C3XK8pyq"
    },
    {
      "cell_type": "markdown",
      "metadata": {
        "id": "0Dq7-IZQ8pyr"
      },
      "source": [
        "Now let's put it all together and then optimize parameter $\\theta$ by the following steps.\n",
        "\n",
        "1. Perform backward pass to get $Z_{s_i}$ and $Z_{s_i, a_j}$.\n",
        "2. Compute action probabilities. : $p(a_j | s_i) = \\frac{Z_{s_i, a_j}}{Z_{s_i}}$\n",
        "3. Perform forward pass to get $D_{s_i, t}$.\n",
        "4. Compute $D_{s_i} = \\sum_t D_{s_i, t}$.\n",
        "5. Compute $\\nabla L(\\theta) = \\mathbb{E}_{\\pi^{\\ast}}[\\phi(\\tau)] - \\sum_{s_i} D_{s_i} \\phi(s_i)$\n",
        "6. Update $\\theta$.\n",
        "7. Back again to 1 and loop until $\\nabla L(\\theta)$ becomes sufficiently small.\n",
        "\n",
        "In this example, we update $\\theta$ with direct updates by the gradient (not using backprop) with 600 training iterations.\n",
        "\n",
        "As you can see below, the average reward becomes high, and the parameter is optimized.\n",
        "\n",
        "> Note : Because I try to maximize likelihood (not minimize loss), I then apply **gradient ascent**, instead of gradient descent.<br>\n",
        "> In [original paper](https://cdn.aaai.org/AAAI/2008/AAAI08-227.pdf), exponential gradient is applied in experimentation, but here I simply apply basic gradient optimization."
      ],
      "id": "0Dq7-IZQ8pyr"
    },
    {
      "cell_type": "code",
      "execution_count": null,
      "metadata": {
        "id": "fsh2UyG68pys",
        "outputId": "b39fd66c-42ee-4095-81cf-f6d8bbcee033"
      },
      "outputs": [
        {
          "name": "stdout",
          "output_type": "stream",
          "text": [
            "nabla - average: 0.01298 max: 0.73423 (lr: 0.2000)\n",
            "estimated reward is -5.88.\n",
            "nabla - average: 0.00985 max: 0.77563 (lr: 0.2000)\n",
            "estimated reward is -2.7667.\n",
            "nabla - average: 0.00865 max: 0.79080 (lr: 0.2000)\n",
            "estimated reward is -2.2467.\n",
            "nabla - average: 0.00807 max: 0.80195 (lr: 0.2000)\n",
            "estimated reward is -1.9467.\n",
            "nabla - average: 0.00756 max: 0.72023 (lr: 0.2000)\n",
            "estimated reward is -0.06.\n",
            "nabla - average: 0.00754 max: 0.84869 (lr: 0.2000)\n",
            "estimated reward is -1.4534.\n",
            "nabla - average: 0.00708 max: 0.66894 (lr: 0.2000)\n",
            "estimated reward is 0.7733.\n",
            "nabla - average: 0.00722 max: 0.85359 (lr: 0.2000)\n",
            "estimated reward is -0.9333.\n",
            "nabla - average: 0.00672 max: 0.70672 (lr: 0.1810)\n",
            "estimated reward is 0.3133.\n",
            "nabla - average: 0.00623 max: 0.60259 (lr: 0.1510)\n",
            "estimated reward is 2.1633.\n",
            "nabla - average: 0.00540 max: 0.15508 (lr: 0.1210)\n",
            "estimated reward is 3.6166.\n",
            "nabla - average: 0.00532 max: 0.07696 (lr: 0.1000)\n",
            "estimated reward is 3.4733.\n",
            "nabla - average: 0.00528 max: 0.07640 (lr: 0.1000)\n",
            "estimated reward is 3.8233.\n",
            "nabla - average: 0.00525 max: 0.07583 (lr: 0.1000)\n",
            "estimated reward is 4.4133.\n",
            "nabla - average: 0.00522 max: 0.07526 (lr: 0.1000)\n",
            "estimated reward is 3.7367.\n",
            "nabla - average: 0.00519 max: 0.07468 (lr: 0.1000)\n",
            "estimated reward is 3.9.\n",
            "nabla - average: 0.00516 max: 0.07411 (lr: 0.1000)\n",
            "estimated reward is 4.1433.\n",
            "nabla - average: 0.00514 max: 0.07353 (lr: 0.1000)\n",
            "estimated reward is 3.4667.\n",
            "nabla - average: 0.00512 max: 0.07294 (lr: 0.1000)\n",
            "estimated reward is 4.4367.\n",
            "nabla - average: 0.00509 max: 0.07236 (lr: 0.1000)\n",
            "estimated reward is 4.3967.\n",
            "\n",
            "Done\n"
          ]
        }
      ],
      "source": [
        "learning_rate = 0.2\n",
        "warm_up = 250\n",
        "decay = 0.001\n",
        "target = 0.1\n",
        "\n",
        "N1 = 100\n",
        "N2 = 70\n",
        "\n",
        "# initialize parameters\n",
        "theta = torch.empty(STATE_SIZE).to(device)\n",
        "torch.nn.init.uniform_(theta, a=0.0, b=1.0)\n",
        "\n",
        "for iter_num in range(600):\n",
        "    # 1. perform backward pass (with current theta)\n",
        "    z_s, z_sa = backward_pass(theta, N1, tran_probs)\n",
        "\n",
        "    # 2. compute action probabilities\n",
        "    action_probs = z_sa / z_s.unsqueeze(dim=-1).expand(-1, ACTION_SIZE)\n",
        "\n",
        "    # 3. perform forward pass\n",
        "    d_st = forward_pass(N2, tran_probs, action_probs)\n",
        "\n",
        "    # 4. compute d_s\n",
        "    d_s = torch.sum(d_st, dim=1)\n",
        "\n",
        "    # 5. compute nabla\n",
        "    x_T = torch.mul(d_s, torch.transpose(all_features, 0, 1))\n",
        "    x = torch.transpose(x_T, 0, 1)\n",
        "    x = torch.sum(x, dim=0)\n",
        "    nabla = feature_exp - x\n",
        "\n",
        "    # (output logs)\n",
        "    t_mean = torch.mean(torch.abs(nabla)).tolist()\n",
        "    t_max = torch.max(torch.abs(nabla)).tolist()\n",
        "    print(\"nabla - average: {:1.5f} max: {:1.5f} (lr: {:1.4f})\".format(t_mean, t_max, learning_rate), end=\"\\r\")\n",
        "    if iter_num % 30 == 29:\n",
        "        avg_reward = evaluate(env, action_probs)\n",
        "        print(\"\\nestimated reward is {:.4f}.\".format(avg_reward))\n",
        "\n",
        "    # 6. update theta (see above note)\n",
        "    theta += nabla * learning_rate\n",
        "    if iter_num >= warm_up:\n",
        "        learning_rate = max(learning_rate - decay, target) # apply linear scheduling\n",
        "\n",
        "print(\"\\nDone\")"
      ],
      "id": "fsh2UyG68pys"
    },
    {
      "cell_type": "markdown",
      "metadata": {
        "id": "1YYsmxmb8pys"
      },
      "source": [
        "## Show results"
      ],
      "id": "1YYsmxmb8pys"
    },
    {
      "cell_type": "markdown",
      "metadata": {
        "id": "b1FZPn898pys"
      },
      "source": [
        "The following shows you which direction has high probability in the trained parameters.<br>\n",
        "In this environment, the state in right-bottom corner is a goal state. (See [Readme.md](https://github.com/tsmatz/imitation-learning-tutorials/blob/master/Readme.md) for game rule in this environment.)<br>\n",
        "As you can see below, the parameters are optimized to reach to the goal.\n",
        "\n",
        "I note that the gray-colored cells are valid states, in which the agent can reach to the goal without losing any rewards.<br>\n",
        "In this environment, the initial state is picked up from these gray-colored states."
      ],
      "id": "b1FZPn898pys"
    },
    {
      "cell_type": "code",
      "execution_count": null,
      "metadata": {
        "id": "F1S_Lk2D8pyt",
        "outputId": "383bfa4f-4351-4a90-b6f7-68a70c8d916e"
      },
      "outputs": [
        {
          "data": {
            "text/html": [
              "<table><tr><td></td><td></td><td></td><td></td><td></td><td></td><td bgcolor=\"gray\">&#x2192;</td><td bgcolor=\"gray\">&#x2192;</td><td bgcolor=\"gray\">&#x2192;</td><td bgcolor=\"gray\">&#x2192;</td><td bgcolor=\"gray\">&#x2193;</td><td bgcolor=\"gray\">&#x2193;</td><td></td><td bgcolor=\"gray\">&#x2193;</td><td></td><td></td><td></td><td></td><td bgcolor=\"gray\">&#x2190;</td><td></td><td bgcolor=\"gray\">&#x2190;</td><td></td><td bgcolor=\"gray\">&#x2190;</td><td bgcolor=\"gray\">&#x2192;</td><td bgcolor=\"gray\">&#x2192;</td><td></td><td bgcolor=\"gray\">&#x2193;</td><td bgcolor=\"gray\">&#x2193;</td><td bgcolor=\"gray\">&#x2193;</td><td></td><td></td><td></td><td></td><td bgcolor=\"gray\">&#x2190;</td><td bgcolor=\"gray\">&#x2190;</td><td bgcolor=\"gray\">&#x2193;</td><td bgcolor=\"gray\">&#x2193;</td><td></td><td></td><td></td><td></td><td></td><td></td><td></td><td></td><td></td><td></td><td></td><td></td><td></td></tr><tr><td></td><td></td><td></td><td></td><td></td><td></td><td bgcolor=\"gray\">&#x2192;</td><td></td><td bgcolor=\"gray\">&#x2192;</td><td bgcolor=\"gray\">&#x2192;</td><td bgcolor=\"gray\">&#x2192;</td><td bgcolor=\"gray\">&#x2193;</td><td bgcolor=\"gray\">&#x2193;</td><td bgcolor=\"gray\">&#x2193;</td><td bgcolor=\"gray\">&#x2193;</td><td bgcolor=\"gray\">&#x2190;</td><td bgcolor=\"gray\">&#x2190;</td><td bgcolor=\"gray\">&#x2190;</td><td bgcolor=\"gray\">&#x2190;</td><td bgcolor=\"gray\">&#x2190;</td><td bgcolor=\"gray\">&#x2190;</td><td></td><td></td><td></td><td bgcolor=\"gray\">&#x2192;</td><td></td><td bgcolor=\"gray\">&#x2192;</td><td bgcolor=\"gray\">&#x2193;</td><td bgcolor=\"gray\">&#x2190;</td><td bgcolor=\"gray\">&#x2190;</td><td bgcolor=\"gray\">&#x2190;</td><td></td><td bgcolor=\"gray\">&#x2190;</td><td></td><td bgcolor=\"gray\">&#x2190;</td><td></td><td bgcolor=\"gray\">&#x2193;</td><td></td><td></td><td></td><td></td><td></td><td></td><td></td><td></td><td></td><td></td><td></td><td></td><td></td></tr><tr><td></td><td></td><td></td><td></td><td></td><td></td><td bgcolor=\"gray\">&#x2192;</td><td></td><td bgcolor=\"gray\">&#x2192;</td><td></td><td bgcolor=\"gray\">&#x2192;</td><td bgcolor=\"gray\">&#x2192;</td><td bgcolor=\"gray\">&#x2193;</td><td bgcolor=\"gray\">&#x2190;</td><td bgcolor=\"gray\">&#x2190;</td><td bgcolor=\"gray\">&#x2190;</td><td bgcolor=\"gray\">&#x2190;</td><td></td><td bgcolor=\"gray\">&#x2190;</td><td bgcolor=\"gray\">&#x2190;</td><td></td><td bgcolor=\"gray\">&#x2190;</td><td bgcolor=\"gray\">&#x2190;</td><td></td><td bgcolor=\"gray\">&#x2192;</td><td bgcolor=\"gray\">&#x2192;</td><td bgcolor=\"gray\">&#x2192;</td><td bgcolor=\"gray\">&#x2191;</td><td bgcolor=\"gray\">&#x2190;</td><td bgcolor=\"gray\">&#x2190;</td><td bgcolor=\"gray\">&#x2190;</td><td></td><td bgcolor=\"gray\">&#x2190;</td><td bgcolor=\"gray\">&#x2190;</td><td></td><td bgcolor=\"gray\">&#x2193;</td><td bgcolor=\"gray\">&#x2193;</td><td></td><td></td><td bgcolor=\"gray\">&#x2193;</td><td bgcolor=\"gray\">&#x2193;</td><td></td><td></td><td></td><td></td><td></td><td></td><td></td><td></td><td></td></tr><tr><td></td><td></td><td></td><td bgcolor=\"gray\">&#x2192;</td><td></td><td></td><td bgcolor=\"gray\">&#x2192;</td><td bgcolor=\"gray\">&#x2192;</td><td></td><td bgcolor=\"gray\">&#x2192;</td><td></td><td bgcolor=\"gray\">&#x2192;</td><td bgcolor=\"gray\">&#x2191;</td><td bgcolor=\"gray\">&#x2190;</td><td bgcolor=\"gray\">&#x2190;</td><td></td><td bgcolor=\"gray\">&#x2190;</td><td></td><td bgcolor=\"gray\">&#x2190;</td><td></td><td></td><td></td><td bgcolor=\"gray\">&#x2190;</td><td bgcolor=\"gray\">&#x2190;</td><td></td><td></td><td bgcolor=\"gray\">&#x2191;</td><td bgcolor=\"gray\">&#x2191;</td><td></td><td bgcolor=\"gray\">&#x2191;</td><td bgcolor=\"gray\">&#x2190;</td><td bgcolor=\"gray\">&#x2190;</td><td bgcolor=\"gray\">&#x2190;</td><td bgcolor=\"gray\">&#x2190;</td><td bgcolor=\"gray\">&#x2193;</td><td bgcolor=\"gray\">&#x2193;</td><td bgcolor=\"gray\">&#x2193;</td><td bgcolor=\"gray\">&#x2190;</td><td bgcolor=\"gray\">&#x2193;</td><td bgcolor=\"gray\">&#x2193;</td><td bgcolor=\"gray\">&#x2193;</td><td></td><td></td><td></td><td></td><td></td><td></td><td></td><td></td><td></td></tr><tr><td></td><td></td><td></td><td bgcolor=\"gray\">&#x2192;</td><td bgcolor=\"gray\">&#x2192;</td><td bgcolor=\"gray\">&#x2192;</td><td bgcolor=\"gray\">&#x2192;</td><td bgcolor=\"gray\">&#x2192;</td><td bgcolor=\"gray\">&#x2192;</td><td bgcolor=\"gray\">&#x2192;</td><td bgcolor=\"gray\">&#x2192;</td><td bgcolor=\"gray\">&#x2192;</td><td bgcolor=\"gray\">&#x2191;</td><td bgcolor=\"gray\">&#x2191;</td><td bgcolor=\"gray\">&#x2191;</td><td bgcolor=\"gray\">&#x2190;</td><td bgcolor=\"gray\">&#x2190;</td><td bgcolor=\"gray\">&#x2190;</td><td bgcolor=\"gray\">&#x2190;</td><td></td><td></td><td bgcolor=\"gray\">&#x2190;</td><td></td><td bgcolor=\"gray\">&#x2190;</td><td bgcolor=\"gray\">&#x2192;</td><td bgcolor=\"gray\">&#x2192;</td><td bgcolor=\"gray\">&#x2191;</td><td bgcolor=\"gray\">&#x2191;</td><td bgcolor=\"gray\">&#x2191;</td><td bgcolor=\"gray\">&#x2191;</td><td bgcolor=\"gray\">&#x2191;</td><td bgcolor=\"gray\">&#x2191;</td><td bgcolor=\"gray\">&#x2190;</td><td bgcolor=\"gray\">&#x2190;</td><td bgcolor=\"gray\">&#x2193;</td><td></td><td bgcolor=\"gray\">&#x2193;</td><td></td><td bgcolor=\"gray\">&#x2193;</td><td bgcolor=\"gray\">&#x2193;</td><td bgcolor=\"gray\">&#x2193;</td><td></td><td></td><td></td><td></td><td></td><td></td><td></td><td></td><td></td></tr><tr><td></td><td></td><td></td><td bgcolor=\"gray\">&#x2192;</td><td bgcolor=\"gray\">&#x2192;</td><td></td><td bgcolor=\"gray\">&#x2192;</td><td></td><td bgcolor=\"gray\">&#x2192;</td><td bgcolor=\"gray\">&#x2191;</td><td></td><td bgcolor=\"gray\">&#x2191;</td><td bgcolor=\"gray\">&#x2191;</td><td></td><td bgcolor=\"gray\">&#x2191;</td><td bgcolor=\"gray\">&#x2191;</td><td></td><td></td><td bgcolor=\"gray\">&#x2191;</td><td bgcolor=\"gray\">&#x2190;</td><td></td><td bgcolor=\"gray\">&#x2190;</td><td bgcolor=\"gray\">&#x2190;</td><td bgcolor=\"gray\">&#x2190;</td><td></td><td bgcolor=\"gray\">&#x2192;</td><td bgcolor=\"gray\">&#x2191;</td><td bgcolor=\"gray\">&#x2191;</td><td bgcolor=\"gray\">&#x2191;</td><td></td><td></td><td bgcolor=\"gray\">&#x2191;</td><td bgcolor=\"gray\">&#x2191;</td><td></td><td bgcolor=\"gray\">&#x2193;</td><td></td><td></td><td></td><td></td><td bgcolor=\"gray\">&#x2193;</td><td bgcolor=\"gray\">&#x2190;</td><td></td><td></td><td></td><td></td><td></td><td></td><td></td><td></td><td></td></tr><tr><td></td><td></td><td bgcolor=\"gray\">&#x2193;</td><td bgcolor=\"gray\">&#x2192;</td><td bgcolor=\"gray\">&#x2192;</td><td bgcolor=\"gray\">&#x2192;</td><td bgcolor=\"gray\">&#x2192;</td><td bgcolor=\"gray\">&#x2192;</td><td bgcolor=\"gray\">&#x2192;</td><td bgcolor=\"gray\">&#x2191;</td><td bgcolor=\"gray\">&#x2191;</td><td bgcolor=\"gray\">&#x2191;</td><td></td><td></td><td></td><td bgcolor=\"gray\">&#x2191;</td><td bgcolor=\"gray\">&#x2191;</td><td bgcolor=\"gray\">&#x2190;</td><td bgcolor=\"gray\">&#x2190;</td><td bgcolor=\"gray\">&#x2190;</td><td></td><td></td><td bgcolor=\"gray\">&#x2193;</td><td bgcolor=\"gray\">&#x2190;</td><td></td><td></td><td bgcolor=\"gray\">&#x2191;</td><td bgcolor=\"gray\">&#x2191;</td><td></td><td></td><td></td><td></td><td bgcolor=\"gray\">&#x2192;</td><td bgcolor=\"gray\">&#x2192;</td><td bgcolor=\"gray\">&#x2192;</td><td bgcolor=\"gray\">&#x2193;</td><td bgcolor=\"gray\">&#x2190;</td><td bgcolor=\"gray\">&#x2190;</td><td bgcolor=\"gray\">&#x2190;</td><td></td><td></td><td></td><td></td><td></td><td></td><td></td><td></td><td></td><td></td><td></td></tr><tr><td bgcolor=\"gray\">&#x2192;</td><td bgcolor=\"gray\">&#x2192;</td><td bgcolor=\"gray\">&#x2193;</td><td bgcolor=\"gray\">&#x2192;</td><td></td><td bgcolor=\"gray\">&#x2192;</td><td bgcolor=\"gray\">&#x2191;</td><td bgcolor=\"gray\">&#x2191;</td><td></td><td bgcolor=\"gray\">&#x2191;</td><td bgcolor=\"gray\">&#x2191;</td><td bgcolor=\"gray\">&#x2191;</td><td bgcolor=\"gray\">&#x2191;</td><td></td><td bgcolor=\"gray\">&#x2191;</td><td bgcolor=\"gray\">&#x2191;</td><td></td><td></td><td bgcolor=\"gray\">&#x2191;</td><td bgcolor=\"gray\">&#x2190;</td><td></td><td bgcolor=\"gray\">&#x2193;</td><td bgcolor=\"gray\">&#x2190;</td><td></td><td bgcolor=\"gray\">&#x2190;</td><td bgcolor=\"gray\">&#x2191;</td><td></td><td bgcolor=\"gray\">&#x2191;</td><td bgcolor=\"gray\">&#x2191;</td><td bgcolor=\"gray\">&#x2191;</td><td></td><td></td><td bgcolor=\"gray\">&#x2193;</td><td bgcolor=\"gray\">&#x2193;</td><td></td><td bgcolor=\"gray\">&#x2193;</td><td></td><td bgcolor=\"gray\">&#x2193;</td><td></td><td></td><td></td><td></td><td></td><td></td><td></td><td></td><td></td><td></td><td></td><td></td></tr><tr><td bgcolor=\"gray\">&#x2192;</td><td bgcolor=\"gray\">&#x2192;</td><td bgcolor=\"gray\">&#x2192;</td><td bgcolor=\"gray\">&#x2192;</td><td bgcolor=\"gray\">&#x2192;</td><td bgcolor=\"gray\">&#x2192;</td><td bgcolor=\"gray\">&#x2192;</td><td bgcolor=\"gray\">&#x2192;</td><td bgcolor=\"gray\">&#x2191;</td><td bgcolor=\"gray\">&#x2191;</td><td></td><td></td><td bgcolor=\"gray\">&#x2191;</td><td></td><td bgcolor=\"gray\">&#x2191;</td><td bgcolor=\"gray\">&#x2191;</td><td></td><td bgcolor=\"gray\">&#x2191;</td><td bgcolor=\"gray\">&#x2191;</td><td></td><td></td><td bgcolor=\"gray\">&#x2193;</td><td bgcolor=\"gray\">&#x2190;</td><td bgcolor=\"gray\">&#x2190;</td><td bgcolor=\"gray\">&#x2190;</td><td bgcolor=\"gray\">&#x2190;</td><td bgcolor=\"gray\">&#x2191;</td><td></td><td bgcolor=\"gray\">&#x2191;</td><td bgcolor=\"gray\">&#x2193;</td><td bgcolor=\"gray\">&#x2193;</td><td></td><td></td><td></td><td></td><td></td><td></td><td bgcolor=\"gray\">&#x2193;</td><td></td><td></td><td></td><td></td><td></td><td></td><td></td><td></td><td></td><td></td><td></td><td></td></tr><tr><td bgcolor=\"gray\">&#x2192;</td><td bgcolor=\"gray\">&#x2192;</td><td bgcolor=\"gray\">&#x2191;</td><td></td><td bgcolor=\"gray\">&#x2192;</td><td></td><td bgcolor=\"gray\">&#x2192;</td><td bgcolor=\"gray\">&#x2193;</td><td></td><td></td><td bgcolor=\"gray\">&#x2191;</td><td bgcolor=\"gray\">&#x2191;</td><td></td><td bgcolor=\"gray\">&#x2191;</td><td bgcolor=\"gray\">&#x2191;</td><td bgcolor=\"gray\">&#x2191;</td><td bgcolor=\"gray\">&#x2190;</td><td bgcolor=\"gray\">&#x2191;</td><td bgcolor=\"gray\">&#x2192;</td><td bgcolor=\"gray\">&#x2193;</td><td bgcolor=\"gray\">&#x2190;</td><td bgcolor=\"gray\">&#x2190;</td><td></td><td></td><td></td><td bgcolor=\"gray\">&#x2190;</td><td></td><td bgcolor=\"gray\">&#x2190;</td><td bgcolor=\"gray\">&#x2193;</td><td bgcolor=\"gray\">&#x2192;</td><td bgcolor=\"gray\">&#x2192;</td><td bgcolor=\"gray\">&#x2192;</td><td bgcolor=\"gray\">&#x2192;</td><td bgcolor=\"gray\">&#x2193;</td><td bgcolor=\"gray\">&#x2193;</td><td bgcolor=\"gray\">&#x2193;</td><td bgcolor=\"gray\">&#x2190;</td><td></td><td></td><td></td><td></td><td></td><td></td><td></td><td></td><td></td><td></td><td></td><td></td><td></td></tr><tr><td bgcolor=\"gray\">&#x2192;</td><td bgcolor=\"gray\">&#x2192;</td><td bgcolor=\"gray\">&#x2192;</td><td bgcolor=\"gray\">&#x2192;</td><td bgcolor=\"gray\">&#x2192;</td><td></td><td bgcolor=\"gray\">&#x2192;</td><td bgcolor=\"gray\">&#x2192;</td><td bgcolor=\"gray\">&#x2192;</td><td bgcolor=\"gray\">&#x2193;</td><td></td><td bgcolor=\"gray\">&#x2191;</td><td bgcolor=\"gray\">&#x2191;</td><td></td><td bgcolor=\"gray\">&#x2191;</td><td bgcolor=\"gray\">&#x2193;</td><td bgcolor=\"gray\">&#x2193;</td><td></td><td bgcolor=\"gray\">&#x2192;</td><td bgcolor=\"gray\">&#x2193;</td><td bgcolor=\"gray\">&#x2190;</td><td></td><td bgcolor=\"gray\">&#x2190;</td><td bgcolor=\"gray\">&#x2190;</td><td></td><td bgcolor=\"gray\">&#x2190;</td><td bgcolor=\"gray\">&#x2190;</td><td bgcolor=\"gray\">&#x2190;</td><td></td><td></td><td bgcolor=\"gray\">&#x2193;</td><td></td><td></td><td bgcolor=\"gray\">&#x2192;</td><td bgcolor=\"gray\">&#x2193;</td><td bgcolor=\"gray\">&#x2190;</td><td bgcolor=\"gray\">&#x2190;</td><td bgcolor=\"gray\">&#x2190;</td><td></td><td></td><td></td><td></td><td></td><td></td><td></td><td></td><td></td><td></td><td></td><td bgcolor=\"gray\">&#x2193;</td></tr><tr><td></td><td bgcolor=\"gray\">&#x2192;</td><td></td><td bgcolor=\"gray\">&#x2192;</td><td bgcolor=\"gray\">&#x2192;</td><td bgcolor=\"gray\">&#x2192;</td><td></td><td bgcolor=\"gray\">&#x2191;</td><td></td><td bgcolor=\"gray\">&#x2192;</td><td bgcolor=\"gray\">&#x2192;</td><td bgcolor=\"gray\">&#x2192;</td><td bgcolor=\"gray\">&#x2192;</td><td bgcolor=\"gray\">&#x2192;</td><td bgcolor=\"gray\">&#x2192;</td><td bgcolor=\"gray\">&#x2190;</td><td bgcolor=\"gray\">&#x2193;</td><td></td><td bgcolor=\"gray\">&#x2193;</td><td bgcolor=\"gray\">&#x2193;</td><td></td><td bgcolor=\"gray\">&#x2190;</td><td bgcolor=\"gray\">&#x2190;</td><td></td><td bgcolor=\"gray\">&#x2190;</td><td bgcolor=\"gray\">&#x2190;</td><td bgcolor=\"gray\">&#x2190;</td><td bgcolor=\"gray\">&#x2190;</td><td bgcolor=\"gray\">&#x2192;</td><td bgcolor=\"gray\">&#x2193;</td><td bgcolor=\"gray\">&#x2193;</td><td></td><td></td><td bgcolor=\"gray\">&#x2193;</td><td bgcolor=\"gray\">&#x2193;</td><td bgcolor=\"gray\">&#x2190;</td><td bgcolor=\"gray\">&#x2190;</td><td></td><td bgcolor=\"gray\">&#x2190;</td><td bgcolor=\"gray\">&#x2190;</td><td bgcolor=\"gray\">&#x2190;</td><td bgcolor=\"gray\">&#x2190;</td><td bgcolor=\"gray\">&#x2190;</td><td></td><td></td><td></td><td></td><td bgcolor=\"gray\">&#x2193;</td><td bgcolor=\"gray\">&#x2193;</td><td bgcolor=\"gray\">&#x2193;</td></tr><tr><td></td><td bgcolor=\"gray\">&#x2192;</td><td></td><td bgcolor=\"gray\">&#x2192;</td><td></td><td bgcolor=\"gray\">&#x2192;</td><td bgcolor=\"gray\">&#x2192;</td><td bgcolor=\"gray\">&#x2191;</td><td bgcolor=\"gray\">&#x2192;</td><td></td><td bgcolor=\"gray\">&#x2192;</td><td bgcolor=\"gray\">&#x2192;</td><td bgcolor=\"gray\">&#x2191;</td><td bgcolor=\"gray\">&#x2191;</td><td></td><td bgcolor=\"gray\">&#x2192;</td><td bgcolor=\"gray\">&#x2193;</td><td bgcolor=\"gray\">&#x2193;</td><td></td><td bgcolor=\"gray\">&#x2193;</td><td></td><td bgcolor=\"gray\">&#x2190;</td><td></td><td></td><td></td><td bgcolor=\"gray\">&#x2190;</td><td></td><td bgcolor=\"gray\">&#x2190;</td><td bgcolor=\"gray\">&#x2192;</td><td bgcolor=\"gray\">&#x2193;</td><td></td><td></td><td bgcolor=\"gray\">&#x2193;</td><td bgcolor=\"gray\">&#x2193;</td><td bgcolor=\"gray\">&#x2190;</td><td bgcolor=\"gray\">&#x2190;</td><td></td><td bgcolor=\"gray\">&#x2190;</td><td bgcolor=\"gray\">&#x2190;</td><td bgcolor=\"gray\">&#x2190;</td><td></td><td></td><td bgcolor=\"gray\">&#x2190;</td><td bgcolor=\"gray\">&#x2190;</td><td bgcolor=\"gray\">&#x2193;</td><td></td><td bgcolor=\"gray\">&#x2193;</td><td></td><td bgcolor=\"gray\">&#x2193;</td><td bgcolor=\"gray\">&#x2190;</td></tr><tr><td bgcolor=\"gray\">&#x2192;</td><td bgcolor=\"gray\">&#x2192;</td><td bgcolor=\"gray\">&#x2192;</td><td></td><td bgcolor=\"gray\">&#x2192;</td><td></td><td bgcolor=\"gray\">&#x2192;</td><td bgcolor=\"gray\">&#x2192;</td><td></td><td></td><td></td><td bgcolor=\"gray\">&#x2191;</td><td bgcolor=\"gray\">&#x2191;</td><td bgcolor=\"gray\">&#x2191;</td><td></td><td bgcolor=\"gray\">&#x2192;</td><td bgcolor=\"gray\">&#x2192;</td><td bgcolor=\"gray\">&#x2192;</td><td bgcolor=\"gray\">&#x2192;</td><td bgcolor=\"gray\">&#x2193;</td><td></td><td bgcolor=\"gray\">&#x2193;</td><td bgcolor=\"gray\">&#x2190;</td><td bgcolor=\"gray\">&#x2190;</td><td bgcolor=\"gray\">&#x2190;</td><td bgcolor=\"gray\">&#x2190;</td><td></td><td></td><td bgcolor=\"gray\">&#x2192;</td><td bgcolor=\"gray\">&#x2192;</td><td bgcolor=\"gray\">&#x2192;</td><td bgcolor=\"gray\">&#x2192;</td><td bgcolor=\"gray\">&#x2193;</td><td bgcolor=\"gray\">&#x2190;</td><td bgcolor=\"gray\">&#x2190;</td><td bgcolor=\"gray\">&#x2190;</td><td bgcolor=\"gray\">&#x2190;</td><td bgcolor=\"gray\">&#x2190;</td><td></td><td bgcolor=\"gray\">&#x2190;</td><td bgcolor=\"gray\">&#x2190;</td><td bgcolor=\"gray\">&#x2190;</td><td bgcolor=\"gray\">&#x2193;</td><td></td><td bgcolor=\"gray\">&#x2193;</td><td></td><td bgcolor=\"gray\">&#x2193;</td><td bgcolor=\"gray\">&#x2193;</td><td bgcolor=\"gray\">&#x2190;</td><td bgcolor=\"gray\">&#x2190;</td></tr><tr><td></td><td bgcolor=\"gray\">&#x2192;</td><td></td><td bgcolor=\"gray\">&#x2192;</td><td bgcolor=\"gray\">&#x2192;</td><td></td><td bgcolor=\"gray\">&#x2192;</td><td></td><td></td><td></td><td bgcolor=\"gray\">&#x2192;</td><td bgcolor=\"gray\">&#x2191;</td><td></td><td bgcolor=\"gray\">&#x2191;</td><td bgcolor=\"gray\">&#x2192;</td><td bgcolor=\"gray\">&#x2191;</td><td></td><td bgcolor=\"gray\">&#x2191;</td><td></td><td bgcolor=\"gray\">&#x2193;</td><td bgcolor=\"gray\">&#x2193;</td><td bgcolor=\"gray\">&#x2190;</td><td bgcolor=\"gray\">&#x2190;</td><td bgcolor=\"gray\">&#x2190;</td><td bgcolor=\"gray\">&#x2190;</td><td></td><td></td><td></td><td></td><td></td><td bgcolor=\"gray\">&#x2192;</td><td></td><td bgcolor=\"gray\">&#x2193;</td><td></td><td></td><td bgcolor=\"gray\">&#x2191;</td><td></td><td bgcolor=\"gray\">&#x2191;</td><td bgcolor=\"gray\">&#x2190;</td><td bgcolor=\"gray\">&#x2190;</td><td bgcolor=\"gray\">&#x2190;</td><td bgcolor=\"gray\">&#x2193;</td><td></td><td></td><td></td><td bgcolor=\"gray\">&#x2193;</td><td bgcolor=\"gray\">&#x2193;</td><td bgcolor=\"gray\">&#x2190;</td><td></td><td bgcolor=\"gray\">&#x2193;</td></tr><tr><td></td><td></td><td bgcolor=\"gray\">&#x2192;</td><td bgcolor=\"gray\">&#x2192;</td><td></td><td bgcolor=\"gray\">&#x2192;</td><td bgcolor=\"gray\">&#x2192;</td><td></td><td></td><td bgcolor=\"gray\">&#x2192;</td><td bgcolor=\"gray\">&#x2192;</td><td bgcolor=\"gray\">&#x2191;</td><td></td><td bgcolor=\"gray\">&#x2191;</td><td bgcolor=\"gray\">&#x2192;</td><td bgcolor=\"gray\">&#x2191;</td><td></td><td bgcolor=\"gray\">&#x2192;</td><td bgcolor=\"gray\">&#x2192;</td><td bgcolor=\"gray\">&#x2192;</td><td bgcolor=\"gray\">&#x2193;</td><td></td><td bgcolor=\"gray\">&#x2190;</td><td></td><td bgcolor=\"gray\">&#x2190;</td><td></td><td></td><td></td><td></td><td></td><td></td><td></td><td bgcolor=\"gray\">&#x2193;</td><td bgcolor=\"gray\">&#x2190;</td><td bgcolor=\"gray\">&#x2190;</td><td bgcolor=\"gray\">&#x2190;</td><td bgcolor=\"gray\">&#x2190;</td><td></td><td></td><td></td><td></td><td></td><td></td><td></td><td></td><td bgcolor=\"gray\">&#x2193;</td><td bgcolor=\"gray\">&#x2193;</td><td></td><td></td><td></td></tr><tr><td></td><td></td><td bgcolor=\"gray\">&#x2192;</td><td bgcolor=\"gray\">&#x2192;</td><td bgcolor=\"gray\">&#x2192;</td><td bgcolor=\"gray\">&#x2192;</td><td bgcolor=\"gray\">&#x2192;</td><td></td><td bgcolor=\"gray\">&#x2192;</td><td bgcolor=\"gray\">&#x2192;</td><td bgcolor=\"gray\">&#x2192;</td><td bgcolor=\"gray\">&#x2191;</td><td bgcolor=\"gray\">&#x2190;</td><td bgcolor=\"gray\">&#x2191;</td><td></td><td bgcolor=\"gray\">&#x2191;</td><td bgcolor=\"gray\">&#x2191;</td><td></td><td></td><td bgcolor=\"gray\">&#x2192;</td><td bgcolor=\"gray\">&#x2193;</td><td></td><td></td><td></td><td></td><td></td><td></td><td></td><td></td><td></td><td bgcolor=\"gray\">&#x2192;</td><td bgcolor=\"gray\">&#x2192;</td><td bgcolor=\"gray\">&#x2193;</td><td bgcolor=\"gray\">&#x2190;</td><td bgcolor=\"gray\">&#x2190;</td><td bgcolor=\"gray\">&#x2190;</td><td bgcolor=\"gray\">&#x2190;</td><td></td><td></td><td bgcolor=\"gray\">&#x2190;</td><td></td><td bgcolor=\"gray\">&#x2193;</td><td></td><td></td><td></td><td></td><td bgcolor=\"gray\">&#x2193;</td><td></td><td></td><td></td></tr><tr><td></td><td></td><td bgcolor=\"gray\">&#x2192;</td><td bgcolor=\"gray\">&#x2192;</td><td></td><td></td><td bgcolor=\"gray\">&#x2192;</td><td bgcolor=\"gray\">&#x2192;</td><td bgcolor=\"gray\">&#x2192;</td><td bgcolor=\"gray\">&#x2192;</td><td bgcolor=\"gray\">&#x2191;</td><td bgcolor=\"gray\">&#x2191;</td><td bgcolor=\"gray\">&#x2191;</td><td></td><td bgcolor=\"gray\">&#x2192;</td><td bgcolor=\"gray\">&#x2192;</td><td bgcolor=\"gray\">&#x2192;</td><td bgcolor=\"gray\">&#x2192;</td><td bgcolor=\"gray\">&#x2192;</td><td></td><td bgcolor=\"gray\">&#x2193;</td><td bgcolor=\"gray\">&#x2190;</td><td bgcolor=\"gray\">&#x2190;</td><td></td><td></td><td></td><td></td><td></td><td></td><td></td><td></td><td></td><td bgcolor=\"gray\">&#x2193;</td><td></td><td bgcolor=\"gray\">&#x2190;</td><td></td><td></td><td bgcolor=\"gray\">&#x2190;</td><td></td><td bgcolor=\"gray\">&#x2193;</td><td bgcolor=\"gray\">&#x2193;</td><td bgcolor=\"gray\">&#x2193;</td><td></td><td></td><td></td><td bgcolor=\"gray\">&#x2193;</td><td bgcolor=\"gray\">&#x2190;</td><td bgcolor=\"gray\">&#x2190;</td><td bgcolor=\"gray\">&#x2193;</td><td></td></tr><tr><td></td><td></td><td></td><td bgcolor=\"gray\">&#x2192;</td><td bgcolor=\"gray\">&#x2192;</td><td bgcolor=\"gray\">&#x2192;</td><td bgcolor=\"gray\">&#x2192;</td><td bgcolor=\"gray\">&#x2192;</td><td bgcolor=\"gray\">&#x2192;</td><td bgcolor=\"gray\">&#x2191;</td><td bgcolor=\"gray\">&#x2191;</td><td></td><td bgcolor=\"gray\">&#x2191;</td><td bgcolor=\"gray\">&#x2192;</td><td></td><td bgcolor=\"gray\">&#x2192;</td><td></td><td></td><td></td><td bgcolor=\"gray\">&#x2192;</td><td bgcolor=\"gray\">&#x2193;</td><td bgcolor=\"gray\">&#x2190;</td><td></td><td></td><td></td><td></td><td></td><td></td><td></td><td></td><td bgcolor=\"gray\">&#x2192;</td><td bgcolor=\"gray\">&#x2192;</td><td bgcolor=\"gray\">&#x2193;</td><td bgcolor=\"gray\">&#x2190;</td><td bgcolor=\"gray\">&#x2190;</td><td></td><td bgcolor=\"gray\">&#x2190;</td><td bgcolor=\"gray\">&#x2190;</td><td bgcolor=\"gray\">&#x2190;</td><td bgcolor=\"gray\">&#x2193;</td><td></td><td bgcolor=\"gray\">&#x2193;</td><td bgcolor=\"gray\">&#x2193;</td><td bgcolor=\"gray\">&#x2193;</td><td bgcolor=\"gray\">&#x2193;</td><td bgcolor=\"gray\">&#x2190;</td><td bgcolor=\"gray\">&#x2190;</td><td bgcolor=\"gray\">&#x2190;</td><td></td><td></td></tr><tr><td></td><td></td><td></td><td bgcolor=\"gray\">&#x2192;</td><td bgcolor=\"gray\">&#x2192;</td><td bgcolor=\"gray\">&#x2191;</td><td></td><td bgcolor=\"gray\">&#x2191;</td><td bgcolor=\"gray\">&#x2191;</td><td bgcolor=\"gray\">&#x2191;</td><td></td><td bgcolor=\"gray\">&#x2191;</td><td bgcolor=\"gray\">&#x2192;</td><td bgcolor=\"gray\">&#x2192;</td><td bgcolor=\"gray\">&#x2192;</td><td></td><td bgcolor=\"gray\">&#x2192;</td><td bgcolor=\"gray\">&#x2192;</td><td bgcolor=\"gray\">&#x2192;</td><td bgcolor=\"gray\">&#x2192;</td><td bgcolor=\"gray\">&#x2193;</td><td bgcolor=\"gray\">&#x2190;</td><td></td><td></td><td></td><td bgcolor=\"gray\">&#x2190;</td><td></td><td></td><td></td><td bgcolor=\"gray\">&#x2192;</td><td bgcolor=\"gray\">&#x2192;</td><td bgcolor=\"gray\">&#x2192;</td><td bgcolor=\"gray\">&#x2193;</td><td bgcolor=\"gray\">&#x2190;</td><td></td><td></td><td bgcolor=\"gray\">&#x2190;</td><td bgcolor=\"gray\">&#x2190;</td><td bgcolor=\"gray\">&#x2190;</td><td bgcolor=\"gray\">&#x2192;</td><td bgcolor=\"gray\">&#x2192;</td><td bgcolor=\"gray\">&#x2192;</td><td bgcolor=\"gray\">&#x2193;</td><td bgcolor=\"gray\">&#x2190;</td><td bgcolor=\"gray\">&#x2190;</td><td bgcolor=\"gray\">&#x2190;</td><td></td><td bgcolor=\"gray\">&#x2193;</td><td></td><td></td></tr><tr><td></td><td></td><td></td><td></td><td bgcolor=\"gray\">&#x2191;</td><td bgcolor=\"gray\">&#x2191;</td><td bgcolor=\"gray\">&#x2191;</td><td></td><td></td><td bgcolor=\"gray\">&#x2191;</td><td></td><td></td><td bgcolor=\"gray\">&#x2192;</td><td bgcolor=\"gray\">&#x2192;</td><td></td><td bgcolor=\"gray\">&#x2192;</td><td bgcolor=\"gray\">&#x2192;</td><td></td><td bgcolor=\"gray\">&#x2192;</td><td bgcolor=\"gray\">&#x2192;</td><td bgcolor=\"gray\">&#x2193;</td><td bgcolor=\"gray\">&#x2190;</td><td bgcolor=\"gray\">&#x2190;</td><td></td><td bgcolor=\"gray\">&#x2190;</td><td bgcolor=\"gray\">&#x2190;</td><td bgcolor=\"gray\">&#x2190;</td><td bgcolor=\"gray\">&#x2190;</td><td bgcolor=\"gray\">&#x2190;</td><td></td><td></td><td bgcolor=\"gray\">&#x2192;</td><td bgcolor=\"gray\">&#x2193;</td><td bgcolor=\"gray\">&#x2190;</td><td></td><td bgcolor=\"gray\">&#x2190;</td><td bgcolor=\"gray\">&#x2190;</td><td bgcolor=\"gray\">&#x2190;</td><td></td><td></td><td></td><td></td><td bgcolor=\"gray\">&#x2193;</td><td bgcolor=\"gray\">&#x2190;</td><td></td><td></td><td bgcolor=\"gray\">&#x2193;</td><td></td><td></td><td></td></tr><tr><td></td><td bgcolor=\"gray\">&#x2193;</td><td bgcolor=\"gray\">&#x2193;</td><td bgcolor=\"gray\">&#x2193;</td><td bgcolor=\"gray\">&#x2193;</td><td bgcolor=\"gray\">&#x2193;</td><td></td><td bgcolor=\"gray\">&#x2191;</td><td bgcolor=\"gray\">&#x2191;</td><td bgcolor=\"gray\">&#x2191;</td><td></td><td bgcolor=\"gray\">&#x2192;</td><td bgcolor=\"gray\">&#x2192;</td><td></td><td></td><td></td><td bgcolor=\"gray\">&#x2192;</td><td bgcolor=\"gray\">&#x2192;</td><td></td><td bgcolor=\"gray\">&#x2192;</td><td bgcolor=\"gray\">&#x2193;</td><td bgcolor=\"gray\">&#x2190;</td><td></td><td bgcolor=\"gray\">&#x2190;</td><td bgcolor=\"gray\">&#x2190;</td><td></td><td bgcolor=\"gray\">&#x2193;</td><td bgcolor=\"gray\">&#x2190;</td><td bgcolor=\"gray\">&#x2190;</td><td bgcolor=\"gray\">&#x2192;</td><td></td><td></td><td bgcolor=\"gray\">&#x2193;</td><td bgcolor=\"gray\">&#x2190;</td><td bgcolor=\"gray\">&#x2190;</td><td bgcolor=\"gray\">&#x2190;</td><td></td><td bgcolor=\"gray\">&#x2190;</td><td></td><td></td><td></td><td></td><td bgcolor=\"gray\">&#x2193;</td><td bgcolor=\"gray\">&#x2190;</td><td></td><td bgcolor=\"gray\">&#x2193;</td><td bgcolor=\"gray\">&#x2193;</td><td bgcolor=\"gray\">&#x2193;</td><td bgcolor=\"gray\">&#x2193;</td><td bgcolor=\"gray\">&#x2193;</td></tr><tr><td></td><td></td><td bgcolor=\"gray\">&#x2193;</td><td bgcolor=\"gray\">&#x2193;</td><td></td><td bgcolor=\"gray\">&#x2193;</td><td></td><td></td><td></td><td bgcolor=\"gray\">&#x2192;</td><td></td><td></td><td></td><td bgcolor=\"gray\">&#x2192;</td><td bgcolor=\"gray\">&#x2192;</td><td bgcolor=\"gray\">&#x2192;</td><td bgcolor=\"gray\">&#x2192;</td><td bgcolor=\"gray\">&#x2192;</td><td bgcolor=\"gray\">&#x2192;</td><td bgcolor=\"gray\">&#x2192;</td><td bgcolor=\"gray\">&#x2193;</td><td bgcolor=\"gray\">&#x2190;</td><td bgcolor=\"gray\">&#x2193;</td><td></td><td></td><td bgcolor=\"gray\">&#x2193;</td><td bgcolor=\"gray\">&#x2193;</td><td></td><td bgcolor=\"gray\">&#x2190;</td><td bgcolor=\"gray\">&#x2192;</td><td bgcolor=\"gray\">&#x2192;</td><td></td><td bgcolor=\"gray\">&#x2193;</td><td bgcolor=\"gray\">&#x2190;</td><td></td><td></td><td></td><td></td><td bgcolor=\"gray\">&#x2190;</td><td></td><td></td><td bgcolor=\"gray\">&#x2192;</td><td bgcolor=\"gray\">&#x2193;</td><td></td><td></td><td bgcolor=\"gray\">&#x2193;</td><td></td><td bgcolor=\"gray\">&#x2193;</td><td></td><td bgcolor=\"gray\">&#x2193;</td></tr><tr><td></td><td bgcolor=\"gray\">&#x2193;</td><td bgcolor=\"gray\">&#x2193;</td><td bgcolor=\"gray\">&#x2193;</td><td></td><td></td><td bgcolor=\"gray\">&#x2193;</td><td bgcolor=\"gray\">&#x2193;</td><td></td><td bgcolor=\"gray\">&#x2193;</td><td bgcolor=\"gray\">&#x2192;</td><td bgcolor=\"gray\">&#x2192;</td><td bgcolor=\"gray\">&#x2192;</td><td bgcolor=\"gray\">&#x2192;</td><td bgcolor=\"gray\">&#x2192;</td><td bgcolor=\"gray\">&#x2191;</td><td></td><td bgcolor=\"gray\">&#x2192;</td><td></td><td bgcolor=\"gray\">&#x2192;</td><td bgcolor=\"gray\">&#x2193;</td><td></td><td bgcolor=\"gray\">&#x2193;</td><td></td><td></td><td bgcolor=\"gray\">&#x2193;</td><td bgcolor=\"gray\">&#x2190;</td><td></td><td></td><td bgcolor=\"gray\">&#x2192;</td><td></td><td bgcolor=\"gray\">&#x2192;</td><td bgcolor=\"gray\">&#x2193;</td><td bgcolor=\"gray\">&#x2190;</td><td bgcolor=\"gray\">&#x2190;</td><td></td><td></td><td></td><td bgcolor=\"gray\">&#x2190;</td><td bgcolor=\"gray\">&#x2192;</td><td bgcolor=\"gray\">&#x2192;</td><td bgcolor=\"gray\">&#x2192;</td><td bgcolor=\"gray\">&#x2193;</td><td bgcolor=\"gray\">&#x2190;</td><td bgcolor=\"gray\">&#x2193;</td><td></td><td></td><td bgcolor=\"gray\">&#x2193;</td><td bgcolor=\"gray\">&#x2193;</td><td bgcolor=\"gray\">&#x2193;</td></tr><tr><td bgcolor=\"gray\">&#x2193;</td><td bgcolor=\"gray\">&#x2193;</td><td bgcolor=\"gray\">&#x2193;</td><td></td><td bgcolor=\"gray\">&#x2193;</td><td bgcolor=\"gray\">&#x2193;</td><td bgcolor=\"gray\">&#x2193;</td><td></td><td bgcolor=\"gray\">&#x2193;</td><td bgcolor=\"gray\">&#x2193;</td><td></td><td bgcolor=\"gray\">&#x2193;</td><td></td><td bgcolor=\"gray\">&#x2192;</td><td bgcolor=\"gray\">&#x2192;</td><td bgcolor=\"gray\">&#x2192;</td><td bgcolor=\"gray\">&#x2192;</td><td></td><td bgcolor=\"gray\">&#x2192;</td><td></td><td bgcolor=\"gray\">&#x2192;</td><td bgcolor=\"gray\">&#x2192;</td><td bgcolor=\"gray\">&#x2193;</td><td bgcolor=\"gray\">&#x2193;</td><td></td><td bgcolor=\"gray\">&#x2190;</td><td bgcolor=\"gray\">&#x2190;</td><td bgcolor=\"gray\">&#x2190;</td><td></td><td bgcolor=\"gray\">&#x2193;</td><td></td><td bgcolor=\"gray\">&#x2192;</td><td bgcolor=\"gray\">&#x2193;</td><td bgcolor=\"gray\">&#x2190;</td><td></td><td bgcolor=\"gray\">&#x2190;</td><td bgcolor=\"gray\">&#x2190;</td><td></td><td bgcolor=\"gray\">&#x2190;</td><td bgcolor=\"gray\">&#x2192;</td><td></td><td></td><td bgcolor=\"gray\">&#x2193;</td><td></td><td></td><td></td><td></td><td></td><td bgcolor=\"gray\">&#x2193;</td><td bgcolor=\"gray\">&#x2193;</td></tr><tr><td bgcolor=\"gray\">&#x2193;</td><td></td><td bgcolor=\"gray\">&#x2193;</td><td></td><td bgcolor=\"gray\">&#x2193;</td><td bgcolor=\"gray\">&#x2192;</td><td bgcolor=\"gray\">&#x2192;</td><td bgcolor=\"gray\">&#x2193;</td><td bgcolor=\"gray\">&#x2193;</td><td bgcolor=\"gray\">&#x2193;</td><td></td><td bgcolor=\"gray\">&#x2193;</td><td></td><td></td><td bgcolor=\"gray\">&#x2193;</td><td></td><td bgcolor=\"gray\">&#x2192;</td><td></td><td bgcolor=\"gray\">&#x2192;</td><td bgcolor=\"gray\">&#x2191;</td><td bgcolor=\"gray\">&#x2191;</td><td></td><td bgcolor=\"gray\">&#x2192;</td><td bgcolor=\"gray\">&#x2193;</td><td></td><td bgcolor=\"gray\">&#x2190;</td><td></td><td></td><td bgcolor=\"gray\">&#x2193;</td><td bgcolor=\"gray\">&#x2193;</td><td></td><td bgcolor=\"gray\">&#x2192;</td><td bgcolor=\"gray\">&#x2193;</td><td bgcolor=\"gray\">&#x2190;</td><td bgcolor=\"gray\">&#x2190;</td><td bgcolor=\"gray\">&#x2190;</td><td></td><td></td><td></td><td bgcolor=\"gray\">&#x2192;</td><td></td><td bgcolor=\"gray\">&#x2192;</td><td bgcolor=\"gray\">&#x2193;</td><td bgcolor=\"gray\">&#x2193;</td><td bgcolor=\"gray\">&#x2193;</td><td></td><td></td><td></td><td bgcolor=\"gray\">&#x2193;</td><td bgcolor=\"gray\">&#x2193;</td></tr><tr><td></td><td bgcolor=\"gray\">&#x2193;</td><td bgcolor=\"gray\">&#x2193;</td><td bgcolor=\"gray\">&#x2192;</td><td bgcolor=\"gray\">&#x2192;</td><td bgcolor=\"gray\">&#x2192;</td><td bgcolor=\"gray\">&#x2192;</td><td bgcolor=\"gray\">&#x2192;</td><td bgcolor=\"gray\">&#x2193;</td><td></td><td></td><td></td><td></td><td bgcolor=\"gray\">&#x2193;</td><td bgcolor=\"gray\">&#x2193;</td><td bgcolor=\"gray\">&#x2193;</td><td></td><td></td><td bgcolor=\"gray\">&#x2191;</td><td></td><td></td><td></td><td></td><td bgcolor=\"gray\">&#x2193;</td><td bgcolor=\"gray\">&#x2190;</td><td bgcolor=\"gray\">&#x2193;</td><td></td><td bgcolor=\"gray\">&#x2193;</td><td bgcolor=\"gray\">&#x2193;</td><td bgcolor=\"gray\">&#x2193;</td><td bgcolor=\"gray\">&#x2193;</td><td></td><td bgcolor=\"gray\">&#x2193;</td><td></td><td bgcolor=\"gray\">&#x2190;</td><td></td><td bgcolor=\"gray\">&#x2190;</td><td bgcolor=\"gray\">&#x2190;</td><td></td><td bgcolor=\"gray\">&#x2193;</td><td bgcolor=\"gray\">&#x2192;</td><td></td><td bgcolor=\"gray\">&#x2192;</td><td bgcolor=\"gray\">&#x2193;</td><td bgcolor=\"gray\">&#x2193;</td><td bgcolor=\"gray\">&#x2193;</td><td bgcolor=\"gray\">&#x2193;</td><td bgcolor=\"gray\">&#x2193;</td><td></td><td bgcolor=\"gray\">&#x2193;</td></tr><tr><td bgcolor=\"gray\">&#x2193;</td><td></td><td></td><td></td><td bgcolor=\"gray\">&#x2193;</td><td></td><td></td><td bgcolor=\"gray\">&#x2192;</td><td bgcolor=\"gray\">&#x2193;</td><td></td><td></td><td bgcolor=\"gray\">&#x2193;</td><td></td><td bgcolor=\"gray\">&#x2193;</td><td bgcolor=\"gray\">&#x2193;</td><td bgcolor=\"gray\">&#x2193;</td><td bgcolor=\"gray\">&#x2193;</td><td></td><td bgcolor=\"gray\">&#x2193;</td><td bgcolor=\"gray\">&#x2193;</td><td bgcolor=\"gray\">&#x2193;</td><td></td><td bgcolor=\"gray\">&#x2193;</td><td bgcolor=\"gray\">&#x2193;</td><td bgcolor=\"gray\">&#x2190;</td><td bgcolor=\"gray\">&#x2190;</td><td bgcolor=\"gray\">&#x2190;</td><td bgcolor=\"gray\">&#x2193;</td><td bgcolor=\"gray\">&#x2193;</td><td></td><td></td><td bgcolor=\"gray\">&#x2192;</td><td bgcolor=\"gray\">&#x2193;</td><td bgcolor=\"gray\">&#x2190;</td><td></td><td bgcolor=\"gray\">&#x2190;</td><td bgcolor=\"gray\">&#x2190;</td><td bgcolor=\"gray\">&#x2190;</td><td bgcolor=\"gray\">&#x2193;</td><td bgcolor=\"gray\">&#x2193;</td><td bgcolor=\"gray\">&#x2193;</td><td bgcolor=\"gray\">&#x2193;</td><td></td><td bgcolor=\"gray\">&#x2193;</td><td bgcolor=\"gray\">&#x2192;</td><td bgcolor=\"gray\">&#x2193;</td><td bgcolor=\"gray\">&#x2193;</td><td bgcolor=\"gray\">&#x2193;</td><td bgcolor=\"gray\">&#x2193;</td><td bgcolor=\"gray\">&#x2193;</td></tr><tr><td bgcolor=\"gray\">&#x2193;</td><td bgcolor=\"gray\">&#x2193;</td><td></td><td></td><td bgcolor=\"gray\">&#x2193;</td><td bgcolor=\"gray\">&#x2192;</td><td></td><td></td><td bgcolor=\"gray\">&#x2192;</td><td bgcolor=\"gray\">&#x2192;</td><td bgcolor=\"gray\">&#x2193;</td><td bgcolor=\"gray\">&#x2190;</td><td bgcolor=\"gray\">&#x2193;</td><td></td><td bgcolor=\"gray\">&#x2192;</td><td bgcolor=\"gray\">&#x2193;</td><td></td><td></td><td bgcolor=\"gray\">&#x2193;</td><td bgcolor=\"gray\">&#x2193;</td><td bgcolor=\"gray\">&#x2193;</td><td></td><td bgcolor=\"gray\">&#x2193;</td><td bgcolor=\"gray\">&#x2190;</td><td></td><td bgcolor=\"gray\">&#x2193;</td><td bgcolor=\"gray\">&#x2193;</td><td></td><td bgcolor=\"gray\">&#x2193;</td><td></td><td></td><td bgcolor=\"gray\">&#x2193;</td><td bgcolor=\"gray\">&#x2193;</td><td bgcolor=\"gray\">&#x2190;</td><td></td><td></td><td bgcolor=\"gray\">&#x2193;</td><td bgcolor=\"gray\">&#x2193;</td><td bgcolor=\"gray\">&#x2193;</td><td bgcolor=\"gray\">&#x2192;</td><td bgcolor=\"gray\">&#x2193;</td><td></td><td bgcolor=\"gray\">&#x2193;</td><td bgcolor=\"gray\">&#x2193;</td><td></td><td bgcolor=\"gray\">&#x2193;</td><td bgcolor=\"gray\">&#x2193;</td><td></td><td bgcolor=\"gray\">&#x2193;</td><td bgcolor=\"gray\">&#x2193;</td></tr><tr><td bgcolor=\"gray\">&#x2193;</td><td bgcolor=\"gray\">&#x2193;</td><td bgcolor=\"gray\">&#x2193;</td><td bgcolor=\"gray\">&#x2193;</td><td bgcolor=\"gray\">&#x2193;</td><td bgcolor=\"gray\">&#x2193;</td><td></td><td></td><td></td><td></td><td bgcolor=\"gray\">&#x2193;</td><td bgcolor=\"gray\">&#x2190;</td><td bgcolor=\"gray\">&#x2193;</td><td bgcolor=\"gray\">&#x2193;</td><td></td><td bgcolor=\"gray\">&#x2193;</td><td></td><td bgcolor=\"gray\">&#x2193;</td><td></td><td bgcolor=\"gray\">&#x2193;</td><td bgcolor=\"gray\">&#x2193;</td><td bgcolor=\"gray\">&#x2192;</td><td bgcolor=\"gray\">&#x2193;</td><td></td><td></td><td></td><td></td><td></td><td></td><td></td><td></td><td bgcolor=\"gray\">&#x2193;</td><td bgcolor=\"gray\">&#x2190;</td><td bgcolor=\"gray\">&#x2190;</td><td></td><td></td><td></td><td bgcolor=\"gray\">&#x2193;</td><td></td><td bgcolor=\"gray\">&#x2192;</td><td bgcolor=\"gray\">&#x2192;</td><td bgcolor=\"gray\">&#x2192;</td><td bgcolor=\"gray\">&#x2192;</td><td bgcolor=\"gray\">&#x2192;</td><td bgcolor=\"gray\">&#x2192;</td><td bgcolor=\"gray\">&#x2193;</td><td bgcolor=\"gray\">&#x2193;</td><td></td><td bgcolor=\"gray\">&#x2193;</td><td bgcolor=\"gray\">&#x2190;</td></tr><tr><td bgcolor=\"gray\">&#x2193;</td><td></td><td bgcolor=\"gray\">&#x2193;</td><td></td><td bgcolor=\"gray\">&#x2193;</td><td bgcolor=\"gray\">&#x2193;</td><td bgcolor=\"gray\">&#x2193;</td><td></td><td></td><td bgcolor=\"gray\">&#x2192;</td><td bgcolor=\"gray\">&#x2193;</td><td></td><td bgcolor=\"gray\">&#x2193;</td><td></td><td></td><td bgcolor=\"gray\">&#x2192;</td><td bgcolor=\"gray\">&#x2192;</td><td bgcolor=\"gray\">&#x2192;</td><td bgcolor=\"gray\">&#x2192;</td><td bgcolor=\"gray\">&#x2192;</td><td bgcolor=\"gray\">&#x2192;</td><td bgcolor=\"gray\">&#x2192;</td><td bgcolor=\"gray\">&#x2192;</td><td bgcolor=\"gray\">&#x2192;</td><td bgcolor=\"gray\">&#x2192;</td><td bgcolor=\"gray\">&#x2192;</td><td bgcolor=\"gray\">&#x2193;</td><td bgcolor=\"gray\">&#x2193;</td><td bgcolor=\"gray\">&#x2193;</td><td bgcolor=\"gray\">&#x2193;</td><td bgcolor=\"gray\">&#x2190;</td><td bgcolor=\"gray\">&#x2190;</td><td bgcolor=\"gray\">&#x2190;</td><td></td><td></td><td></td><td bgcolor=\"gray\">&#x2193;</td><td bgcolor=\"gray\">&#x2193;</td><td bgcolor=\"gray\">&#x2193;</td><td bgcolor=\"gray\">&#x2193;</td><td bgcolor=\"gray\">&#x2191;</td><td></td><td></td><td bgcolor=\"gray\">&#x2192;</td><td bgcolor=\"gray\">&#x2192;</td><td bgcolor=\"gray\">&#x2192;</td><td bgcolor=\"gray\">&#x2192;</td><td bgcolor=\"gray\">&#x2192;</td><td bgcolor=\"gray\">&#x2193;</td><td bgcolor=\"gray\">&#x2190;</td></tr><tr><td bgcolor=\"gray\">&#x2193;</td><td bgcolor=\"gray\">&#x2193;</td><td></td><td bgcolor=\"gray\">&#x2193;</td><td bgcolor=\"gray\">&#x2193;</td><td></td><td></td><td></td><td bgcolor=\"gray\">&#x2192;</td><td bgcolor=\"gray\">&#x2192;</td><td bgcolor=\"gray\">&#x2193;</td><td bgcolor=\"gray\">&#x2193;</td><td bgcolor=\"gray\">&#x2192;</td><td bgcolor=\"gray\">&#x2192;</td><td bgcolor=\"gray\">&#x2192;</td><td bgcolor=\"gray\">&#x2191;</td><td bgcolor=\"gray\">&#x2191;</td><td></td><td></td><td bgcolor=\"gray\">&#x2191;</td><td bgcolor=\"gray\">&#x2191;</td><td bgcolor=\"gray\">&#x2191;</td><td></td><td></td><td></td><td bgcolor=\"gray\">&#x2192;</td><td bgcolor=\"gray\">&#x2192;</td><td bgcolor=\"gray\">&#x2193;</td><td bgcolor=\"gray\">&#x2190;</td><td bgcolor=\"gray\">&#x2190;</td><td bgcolor=\"gray\">&#x2190;</td><td></td><td></td><td></td><td></td><td></td><td></td><td bgcolor=\"gray\">&#x2193;</td><td bgcolor=\"gray\">&#x2193;</td><td></td><td></td><td bgcolor=\"gray\">&#x2193;</td><td bgcolor=\"gray\">&#x2193;</td><td bgcolor=\"gray\">&#x2191;</td><td bgcolor=\"gray\">&#x2191;</td><td></td><td></td><td bgcolor=\"gray\">&#x2192;</td><td bgcolor=\"gray\">&#x2193;</td><td></td></tr><tr><td bgcolor=\"gray\">&#x2193;</td><td bgcolor=\"gray\">&#x2193;</td><td bgcolor=\"gray\">&#x2193;</td><td bgcolor=\"gray\">&#x2193;</td><td></td><td></td><td></td><td bgcolor=\"gray\">&#x2193;</td><td bgcolor=\"gray\">&#x2192;</td><td bgcolor=\"gray\">&#x2192;</td><td bgcolor=\"gray\">&#x2192;</td><td bgcolor=\"gray\">&#x2192;</td><td bgcolor=\"gray\">&#x2190;</td><td bgcolor=\"gray\">&#x2191;</td><td bgcolor=\"gray\">&#x2191;</td><td bgcolor=\"gray\">&#x2191;</td><td bgcolor=\"gray\">&#x2191;</td><td></td><td bgcolor=\"gray\">&#x2191;</td><td></td><td></td><td></td><td></td><td></td><td></td><td></td><td bgcolor=\"gray\">&#x2192;</td><td bgcolor=\"gray\">&#x2193;</td><td bgcolor=\"gray\">&#x2190;</td><td></td><td bgcolor=\"gray\">&#x2193;</td><td bgcolor=\"gray\">&#x2193;</td><td bgcolor=\"gray\">&#x2193;</td><td></td><td></td><td></td><td></td><td bgcolor=\"gray\">&#x2193;</td><td bgcolor=\"gray\">&#x2193;</td><td bgcolor=\"gray\">&#x2193;</td><td bgcolor=\"gray\">&#x2190;</td><td bgcolor=\"gray\">&#x2193;</td><td bgcolor=\"gray\">&#x2193;</td><td bgcolor=\"gray\">&#x2193;</td><td bgcolor=\"gray\">&#x2193;</td><td bgcolor=\"gray\">&#x2193;</td><td></td><td bgcolor=\"gray\">&#x2192;</td><td bgcolor=\"gray\">&#x2193;</td><td bgcolor=\"gray\">&#x2190;</td></tr><tr><td></td><td bgcolor=\"gray\">&#x2193;</td><td bgcolor=\"gray\">&#x2193;</td><td></td><td></td><td></td><td></td><td bgcolor=\"gray\">&#x2193;</td><td></td><td bgcolor=\"gray\">&#x2191;</td><td bgcolor=\"gray\">&#x2191;</td><td bgcolor=\"gray\">&#x2191;</td><td bgcolor=\"gray\">&#x2191;</td><td bgcolor=\"gray\">&#x2191;</td><td></td><td bgcolor=\"gray\">&#x2191;</td><td></td><td></td><td bgcolor=\"gray\">&#x2191;</td><td></td><td bgcolor=\"gray\">&#x2191;</td><td bgcolor=\"gray\">&#x2191;</td><td></td><td bgcolor=\"gray\">&#x2192;</td><td bgcolor=\"gray\">&#x2192;</td><td></td><td bgcolor=\"gray\">&#x2192;</td><td bgcolor=\"gray\">&#x2193;</td><td bgcolor=\"gray\">&#x2193;</td><td></td><td></td><td bgcolor=\"gray\">&#x2193;</td><td bgcolor=\"gray\">&#x2193;</td><td bgcolor=\"gray\">&#x2193;</td><td></td><td bgcolor=\"gray\">&#x2193;</td><td bgcolor=\"gray\">&#x2193;</td><td bgcolor=\"gray\">&#x2193;</td><td></td><td></td><td bgcolor=\"gray\">&#x2193;</td><td></td><td bgcolor=\"gray\">&#x2193;</td><td></td><td></td><td bgcolor=\"gray\">&#x2193;</td><td bgcolor=\"gray\">&#x2192;</td><td bgcolor=\"gray\">&#x2192;</td><td bgcolor=\"gray\">&#x2193;</td><td bgcolor=\"gray\">&#x2190;</td></tr><tr><td bgcolor=\"gray\">&#x2193;</td><td bgcolor=\"gray\">&#x2193;</td><td></td><td bgcolor=\"gray\">&#x2193;</td><td bgcolor=\"gray\">&#x2193;</td><td></td><td bgcolor=\"gray\">&#x2193;</td><td></td><td bgcolor=\"gray\">&#x2193;</td><td></td><td></td><td bgcolor=\"gray\">&#x2191;</td><td bgcolor=\"gray\">&#x2191;</td><td></td><td></td><td></td><td></td><td></td><td bgcolor=\"gray\">&#x2192;</td><td bgcolor=\"gray\">&#x2192;</td><td bgcolor=\"gray\">&#x2193;</td><td></td><td></td><td bgcolor=\"gray\">&#x2192;</td><td></td><td bgcolor=\"gray\">&#x2192;</td><td bgcolor=\"gray\">&#x2192;</td><td bgcolor=\"gray\">&#x2192;</td><td bgcolor=\"gray\">&#x2192;</td><td bgcolor=\"gray\">&#x2192;</td><td bgcolor=\"gray\">&#x2192;</td><td bgcolor=\"gray\">&#x2193;</td><td bgcolor=\"gray\">&#x2193;</td><td></td><td></td><td></td><td bgcolor=\"gray\">&#x2193;</td><td bgcolor=\"gray\">&#x2193;</td><td bgcolor=\"gray\">&#x2193;</td><td></td><td bgcolor=\"gray\">&#x2193;</td><td bgcolor=\"gray\">&#x2193;</td><td bgcolor=\"gray\">&#x2193;</td><td></td><td bgcolor=\"gray\">&#x2193;</td><td bgcolor=\"gray\">&#x2193;</td><td></td><td></td><td bgcolor=\"gray\">&#x2193;</td><td bgcolor=\"gray\">&#x2190;</td></tr><tr><td bgcolor=\"gray\">&#x2193;</td><td></td><td></td><td bgcolor=\"gray\">&#x2193;</td><td bgcolor=\"gray\">&#x2193;</td><td bgcolor=\"gray\">&#x2193;</td><td bgcolor=\"gray\">&#x2190;</td><td bgcolor=\"gray\">&#x2190;</td><td bgcolor=\"gray\">&#x2190;</td><td bgcolor=\"gray\">&#x2190;</td><td></td><td bgcolor=\"gray\">&#x2191;</td><td></td><td></td><td></td><td bgcolor=\"gray\">&#x2193;</td><td></td><td bgcolor=\"gray\">&#x2193;</td><td bgcolor=\"gray\">&#x2193;</td><td bgcolor=\"gray\">&#x2192;</td><td bgcolor=\"gray\">&#x2192;</td><td bgcolor=\"gray\">&#x2193;</td><td bgcolor=\"gray\">&#x2193;</td><td bgcolor=\"gray\">&#x2193;</td><td></td><td bgcolor=\"gray\">&#x2192;</td><td bgcolor=\"gray\">&#x2192;</td><td bgcolor=\"gray\">&#x2191;</td><td bgcolor=\"gray\">&#x2191;</td><td></td><td bgcolor=\"gray\">&#x2192;</td><td bgcolor=\"gray\">&#x2192;</td><td bgcolor=\"gray\">&#x2192;</td><td bgcolor=\"gray\">&#x2192;</td><td bgcolor=\"gray\">&#x2192;</td><td bgcolor=\"gray\">&#x2193;</td><td></td><td bgcolor=\"gray\">&#x2190;</td><td bgcolor=\"gray\">&#x2190;</td><td></td><td></td><td bgcolor=\"gray\">&#x2193;</td><td bgcolor=\"gray\">&#x2193;</td><td bgcolor=\"gray\">&#x2193;</td><td bgcolor=\"gray\">&#x2193;</td><td></td><td bgcolor=\"gray\">&#x2193;</td><td bgcolor=\"gray\">&#x2192;</td><td bgcolor=\"gray\">&#x2193;</td><td bgcolor=\"gray\">&#x2190;</td></tr><tr><td bgcolor=\"gray\">&#x2193;</td><td bgcolor=\"gray\">&#x2193;</td><td bgcolor=\"gray\">&#x2193;</td><td bgcolor=\"gray\">&#x2193;</td><td></td><td bgcolor=\"gray\">&#x2193;</td><td></td><td bgcolor=\"gray\">&#x2190;</td><td bgcolor=\"gray\">&#x2190;</td><td bgcolor=\"gray\">&#x2190;</td><td></td><td bgcolor=\"gray\">&#x2193;</td><td></td><td></td><td bgcolor=\"gray\">&#x2193;</td><td bgcolor=\"gray\">&#x2193;</td><td bgcolor=\"gray\">&#x2192;</td><td bgcolor=\"gray\">&#x2192;</td><td bgcolor=\"gray\">&#x2193;</td><td></td><td></td><td bgcolor=\"gray\">&#x2192;</td><td bgcolor=\"gray\">&#x2192;</td><td bgcolor=\"gray\">&#x2192;</td><td bgcolor=\"gray\">&#x2192;</td><td bgcolor=\"gray\">&#x2191;</td><td></td><td bgcolor=\"gray\">&#x2191;</td><td bgcolor=\"gray\">&#x2191;</td><td bgcolor=\"gray\">&#x2192;</td><td bgcolor=\"gray\">&#x2192;</td><td bgcolor=\"gray\">&#x2191;</td><td bgcolor=\"gray\">&#x2191;</td><td bgcolor=\"gray\">&#x2191;</td><td></td><td bgcolor=\"gray\">&#x2193;</td><td bgcolor=\"gray\">&#x2190;</td><td></td><td bgcolor=\"gray\">&#x2190;</td><td bgcolor=\"gray\">&#x2190;</td><td bgcolor=\"gray\">&#x2192;</td><td bgcolor=\"gray\">&#x2192;</td><td bgcolor=\"gray\">&#x2193;</td><td></td><td></td><td bgcolor=\"gray\">&#x2193;</td><td bgcolor=\"gray\">&#x2193;</td><td></td><td bgcolor=\"gray\">&#x2193;</td><td bgcolor=\"gray\">&#x2190;</td></tr><tr><td bgcolor=\"gray\">&#x2192;</td><td bgcolor=\"gray\">&#x2193;</td><td bgcolor=\"gray\">&#x2193;</td><td></td><td bgcolor=\"gray\">&#x2193;</td><td bgcolor=\"gray\">&#x2190;</td><td></td><td bgcolor=\"gray\">&#x2190;</td><td></td><td bgcolor=\"gray\">&#x2190;</td><td bgcolor=\"gray\">&#x2190;</td><td bgcolor=\"gray\">&#x2193;</td><td></td><td bgcolor=\"gray\">&#x2193;</td><td bgcolor=\"gray\">&#x2193;</td><td></td><td></td><td></td><td bgcolor=\"gray\">&#x2192;</td><td bgcolor=\"gray\">&#x2192;</td><td bgcolor=\"gray\">&#x2192;</td><td bgcolor=\"gray\">&#x2192;</td><td bgcolor=\"gray\">&#x2191;</td><td bgcolor=\"gray\">&#x2191;</td><td></td><td bgcolor=\"gray\">&#x2191;</td><td bgcolor=\"gray\">&#x2191;</td><td bgcolor=\"gray\">&#x2191;</td><td></td><td bgcolor=\"gray\">&#x2191;</td><td></td><td bgcolor=\"gray\">&#x2191;</td><td bgcolor=\"gray\">&#x2191;</td><td></td><td></td><td bgcolor=\"gray\">&#x2193;</td><td bgcolor=\"gray\">&#x2190;</td><td bgcolor=\"gray\">&#x2190;</td><td bgcolor=\"gray\">&#x2190;</td><td></td><td></td><td bgcolor=\"gray\">&#x2192;</td><td bgcolor=\"gray\">&#x2192;</td><td bgcolor=\"gray\">&#x2192;</td><td bgcolor=\"gray\">&#x2192;</td><td bgcolor=\"gray\">&#x2193;</td><td bgcolor=\"gray\">&#x2193;</td><td></td><td bgcolor=\"gray\">&#x2193;</td><td></td></tr><tr><td bgcolor=\"gray\">&#x2192;</td><td bgcolor=\"gray\">&#x2192;</td><td bgcolor=\"gray\">&#x2190;</td><td bgcolor=\"gray\">&#x2190;</td><td bgcolor=\"gray\">&#x2190;</td><td bgcolor=\"gray\">&#x2190;</td><td bgcolor=\"gray\">&#x2190;</td><td></td><td></td><td bgcolor=\"gray\">&#x2190;</td><td bgcolor=\"gray\">&#x2190;</td><td bgcolor=\"gray\">&#x2190;</td><td bgcolor=\"gray\">&#x2190;</td><td bgcolor=\"gray\">&#x2190;</td><td bgcolor=\"gray\">&#x2192;</td><td bgcolor=\"gray\">&#x2193;</td><td></td><td bgcolor=\"gray\">&#x2192;</td><td bgcolor=\"gray\">&#x2192;</td><td bgcolor=\"gray\">&#x2191;</td><td></td><td></td><td bgcolor=\"gray\">&#x2191;</td><td bgcolor=\"gray\">&#x2191;</td><td bgcolor=\"gray\">&#x2191;</td><td></td><td></td><td></td><td bgcolor=\"gray\">&#x2191;</td><td></td><td bgcolor=\"gray\">&#x2191;</td><td bgcolor=\"gray\">&#x2191;</td><td></td><td></td><td></td><td bgcolor=\"gray\">&#x2193;</td><td></td><td bgcolor=\"gray\">&#x2193;</td><td></td><td bgcolor=\"gray\">&#x2193;</td><td bgcolor=\"gray\">&#x2193;</td><td bgcolor=\"gray\">&#x2193;</td><td bgcolor=\"gray\">&#x2192;</td><td></td><td></td><td bgcolor=\"gray\">&#x2193;</td><td bgcolor=\"gray\">&#x2190;</td><td bgcolor=\"gray\">&#x2190;</td><td bgcolor=\"gray\">&#x2190;</td><td bgcolor=\"gray\">&#x2190;</td></tr><tr><td bgcolor=\"gray\">&#x2192;</td><td bgcolor=\"gray\">&#x2191;</td><td bgcolor=\"gray\">&#x2191;</td><td bgcolor=\"gray\">&#x2190;</td><td bgcolor=\"gray\">&#x2190;</td><td bgcolor=\"gray\">&#x2190;</td><td></td><td bgcolor=\"gray\">&#x2190;</td><td bgcolor=\"gray\">&#x2190;</td><td></td><td bgcolor=\"gray\">&#x2190;</td><td bgcolor=\"gray\">&#x2190;</td><td></td><td bgcolor=\"gray\">&#x2191;</td><td></td><td bgcolor=\"gray\">&#x2192;</td><td bgcolor=\"gray\">&#x2192;</td><td bgcolor=\"gray\">&#x2192;</td><td bgcolor=\"gray\">&#x2191;</td><td bgcolor=\"gray\">&#x2191;</td><td></td><td></td><td></td><td bgcolor=\"gray\">&#x2191;</td><td bgcolor=\"gray\">&#x2191;</td><td bgcolor=\"gray\">&#x2191;</td><td bgcolor=\"gray\">&#x2191;</td><td bgcolor=\"gray\">&#x2191;</td><td bgcolor=\"gray\">&#x2193;</td><td></td><td bgcolor=\"gray\">&#x2192;</td><td></td><td bgcolor=\"gray\">&#x2192;</td><td></td><td bgcolor=\"gray\">&#x2192;</td><td bgcolor=\"gray\">&#x2192;</td><td bgcolor=\"gray\">&#x2193;</td><td bgcolor=\"gray\">&#x2190;</td><td bgcolor=\"gray\">&#x2190;</td><td bgcolor=\"gray\">&#x2193;</td><td bgcolor=\"gray\">&#x2193;</td><td></td><td bgcolor=\"gray\">&#x2193;</td><td></td><td></td><td bgcolor=\"gray\">&#x2193;</td><td bgcolor=\"gray\">&#x2190;</td><td bgcolor=\"gray\">&#x2193;</td><td></td><td bgcolor=\"gray\">&#x2193;</td></tr><tr><td bgcolor=\"gray\">&#x2191;</td><td></td><td bgcolor=\"gray\">&#x2191;</td><td bgcolor=\"gray\">&#x2191;</td><td bgcolor=\"gray\">&#x2190;</td><td></td><td></td><td></td><td bgcolor=\"gray\">&#x2190;</td><td bgcolor=\"gray\">&#x2190;</td><td bgcolor=\"gray\">&#x2190;</td><td></td><td bgcolor=\"gray\">&#x2190;</td><td></td><td bgcolor=\"gray\">&#x2191;</td><td></td><td bgcolor=\"gray\">&#x2191;</td><td></td><td></td><td bgcolor=\"gray\">&#x2191;</td><td bgcolor=\"gray\">&#x2191;</td><td></td><td></td><td bgcolor=\"gray\">&#x2191;</td><td bgcolor=\"gray\">&#x2191;</td><td bgcolor=\"gray\">&#x2191;</td><td></td><td></td><td bgcolor=\"gray\">&#x2193;</td><td bgcolor=\"gray\">&#x2193;</td><td bgcolor=\"gray\">&#x2193;</td><td bgcolor=\"gray\">&#x2193;</td><td bgcolor=\"gray\">&#x2192;</td><td></td><td bgcolor=\"gray\">&#x2191;</td><td></td><td bgcolor=\"gray\">&#x2193;</td><td bgcolor=\"gray\">&#x2190;</td><td></td><td></td><td></td><td></td><td></td><td bgcolor=\"gray\">&#x2193;</td><td bgcolor=\"gray\">&#x2192;</td><td bgcolor=\"gray\">&#x2193;</td><td></td><td></td><td></td><td bgcolor=\"gray\">&#x2190;</td></tr><tr><td bgcolor=\"gray\">&#x2191;</td><td bgcolor=\"gray\">&#x2191;</td><td bgcolor=\"gray\">&#x2191;</td><td bgcolor=\"gray\">&#x2191;</td><td></td><td></td><td></td><td bgcolor=\"gray\">&#x2190;</td><td bgcolor=\"gray\">&#x2190;</td><td></td><td bgcolor=\"gray\">&#x2191;</td><td></td><td bgcolor=\"gray\">&#x2191;</td><td></td><td bgcolor=\"gray\">&#x2191;</td><td></td><td></td><td></td><td bgcolor=\"gray\">&#x2191;</td><td bgcolor=\"gray\">&#x2191;</td><td></td><td bgcolor=\"gray\">&#x2191;</td><td bgcolor=\"gray\">&#x2191;</td><td bgcolor=\"gray\">&#x2191;</td><td bgcolor=\"gray\">&#x2191;</td><td></td><td></td><td></td><td bgcolor=\"gray\">&#x2192;</td><td bgcolor=\"gray\">&#x2192;</td><td bgcolor=\"gray\">&#x2192;</td><td bgcolor=\"gray\">&#x2193;</td><td></td><td bgcolor=\"gray\">&#x2192;</td><td bgcolor=\"gray\">&#x2191;</td><td></td><td bgcolor=\"gray\">&#x2193;</td><td></td><td bgcolor=\"gray\">&#x2193;</td><td bgcolor=\"gray\">&#x2193;</td><td bgcolor=\"gray\">&#x2193;</td><td bgcolor=\"gray\">&#x2193;</td><td bgcolor=\"gray\">&#x2193;</td><td></td><td></td><td bgcolor=\"gray\">&#x2192;</td><td bgcolor=\"gray\">&#x2192;</td><td bgcolor=\"gray\">&#x2193;</td><td></td><td bgcolor=\"gray\">&#x2190;</td></tr><tr><td bgcolor=\"gray\">&#x2191;</td><td bgcolor=\"gray\">&#x2191;</td><td bgcolor=\"gray\">&#x2191;</td><td></td><td bgcolor=\"gray\">&#x2191;</td><td bgcolor=\"gray\">&#x2190;</td><td bgcolor=\"gray\">&#x2190;</td><td bgcolor=\"gray\">&#x2190;</td><td bgcolor=\"gray\">&#x2190;</td><td bgcolor=\"gray\">&#x2190;</td><td bgcolor=\"gray\">&#x2190;</td><td></td><td bgcolor=\"gray\">&#x2191;</td><td bgcolor=\"gray\">&#x2191;</td><td bgcolor=\"gray\">&#x2191;</td><td bgcolor=\"gray\">&#x2191;</td><td bgcolor=\"gray\">&#x2191;</td><td bgcolor=\"gray\">&#x2191;</td><td></td><td bgcolor=\"gray\">&#x2191;</td><td bgcolor=\"gray\">&#x2191;</td><td></td><td></td><td bgcolor=\"gray\">&#x2193;</td><td></td><td bgcolor=\"gray\">&#x2192;</td><td></td><td bgcolor=\"gray\">&#x2192;</td><td bgcolor=\"gray\">&#x2191;</td><td></td><td bgcolor=\"gray\">&#x2192;</td><td bgcolor=\"gray\">&#x2192;</td><td bgcolor=\"gray\">&#x2192;</td><td bgcolor=\"gray\">&#x2191;</td><td></td><td bgcolor=\"gray\">&#x2192;</td><td bgcolor=\"gray\">&#x2192;</td><td bgcolor=\"gray\">&#x2192;</td><td bgcolor=\"gray\">&#x2192;</td><td bgcolor=\"gray\">&#x2192;</td><td bgcolor=\"gray\">&#x2193;</td><td></td><td bgcolor=\"gray\">&#x2193;</td><td bgcolor=\"gray\">&#x2193;</td><td></td><td></td><td></td><td bgcolor=\"gray\">&#x2193;</td><td></td><td></td></tr><tr><td bgcolor=\"gray\">&#x2191;</td><td bgcolor=\"gray\">&#x2191;</td><td bgcolor=\"gray\">&#x2191;</td><td bgcolor=\"gray\">&#x2191;</td><td bgcolor=\"gray\">&#x2191;</td><td bgcolor=\"gray\">&#x2190;</td><td bgcolor=\"gray\">&#x2191;</td><td bgcolor=\"gray\">&#x2191;</td><td></td><td></td><td bgcolor=\"gray\">&#x2191;</td><td bgcolor=\"gray\">&#x2190;</td><td bgcolor=\"gray\">&#x2191;</td><td></td><td bgcolor=\"gray\">&#x2191;</td><td bgcolor=\"gray\">&#x2191;</td><td bgcolor=\"gray\">&#x2191;</td><td></td><td></td><td></td><td bgcolor=\"gray\">&#x2192;</td><td bgcolor=\"gray\">&#x2192;</td><td bgcolor=\"gray\">&#x2192;</td><td bgcolor=\"gray\">&#x2192;</td><td bgcolor=\"gray\">&#x2192;</td><td bgcolor=\"gray\">&#x2192;</td><td bgcolor=\"gray\">&#x2192;</td><td bgcolor=\"gray\">&#x2191;</td><td></td><td bgcolor=\"gray\">&#x2191;</td><td></td><td></td><td bgcolor=\"gray\">&#x2191;</td><td></td><td bgcolor=\"gray\">&#x2192;</td><td></td><td bgcolor=\"gray\">&#x2191;</td><td bgcolor=\"gray\">&#x2191;</td><td></td><td bgcolor=\"gray\">&#x2192;</td><td bgcolor=\"gray\">&#x2192;</td><td bgcolor=\"gray\">&#x2192;</td><td bgcolor=\"gray\">&#x2192;</td><td bgcolor=\"gray\">&#x2192;</td><td bgcolor=\"gray\">&#x2192;</td><td bgcolor=\"gray\">&#x2192;</td><td bgcolor=\"gray\">&#x2190;</td><td bgcolor=\"gray\">&#x2193;</td><td bgcolor=\"gray\">&#x2190;</td><td bgcolor=\"gray\">&#x2190;</td></tr><tr><td></td><td></td><td bgcolor=\"gray\">&#x2191;</td><td bgcolor=\"gray\">&#x2191;</td><td bgcolor=\"gray\">&#x2191;</td><td bgcolor=\"gray\">&#x2191;</td><td bgcolor=\"gray\">&#x2191;</td><td></td><td bgcolor=\"gray\">&#x2191;</td><td bgcolor=\"gray\">&#x2190;</td><td bgcolor=\"gray\">&#x2191;</td><td></td><td bgcolor=\"gray\">&#x2191;</td><td bgcolor=\"gray\">&#x2191;</td><td></td><td></td><td></td><td bgcolor=\"gray\">&#x2191;</td><td></td><td bgcolor=\"gray\">&#x2192;</td><td bgcolor=\"gray\">&#x2192;</td><td bgcolor=\"gray\">&#x2191;</td><td></td><td bgcolor=\"gray\">&#x2191;</td><td bgcolor=\"gray\">&#x2191;</td><td bgcolor=\"gray\">&#x2191;</td><td bgcolor=\"gray\">&#x2191;</td><td></td><td bgcolor=\"gray\">&#x2191;</td><td bgcolor=\"gray\">&#x2191;</td><td></td><td></td><td bgcolor=\"gray\">&#x2191;</td><td></td><td bgcolor=\"gray\">&#x2192;</td><td></td><td></td><td bgcolor=\"gray\">&#x2191;</td><td bgcolor=\"gray\">&#x2191;</td><td></td><td></td><td bgcolor=\"gray\">&#x2191;</td><td></td><td bgcolor=\"gray\">&#x2191;</td><td></td><td bgcolor=\"gray\">&#x2191;</td><td bgcolor=\"gray\">&#x2192;</td><td bgcolor=\"gray\">&#x2193;</td><td bgcolor=\"gray\">&#x2190;</td><td bgcolor=\"gray\">&#x2190;</td></tr><tr><td></td><td></td><td></td><td></td><td></td><td></td><td bgcolor=\"gray\">&#x2191;</td><td bgcolor=\"gray\">&#x2190;</td><td bgcolor=\"gray\">&#x2190;</td><td></td><td bgcolor=\"gray\">&#x2191;</td><td bgcolor=\"gray\">&#x2191;</td><td></td><td bgcolor=\"gray\">&#x2191;</td><td bgcolor=\"gray\">&#x2191;</td><td bgcolor=\"gray\">&#x2191;</td><td></td><td bgcolor=\"gray\">&#x2191;</td><td bgcolor=\"gray\">&#x2192;</td><td bgcolor=\"gray\">&#x2191;</td><td></td><td></td><td bgcolor=\"gray\">&#x2192;</td><td bgcolor=\"gray\">&#x2191;</td><td bgcolor=\"gray\">&#x2191;</td><td></td><td bgcolor=\"gray\">&#x2191;</td><td></td><td bgcolor=\"gray\">&#x2191;</td><td bgcolor=\"gray\">&#x2191;</td><td bgcolor=\"gray\">&#x2191;</td><td bgcolor=\"gray\">&#x2191;</td><td></td><td bgcolor=\"gray\">&#x2191;</td><td bgcolor=\"gray\">&#x2192;</td><td bgcolor=\"gray\">&#x2191;</td><td bgcolor=\"gray\">&#x2191;</td><td></td><td></td><td bgcolor=\"gray\">&#x2191;</td><td bgcolor=\"gray\">&#x2191;</td><td bgcolor=\"gray\">&#x2191;</td><td bgcolor=\"gray\">&#x2191;</td><td bgcolor=\"gray\">&#x2191;</td><td></td><td></td><td bgcolor=\"gray\">&#x2192;</td><td bgcolor=\"gray\">&#x2191;</td><td bgcolor=\"gray\">&#x2193;</td><td bgcolor=\"gray\">&#x2190;</td></tr><tr><td></td><td></td><td></td><td></td><td></td><td></td><td bgcolor=\"gray\">&#x2191;</td><td></td><td></td><td bgcolor=\"gray\">&#x2190;</td><td bgcolor=\"gray\">&#x2191;</td><td bgcolor=\"gray\">&#x2191;</td><td bgcolor=\"gray\">&#x2191;</td><td bgcolor=\"gray\">&#x2191;</td><td></td><td bgcolor=\"gray\">&#x2191;</td><td></td><td bgcolor=\"gray\">&#x2191;</td><td></td><td bgcolor=\"gray\">&#x2191;</td><td bgcolor=\"gray\">&#x2192;</td><td bgcolor=\"gray\">&#x2192;</td><td bgcolor=\"gray\">&#x2191;</td><td></td><td></td><td bgcolor=\"gray\">&#x2191;</td><td></td><td bgcolor=\"gray\">&#x2191;</td><td bgcolor=\"gray\">&#x2191;</td><td bgcolor=\"gray\">&#x2191;</td><td bgcolor=\"gray\">&#x2191;</td><td></td><td></td><td></td><td bgcolor=\"gray\">&#x2191;</td><td bgcolor=\"gray\">&#x2191;</td><td></td><td bgcolor=\"gray\">&#x2191;</td><td></td><td></td><td bgcolor=\"gray\">&#x2192;</td><td bgcolor=\"gray\">&#x2192;</td><td bgcolor=\"gray\">&#x2192;</td><td bgcolor=\"gray\">&#x2192;</td><td bgcolor=\"gray\">&#x2192;</td><td bgcolor=\"gray\">&#x2192;</td><td bgcolor=\"gray\">&#x2192;</td><td bgcolor=\"gray\">&#x2192;</td><td bgcolor=\"gray\">&#x2193;</td><td></td></tr><tr><td></td><td></td><td></td><td></td><td></td><td></td><td></td><td></td><td></td><td></td><td bgcolor=\"gray\">&#x2191;</td><td bgcolor=\"gray\">&#x2191;</td><td bgcolor=\"gray\">&#x2191;</td><td bgcolor=\"gray\">&#x2191;</td><td></td><td></td><td bgcolor=\"gray\">&#x2192;</td><td bgcolor=\"gray\">&#x2191;</td><td></td><td bgcolor=\"gray\">&#x2191;</td><td bgcolor=\"gray\">&#x2191;</td><td bgcolor=\"gray\">&#x2191;</td><td bgcolor=\"gray\">&#x2191;</td><td></td><td bgcolor=\"gray\">&#x2191;</td><td bgcolor=\"gray\">&#x2191;</td><td bgcolor=\"gray\">&#x2191;</td><td bgcolor=\"gray\">&#x2191;</td><td></td><td></td><td></td><td></td><td></td><td></td><td bgcolor=\"gray\">&#x2191;</td><td bgcolor=\"gray\">&#x2191;</td><td bgcolor=\"gray\">&#x2191;</td><td bgcolor=\"gray\">&#x2191;</td><td></td><td></td><td bgcolor=\"gray\">&#x2191;</td><td></td><td></td><td bgcolor=\"gray\">&#x2191;</td><td></td><td bgcolor=\"gray\">&#x2191;</td><td></td><td bgcolor=\"gray\">&#x2192;</td><td bgcolor=\"gray\">&#x2193;</td><td bgcolor=\"gray\">&#x2190;</td></tr><tr><td></td><td></td><td></td><td></td><td></td><td></td><td></td><td></td><td></td><td></td><td bgcolor=\"gray\">&#x2191;</td><td></td><td bgcolor=\"gray\">&#x2191;</td><td bgcolor=\"gray\">&#x2191;</td><td bgcolor=\"gray\">&#x2192;</td><td bgcolor=\"gray\">&#x2192;</td><td bgcolor=\"gray\">&#x2191;</td><td bgcolor=\"gray\">&#x2191;</td><td></td><td></td><td bgcolor=\"gray\">&#x2191;</td><td></td><td bgcolor=\"gray\">&#x2191;</td><td bgcolor=\"gray\">&#x2191;</td><td bgcolor=\"gray\">&#x2191;</td><td></td><td bgcolor=\"gray\">&#x2191;</td><td bgcolor=\"gray\">&#x2191;</td><td bgcolor=\"gray\">&#x2191;</td><td bgcolor=\"gray\">&#x2191;</td><td bgcolor=\"gray\">&#x2191;</td><td></td><td bgcolor=\"gray\">&#x2192;</td><td bgcolor=\"gray\">&#x2192;</td><td bgcolor=\"gray\">&#x2192;</td><td bgcolor=\"gray\">&#x2192;</td><td bgcolor=\"gray\">&#x2192;</td><td bgcolor=\"gray\">&#x2192;</td><td></td><td bgcolor=\"gray\">&#x2192;</td><td bgcolor=\"gray\">&#x2191;</td><td></td><td></td><td bgcolor=\"gray\">&#x2191;</td><td bgcolor=\"gray\">&#x2191;</td><td bgcolor=\"gray\">&#x2191;</td><td></td><td bgcolor=\"gray\">&#x2192;</td><td bgcolor=\"gray\">&#x2191;</td><td bgcolor=\"gray\">&#x2193;</td></tr><tr><td></td><td></td><td></td><td></td><td></td><td></td><td></td><td></td><td></td><td></td><td bgcolor=\"gray\">&#x2191;</td><td></td><td bgcolor=\"gray\">&#x2191;</td><td></td><td></td><td bgcolor=\"gray\">&#x2191;</td><td bgcolor=\"gray\">&#x2191;</td><td></td><td bgcolor=\"gray\">&#x2191;</td><td bgcolor=\"gray\">&#x2191;</td><td bgcolor=\"gray\">&#x2191;</td><td></td><td bgcolor=\"gray\">&#x2191;</td><td bgcolor=\"gray\">&#x2191;</td><td bgcolor=\"gray\">&#x2191;</td><td bgcolor=\"gray\">&#x2191;</td><td></td><td></td><td bgcolor=\"gray\">&#x2191;</td><td bgcolor=\"gray\">&#x2191;</td><td bgcolor=\"gray\">&#x2192;</td><td bgcolor=\"gray\">&#x2192;</td><td bgcolor=\"gray\">&#x2191;</td><td></td><td bgcolor=\"gray\">&#x2191;</td><td></td><td></td><td bgcolor=\"gray\">&#x2191;</td><td bgcolor=\"gray\">&#x2191;</td><td></td><td bgcolor=\"gray\">&#x2191;</td><td bgcolor=\"gray\">&#x2191;</td><td bgcolor=\"gray\">&#x2191;</td><td bgcolor=\"gray\">&#x2191;</td><td bgcolor=\"gray\">&#x2191;</td><td></td><td bgcolor=\"gray\">&#x2192;</td><td bgcolor=\"gray\">&#x2191;</td><td></td><td bgcolor=\"gray\">&#x2193;</td></tr></table>"
            ],
            "text/plain": [
              "<IPython.core.display.HTML object>"
            ]
          },
          "metadata": {},
          "output_type": "display_data"
        }
      ],
      "source": [
        "from IPython.display import HTML, display\n",
        "\n",
        "# get all initial states\n",
        "valid_states_all = torch.cat((env.valid_states, torch.tensor([env.grid_size-1,env.grid_size-1]).to(device).unsqueeze(dim=0)))\n",
        "valid_states_all = valid_states_all[:,0] * env.grid_size + valid_states_all[:,1]\n",
        "\n",
        "# create direction table\n",
        "direction_table = torch.argmax(action_probs, dim=-1)\n",
        "direction_table = torch.reshape(direction_table, (env.grid_size, env.grid_size))\n",
        "direction_table = direction_table.cpu().numpy()\n",
        "\n",
        "# show\n",
        "html_text = \"<table>\"\n",
        "for row in range(env.grid_size):\n",
        "    html_text += \"<tr>\"\n",
        "    for col in range(env.grid_size):\n",
        "        if row*env.grid_size + col in valid_states_all:\n",
        "            html_text += \"<td bgcolor=\\\"gray\\\">\"\n",
        "            #\n",
        "            # show direction\n",
        "            #\n",
        "            index = direction_table[row, col]\n",
        "            if index == 0:\n",
        "                html_text += \"&#x2191;\" # up\n",
        "            elif index == 1:\n",
        "                html_text += \"&#x2193;\" # down\n",
        "            elif index == 2:\n",
        "                html_text += \"&#x2190;\" # left\n",
        "            elif index == 3:\n",
        "                html_text += \"&#x2192;\" # right\n",
        "        else:\n",
        "            html_text += \"<td>\"\n",
        "        html_text += \"</td>\"\n",
        "    html_text += \"</tr>\"\n",
        "html_text += \"</table>\"\n",
        "\n",
        "display(HTML(html_text))"
      ],
      "id": "F1S_Lk2D8pyt"
    },
    {
      "cell_type": "markdown",
      "metadata": {
        "id": "mXzogQcu8pyu"
      },
      "source": [
        "The following shows a heatmap for the value $\\theta^T \\cdot \\phi(s_i)$.<br>\n",
        "As you can see below, the states on the path toward the goal state are hot in this map.\n",
        "\n",
        "> Note : In the area of the following yellow spot (extremely hot), the expert doesn't also work well (hence the expert agent will walk around this area in order not to lose the reward), and then the visited frequencies in this area is becoming so large."
      ],
      "id": "mXzogQcu8pyu"
    },
    {
      "cell_type": "code",
      "execution_count": null,
      "metadata": {
        "id": "aB-XA_RT8pyv",
        "outputId": "fb3c3127-03b0-4bc1-87dd-9caac5e124e2"
      },
      "outputs": [
        {
          "data": {
            "image/png": "[encoded data removed]",
            "text/plain": [
              "<Figure size 640x480 with 1 Axes>"
            ]
          },
          "metadata": {},
          "output_type": "display_data"
        }
      ],
      "source": [
        "import matplotlib.pyplot as plt\n",
        "\n",
        "state_vals = torch.matmul(theta, torch.transpose(all_features, 0, 1))\n",
        "state_vals = torch.reshape(state_vals, (env.grid_size, env.grid_size))\n",
        "\n",
        "plt.imshow(state_vals.cpu().numpy(), cmap=\"hot\", interpolation=\"nearest\")\n",
        "plt.show()"
      ],
      "id": "aB-XA_RT8pyv"
    },
    {
      "cell_type": "code",
      "execution_count": null,
      "metadata": {
        "id": "QRC8vsRP8py3"
      },
      "outputs": [],
      "source": [],
      "id": "QRC8vsRP8py3"
    }
  ],
  "metadata": {
    "kernelspec": {
      "display_name": "Python 3",
      "name": "python3"
    },
    "language_info": {
      "codemirror_mode": {
        "name": "ipython",
        "version": 3
      },
      "file_extension": ".py",
      "mimetype": "text/x-python",
      "name": "python",
      "nbconvert_exporter": "python",
      "pygments_lexer": "ipython3",
      "version": "3.7.4"
    },
    "colab": {
      "provenance": [],
      "gpuType": "L4"
    },
    "accelerator": "GPU"
  },
  "nbformat": 4,
  "nbformat_minor": 5
}