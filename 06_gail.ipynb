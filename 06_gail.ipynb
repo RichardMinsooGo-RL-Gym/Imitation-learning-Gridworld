{
  "cells": [
    {
      "cell_type": "markdown",
      "metadata": {
        "id": "-Xs9ipDI8nb1"
      },
      "source": [
        "# Generative Adversarial Imitation Learning (GAIL)\n",
        "\n",
        "Generative Adversarial Imitation Learning (GAIL) is the method inspired by IRL (Inverse Reinforcement Learning) and GANs (Generative Adversarial Networks), in which discriminator network is used to distinguish true data from false data.\n",
        "\n",
        "Unlike previous IRL methods, GAIL constrains the behavior of the agent to be approximately optimal without explicitly recovering the reward's function, i.e, it scales an IRL approach by bypassing intermediate IRL steps (bypassing steps for learning a cost or reward function).<br>\n",
        "It directly extracts a policy from data, **as if it were obtained by reinforcement learning following inverse\n",
        "reinforcement learning**. (RL algorithms discussed in [here](https://github.com/tsmatz/reinforcement-learning-tutorials) can also be applied in GAIL.)\n",
        "\n",
        "Up until now, we assumed that the rewards $\\mathbf{w}$ is linear to the feature of trajectory, $\\verb|reward| = \\mathbf{w}^T \\cdot \\phi(\\tau)$.<br>\n",
        "GAIL, however, doesn't need this constraint, and can then imitate arbitrarily complex expert behaviors.\n",
        "\n",
        "GAIL is one of SOTA (state-of-the-art) imitation learning algorithms.\n",
        "\n",
        "*(back to [index](https://github.com/tsmatz/imitation-learning-tutorials/))*"
      ],
      "id": "-Xs9ipDI8nb1"
    },
    {
      "cell_type": "code",
      "source": [
        "import numpy as np\n",
        "print(np.__version__)"
      ],
      "metadata": {
        "colab": {
          "base_uri": "https://localhost:8080/"
        },
        "id": "PSz1KN7A0kyi",
        "outputId": "7ed53ef8-ec89-4563-be86-8f66e80089c3"
      },
      "execution_count": null,
      "outputs": [
        {
          "output_type": "stream",
          "name": "stdout",
          "text": [
            "2.0.2\n"
          ]
        }
      ],
      "id": "PSz1KN7A0kyi"
    },
    {
      "cell_type": "code",
      "execution_count": null,
      "metadata": {
        "id": "TpZufgx1veLO"
      },
      "outputs": [],
      "source": [
        "from IPython.display import clear_output\n",
        "clear_output()"
      ],
      "id": "TpZufgx1veLO"
    },
    {
      "cell_type": "code",
      "execution_count": null,
      "metadata": {
        "id": "autMsTegxadV",
        "colab": {
          "base_uri": "https://localhost:8080/"
        },
        "outputId": "6e85316d-1230-454d-c105-68a80edd1078"
      },
      "outputs": [
        {
          "output_type": "stream",
          "name": "stdout",
          "text": [
            "Requirement already satisfied: torch in /usr/local/lib/python3.12/dist-packages (2.8.0+cu126)\n",
            "Requirement already satisfied: numpy in /usr/local/lib/python3.12/dist-packages (2.0.2)\n",
            "Requirement already satisfied: filelock in /usr/local/lib/python3.12/dist-packages (from torch) (3.19.1)\n",
            "Requirement already satisfied: typing-extensions>=4.10.0 in /usr/local/lib/python3.12/dist-packages (from torch) (4.14.1)\n",
            "Requirement already satisfied: setuptools in /usr/local/lib/python3.12/dist-packages (from torch) (75.2.0)\n",
            "Requirement already satisfied: sympy>=1.13.3 in /usr/local/lib/python3.12/dist-packages (from torch) (1.13.3)\n",
            "Requirement already satisfied: networkx in /usr/local/lib/python3.12/dist-packages (from torch) (3.5)\n",
            "Requirement already satisfied: jinja2 in /usr/local/lib/python3.12/dist-packages (from torch) (3.1.6)\n",
            "Requirement already satisfied: fsspec in /usr/local/lib/python3.12/dist-packages (from torch) (2025.3.0)\n",
            "Requirement already satisfied: nvidia-cuda-nvrtc-cu12==12.6.77 in /usr/local/lib/python3.12/dist-packages (from torch) (12.6.77)\n",
            "Requirement already satisfied: nvidia-cuda-runtime-cu12==12.6.77 in /usr/local/lib/python3.12/dist-packages (from torch) (12.6.77)\n",
            "Requirement already satisfied: nvidia-cuda-cupti-cu12==12.6.80 in /usr/local/lib/python3.12/dist-packages (from torch) (12.6.80)\n",
            "Requirement already satisfied: nvidia-cudnn-cu12==9.10.2.21 in /usr/local/lib/python3.12/dist-packages (from torch) (9.10.2.21)\n",
            "Requirement already satisfied: nvidia-cublas-cu12==12.6.4.1 in /usr/local/lib/python3.12/dist-packages (from torch) (12.6.4.1)\n",
            "Requirement already satisfied: nvidia-cufft-cu12==11.3.0.4 in /usr/local/lib/python3.12/dist-packages (from torch) (11.3.0.4)\n",
            "Requirement already satisfied: nvidia-curand-cu12==10.3.7.77 in /usr/local/lib/python3.12/dist-packages (from torch) (10.3.7.77)\n",
            "Requirement already satisfied: nvidia-cusolver-cu12==11.7.1.2 in /usr/local/lib/python3.12/dist-packages (from torch) (11.7.1.2)\n",
            "Requirement already satisfied: nvidia-cusparse-cu12==12.5.4.2 in /usr/local/lib/python3.12/dist-packages (from torch) (12.5.4.2)\n",
            "Requirement already satisfied: nvidia-cusparselt-cu12==0.7.1 in /usr/local/lib/python3.12/dist-packages (from torch) (0.7.1)\n",
            "Requirement already satisfied: nvidia-nccl-cu12==2.27.3 in /usr/local/lib/python3.12/dist-packages (from torch) (2.27.3)\n",
            "Requirement already satisfied: nvidia-nvtx-cu12==12.6.77 in /usr/local/lib/python3.12/dist-packages (from torch) (12.6.77)\n",
            "Requirement already satisfied: nvidia-nvjitlink-cu12==12.6.85 in /usr/local/lib/python3.12/dist-packages (from torch) (12.6.85)\n",
            "Requirement already satisfied: nvidia-cufile-cu12==1.11.1.6 in /usr/local/lib/python3.12/dist-packages (from torch) (1.11.1.6)\n",
            "Requirement already satisfied: triton==3.4.0 in /usr/local/lib/python3.12/dist-packages (from torch) (3.4.0)\n",
            "Requirement already satisfied: mpmath<1.4,>=1.1.0 in /usr/local/lib/python3.12/dist-packages (from sympy>=1.13.3->torch) (1.3.0)\n",
            "Requirement already satisfied: MarkupSafe>=2.0 in /usr/local/lib/python3.12/dist-packages (from jinja2->torch) (3.0.2)\n"
          ]
        }
      ],
      "source": [
        "get_ipython().system('pip install torch numpy')"
      ],
      "id": "autMsTegxadV"
    },
    {
      "cell_type": "code",
      "execution_count": null,
      "metadata": {
        "colab": {
          "base_uri": "https://localhost:8080/"
        },
        "id": "ZaWwPFttIVXg",
        "outputId": "c3436f89-b8bf-4e2d-c70e-2df5ba270cbd"
      },
      "outputs": [
        {
          "output_type": "stream",
          "name": "stdout",
          "text": [
            "\u001b[33mhint: Using 'master' as the name for the initial branch. This default branch name\u001b[m\n",
            "\u001b[33mhint: is subject to change. To configure the initial branch name to use in all\u001b[m\n",
            "\u001b[33mhint: of your new repositories, which will suppress this warning, call:\u001b[m\n",
            "\u001b[33mhint: \u001b[m\n",
            "\u001b[33mhint: \tgit config --global init.defaultBranch <name>\u001b[m\n",
            "\u001b[33mhint: \u001b[m\n",
            "\u001b[33mhint: Names commonly chosen instead of 'master' are 'main', 'trunk' and\u001b[m\n",
            "\u001b[33mhint: 'development'. The just-created branch can be renamed via this command:\u001b[m\n",
            "\u001b[33mhint: \u001b[m\n",
            "\u001b[33mhint: \tgit branch -m <name>\u001b[m\n",
            "Initialized empty Git repository in /content/.git/\n",
            "remote: Enumerating objects: 141, done.\u001b[K\n",
            "remote: Counting objects: 100% (141/141), done.\u001b[K\n",
            "remote: Compressing objects: 100% (106/106), done.\u001b[K\n",
            "remote: Total 141 (delta 90), reused 76 (delta 34), pack-reused 0 (from 0)\u001b[K\n",
            "Receiving objects: 100% (141/141), 1.45 MiB | 5.27 MiB/s, done.\n",
            "Resolving deltas: 100% (90/90), done.\n",
            "From https://github.com/tsmatz/imitation-learning-tutorials\n",
            " * branch            master     -> FETCH_HEAD\n",
            " * [new branch]      master     -> origin/master\n"
          ]
        }
      ],
      "source": [
        "# Clone from Github Repository\n",
        "! git init .\n",
        "! git remote add origin https://github.com/RichardMinsooGo-RL-Gym/Imitation-learning-Gridworld.git\n",
        "! git pull origin master\n",
        "# ! git pull origin main"
      ],
      "id": "ZaWwPFttIVXg"
    },
    {
      "cell_type": "markdown",
      "metadata": {
        "id": "0ynBGmx68nb7"
      },
      "source": [
        "## Overview of Generative Adversarial Imitation Learning (GAIL) method\n",
        "\n",
        "Let's briefly follow theoretical aspects behind GAIL algorithm along with the original paper [[Ho and Ermon, 2016](https://arxiv.org/pdf/1606.03476)].\n",
        "\n",
        "Maximum Causal Entropy (MCE) IRL is one of successful IRL algorithms.<br>\n",
        "As we have discussed in [MCE IRL example](./04_mce_irl.ipynb), Maximum Causal Entropy IRL finds a cost function (see below note) to maximize the entropy $-H(\\pi)$ and expectation.<br>\n",
        "IRL operation in abstraction can then be written as :\n",
        "\n",
        "$\\displaystyle IRL(\\pi_E) = \\max_{c \\in \\mathcal{C}} \\left( \\min_{\\pi \\in \\Pi} \\left( -H(\\pi) + \\mathbb{E}_{\\pi}[c(s,a)] \\right) - \\mathbb{E}_{\\pi_E}[c(s,a)] \\right)$\n",
        "\n",
        "where $\\mathcal{C}$ is a set of cost functions.\n",
        "\n",
        "> Note : Unlike [MCE IRL example](./04_mce_irl.ipynb), the function $c()$ is not a reward function, but a cost function. The cost function is **minimized (not maximized)** for optimization.\n",
        "\n",
        "To prevent from [overfitting](https://tsmatz.wordpress.com/2017/09/13/overfitting-for-regression-and-deep-learning/) in machine learning problems, we introduce a regularizer, $\\psi : \\mathbb{R}^{\\mathcal{S} \\times \\mathcal{A}} \\to \\mathbb{R} \\cup \\{ \\infty \\}$, and apply in this equation. :\n",
        "\n",
        "$\\displaystyle IRL_{\\psi}(\\pi_E) = \\arg \\max_{c \\in \\mathbb{R}^{\\mathcal{S} \\times \\mathcal{A}}} \\left( -\\psi(c) + \\min_{\\pi \\in \\Pi} \\left( -H(\\pi) + \\mathbb{E}_{\\pi}[c(s,a)] \\right) - \\mathbb{E}_{\\pi_E}[c(s,a)] \\right) \\;\\;\\;\\;\\;\\; (1) $\n",
        "\n",
        "Now we introduce the occupancy measure which is often used in the theory of RL.\n",
        "\n",
        "First, we define the occupancy measure $\\rho_{\\pi}(s, a) : \\mathcal{S} \\times \\mathcal{A} \\to \\mathbb{R}$ for $\\pi$ as :\n",
        "\n",
        "$\\displaystyle \\rho_{\\pi}(s, a) \\coloneqq \\pi(a | s) \\sum_{t=0}^{\\infty} \\gamma^t P(s_t=s|\\pi) $\n",
        "\n",
        "> Note : $P(s_t=s|\\pi)$ is the probability of landing in state $s$.\n",
        "\n",
        "In abstraction, the occupancy measure is the probability of state's occurrence when navigating the environment with policy $\\pi$.\n",
        "\n",
        "When we denote a set of valid occupancy measures $\\{ \\rho_{\\pi} : \\pi \\in \\Pi \\}$ as $\\mathcal{D}$, it's known that there is a one-to-one correspondence between $\\Pi$ and $\\mathcal{D}$. (i.e, When some $\\rho$ is given, the corresponding $\\pi$ to satisfy $\\rho = \\rho_\\pi$ is uniquely determined.)\n",
        "\n",
        "Using occupancy measures, it's known that to find the optimal $\\pi$ under a cost function obtained in (1) is equivalent to :\n",
        "\n",
        "$\\displaystyle RL \\circ IRL_{\\psi}(\\pi_E) = \\arg \\min_{\\pi \\in \\Pi} \\left( -H(\\pi) + \\psi^* \\left( \\rho_{\\pi} - \\rho_{\\pi_E} \\right) \\right) \\;\\;\\;\\;\\;\\; (2)$\n",
        "\n",
        "where $\\psi^* : \\mathbb{R}^{\\mathcal{S} \\times \\mathcal{A}} \\to \\mathbb{R} \\cup \\{ \\infty \\}$ is the [convex conjugate](https://en.wikipedia.org/wiki/Convex_conjugate) of $\\psi$.\n",
        "\n",
        "Especially, when $\\psi$ is constant and $\\pi$ is then obtained by (2), it's known that $\\rho_{\\pi} = \\rho_{\\pi_E}$.\n",
        "\n",
        "> Note : See [original paper](https://arxiv.org/pdf/1606.03476) and its Appendix A.1 for this proof.\n",
        "\n",
        "This implicitly means that $\\psi$-regularized IRL is to seek a policy whose occupancy measure is close to the expert, as measured by the convex function $\\psi^*$. If $\\psi$ is constant, the solution of (2) simply matches occupancy measures with expert at all states and actions.<br>\n",
        "Here I don't go so far into details, but it's also known that the expectation matching with linear cost function (which are discussed in previous examples) is the special case of above (2). (See description about apprenticeship learning in [original paper](https://arxiv.org/pdf/1606.03476) for details.)\n",
        "\n",
        "Now let $\\psi_{GA}()$ be the following regularization function. :\n",
        "\n",
        "$\\displaystyle \\psi_{GA}(c) \\coloneqq \\mathbb{E}_{\\pi_E}[g(c(s,a))] $  when $c \\lt 0$\n",
        "\n",
        "$\\displaystyle \\psi_{GA}(c) \\coloneqq +\\infty $  otherwise\n",
        "\n",
        "where\n",
        "\n",
        "$\\displaystyle g(x) \\coloneqq -x-\\log(1-e^x) $  when $x \\lt 0$\n",
        "\n",
        "$\\displaystyle g(x) \\coloneqq +\\infty $  otherwise\n",
        "\n",
        "This regularization forces that the cost function $c$ is always negative, and penalitizes for small $c$ and large $c$ (close to zero), because the plot of function $g(x)$ is as follows. :\n",
        "\n",
        "<img src=\"./assets/regularization_plot.png\" alt=\"Regularization Plot\" width=\"300\"/>\n",
        "\n",
        "Unlike linear cost functions (or linear reward functions) seen in previous IRL examples, $\\psi_{GA}()$ allows for any cost function, as long as it is negative everywhere, and $RL \\circ IRL_{\\psi}(\\pi_E)$ can be fitted to more complex cost estimation.\n",
        "\n",
        "Under this assumption, it's known that it holds the following equation. (See [original paper](https://arxiv.org/pdf/1606.03476) for the proof.)\n",
        "\n",
        "$\\displaystyle \\psi_{GA}^* (\\rho_{\\pi} - \\rho_{\\pi_E}) = \\max_{D \\in (0,1)^{\\mathcal{S} \\times \\mathcal{A}}} \\left( \\mathbb{E}_{\\pi} [\\log(D(s, a))] + \\mathbb{E}_{\\pi_E} [\\log(1 - D(s, a))] \\right) \\;\\;\\;\\;\\;\\; (3) $\n",
        "\n",
        "where $D$ is discriminative classifier $D : \\mathcal{S} \\times \\mathcal{A} \\to (0,1)$.\n",
        "\n",
        "Now we assume that the learner's policy $\\pi$ is parameterized by $\\theta$ (i.e, $\\pi = \\pi_{\\theta}$) and the discriminator network $D$ is parameterized by $w$ (i.e, $D = D_w$).\n",
        "\n",
        "By above (2) and (3), our algorithm (GAIL) is to alternately update $w$ and $\\theta$ as follows. :\n",
        "\n",
        "- Update $w$ to increase $\\mathbb{E}_{\\pi} [\\log(D(s, a))] + \\mathbb{E}_{\\pi_E} [\\log(1 - D(s, a))]$.\n",
        "- Update $\\theta$ to decrease $\\mathbb{E}_{\\pi} [\\log(D(s, a))] - \\lambda H(\\pi) $ using the updated discriminator $D(s,a)$, where $\\lambda \\geq 0$ is a controlling coefficient.\n",
        "\n",
        "In [original paper](https://arxiv.org/pdf/1606.03476), Adam gradient step is applied to update $w$, and TRPO (trust region policy optimization) algorithm is used to update $\\theta$ in order to avoid unstable policy updates.<br>\n",
        "As you'll see later, we'll however use PPO (proximal policy optimization) instead of TRPO in this example."
      ],
      "id": "0ynBGmx68nb7"
    },
    {
      "cell_type": "markdown",
      "metadata": {
        "id": "0gdS3nNY8nb9"
      },
      "source": [
        "## Implementation"
      ],
      "id": "0gdS3nNY8nb9"
    },
    {
      "cell_type": "markdown",
      "metadata": {
        "id": "rfnD00HZ8nb-"
      },
      "source": [
        "### 1. Restore environment and load expert's data"
      ],
      "id": "rfnD00HZ8nb-"
    },
    {
      "cell_type": "markdown",
      "metadata": {
        "id": "P68pe1VR8nb-"
      },
      "source": [
        "Before we start, we need to install the required packages."
      ],
      "id": "P68pe1VR8nb-"
    },
    {
      "cell_type": "code",
      "execution_count": null,
      "metadata": {
        "colab": {
          "base_uri": "https://localhost:8080/"
        },
        "id": "gFm7uhN18nb_",
        "outputId": "a4d61d84-01a2-4276-e89b-3f4fec5d0e91"
      },
      "outputs": [
        {
          "output_type": "stream",
          "name": "stdout",
          "text": [
            "Requirement already satisfied: torch in /usr/local/lib/python3.12/dist-packages (2.8.0+cu126)\n",
            "Requirement already satisfied: numpy in /usr/local/lib/python3.12/dist-packages (2.0.2)\n",
            "Requirement already satisfied: matplotlib in /usr/local/lib/python3.12/dist-packages (3.10.0)\n",
            "Requirement already satisfied: filelock in /usr/local/lib/python3.12/dist-packages (from torch) (3.19.1)\n",
            "Requirement already satisfied: typing-extensions>=4.10.0 in /usr/local/lib/python3.12/dist-packages (from torch) (4.14.1)\n",
            "Requirement already satisfied: setuptools in /usr/local/lib/python3.12/dist-packages (from torch) (75.2.0)\n",
            "Requirement already satisfied: sympy>=1.13.3 in /usr/local/lib/python3.12/dist-packages (from torch) (1.13.3)\n",
            "Requirement already satisfied: networkx in /usr/local/lib/python3.12/dist-packages (from torch) (3.5)\n",
            "Requirement already satisfied: jinja2 in /usr/local/lib/python3.12/dist-packages (from torch) (3.1.6)\n",
            "Requirement already satisfied: fsspec in /usr/local/lib/python3.12/dist-packages (from torch) (2025.3.0)\n",
            "Requirement already satisfied: nvidia-cuda-nvrtc-cu12==12.6.77 in /usr/local/lib/python3.12/dist-packages (from torch) (12.6.77)\n",
            "Requirement already satisfied: nvidia-cuda-runtime-cu12==12.6.77 in /usr/local/lib/python3.12/dist-packages (from torch) (12.6.77)\n",
            "Requirement already satisfied: nvidia-cuda-cupti-cu12==12.6.80 in /usr/local/lib/python3.12/dist-packages (from torch) (12.6.80)\n",
            "Requirement already satisfied: nvidia-cudnn-cu12==9.10.2.21 in /usr/local/lib/python3.12/dist-packages (from torch) (9.10.2.21)\n",
            "Requirement already satisfied: nvidia-cublas-cu12==12.6.4.1 in /usr/local/lib/python3.12/dist-packages (from torch) (12.6.4.1)\n",
            "Requirement already satisfied: nvidia-cufft-cu12==11.3.0.4 in /usr/local/lib/python3.12/dist-packages (from torch) (11.3.0.4)\n",
            "Requirement already satisfied: nvidia-curand-cu12==10.3.7.77 in /usr/local/lib/python3.12/dist-packages (from torch) (10.3.7.77)\n",
            "Requirement already satisfied: nvidia-cusolver-cu12==11.7.1.2 in /usr/local/lib/python3.12/dist-packages (from torch) (11.7.1.2)\n",
            "Requirement already satisfied: nvidia-cusparse-cu12==12.5.4.2 in /usr/local/lib/python3.12/dist-packages (from torch) (12.5.4.2)\n",
            "Requirement already satisfied: nvidia-cusparselt-cu12==0.7.1 in /usr/local/lib/python3.12/dist-packages (from torch) (0.7.1)\n",
            "Requirement already satisfied: nvidia-nccl-cu12==2.27.3 in /usr/local/lib/python3.12/dist-packages (from torch) (2.27.3)\n",
            "Requirement already satisfied: nvidia-nvtx-cu12==12.6.77 in /usr/local/lib/python3.12/dist-packages (from torch) (12.6.77)\n",
            "Requirement already satisfied: nvidia-nvjitlink-cu12==12.6.85 in /usr/local/lib/python3.12/dist-packages (from torch) (12.6.85)\n",
            "Requirement already satisfied: nvidia-cufile-cu12==1.11.1.6 in /usr/local/lib/python3.12/dist-packages (from torch) (1.11.1.6)\n",
            "Requirement already satisfied: triton==3.4.0 in /usr/local/lib/python3.12/dist-packages (from torch) (3.4.0)\n",
            "Requirement already satisfied: contourpy>=1.0.1 in /usr/local/lib/python3.12/dist-packages (from matplotlib) (1.3.3)\n",
            "Requirement already satisfied: cycler>=0.10 in /usr/local/lib/python3.12/dist-packages (from matplotlib) (0.12.1)\n",
            "Requirement already satisfied: fonttools>=4.22.0 in /usr/local/lib/python3.12/dist-packages (from matplotlib) (4.59.1)\n",
            "Requirement already satisfied: kiwisolver>=1.3.1 in /usr/local/lib/python3.12/dist-packages (from matplotlib) (1.4.9)\n",
            "Requirement already satisfied: packaging>=20.0 in /usr/local/lib/python3.12/dist-packages (from matplotlib) (25.0)\n",
            "Requirement already satisfied: pillow>=8 in /usr/local/lib/python3.12/dist-packages (from matplotlib) (11.3.0)\n",
            "Requirement already satisfied: pyparsing>=2.3.1 in /usr/local/lib/python3.12/dist-packages (from matplotlib) (3.2.3)\n",
            "Requirement already satisfied: python-dateutil>=2.7 in /usr/local/lib/python3.12/dist-packages (from matplotlib) (2.9.0.post0)\n",
            "Requirement already satisfied: six>=1.5 in /usr/local/lib/python3.12/dist-packages (from python-dateutil>=2.7->matplotlib) (1.17.0)\n",
            "Requirement already satisfied: mpmath<1.4,>=1.1.0 in /usr/local/lib/python3.12/dist-packages (from sympy>=1.13.3->torch) (1.3.0)\n",
            "Requirement already satisfied: MarkupSafe>=2.0 in /usr/local/lib/python3.12/dist-packages (from jinja2->torch) (3.0.2)\n"
          ]
        }
      ],
      "source": [
        "!pip install torch numpy matplotlib"
      ],
      "id": "gFm7uhN18nb_"
    },
    {
      "cell_type": "markdown",
      "metadata": {
        "id": "yzSkWxll8ncB"
      },
      "source": [
        "Firstly, I restore GridWorld environment from JSON file. (See [this script](./00_generate_expert_trajectories.ipynb) for generating the same environment.)\n",
        "\n",
        "I note that I'll apply temporal difference (TD) learning (see [here](https://github.com/tsmatz/reinforcement-learning-tutorials/blob/master/03-actor-critic.ipynb)) in this example, and the difference between termination and truncation is important.<br>\n",
        "Thus, by setting ```max_timestep=None```, the truncation is not performed in this environment, and I'll handle the truncation during the training by myself."
      ],
      "id": "yzSkWxll8ncB"
    },
    {
      "cell_type": "code",
      "execution_count": null,
      "metadata": {
        "id": "mZoWOm1Q8ncD"
      },
      "outputs": [],
      "source": [
        "import torch\n",
        "import json\n",
        "from gridworld import GridWorld\n",
        "\n",
        "device = torch.device(\"cuda\" if torch.cuda.is_available() else \"cpu\")\n",
        "\n",
        "with open(\"gridworld.json\", \"r\") as f:\n",
        "    json_object = json.load(f)\n",
        "    env = GridWorld(**json_object, max_timestep=None, device=device)"
      ],
      "id": "mZoWOm1Q8ncD"
    },
    {
      "cell_type": "markdown",
      "metadata": {
        "id": "F-QU7tJD8ncE"
      },
      "source": [
        "Now I visualize our GridWorld environment.\n",
        "\n",
        "The number in each cell indicates the reward score on this state.<br>\n",
        "The goal state is on the right-bottom corner (in which the reward is ```10.0```), and the initial state is uniformly picked up from the gray-colored cells.<br>\n",
        "If the agent can reach to goal state without losing any rewards, it will get ```10.0``` for total reward.\n",
        "\n",
        "See [Readme.md](https://github.com/tsmatz/imitation-learning-tutorials/blob/master/Readme.md) for details about the game rule of this environment."
      ],
      "id": "F-QU7tJD8ncE"
    },
    {
      "cell_type": "code",
      "execution_count": null,
      "metadata": {
        "colab": {
          "base_uri": "https://localhost:8080/",
          "height": 1000
        },
        "id": "7NWd4Ky18ncE",
        "outputId": "f5c69fe1-d1c8-47aa-d2c6-83d41466c8b1"
      },
      "outputs": [
        {
          "output_type": "display_data",
          "data": {
            "text/plain": [
              "<IPython.core.display.HTML object>"
            ],
            "text/html": [
              "<table><tr><td>0</td><td>-1</td><td>0</td><td>0</td><td>0</td><td>-1</td><td bgcolor=\"gray\">0</td><td bgcolor=\"gray\">0</td><td bgcolor=\"gray\">0</td><td bgcolor=\"gray\">0</td><td bgcolor=\"gray\">0</td><td bgcolor=\"gray\">0</td><td>-1</td><td bgcolor=\"gray\">0</td><td>-1</td><td>-1</td><td>-1</td><td>-1</td><td bgcolor=\"gray\">0</td><td>-1</td><td bgcolor=\"gray\">0</td><td>-1</td><td bgcolor=\"gray\">0</td><td bgcolor=\"gray\">0</td><td bgcolor=\"gray\">0</td><td>-1</td><td bgcolor=\"gray\">0</td><td bgcolor=\"gray\">0</td><td bgcolor=\"gray\">0</td><td>-1</td><td>-1</td><td>0</td><td>-1</td><td bgcolor=\"gray\">0</td><td bgcolor=\"gray\">0</td><td bgcolor=\"gray\">0</td><td bgcolor=\"gray\">0</td><td>-1</td><td>-1</td><td>0</td><td>0</td><td>0</td><td>0</td><td>0</td><td>0</td><td>0</td><td>0</td><td>0</td><td>0</td><td>0</td></tr><tr><td>-1</td><td>0</td><td>0</td><td>0</td><td>0</td><td>-1</td><td bgcolor=\"gray\">0</td><td>-1</td><td bgcolor=\"gray\">0</td><td bgcolor=\"gray\">0</td><td bgcolor=\"gray\">0</td><td bgcolor=\"gray\">0</td><td bgcolor=\"gray\">0</td><td bgcolor=\"gray\">0</td><td bgcolor=\"gray\">0</td><td bgcolor=\"gray\">0</td><td bgcolor=\"gray\">0</td><td bgcolor=\"gray\">0</td><td bgcolor=\"gray\">0</td><td bgcolor=\"gray\">0</td><td bgcolor=\"gray\">0</td><td>-1</td><td>-1</td><td>-1</td><td bgcolor=\"gray\">0</td><td>-1</td><td bgcolor=\"gray\">0</td><td bgcolor=\"gray\">0</td><td bgcolor=\"gray\">0</td><td bgcolor=\"gray\">0</td><td bgcolor=\"gray\">0</td><td>-1</td><td bgcolor=\"gray\">0</td><td>-1</td><td bgcolor=\"gray\">0</td><td>-1</td><td bgcolor=\"gray\">0</td><td>-1</td><td>0</td><td>-1</td><td>-1</td><td>0</td><td>0</td><td>0</td><td>-1</td><td>-1</td><td>0</td><td>0</td><td>-1</td><td>-1</td></tr><tr><td>0</td><td>0</td><td>-1</td><td>-1</td><td>0</td><td>-1</td><td bgcolor=\"gray\">0</td><td>-1</td><td bgcolor=\"gray\">0</td><td>-1</td><td bgcolor=\"gray\">0</td><td bgcolor=\"gray\">0</td><td bgcolor=\"gray\">0</td><td bgcolor=\"gray\">0</td><td bgcolor=\"gray\">0</td><td bgcolor=\"gray\">0</td><td bgcolor=\"gray\">0</td><td>-1</td><td bgcolor=\"gray\">0</td><td bgcolor=\"gray\">0</td><td>-1</td><td bgcolor=\"gray\">0</td><td bgcolor=\"gray\">0</td><td>-1</td><td bgcolor=\"gray\">0</td><td bgcolor=\"gray\">0</td><td bgcolor=\"gray\">0</td><td bgcolor=\"gray\">0</td><td bgcolor=\"gray\">0</td><td bgcolor=\"gray\">0</td><td bgcolor=\"gray\">0</td><td>-1</td><td bgcolor=\"gray\">0</td><td bgcolor=\"gray\">0</td><td>-1</td><td bgcolor=\"gray\">0</td><td bgcolor=\"gray\">0</td><td>-1</td><td>-1</td><td bgcolor=\"gray\">0</td><td bgcolor=\"gray\">0</td><td>-1</td><td>0</td><td>0</td><td>0</td><td>0</td><td>-1</td><td>0</td><td>0</td><td>0</td></tr><tr><td>0</td><td>0</td><td>-1</td><td bgcolor=\"gray\">0</td><td>-1</td><td>-1</td><td bgcolor=\"gray\">0</td><td bgcolor=\"gray\">0</td><td>-1</td><td bgcolor=\"gray\">0</td><td>-1</td><td bgcolor=\"gray\">0</td><td bgcolor=\"gray\">0</td><td bgcolor=\"gray\">0</td><td bgcolor=\"gray\">0</td><td>-1</td><td bgcolor=\"gray\">0</td><td>-1</td><td bgcolor=\"gray\">0</td><td>-1</td><td>0</td><td>-1</td><td bgcolor=\"gray\">0</td><td bgcolor=\"gray\">0</td><td>-1</td><td>-1</td><td bgcolor=\"gray\">0</td><td bgcolor=\"gray\">0</td><td>-1</td><td bgcolor=\"gray\">0</td><td bgcolor=\"gray\">0</td><td bgcolor=\"gray\">0</td><td bgcolor=\"gray\">0</td><td bgcolor=\"gray\">0</td><td bgcolor=\"gray\">0</td><td bgcolor=\"gray\">0</td><td bgcolor=\"gray\">0</td><td bgcolor=\"gray\">0</td><td bgcolor=\"gray\">0</td><td bgcolor=\"gray\">0</td><td bgcolor=\"gray\">0</td><td>-1</td><td>0</td><td>0</td><td>0</td><td>0</td><td>0</td><td>0</td><td>0</td><td>-1</td></tr><tr><td>-1</td><td>-1</td><td>-1</td><td bgcolor=\"gray\">0</td><td bgcolor=\"gray\">0</td><td bgcolor=\"gray\">0</td><td bgcolor=\"gray\">0</td><td bgcolor=\"gray\">0</td><td bgcolor=\"gray\">0</td><td bgcolor=\"gray\">0</td><td bgcolor=\"gray\">0</td><td bgcolor=\"gray\">0</td><td bgcolor=\"gray\">0</td><td bgcolor=\"gray\">0</td><td bgcolor=\"gray\">0</td><td bgcolor=\"gray\">0</td><td bgcolor=\"gray\">0</td><td bgcolor=\"gray\">0</td><td bgcolor=\"gray\">0</td><td>-1</td><td>-1</td><td bgcolor=\"gray\">0</td><td>-1</td><td bgcolor=\"gray\">0</td><td bgcolor=\"gray\">0</td><td bgcolor=\"gray\">0</td><td bgcolor=\"gray\">0</td><td bgcolor=\"gray\">0</td><td bgcolor=\"gray\">0</td><td bgcolor=\"gray\">0</td><td bgcolor=\"gray\">0</td><td bgcolor=\"gray\">0</td><td bgcolor=\"gray\">0</td><td bgcolor=\"gray\">0</td><td bgcolor=\"gray\">0</td><td>-1</td><td bgcolor=\"gray\">0</td><td>-1</td><td bgcolor=\"gray\">0</td><td bgcolor=\"gray\">0</td><td bgcolor=\"gray\">0</td><td>-1</td><td>0</td><td>0</td><td>-1</td><td>0</td><td>-1</td><td>-1</td><td>0</td><td>0</td></tr><tr><td>0</td><td>-1</td><td>-1</td><td bgcolor=\"gray\">0</td><td bgcolor=\"gray\">0</td><td>-1</td><td bgcolor=\"gray\">0</td><td>-1</td><td bgcolor=\"gray\">0</td><td bgcolor=\"gray\">0</td><td>-1</td><td bgcolor=\"gray\">0</td><td bgcolor=\"gray\">0</td><td>-1</td><td bgcolor=\"gray\">0</td><td bgcolor=\"gray\">0</td><td>-1</td><td>-1</td><td bgcolor=\"gray\">0</td><td bgcolor=\"gray\">0</td><td>-1</td><td bgcolor=\"gray\">0</td><td bgcolor=\"gray\">0</td><td bgcolor=\"gray\">0</td><td>-1</td><td bgcolor=\"gray\">0</td><td bgcolor=\"gray\">0</td><td bgcolor=\"gray\">0</td><td bgcolor=\"gray\">0</td><td>-1</td><td>-1</td><td bgcolor=\"gray\">0</td><td bgcolor=\"gray\">0</td><td>-1</td><td bgcolor=\"gray\">0</td><td>-1</td><td>-1</td><td>-1</td><td>-1</td><td bgcolor=\"gray\">0</td><td bgcolor=\"gray\">0</td><td>-1</td><td>0</td><td>-1</td><td>0</td><td>0</td><td>0</td><td>0</td><td>0</td><td>-1</td></tr><tr><td>-1</td><td>-1</td><td bgcolor=\"gray\">0</td><td bgcolor=\"gray\">0</td><td bgcolor=\"gray\">0</td><td bgcolor=\"gray\">0</td><td bgcolor=\"gray\">0</td><td bgcolor=\"gray\">0</td><td bgcolor=\"gray\">0</td><td bgcolor=\"gray\">0</td><td bgcolor=\"gray\">0</td><td bgcolor=\"gray\">0</td><td>-1</td><td>0</td><td>-1</td><td bgcolor=\"gray\">0</td><td bgcolor=\"gray\">0</td><td bgcolor=\"gray\">0</td><td bgcolor=\"gray\">0</td><td bgcolor=\"gray\">0</td><td>-1</td><td>-1</td><td bgcolor=\"gray\">0</td><td bgcolor=\"gray\">0</td><td>-1</td><td>-1</td><td bgcolor=\"gray\">0</td><td bgcolor=\"gray\">0</td><td>-1</td><td>-1</td><td>0</td><td>-1</td><td bgcolor=\"gray\">0</td><td bgcolor=\"gray\">0</td><td bgcolor=\"gray\">0</td><td bgcolor=\"gray\">0</td><td bgcolor=\"gray\">0</td><td bgcolor=\"gray\">0</td><td bgcolor=\"gray\">0</td><td>-1</td><td>-1</td><td>0</td><td>0</td><td>0</td><td>-1</td><td>0</td><td>-1</td><td>0</td><td>-1</td><td>-1</td></tr><tr><td bgcolor=\"gray\">0</td><td bgcolor=\"gray\">0</td><td bgcolor=\"gray\">0</td><td bgcolor=\"gray\">0</td><td>-1</td><td bgcolor=\"gray\">0</td><td bgcolor=\"gray\">0</td><td bgcolor=\"gray\">0</td><td>-1</td><td bgcolor=\"gray\">0</td><td bgcolor=\"gray\">0</td><td bgcolor=\"gray\">0</td><td bgcolor=\"gray\">0</td><td>-1</td><td bgcolor=\"gray\">0</td><td bgcolor=\"gray\">0</td><td>-1</td><td>-1</td><td bgcolor=\"gray\">0</td><td bgcolor=\"gray\">0</td><td>-1</td><td bgcolor=\"gray\">0</td><td bgcolor=\"gray\">0</td><td>-1</td><td bgcolor=\"gray\">0</td><td bgcolor=\"gray\">0</td><td>-1</td><td bgcolor=\"gray\">0</td><td bgcolor=\"gray\">0</td><td bgcolor=\"gray\">0</td><td>-1</td><td>-1</td><td bgcolor=\"gray\">0</td><td bgcolor=\"gray\">0</td><td>-1</td><td bgcolor=\"gray\">0</td><td>-1</td><td bgcolor=\"gray\">0</td><td>-1</td><td>0</td><td>0</td><td>-1</td><td>0</td><td>-1</td><td>0</td><td>0</td><td>0</td><td>0</td><td>0</td><td>0</td></tr><tr><td bgcolor=\"gray\">0</td><td bgcolor=\"gray\">0</td><td bgcolor=\"gray\">0</td><td bgcolor=\"gray\">0</td><td bgcolor=\"gray\">0</td><td bgcolor=\"gray\">0</td><td bgcolor=\"gray\">0</td><td bgcolor=\"gray\">0</td><td bgcolor=\"gray\">0</td><td bgcolor=\"gray\">0</td><td>-1</td><td>-1</td><td bgcolor=\"gray\">0</td><td>-1</td><td bgcolor=\"gray\">0</td><td bgcolor=\"gray\">0</td><td>-1</td><td bgcolor=\"gray\">0</td><td bgcolor=\"gray\">0</td><td>-1</td><td>-1</td><td bgcolor=\"gray\">0</td><td bgcolor=\"gray\">0</td><td bgcolor=\"gray\">0</td><td bgcolor=\"gray\">0</td><td bgcolor=\"gray\">0</td><td bgcolor=\"gray\">0</td><td>-1</td><td bgcolor=\"gray\">0</td><td bgcolor=\"gray\">0</td><td bgcolor=\"gray\">0</td><td>-1</td><td>-1</td><td>-1</td><td>-1</td><td>-1</td><td>-1</td><td bgcolor=\"gray\">0</td><td>-1</td><td>-1</td><td>0</td><td>-1</td><td>0</td><td>0</td><td>0</td><td>-1</td><td>0</td><td>0</td><td>0</td><td>0</td></tr><tr><td bgcolor=\"gray\">0</td><td bgcolor=\"gray\">0</td><td bgcolor=\"gray\">0</td><td>-1</td><td bgcolor=\"gray\">0</td><td>-1</td><td bgcolor=\"gray\">0</td><td bgcolor=\"gray\">0</td><td>-1</td><td>-1</td><td bgcolor=\"gray\">0</td><td bgcolor=\"gray\">0</td><td>-1</td><td bgcolor=\"gray\">0</td><td bgcolor=\"gray\">0</td><td bgcolor=\"gray\">0</td><td bgcolor=\"gray\">0</td><td bgcolor=\"gray\">0</td><td bgcolor=\"gray\">0</td><td bgcolor=\"gray\">0</td><td bgcolor=\"gray\">0</td><td bgcolor=\"gray\">0</td><td>-1</td><td>-1</td><td>-1</td><td bgcolor=\"gray\">0</td><td>-1</td><td bgcolor=\"gray\">0</td><td bgcolor=\"gray\">0</td><td bgcolor=\"gray\">0</td><td bgcolor=\"gray\">0</td><td bgcolor=\"gray\">0</td><td bgcolor=\"gray\">0</td><td bgcolor=\"gray\">0</td><td bgcolor=\"gray\">0</td><td bgcolor=\"gray\">0</td><td bgcolor=\"gray\">0</td><td>-1</td><td>0</td><td>0</td><td>0</td><td>0</td><td>0</td><td>0</td><td>-1</td><td>-1</td><td>0</td><td>-1</td><td>-1</td><td>-1</td></tr><tr><td bgcolor=\"gray\">0</td><td bgcolor=\"gray\">0</td><td bgcolor=\"gray\">0</td><td bgcolor=\"gray\">0</td><td bgcolor=\"gray\">0</td><td>-1</td><td bgcolor=\"gray\">0</td><td bgcolor=\"gray\">0</td><td bgcolor=\"gray\">0</td><td bgcolor=\"gray\">0</td><td>-1</td><td bgcolor=\"gray\">0</td><td bgcolor=\"gray\">0</td><td>-1</td><td bgcolor=\"gray\">0</td><td bgcolor=\"gray\">0</td><td bgcolor=\"gray\">0</td><td>-1</td><td bgcolor=\"gray\">0</td><td bgcolor=\"gray\">0</td><td bgcolor=\"gray\">0</td><td>-1</td><td bgcolor=\"gray\">0</td><td bgcolor=\"gray\">0</td><td>-1</td><td bgcolor=\"gray\">0</td><td bgcolor=\"gray\">0</td><td bgcolor=\"gray\">0</td><td>-1</td><td>-1</td><td bgcolor=\"gray\">0</td><td>-1</td><td>-1</td><td bgcolor=\"gray\">0</td><td bgcolor=\"gray\">0</td><td bgcolor=\"gray\">0</td><td bgcolor=\"gray\">0</td><td bgcolor=\"gray\">0</td><td>-1</td><td>-1</td><td>-1</td><td>-1</td><td>-1</td><td>-1</td><td>0</td><td>0</td><td>-1</td><td>-1</td><td>-1</td><td bgcolor=\"gray\">0</td></tr><tr><td>-1</td><td bgcolor=\"gray\">0</td><td>-1</td><td bgcolor=\"gray\">0</td><td bgcolor=\"gray\">0</td><td bgcolor=\"gray\">0</td><td>-1</td><td bgcolor=\"gray\">0</td><td>-1</td><td bgcolor=\"gray\">0</td><td bgcolor=\"gray\">0</td><td bgcolor=\"gray\">0</td><td bgcolor=\"gray\">0</td><td bgcolor=\"gray\">0</td><td bgcolor=\"gray\">0</td><td bgcolor=\"gray\">0</td><td bgcolor=\"gray\">0</td><td>-1</td><td bgcolor=\"gray\">0</td><td bgcolor=\"gray\">0</td><td>-1</td><td bgcolor=\"gray\">0</td><td bgcolor=\"gray\">0</td><td>-1</td><td bgcolor=\"gray\">0</td><td bgcolor=\"gray\">0</td><td bgcolor=\"gray\">0</td><td bgcolor=\"gray\">0</td><td bgcolor=\"gray\">0</td><td bgcolor=\"gray\">0</td><td bgcolor=\"gray\">0</td><td>-1</td><td>-1</td><td bgcolor=\"gray\">0</td><td bgcolor=\"gray\">0</td><td bgcolor=\"gray\">0</td><td bgcolor=\"gray\">0</td><td>-1</td><td bgcolor=\"gray\">0</td><td bgcolor=\"gray\">0</td><td bgcolor=\"gray\">0</td><td bgcolor=\"gray\">0</td><td bgcolor=\"gray\">0</td><td>-1</td><td>-1</td><td>0</td><td>-1</td><td bgcolor=\"gray\">0</td><td bgcolor=\"gray\">0</td><td bgcolor=\"gray\">0</td></tr><tr><td>-1</td><td bgcolor=\"gray\">0</td><td>-1</td><td bgcolor=\"gray\">0</td><td>-1</td><td bgcolor=\"gray\">0</td><td bgcolor=\"gray\">0</td><td bgcolor=\"gray\">0</td><td bgcolor=\"gray\">0</td><td>-1</td><td bgcolor=\"gray\">0</td><td bgcolor=\"gray\">0</td><td bgcolor=\"gray\">0</td><td bgcolor=\"gray\">0</td><td>-1</td><td bgcolor=\"gray\">0</td><td bgcolor=\"gray\">0</td><td bgcolor=\"gray\">0</td><td>-1</td><td bgcolor=\"gray\">0</td><td>-1</td><td bgcolor=\"gray\">0</td><td>-1</td><td>-1</td><td>-1</td><td bgcolor=\"gray\">0</td><td>-1</td><td bgcolor=\"gray\">0</td><td bgcolor=\"gray\">0</td><td bgcolor=\"gray\">0</td><td>-1</td><td>-1</td><td bgcolor=\"gray\">0</td><td bgcolor=\"gray\">0</td><td bgcolor=\"gray\">0</td><td bgcolor=\"gray\">0</td><td>-1</td><td bgcolor=\"gray\">0</td><td bgcolor=\"gray\">0</td><td bgcolor=\"gray\">0</td><td>-1</td><td>-1</td><td bgcolor=\"gray\">0</td><td bgcolor=\"gray\">0</td><td bgcolor=\"gray\">0</td><td>-1</td><td bgcolor=\"gray\">0</td><td>-1</td><td bgcolor=\"gray\">0</td><td bgcolor=\"gray\">0</td></tr><tr><td bgcolor=\"gray\">0</td><td bgcolor=\"gray\">0</td><td bgcolor=\"gray\">0</td><td>-1</td><td bgcolor=\"gray\">0</td><td>-1</td><td bgcolor=\"gray\">0</td><td bgcolor=\"gray\">0</td><td>-1</td><td>-1</td><td>-1</td><td bgcolor=\"gray\">0</td><td bgcolor=\"gray\">0</td><td bgcolor=\"gray\">0</td><td>-1</td><td bgcolor=\"gray\">0</td><td bgcolor=\"gray\">0</td><td bgcolor=\"gray\">0</td><td bgcolor=\"gray\">0</td><td bgcolor=\"gray\">0</td><td>-1</td><td bgcolor=\"gray\">0</td><td bgcolor=\"gray\">0</td><td bgcolor=\"gray\">0</td><td bgcolor=\"gray\">0</td><td bgcolor=\"gray\">0</td><td>-1</td><td>-1</td><td bgcolor=\"gray\">0</td><td bgcolor=\"gray\">0</td><td bgcolor=\"gray\">0</td><td bgcolor=\"gray\">0</td><td bgcolor=\"gray\">0</td><td bgcolor=\"gray\">0</td><td bgcolor=\"gray\">0</td><td bgcolor=\"gray\">0</td><td bgcolor=\"gray\">0</td><td bgcolor=\"gray\">0</td><td>-1</td><td bgcolor=\"gray\">0</td><td bgcolor=\"gray\">0</td><td bgcolor=\"gray\">0</td><td bgcolor=\"gray\">0</td><td>-1</td><td bgcolor=\"gray\">0</td><td>-1</td><td bgcolor=\"gray\">0</td><td bgcolor=\"gray\">0</td><td bgcolor=\"gray\">0</td><td bgcolor=\"gray\">0</td></tr><tr><td>-1</td><td bgcolor=\"gray\">0</td><td>-1</td><td bgcolor=\"gray\">0</td><td bgcolor=\"gray\">0</td><td>-1</td><td bgcolor=\"gray\">0</td><td>-1</td><td>-1</td><td>-1</td><td bgcolor=\"gray\">0</td><td bgcolor=\"gray\">0</td><td>-1</td><td bgcolor=\"gray\">0</td><td bgcolor=\"gray\">0</td><td bgcolor=\"gray\">0</td><td>-1</td><td bgcolor=\"gray\">0</td><td>-1</td><td bgcolor=\"gray\">0</td><td bgcolor=\"gray\">0</td><td bgcolor=\"gray\">0</td><td bgcolor=\"gray\">0</td><td bgcolor=\"gray\">0</td><td bgcolor=\"gray\">0</td><td>-1</td><td>-1</td><td>0</td><td>-1</td><td>-1</td><td bgcolor=\"gray\">0</td><td>-1</td><td bgcolor=\"gray\">0</td><td>-1</td><td>-1</td><td bgcolor=\"gray\">0</td><td>-1</td><td bgcolor=\"gray\">0</td><td bgcolor=\"gray\">0</td><td bgcolor=\"gray\">0</td><td bgcolor=\"gray\">0</td><td bgcolor=\"gray\">0</td><td>-1</td><td>0</td><td>-1</td><td bgcolor=\"gray\">0</td><td bgcolor=\"gray\">0</td><td bgcolor=\"gray\">0</td><td>-1</td><td bgcolor=\"gray\">0</td></tr><tr><td>-1</td><td>-1</td><td bgcolor=\"gray\">0</td><td bgcolor=\"gray\">0</td><td>-1</td><td bgcolor=\"gray\">0</td><td bgcolor=\"gray\">0</td><td>-1</td><td>-1</td><td bgcolor=\"gray\">0</td><td bgcolor=\"gray\">0</td><td bgcolor=\"gray\">0</td><td>-1</td><td bgcolor=\"gray\">0</td><td bgcolor=\"gray\">0</td><td bgcolor=\"gray\">0</td><td>-1</td><td bgcolor=\"gray\">0</td><td bgcolor=\"gray\">0</td><td bgcolor=\"gray\">0</td><td bgcolor=\"gray\">0</td><td>-1</td><td bgcolor=\"gray\">0</td><td>-1</td><td bgcolor=\"gray\">0</td><td>-1</td><td>0</td><td>-1</td><td>0</td><td>-1</td><td>-1</td><td>-1</td><td bgcolor=\"gray\">0</td><td bgcolor=\"gray\">0</td><td bgcolor=\"gray\">0</td><td bgcolor=\"gray\">0</td><td bgcolor=\"gray\">0</td><td>-1</td><td>-1</td><td>-1</td><td>-1</td><td>-1</td><td>-1</td><td>-1</td><td>-1</td><td bgcolor=\"gray\">0</td><td bgcolor=\"gray\">0</td><td>-1</td><td>0</td><td>-1</td></tr><tr><td>0</td><td>-1</td><td bgcolor=\"gray\">0</td><td bgcolor=\"gray\">0</td><td bgcolor=\"gray\">0</td><td bgcolor=\"gray\">0</td><td bgcolor=\"gray\">0</td><td>-1</td><td bgcolor=\"gray\">0</td><td bgcolor=\"gray\">0</td><td bgcolor=\"gray\">0</td><td bgcolor=\"gray\">0</td><td bgcolor=\"gray\">0</td><td bgcolor=\"gray\">0</td><td>-1</td><td bgcolor=\"gray\">0</td><td bgcolor=\"gray\">0</td><td>-1</td><td>-1</td><td bgcolor=\"gray\">0</td><td bgcolor=\"gray\">0</td><td>-1</td><td>-1</td><td>0</td><td>-1</td><td>0</td><td>-1</td><td>0</td><td>-1</td><td>-1</td><td bgcolor=\"gray\">0</td><td bgcolor=\"gray\">0</td><td bgcolor=\"gray\">0</td><td bgcolor=\"gray\">0</td><td bgcolor=\"gray\">0</td><td bgcolor=\"gray\">0</td><td bgcolor=\"gray\">0</td><td>-1</td><td>-1</td><td bgcolor=\"gray\">0</td><td>-1</td><td bgcolor=\"gray\">0</td><td>-1</td><td>-1</td><td>0</td><td>-1</td><td bgcolor=\"gray\">0</td><td>-1</td><td>-1</td><td>-1</td></tr><tr><td>0</td><td>-1</td><td bgcolor=\"gray\">0</td><td bgcolor=\"gray\">0</td><td>-1</td><td>-1</td><td bgcolor=\"gray\">0</td><td bgcolor=\"gray\">0</td><td bgcolor=\"gray\">0</td><td bgcolor=\"gray\">0</td><td bgcolor=\"gray\">0</td><td bgcolor=\"gray\">0</td><td bgcolor=\"gray\">0</td><td>-1</td><td bgcolor=\"gray\">0</td><td bgcolor=\"gray\">0</td><td bgcolor=\"gray\">0</td><td bgcolor=\"gray\">0</td><td bgcolor=\"gray\">0</td><td>-1</td><td bgcolor=\"gray\">0</td><td bgcolor=\"gray\">0</td><td bgcolor=\"gray\">0</td><td>-1</td><td>0</td><td>0</td><td>-1</td><td>0</td><td>0</td><td>0</td><td>-1</td><td>-1</td><td bgcolor=\"gray\">0</td><td>-1</td><td bgcolor=\"gray\">0</td><td>-1</td><td>-1</td><td bgcolor=\"gray\">0</td><td>-1</td><td bgcolor=\"gray\">0</td><td bgcolor=\"gray\">0</td><td bgcolor=\"gray\">0</td><td>-1</td><td>-1</td><td>-1</td><td bgcolor=\"gray\">0</td><td bgcolor=\"gray\">0</td><td bgcolor=\"gray\">0</td><td bgcolor=\"gray\">0</td><td>-1</td></tr><tr><td>0</td><td>-1</td><td>-1</td><td bgcolor=\"gray\">0</td><td bgcolor=\"gray\">0</td><td bgcolor=\"gray\">0</td><td bgcolor=\"gray\">0</td><td bgcolor=\"gray\">0</td><td bgcolor=\"gray\">0</td><td bgcolor=\"gray\">0</td><td bgcolor=\"gray\">0</td><td>-1</td><td bgcolor=\"gray\">0</td><td bgcolor=\"gray\">0</td><td>-1</td><td bgcolor=\"gray\">0</td><td>-1</td><td>-1</td><td>-1</td><td bgcolor=\"gray\">0</td><td bgcolor=\"gray\">0</td><td bgcolor=\"gray\">0</td><td>-1</td><td>0</td><td>0</td><td>-1</td><td>0</td><td>0</td><td>0</td><td>-1</td><td bgcolor=\"gray\">0</td><td bgcolor=\"gray\">0</td><td bgcolor=\"gray\">0</td><td bgcolor=\"gray\">0</td><td bgcolor=\"gray\">0</td><td>-1</td><td bgcolor=\"gray\">0</td><td bgcolor=\"gray\">0</td><td bgcolor=\"gray\">0</td><td bgcolor=\"gray\">0</td><td>-1</td><td bgcolor=\"gray\">0</td><td bgcolor=\"gray\">0</td><td bgcolor=\"gray\">0</td><td bgcolor=\"gray\">0</td><td bgcolor=\"gray\">0</td><td bgcolor=\"gray\">0</td><td bgcolor=\"gray\">0</td><td>-1</td><td>0</td></tr><tr><td>0</td><td>-1</td><td>-1</td><td bgcolor=\"gray\">0</td><td bgcolor=\"gray\">0</td><td bgcolor=\"gray\">0</td><td>-1</td><td bgcolor=\"gray\">0</td><td bgcolor=\"gray\">0</td><td bgcolor=\"gray\">0</td><td>-1</td><td bgcolor=\"gray\">0</td><td bgcolor=\"gray\">0</td><td bgcolor=\"gray\">0</td><td bgcolor=\"gray\">0</td><td>-1</td><td bgcolor=\"gray\">0</td><td bgcolor=\"gray\">0</td><td bgcolor=\"gray\">0</td><td bgcolor=\"gray\">0</td><td bgcolor=\"gray\">0</td><td bgcolor=\"gray\">0</td><td>-1</td><td>0</td><td>-1</td><td bgcolor=\"gray\">0</td><td>-1</td><td>-1</td><td>-1</td><td bgcolor=\"gray\">0</td><td bgcolor=\"gray\">0</td><td bgcolor=\"gray\">0</td><td bgcolor=\"gray\">0</td><td bgcolor=\"gray\">0</td><td>-1</td><td>-1</td><td bgcolor=\"gray\">0</td><td bgcolor=\"gray\">0</td><td bgcolor=\"gray\">0</td><td bgcolor=\"gray\">0</td><td bgcolor=\"gray\">0</td><td bgcolor=\"gray\">0</td><td bgcolor=\"gray\">0</td><td bgcolor=\"gray\">0</td><td bgcolor=\"gray\">0</td><td bgcolor=\"gray\">0</td><td>-1</td><td bgcolor=\"gray\">0</td><td>-1</td><td>-1</td></tr><tr><td>-1</td><td>-1</td><td>-1</td><td>-1</td><td bgcolor=\"gray\">0</td><td bgcolor=\"gray\">0</td><td bgcolor=\"gray\">0</td><td>-1</td><td>-1</td><td bgcolor=\"gray\">0</td><td>-1</td><td>-1</td><td bgcolor=\"gray\">0</td><td bgcolor=\"gray\">0</td><td>-1</td><td bgcolor=\"gray\">0</td><td bgcolor=\"gray\">0</td><td>-1</td><td bgcolor=\"gray\">0</td><td bgcolor=\"gray\">0</td><td bgcolor=\"gray\">0</td><td bgcolor=\"gray\">0</td><td bgcolor=\"gray\">0</td><td>-1</td><td bgcolor=\"gray\">0</td><td bgcolor=\"gray\">0</td><td bgcolor=\"gray\">0</td><td bgcolor=\"gray\">0</td><td bgcolor=\"gray\">0</td><td>-1</td><td>-1</td><td bgcolor=\"gray\">0</td><td bgcolor=\"gray\">0</td><td bgcolor=\"gray\">0</td><td>-1</td><td bgcolor=\"gray\">0</td><td bgcolor=\"gray\">0</td><td bgcolor=\"gray\">0</td><td>-1</td><td>-1</td><td>-1</td><td>-1</td><td bgcolor=\"gray\">0</td><td bgcolor=\"gray\">0</td><td>-1</td><td>-1</td><td bgcolor=\"gray\">0</td><td>-1</td><td>-1</td><td>-1</td></tr><tr><td>-1</td><td bgcolor=\"gray\">0</td><td bgcolor=\"gray\">0</td><td bgcolor=\"gray\">0</td><td bgcolor=\"gray\">0</td><td bgcolor=\"gray\">0</td><td>-1</td><td bgcolor=\"gray\">0</td><td bgcolor=\"gray\">0</td><td bgcolor=\"gray\">0</td><td>-1</td><td bgcolor=\"gray\">0</td><td bgcolor=\"gray\">0</td><td>-1</td><td>-1</td><td>-1</td><td bgcolor=\"gray\">0</td><td bgcolor=\"gray\">0</td><td>-1</td><td bgcolor=\"gray\">0</td><td bgcolor=\"gray\">0</td><td bgcolor=\"gray\">0</td><td>-1</td><td bgcolor=\"gray\">0</td><td bgcolor=\"gray\">0</td><td>-1</td><td bgcolor=\"gray\">0</td><td bgcolor=\"gray\">0</td><td bgcolor=\"gray\">0</td><td bgcolor=\"gray\">0</td><td>-1</td><td>-1</td><td bgcolor=\"gray\">0</td><td bgcolor=\"gray\">0</td><td bgcolor=\"gray\">0</td><td bgcolor=\"gray\">0</td><td>-1</td><td bgcolor=\"gray\">0</td><td>-1</td><td>0</td><td>0</td><td>-1</td><td bgcolor=\"gray\">0</td><td bgcolor=\"gray\">0</td><td>-1</td><td bgcolor=\"gray\">0</td><td bgcolor=\"gray\">0</td><td bgcolor=\"gray\">0</td><td bgcolor=\"gray\">0</td><td bgcolor=\"gray\">0</td></tr><tr><td>0</td><td>-1</td><td bgcolor=\"gray\">0</td><td bgcolor=\"gray\">0</td><td>-1</td><td bgcolor=\"gray\">0</td><td>-1</td><td>-1</td><td>-1</td><td bgcolor=\"gray\">0</td><td>-1</td><td>-1</td><td>-1</td><td bgcolor=\"gray\">0</td><td bgcolor=\"gray\">0</td><td bgcolor=\"gray\">0</td><td bgcolor=\"gray\">0</td><td bgcolor=\"gray\">0</td><td bgcolor=\"gray\">0</td><td bgcolor=\"gray\">0</td><td bgcolor=\"gray\">0</td><td bgcolor=\"gray\">0</td><td bgcolor=\"gray\">0</td><td>-1</td><td>-1</td><td bgcolor=\"gray\">0</td><td bgcolor=\"gray\">0</td><td>-1</td><td bgcolor=\"gray\">0</td><td bgcolor=\"gray\">0</td><td bgcolor=\"gray\">0</td><td>-1</td><td bgcolor=\"gray\">0</td><td bgcolor=\"gray\">0</td><td>-1</td><td>-1</td><td>-1</td><td>-1</td><td bgcolor=\"gray\">0</td><td>-1</td><td>-1</td><td bgcolor=\"gray\">0</td><td bgcolor=\"gray\">0</td><td>-1</td><td>-1</td><td bgcolor=\"gray\">0</td><td>-1</td><td bgcolor=\"gray\">0</td><td>-1</td><td bgcolor=\"gray\">0</td></tr><tr><td>-1</td><td bgcolor=\"gray\">0</td><td bgcolor=\"gray\">0</td><td bgcolor=\"gray\">0</td><td>-1</td><td>-1</td><td bgcolor=\"gray\">0</td><td bgcolor=\"gray\">0</td><td>-1</td><td bgcolor=\"gray\">0</td><td bgcolor=\"gray\">0</td><td bgcolor=\"gray\">0</td><td bgcolor=\"gray\">0</td><td bgcolor=\"gray\">0</td><td bgcolor=\"gray\">0</td><td bgcolor=\"gray\">0</td><td>-1</td><td bgcolor=\"gray\">0</td><td>-1</td><td bgcolor=\"gray\">0</td><td bgcolor=\"gray\">0</td><td>-1</td><td bgcolor=\"gray\">0</td><td>-1</td><td>-1</td><td bgcolor=\"gray\">0</td><td bgcolor=\"gray\">0</td><td>-1</td><td>-1</td><td bgcolor=\"gray\">0</td><td>-1</td><td bgcolor=\"gray\">0</td><td bgcolor=\"gray\">0</td><td bgcolor=\"gray\">0</td><td bgcolor=\"gray\">0</td><td>-1</td><td>-1</td><td>-1</td><td bgcolor=\"gray\">0</td><td bgcolor=\"gray\">0</td><td bgcolor=\"gray\">0</td><td bgcolor=\"gray\">0</td><td bgcolor=\"gray\">0</td><td bgcolor=\"gray\">0</td><td bgcolor=\"gray\">0</td><td>-1</td><td>-1</td><td bgcolor=\"gray\">0</td><td bgcolor=\"gray\">0</td><td bgcolor=\"gray\">0</td></tr><tr><td bgcolor=\"gray\">0</td><td bgcolor=\"gray\">0</td><td bgcolor=\"gray\">0</td><td>-1</td><td bgcolor=\"gray\">0</td><td bgcolor=\"gray\">0</td><td bgcolor=\"gray\">0</td><td>-1</td><td bgcolor=\"gray\">0</td><td bgcolor=\"gray\">0</td><td>-1</td><td bgcolor=\"gray\">0</td><td>-1</td><td bgcolor=\"gray\">0</td><td bgcolor=\"gray\">0</td><td bgcolor=\"gray\">0</td><td bgcolor=\"gray\">0</td><td>-1</td><td bgcolor=\"gray\">0</td><td>-1</td><td bgcolor=\"gray\">0</td><td bgcolor=\"gray\">0</td><td bgcolor=\"gray\">0</td><td bgcolor=\"gray\">0</td><td>-1</td><td bgcolor=\"gray\">0</td><td bgcolor=\"gray\">0</td><td bgcolor=\"gray\">0</td><td>-1</td><td bgcolor=\"gray\">0</td><td>-1</td><td bgcolor=\"gray\">0</td><td bgcolor=\"gray\">0</td><td bgcolor=\"gray\">0</td><td>-1</td><td bgcolor=\"gray\">0</td><td bgcolor=\"gray\">0</td><td>-1</td><td bgcolor=\"gray\">0</td><td bgcolor=\"gray\">0</td><td>-1</td><td>-1</td><td bgcolor=\"gray\">0</td><td>-1</td><td>-1</td><td>-1</td><td>-1</td><td>-1</td><td bgcolor=\"gray\">0</td><td bgcolor=\"gray\">0</td></tr><tr><td bgcolor=\"gray\">0</td><td>-1</td><td bgcolor=\"gray\">0</td><td>-1</td><td bgcolor=\"gray\">0</td><td bgcolor=\"gray\">0</td><td bgcolor=\"gray\">0</td><td bgcolor=\"gray\">0</td><td bgcolor=\"gray\">0</td><td bgcolor=\"gray\">0</td><td>-1</td><td bgcolor=\"gray\">0</td><td>-1</td><td>-1</td><td bgcolor=\"gray\">0</td><td>-1</td><td bgcolor=\"gray\">0</td><td>-1</td><td bgcolor=\"gray\">0</td><td bgcolor=\"gray\">0</td><td bgcolor=\"gray\">0</td><td>-1</td><td bgcolor=\"gray\">0</td><td bgcolor=\"gray\">0</td><td>-1</td><td bgcolor=\"gray\">0</td><td>-1</td><td>-1</td><td bgcolor=\"gray\">0</td><td bgcolor=\"gray\">0</td><td>-1</td><td bgcolor=\"gray\">0</td><td bgcolor=\"gray\">0</td><td bgcolor=\"gray\">0</td><td bgcolor=\"gray\">0</td><td bgcolor=\"gray\">0</td><td>-1</td><td>-1</td><td>-1</td><td bgcolor=\"gray\">0</td><td>-1</td><td bgcolor=\"gray\">0</td><td bgcolor=\"gray\">0</td><td bgcolor=\"gray\">0</td><td bgcolor=\"gray\">0</td><td>-1</td><td>-1</td><td>-1</td><td bgcolor=\"gray\">0</td><td bgcolor=\"gray\">0</td></tr><tr><td>-1</td><td bgcolor=\"gray\">0</td><td bgcolor=\"gray\">0</td><td bgcolor=\"gray\">0</td><td bgcolor=\"gray\">0</td><td bgcolor=\"gray\">0</td><td bgcolor=\"gray\">0</td><td bgcolor=\"gray\">0</td><td bgcolor=\"gray\">0</td><td>-1</td><td>0</td><td>-1</td><td>-1</td><td bgcolor=\"gray\">0</td><td bgcolor=\"gray\">0</td><td bgcolor=\"gray\">0</td><td>-1</td><td>-1</td><td bgcolor=\"gray\">0</td><td>-1</td><td>-1</td><td>0</td><td>-1</td><td bgcolor=\"gray\">0</td><td bgcolor=\"gray\">0</td><td bgcolor=\"gray\">0</td><td>-1</td><td bgcolor=\"gray\">0</td><td bgcolor=\"gray\">0</td><td bgcolor=\"gray\">0</td><td bgcolor=\"gray\">0</td><td>-1</td><td bgcolor=\"gray\">0</td><td>-1</td><td bgcolor=\"gray\">0</td><td>-1</td><td bgcolor=\"gray\">0</td><td bgcolor=\"gray\">0</td><td>-1</td><td bgcolor=\"gray\">0</td><td bgcolor=\"gray\">0</td><td>-1</td><td bgcolor=\"gray\">0</td><td bgcolor=\"gray\">0</td><td bgcolor=\"gray\">0</td><td bgcolor=\"gray\">0</td><td bgcolor=\"gray\">0</td><td bgcolor=\"gray\">0</td><td>-1</td><td bgcolor=\"gray\">0</td></tr><tr><td bgcolor=\"gray\">0</td><td>-1</td><td>-1</td><td>-1</td><td bgcolor=\"gray\">0</td><td>-1</td><td>-1</td><td bgcolor=\"gray\">0</td><td bgcolor=\"gray\">0</td><td>-1</td><td>-1</td><td bgcolor=\"gray\">0</td><td>-1</td><td bgcolor=\"gray\">0</td><td bgcolor=\"gray\">0</td><td bgcolor=\"gray\">0</td><td bgcolor=\"gray\">0</td><td>-1</td><td bgcolor=\"gray\">0</td><td bgcolor=\"gray\">0</td><td bgcolor=\"gray\">0</td><td>-1</td><td bgcolor=\"gray\">0</td><td bgcolor=\"gray\">0</td><td bgcolor=\"gray\">0</td><td bgcolor=\"gray\">0</td><td bgcolor=\"gray\">0</td><td bgcolor=\"gray\">0</td><td bgcolor=\"gray\">0</td><td>-1</td><td>-1</td><td bgcolor=\"gray\">0</td><td bgcolor=\"gray\">0</td><td bgcolor=\"gray\">0</td><td>-1</td><td bgcolor=\"gray\">0</td><td bgcolor=\"gray\">0</td><td bgcolor=\"gray\">0</td><td bgcolor=\"gray\">0</td><td bgcolor=\"gray\">0</td><td bgcolor=\"gray\">0</td><td bgcolor=\"gray\">0</td><td>-1</td><td bgcolor=\"gray\">0</td><td bgcolor=\"gray\">0</td><td bgcolor=\"gray\">0</td><td bgcolor=\"gray\">0</td><td bgcolor=\"gray\">0</td><td bgcolor=\"gray\">0</td><td bgcolor=\"gray\">0</td></tr><tr><td bgcolor=\"gray\">0</td><td bgcolor=\"gray\">0</td><td>-1</td><td>-1</td><td bgcolor=\"gray\">0</td><td bgcolor=\"gray\">0</td><td>-1</td><td>-1</td><td bgcolor=\"gray\">0</td><td bgcolor=\"gray\">0</td><td bgcolor=\"gray\">0</td><td bgcolor=\"gray\">0</td><td bgcolor=\"gray\">0</td><td>-1</td><td bgcolor=\"gray\">0</td><td bgcolor=\"gray\">0</td><td>-1</td><td>-1</td><td bgcolor=\"gray\">0</td><td bgcolor=\"gray\">0</td><td bgcolor=\"gray\">0</td><td>-1</td><td bgcolor=\"gray\">0</td><td bgcolor=\"gray\">0</td><td>-1</td><td bgcolor=\"gray\">0</td><td bgcolor=\"gray\">0</td><td>-1</td><td bgcolor=\"gray\">0</td><td>-1</td><td>-1</td><td bgcolor=\"gray\">0</td><td bgcolor=\"gray\">0</td><td bgcolor=\"gray\">0</td><td>-1</td><td>-1</td><td bgcolor=\"gray\">0</td><td bgcolor=\"gray\">0</td><td bgcolor=\"gray\">0</td><td bgcolor=\"gray\">0</td><td bgcolor=\"gray\">0</td><td>-1</td><td bgcolor=\"gray\">0</td><td bgcolor=\"gray\">0</td><td>-1</td><td bgcolor=\"gray\">0</td><td bgcolor=\"gray\">0</td><td>-1</td><td bgcolor=\"gray\">0</td><td bgcolor=\"gray\">0</td></tr><tr><td bgcolor=\"gray\">0</td><td bgcolor=\"gray\">0</td><td bgcolor=\"gray\">0</td><td bgcolor=\"gray\">0</td><td bgcolor=\"gray\">0</td><td bgcolor=\"gray\">0</td><td>-1</td><td>-1</td><td>-1</td><td>-1</td><td bgcolor=\"gray\">0</td><td bgcolor=\"gray\">0</td><td bgcolor=\"gray\">0</td><td bgcolor=\"gray\">0</td><td>-1</td><td bgcolor=\"gray\">0</td><td>-1</td><td bgcolor=\"gray\">0</td><td>-1</td><td bgcolor=\"gray\">0</td><td bgcolor=\"gray\">0</td><td bgcolor=\"gray\">0</td><td bgcolor=\"gray\">0</td><td>-1</td><td>-1</td><td>-1</td><td>-1</td><td>-1</td><td>-1</td><td>-1</td><td>-1</td><td bgcolor=\"gray\">0</td><td bgcolor=\"gray\">0</td><td bgcolor=\"gray\">0</td><td>-1</td><td>0</td><td>-1</td><td bgcolor=\"gray\">0</td><td>-1</td><td bgcolor=\"gray\">0</td><td bgcolor=\"gray\">0</td><td bgcolor=\"gray\">0</td><td bgcolor=\"gray\">0</td><td bgcolor=\"gray\">0</td><td bgcolor=\"gray\">0</td><td bgcolor=\"gray\">0</td><td bgcolor=\"gray\">0</td><td>-1</td><td bgcolor=\"gray\">0</td><td bgcolor=\"gray\">0</td></tr><tr><td bgcolor=\"gray\">0</td><td>-1</td><td bgcolor=\"gray\">0</td><td>-1</td><td bgcolor=\"gray\">0</td><td bgcolor=\"gray\">0</td><td bgcolor=\"gray\">0</td><td>-1</td><td>-1</td><td bgcolor=\"gray\">0</td><td bgcolor=\"gray\">0</td><td>-1</td><td bgcolor=\"gray\">0</td><td>-1</td><td>-1</td><td bgcolor=\"gray\">0</td><td bgcolor=\"gray\">0</td><td bgcolor=\"gray\">0</td><td bgcolor=\"gray\">0</td><td bgcolor=\"gray\">0</td><td bgcolor=\"gray\">0</td><td bgcolor=\"gray\">0</td><td bgcolor=\"gray\">0</td><td bgcolor=\"gray\">0</td><td bgcolor=\"gray\">0</td><td bgcolor=\"gray\">0</td><td bgcolor=\"gray\">0</td><td bgcolor=\"gray\">0</td><td bgcolor=\"gray\">0</td><td bgcolor=\"gray\">0</td><td bgcolor=\"gray\">0</td><td bgcolor=\"gray\">0</td><td bgcolor=\"gray\">0</td><td>-1</td><td>0</td><td>-1</td><td bgcolor=\"gray\">0</td><td bgcolor=\"gray\">0</td><td bgcolor=\"gray\">0</td><td bgcolor=\"gray\">0</td><td bgcolor=\"gray\">0</td><td>-1</td><td>-1</td><td bgcolor=\"gray\">0</td><td bgcolor=\"gray\">0</td><td bgcolor=\"gray\">0</td><td bgcolor=\"gray\">0</td><td bgcolor=\"gray\">0</td><td bgcolor=\"gray\">0</td><td bgcolor=\"gray\">0</td></tr><tr><td bgcolor=\"gray\">0</td><td bgcolor=\"gray\">0</td><td>-1</td><td bgcolor=\"gray\">0</td><td bgcolor=\"gray\">0</td><td>-1</td><td>-1</td><td>-1</td><td bgcolor=\"gray\">0</td><td bgcolor=\"gray\">0</td><td bgcolor=\"gray\">0</td><td bgcolor=\"gray\">0</td><td bgcolor=\"gray\">0</td><td bgcolor=\"gray\">0</td><td bgcolor=\"gray\">0</td><td bgcolor=\"gray\">0</td><td bgcolor=\"gray\">0</td><td>-1</td><td>-1</td><td bgcolor=\"gray\">0</td><td bgcolor=\"gray\">0</td><td bgcolor=\"gray\">0</td><td>-1</td><td>-1</td><td>-1</td><td bgcolor=\"gray\">0</td><td bgcolor=\"gray\">0</td><td bgcolor=\"gray\">0</td><td bgcolor=\"gray\">0</td><td bgcolor=\"gray\">0</td><td bgcolor=\"gray\">0</td><td>-1</td><td>-1</td><td>0</td><td>0</td><td>0</td><td>-1</td><td bgcolor=\"gray\">0</td><td bgcolor=\"gray\">0</td><td>-1</td><td>-1</td><td bgcolor=\"gray\">0</td><td bgcolor=\"gray\">0</td><td bgcolor=\"gray\">0</td><td bgcolor=\"gray\">0</td><td>-1</td><td>-1</td><td bgcolor=\"gray\">0</td><td bgcolor=\"gray\">0</td><td>-1</td></tr><tr><td bgcolor=\"gray\">0</td><td bgcolor=\"gray\">0</td><td bgcolor=\"gray\">0</td><td bgcolor=\"gray\">0</td><td>-1</td><td>0</td><td>-1</td><td bgcolor=\"gray\">0</td><td bgcolor=\"gray\">0</td><td bgcolor=\"gray\">0</td><td bgcolor=\"gray\">0</td><td bgcolor=\"gray\">0</td><td bgcolor=\"gray\">0</td><td bgcolor=\"gray\">0</td><td bgcolor=\"gray\">0</td><td bgcolor=\"gray\">0</td><td bgcolor=\"gray\">0</td><td>-1</td><td bgcolor=\"gray\">0</td><td>-1</td><td>-1</td><td>-1</td><td>0</td><td>-1</td><td>-1</td><td>-1</td><td bgcolor=\"gray\">0</td><td bgcolor=\"gray\">0</td><td bgcolor=\"gray\">0</td><td>-1</td><td bgcolor=\"gray\">0</td><td bgcolor=\"gray\">0</td><td bgcolor=\"gray\">0</td><td>-1</td><td>0</td><td>-1</td><td>-1</td><td bgcolor=\"gray\">0</td><td bgcolor=\"gray\">0</td><td bgcolor=\"gray\">0</td><td bgcolor=\"gray\">0</td><td bgcolor=\"gray\">0</td><td bgcolor=\"gray\">0</td><td bgcolor=\"gray\">0</td><td bgcolor=\"gray\">0</td><td bgcolor=\"gray\">0</td><td>-1</td><td bgcolor=\"gray\">0</td><td bgcolor=\"gray\">0</td><td bgcolor=\"gray\">0</td></tr><tr><td>-1</td><td bgcolor=\"gray\">0</td><td bgcolor=\"gray\">0</td><td>-1</td><td>-1</td><td>0</td><td>-1</td><td bgcolor=\"gray\">0</td><td>-1</td><td bgcolor=\"gray\">0</td><td bgcolor=\"gray\">0</td><td bgcolor=\"gray\">0</td><td bgcolor=\"gray\">0</td><td bgcolor=\"gray\">0</td><td>-1</td><td bgcolor=\"gray\">0</td><td>-1</td><td>-1</td><td bgcolor=\"gray\">0</td><td>-1</td><td bgcolor=\"gray\">0</td><td bgcolor=\"gray\">0</td><td>-1</td><td bgcolor=\"gray\">0</td><td bgcolor=\"gray\">0</td><td>-1</td><td bgcolor=\"gray\">0</td><td bgcolor=\"gray\">0</td><td bgcolor=\"gray\">0</td><td>-1</td><td>-1</td><td bgcolor=\"gray\">0</td><td bgcolor=\"gray\">0</td><td bgcolor=\"gray\">0</td><td>-1</td><td bgcolor=\"gray\">0</td><td bgcolor=\"gray\">0</td><td bgcolor=\"gray\">0</td><td>-1</td><td>-1</td><td bgcolor=\"gray\">0</td><td>-1</td><td bgcolor=\"gray\">0</td><td>-1</td><td>-1</td><td bgcolor=\"gray\">0</td><td bgcolor=\"gray\">0</td><td bgcolor=\"gray\">0</td><td bgcolor=\"gray\">0</td><td bgcolor=\"gray\">0</td></tr><tr><td bgcolor=\"gray\">0</td><td bgcolor=\"gray\">0</td><td>-1</td><td bgcolor=\"gray\">0</td><td bgcolor=\"gray\">0</td><td>-1</td><td bgcolor=\"gray\">0</td><td>-1</td><td bgcolor=\"gray\">0</td><td>-1</td><td>-1</td><td bgcolor=\"gray\">0</td><td bgcolor=\"gray\">0</td><td>-1</td><td>-1</td><td>-1</td><td>-1</td><td>-1</td><td bgcolor=\"gray\">0</td><td bgcolor=\"gray\">0</td><td bgcolor=\"gray\">0</td><td>-1</td><td>-1</td><td bgcolor=\"gray\">0</td><td>-1</td><td bgcolor=\"gray\">0</td><td bgcolor=\"gray\">0</td><td bgcolor=\"gray\">0</td><td bgcolor=\"gray\">0</td><td bgcolor=\"gray\">0</td><td bgcolor=\"gray\">0</td><td bgcolor=\"gray\">0</td><td bgcolor=\"gray\">0</td><td>-1</td><td>-1</td><td>-1</td><td bgcolor=\"gray\">0</td><td bgcolor=\"gray\">0</td><td bgcolor=\"gray\">0</td><td>-1</td><td bgcolor=\"gray\">0</td><td bgcolor=\"gray\">0</td><td bgcolor=\"gray\">0</td><td>-1</td><td bgcolor=\"gray\">0</td><td bgcolor=\"gray\">0</td><td>-1</td><td>-1</td><td bgcolor=\"gray\">0</td><td bgcolor=\"gray\">0</td></tr><tr><td bgcolor=\"gray\">0</td><td>-1</td><td>-1</td><td bgcolor=\"gray\">0</td><td bgcolor=\"gray\">0</td><td bgcolor=\"gray\">0</td><td bgcolor=\"gray\">0</td><td bgcolor=\"gray\">0</td><td bgcolor=\"gray\">0</td><td bgcolor=\"gray\">0</td><td>-1</td><td bgcolor=\"gray\">0</td><td>-1</td><td>0</td><td>-1</td><td bgcolor=\"gray\">0</td><td>-1</td><td bgcolor=\"gray\">0</td><td bgcolor=\"gray\">0</td><td bgcolor=\"gray\">0</td><td bgcolor=\"gray\">0</td><td bgcolor=\"gray\">0</td><td bgcolor=\"gray\">0</td><td bgcolor=\"gray\">0</td><td>-1</td><td bgcolor=\"gray\">0</td><td bgcolor=\"gray\">0</td><td bgcolor=\"gray\">0</td><td bgcolor=\"gray\">0</td><td>-1</td><td bgcolor=\"gray\">0</td><td bgcolor=\"gray\">0</td><td bgcolor=\"gray\">0</td><td bgcolor=\"gray\">0</td><td bgcolor=\"gray\">0</td><td bgcolor=\"gray\">0</td><td>-1</td><td bgcolor=\"gray\">0</td><td bgcolor=\"gray\">0</td><td>-1</td><td>-1</td><td bgcolor=\"gray\">0</td><td bgcolor=\"gray\">0</td><td bgcolor=\"gray\">0</td><td bgcolor=\"gray\">0</td><td>-1</td><td bgcolor=\"gray\">0</td><td bgcolor=\"gray\">0</td><td bgcolor=\"gray\">0</td><td bgcolor=\"gray\">0</td></tr><tr><td bgcolor=\"gray\">0</td><td bgcolor=\"gray\">0</td><td bgcolor=\"gray\">0</td><td bgcolor=\"gray\">0</td><td>-1</td><td bgcolor=\"gray\">0</td><td>-1</td><td bgcolor=\"gray\">0</td><td bgcolor=\"gray\">0</td><td bgcolor=\"gray\">0</td><td>-1</td><td bgcolor=\"gray\">0</td><td>-1</td><td>-1</td><td bgcolor=\"gray\">0</td><td bgcolor=\"gray\">0</td><td bgcolor=\"gray\">0</td><td bgcolor=\"gray\">0</td><td bgcolor=\"gray\">0</td><td>-1</td><td>-1</td><td bgcolor=\"gray\">0</td><td bgcolor=\"gray\">0</td><td bgcolor=\"gray\">0</td><td bgcolor=\"gray\">0</td><td bgcolor=\"gray\">0</td><td>-1</td><td bgcolor=\"gray\">0</td><td bgcolor=\"gray\">0</td><td bgcolor=\"gray\">0</td><td bgcolor=\"gray\">0</td><td bgcolor=\"gray\">0</td><td bgcolor=\"gray\">0</td><td bgcolor=\"gray\">0</td><td>-1</td><td bgcolor=\"gray\">0</td><td bgcolor=\"gray\">0</td><td>-1</td><td bgcolor=\"gray\">0</td><td bgcolor=\"gray\">0</td><td bgcolor=\"gray\">0</td><td bgcolor=\"gray\">0</td><td bgcolor=\"gray\">0</td><td>-1</td><td>-1</td><td bgcolor=\"gray\">0</td><td bgcolor=\"gray\">0</td><td>-1</td><td bgcolor=\"gray\">0</td><td bgcolor=\"gray\">0</td></tr><tr><td bgcolor=\"gray\">0</td><td bgcolor=\"gray\">0</td><td bgcolor=\"gray\">0</td><td>-1</td><td bgcolor=\"gray\">0</td><td bgcolor=\"gray\">0</td><td>-1</td><td bgcolor=\"gray\">0</td><td>-1</td><td bgcolor=\"gray\">0</td><td bgcolor=\"gray\">0</td><td bgcolor=\"gray\">0</td><td>-1</td><td bgcolor=\"gray\">0</td><td bgcolor=\"gray\">0</td><td>-1</td><td>-1</td><td>-1</td><td bgcolor=\"gray\">0</td><td bgcolor=\"gray\">0</td><td bgcolor=\"gray\">0</td><td bgcolor=\"gray\">0</td><td bgcolor=\"gray\">0</td><td bgcolor=\"gray\">0</td><td>-1</td><td bgcolor=\"gray\">0</td><td bgcolor=\"gray\">0</td><td bgcolor=\"gray\">0</td><td>-1</td><td bgcolor=\"gray\">0</td><td>-1</td><td bgcolor=\"gray\">0</td><td bgcolor=\"gray\">0</td><td>-1</td><td>-1</td><td bgcolor=\"gray\">0</td><td bgcolor=\"gray\">0</td><td bgcolor=\"gray\">0</td><td bgcolor=\"gray\">0</td><td>-1</td><td>-1</td><td bgcolor=\"gray\">0</td><td bgcolor=\"gray\">0</td><td bgcolor=\"gray\">0</td><td bgcolor=\"gray\">0</td><td bgcolor=\"gray\">0</td><td bgcolor=\"gray\">0</td><td>-1</td><td bgcolor=\"gray\">0</td><td>-1</td></tr><tr><td bgcolor=\"gray\">0</td><td bgcolor=\"gray\">0</td><td bgcolor=\"gray\">0</td><td bgcolor=\"gray\">0</td><td bgcolor=\"gray\">0</td><td bgcolor=\"gray\">0</td><td bgcolor=\"gray\">0</td><td>-1</td><td>-1</td><td bgcolor=\"gray\">0</td><td bgcolor=\"gray\">0</td><td bgcolor=\"gray\">0</td><td bgcolor=\"gray\">0</td><td bgcolor=\"gray\">0</td><td bgcolor=\"gray\">0</td><td bgcolor=\"gray\">0</td><td>-1</td><td bgcolor=\"gray\">0</td><td bgcolor=\"gray\">0</td><td bgcolor=\"gray\">0</td><td>-1</td><td>-1</td><td bgcolor=\"gray\">0</td><td bgcolor=\"gray\">0</td><td bgcolor=\"gray\">0</td><td>-1</td><td>-1</td><td>-1</td><td bgcolor=\"gray\">0</td><td>-1</td><td bgcolor=\"gray\">0</td><td bgcolor=\"gray\">0</td><td>-1</td><td>0</td><td>-1</td><td bgcolor=\"gray\">0</td><td>-1</td><td bgcolor=\"gray\">0</td><td>-1</td><td bgcolor=\"gray\">0</td><td bgcolor=\"gray\">0</td><td bgcolor=\"gray\">0</td><td bgcolor=\"gray\">0</td><td>-1</td><td>-1</td><td bgcolor=\"gray\">0</td><td bgcolor=\"gray\">0</td><td bgcolor=\"gray\">0</td><td bgcolor=\"gray\">0</td><td bgcolor=\"gray\">0</td></tr><tr><td bgcolor=\"gray\">0</td><td bgcolor=\"gray\">0</td><td bgcolor=\"gray\">0</td><td bgcolor=\"gray\">0</td><td bgcolor=\"gray\">0</td><td bgcolor=\"gray\">0</td><td>-1</td><td bgcolor=\"gray\">0</td><td bgcolor=\"gray\">0</td><td>-1</td><td bgcolor=\"gray\">0</td><td bgcolor=\"gray\">0</td><td>-1</td><td bgcolor=\"gray\">0</td><td>-1</td><td bgcolor=\"gray\">0</td><td bgcolor=\"gray\">0</td><td bgcolor=\"gray\">0</td><td bgcolor=\"gray\">0</td><td bgcolor=\"gray\">0</td><td>-1</td><td>0</td><td>-1</td><td bgcolor=\"gray\">0</td><td bgcolor=\"gray\">0</td><td bgcolor=\"gray\">0</td><td bgcolor=\"gray\">0</td><td bgcolor=\"gray\">0</td><td bgcolor=\"gray\">0</td><td>-1</td><td bgcolor=\"gray\">0</td><td>-1</td><td bgcolor=\"gray\">0</td><td>-1</td><td bgcolor=\"gray\">0</td><td bgcolor=\"gray\">0</td><td bgcolor=\"gray\">0</td><td bgcolor=\"gray\">0</td><td bgcolor=\"gray\">0</td><td bgcolor=\"gray\">0</td><td bgcolor=\"gray\">0</td><td>-1</td><td bgcolor=\"gray\">0</td><td>-1</td><td>-1</td><td bgcolor=\"gray\">0</td><td bgcolor=\"gray\">0</td><td bgcolor=\"gray\">0</td><td>-1</td><td bgcolor=\"gray\">0</td></tr><tr><td bgcolor=\"gray\">0</td><td>-1</td><td bgcolor=\"gray\">0</td><td bgcolor=\"gray\">0</td><td bgcolor=\"gray\">0</td><td>-1</td><td>-1</td><td>-1</td><td bgcolor=\"gray\">0</td><td bgcolor=\"gray\">0</td><td bgcolor=\"gray\">0</td><td>-1</td><td bgcolor=\"gray\">0</td><td>-1</td><td bgcolor=\"gray\">0</td><td>-1</td><td bgcolor=\"gray\">0</td><td>-1</td><td>-1</td><td bgcolor=\"gray\">0</td><td bgcolor=\"gray\">0</td><td>-1</td><td>-1</td><td bgcolor=\"gray\">0</td><td bgcolor=\"gray\">0</td><td bgcolor=\"gray\">0</td><td>-1</td><td>-1</td><td bgcolor=\"gray\">0</td><td bgcolor=\"gray\">0</td><td bgcolor=\"gray\">0</td><td bgcolor=\"gray\">0</td><td bgcolor=\"gray\">0</td><td>-1</td><td bgcolor=\"gray\">0</td><td>-1</td><td bgcolor=\"gray\">0</td><td bgcolor=\"gray\">0</td><td>-1</td><td>-1</td><td>-1</td><td>-1</td><td>-1</td><td bgcolor=\"gray\">0</td><td bgcolor=\"gray\">0</td><td bgcolor=\"gray\">0</td><td>-1</td><td>-1</td><td>-1</td><td bgcolor=\"gray\">0</td></tr><tr><td bgcolor=\"gray\">0</td><td bgcolor=\"gray\">0</td><td bgcolor=\"gray\">0</td><td bgcolor=\"gray\">0</td><td>-1</td><td>-1</td><td>-1</td><td bgcolor=\"gray\">0</td><td bgcolor=\"gray\">0</td><td>-1</td><td bgcolor=\"gray\">0</td><td>-1</td><td bgcolor=\"gray\">0</td><td>-1</td><td bgcolor=\"gray\">0</td><td>-1</td><td>-1</td><td>-1</td><td bgcolor=\"gray\">0</td><td bgcolor=\"gray\">0</td><td>-1</td><td bgcolor=\"gray\">0</td><td bgcolor=\"gray\">0</td><td bgcolor=\"gray\">0</td><td bgcolor=\"gray\">0</td><td>-1</td><td>-1</td><td>-1</td><td bgcolor=\"gray\">0</td><td bgcolor=\"gray\">0</td><td bgcolor=\"gray\">0</td><td bgcolor=\"gray\">0</td><td>-1</td><td bgcolor=\"gray\">0</td><td bgcolor=\"gray\">0</td><td>-1</td><td bgcolor=\"gray\">0</td><td>-1</td><td bgcolor=\"gray\">0</td><td bgcolor=\"gray\">0</td><td bgcolor=\"gray\">0</td><td bgcolor=\"gray\">0</td><td bgcolor=\"gray\">0</td><td>-1</td><td>-1</td><td bgcolor=\"gray\">0</td><td bgcolor=\"gray\">0</td><td bgcolor=\"gray\">0</td><td>-1</td><td bgcolor=\"gray\">0</td></tr><tr><td bgcolor=\"gray\">0</td><td bgcolor=\"gray\">0</td><td bgcolor=\"gray\">0</td><td>-1</td><td bgcolor=\"gray\">0</td><td bgcolor=\"gray\">0</td><td bgcolor=\"gray\">0</td><td bgcolor=\"gray\">0</td><td bgcolor=\"gray\">0</td><td bgcolor=\"gray\">0</td><td bgcolor=\"gray\">0</td><td>-1</td><td bgcolor=\"gray\">0</td><td bgcolor=\"gray\">0</td><td bgcolor=\"gray\">0</td><td bgcolor=\"gray\">0</td><td bgcolor=\"gray\">0</td><td bgcolor=\"gray\">0</td><td>-1</td><td bgcolor=\"gray\">0</td><td bgcolor=\"gray\">0</td><td>-1</td><td>-1</td><td bgcolor=\"gray\">0</td><td>-1</td><td bgcolor=\"gray\">0</td><td>-1</td><td bgcolor=\"gray\">0</td><td bgcolor=\"gray\">0</td><td>-1</td><td bgcolor=\"gray\">0</td><td bgcolor=\"gray\">0</td><td bgcolor=\"gray\">0</td><td bgcolor=\"gray\">0</td><td>-1</td><td bgcolor=\"gray\">0</td><td bgcolor=\"gray\">0</td><td bgcolor=\"gray\">0</td><td bgcolor=\"gray\">0</td><td bgcolor=\"gray\">0</td><td bgcolor=\"gray\">0</td><td>-1</td><td bgcolor=\"gray\">0</td><td bgcolor=\"gray\">0</td><td>-1</td><td>-1</td><td>-1</td><td bgcolor=\"gray\">0</td><td>-1</td><td>-1</td></tr><tr><td bgcolor=\"gray\">0</td><td bgcolor=\"gray\">0</td><td bgcolor=\"gray\">0</td><td bgcolor=\"gray\">0</td><td bgcolor=\"gray\">0</td><td bgcolor=\"gray\">0</td><td bgcolor=\"gray\">0</td><td bgcolor=\"gray\">0</td><td>-1</td><td>-1</td><td bgcolor=\"gray\">0</td><td bgcolor=\"gray\">0</td><td bgcolor=\"gray\">0</td><td>-1</td><td bgcolor=\"gray\">0</td><td bgcolor=\"gray\">0</td><td bgcolor=\"gray\">0</td><td>-1</td><td>-1</td><td>-1</td><td bgcolor=\"gray\">0</td><td bgcolor=\"gray\">0</td><td bgcolor=\"gray\">0</td><td bgcolor=\"gray\">0</td><td bgcolor=\"gray\">0</td><td bgcolor=\"gray\">0</td><td bgcolor=\"gray\">0</td><td bgcolor=\"gray\">0</td><td>-1</td><td bgcolor=\"gray\">0</td><td>-1</td><td>-1</td><td bgcolor=\"gray\">0</td><td>-1</td><td bgcolor=\"gray\">0</td><td>-1</td><td bgcolor=\"gray\">0</td><td bgcolor=\"gray\">0</td><td>-1</td><td bgcolor=\"gray\">0</td><td bgcolor=\"gray\">0</td><td bgcolor=\"gray\">0</td><td bgcolor=\"gray\">0</td><td bgcolor=\"gray\">0</td><td bgcolor=\"gray\">0</td><td bgcolor=\"gray\">0</td><td bgcolor=\"gray\">0</td><td bgcolor=\"gray\">0</td><td bgcolor=\"gray\">0</td><td bgcolor=\"gray\">0</td></tr><tr><td>-1</td><td>-1</td><td bgcolor=\"gray\">0</td><td bgcolor=\"gray\">0</td><td bgcolor=\"gray\">0</td><td bgcolor=\"gray\">0</td><td bgcolor=\"gray\">0</td><td>-1</td><td bgcolor=\"gray\">0</td><td bgcolor=\"gray\">0</td><td bgcolor=\"gray\">0</td><td>-1</td><td bgcolor=\"gray\">0</td><td bgcolor=\"gray\">0</td><td>-1</td><td>-1</td><td>-1</td><td bgcolor=\"gray\">0</td><td>-1</td><td bgcolor=\"gray\">0</td><td bgcolor=\"gray\">0</td><td bgcolor=\"gray\">0</td><td>-1</td><td bgcolor=\"gray\">0</td><td bgcolor=\"gray\">0</td><td bgcolor=\"gray\">0</td><td bgcolor=\"gray\">0</td><td>-1</td><td bgcolor=\"gray\">0</td><td bgcolor=\"gray\">0</td><td>-1</td><td>-1</td><td bgcolor=\"gray\">0</td><td>-1</td><td bgcolor=\"gray\">0</td><td>-1</td><td>-1</td><td bgcolor=\"gray\">0</td><td bgcolor=\"gray\">0</td><td>-1</td><td>-1</td><td bgcolor=\"gray\">0</td><td>-1</td><td bgcolor=\"gray\">0</td><td>-1</td><td bgcolor=\"gray\">0</td><td bgcolor=\"gray\">0</td><td bgcolor=\"gray\">0</td><td bgcolor=\"gray\">0</td><td bgcolor=\"gray\">0</td></tr><tr><td>-1</td><td>0</td><td>-1</td><td>-1</td><td>-1</td><td>-1</td><td bgcolor=\"gray\">0</td><td bgcolor=\"gray\">0</td><td bgcolor=\"gray\">0</td><td>-1</td><td bgcolor=\"gray\">0</td><td bgcolor=\"gray\">0</td><td>-1</td><td bgcolor=\"gray\">0</td><td bgcolor=\"gray\">0</td><td bgcolor=\"gray\">0</td><td>-1</td><td bgcolor=\"gray\">0</td><td bgcolor=\"gray\">0</td><td bgcolor=\"gray\">0</td><td>-1</td><td>-1</td><td bgcolor=\"gray\">0</td><td bgcolor=\"gray\">0</td><td bgcolor=\"gray\">0</td><td>-1</td><td bgcolor=\"gray\">0</td><td>-1</td><td bgcolor=\"gray\">0</td><td bgcolor=\"gray\">0</td><td bgcolor=\"gray\">0</td><td bgcolor=\"gray\">0</td><td>-1</td><td bgcolor=\"gray\">0</td><td bgcolor=\"gray\">0</td><td bgcolor=\"gray\">0</td><td bgcolor=\"gray\">0</td><td>-1</td><td>-1</td><td bgcolor=\"gray\">0</td><td bgcolor=\"gray\">0</td><td bgcolor=\"gray\">0</td><td bgcolor=\"gray\">0</td><td bgcolor=\"gray\">0</td><td>-1</td><td>-1</td><td bgcolor=\"gray\">0</td><td bgcolor=\"gray\">0</td><td bgcolor=\"gray\">0</td><td bgcolor=\"gray\">0</td></tr><tr><td>0</td><td>0</td><td>0</td><td>0</td><td>0</td><td>-1</td><td bgcolor=\"gray\">0</td><td>-1</td><td>-1</td><td bgcolor=\"gray\">0</td><td bgcolor=\"gray\">0</td><td bgcolor=\"gray\">0</td><td bgcolor=\"gray\">0</td><td bgcolor=\"gray\">0</td><td>-1</td><td bgcolor=\"gray\">0</td><td>-1</td><td bgcolor=\"gray\">0</td><td>-1</td><td bgcolor=\"gray\">0</td><td bgcolor=\"gray\">0</td><td bgcolor=\"gray\">0</td><td bgcolor=\"gray\">0</td><td>-1</td><td>-1</td><td bgcolor=\"gray\">0</td><td>-1</td><td bgcolor=\"gray\">0</td><td bgcolor=\"gray\">0</td><td bgcolor=\"gray\">0</td><td bgcolor=\"gray\">0</td><td>-1</td><td>-1</td><td>-1</td><td bgcolor=\"gray\">0</td><td bgcolor=\"gray\">0</td><td>-1</td><td bgcolor=\"gray\">0</td><td>-1</td><td>-1</td><td bgcolor=\"gray\">0</td><td bgcolor=\"gray\">0</td><td bgcolor=\"gray\">0</td><td bgcolor=\"gray\">0</td><td bgcolor=\"gray\">0</td><td bgcolor=\"gray\">0</td><td bgcolor=\"gray\">0</td><td bgcolor=\"gray\">0</td><td bgcolor=\"gray\">0</td><td>-1</td></tr><tr><td>0</td><td>0</td><td>-1</td><td>-1</td><td>-1</td><td>-1</td><td>-1</td><td>0</td><td>0</td><td>-1</td><td bgcolor=\"gray\">0</td><td bgcolor=\"gray\">0</td><td bgcolor=\"gray\">0</td><td bgcolor=\"gray\">0</td><td>-1</td><td>-1</td><td bgcolor=\"gray\">0</td><td bgcolor=\"gray\">0</td><td>-1</td><td bgcolor=\"gray\">0</td><td bgcolor=\"gray\">0</td><td bgcolor=\"gray\">0</td><td bgcolor=\"gray\">0</td><td>-1</td><td bgcolor=\"gray\">0</td><td bgcolor=\"gray\">0</td><td bgcolor=\"gray\">0</td><td bgcolor=\"gray\">0</td><td>-1</td><td>-1</td><td>-1</td><td>0</td><td>-1</td><td>-1</td><td bgcolor=\"gray\">0</td><td bgcolor=\"gray\">0</td><td bgcolor=\"gray\">0</td><td bgcolor=\"gray\">0</td><td>-1</td><td>-1</td><td bgcolor=\"gray\">0</td><td>-1</td><td>-1</td><td bgcolor=\"gray\">0</td><td>-1</td><td bgcolor=\"gray\">0</td><td>-1</td><td bgcolor=\"gray\">0</td><td bgcolor=\"gray\">0</td><td bgcolor=\"gray\">0</td></tr><tr><td>-1</td><td>0</td><td>0</td><td>-1</td><td>-1</td><td>0</td><td>-1</td><td>0</td><td>0</td><td>-1</td><td bgcolor=\"gray\">0</td><td>-1</td><td bgcolor=\"gray\">0</td><td bgcolor=\"gray\">0</td><td bgcolor=\"gray\">0</td><td bgcolor=\"gray\">0</td><td bgcolor=\"gray\">0</td><td bgcolor=\"gray\">0</td><td>-1</td><td>-1</td><td bgcolor=\"gray\">0</td><td>-1</td><td bgcolor=\"gray\">0</td><td bgcolor=\"gray\">0</td><td bgcolor=\"gray\">0</td><td>-1</td><td bgcolor=\"gray\">0</td><td bgcolor=\"gray\">0</td><td bgcolor=\"gray\">0</td><td bgcolor=\"gray\">0</td><td bgcolor=\"gray\">0</td><td>-1</td><td bgcolor=\"gray\">0</td><td bgcolor=\"gray\">0</td><td bgcolor=\"gray\">0</td><td bgcolor=\"gray\">0</td><td bgcolor=\"gray\">0</td><td bgcolor=\"gray\">0</td><td>-1</td><td bgcolor=\"gray\">0</td><td bgcolor=\"gray\">0</td><td>-1</td><td>-1</td><td bgcolor=\"gray\">0</td><td bgcolor=\"gray\">0</td><td bgcolor=\"gray\">0</td><td>-1</td><td bgcolor=\"gray\">0</td><td bgcolor=\"gray\">0</td><td bgcolor=\"gray\">0</td></tr><tr><td>-1</td><td>0</td><td>0</td><td>0</td><td>-1</td><td>0</td><td>-1</td><td>-1</td><td>-1</td><td>-1</td><td bgcolor=\"gray\">0</td><td>-1</td><td bgcolor=\"gray\">0</td><td>-1</td><td>-1</td><td bgcolor=\"gray\">0</td><td bgcolor=\"gray\">0</td><td>-1</td><td bgcolor=\"gray\">0</td><td bgcolor=\"gray\">0</td><td bgcolor=\"gray\">0</td><td>-1</td><td bgcolor=\"gray\">0</td><td bgcolor=\"gray\">0</td><td bgcolor=\"gray\">0</td><td bgcolor=\"gray\">0</td><td>-1</td><td>-1</td><td bgcolor=\"gray\">0</td><td bgcolor=\"gray\">0</td><td bgcolor=\"gray\">0</td><td bgcolor=\"gray\">0</td><td bgcolor=\"gray\">0</td><td>-1</td><td bgcolor=\"gray\">0</td><td>-1</td><td>-1</td><td bgcolor=\"gray\">0</td><td bgcolor=\"gray\">0</td><td>-1</td><td bgcolor=\"gray\">0</td><td bgcolor=\"gray\">0</td><td bgcolor=\"gray\">0</td><td bgcolor=\"gray\">0</td><td bgcolor=\"gray\">0</td><td>-1</td><td bgcolor=\"gray\">0</td><td bgcolor=\"gray\">0</td><td>-1</td><td bgcolor=\"gray\">10</td></tr></table>"
            ]
          },
          "metadata": {}
        }
      ],
      "source": [
        "from IPython.display import HTML, display\n",
        "\n",
        "valid_states_all = torch.cat((env.valid_states, torch.tensor([env.grid_size-1,env.grid_size-1]).to(device).unsqueeze(dim=0)))\n",
        "valid_states_all = valid_states_all[:,0] * env.grid_size + valid_states_all[:,1]\n",
        "\n",
        "html_text = \"<table>\"\n",
        "for row in range(env.grid_size):\n",
        "    html_text += \"<tr>\"\n",
        "    for col in range(env.grid_size):\n",
        "        if row*env.grid_size + col in valid_states_all:\n",
        "            html_text += \"<td bgcolor=\\\"gray\\\">\"\n",
        "        else:\n",
        "            html_text += \"<td>\"\n",
        "        html_text += str(env.reward_map[row*env.grid_size+col].tolist())\n",
        "        html_text += \"</td>\"\n",
        "    html_text += \"</tr>\"\n",
        "html_text += \"</table>\"\n",
        "\n",
        "display(HTML(html_text))"
      ],
      "id": "7NWd4Ky18ncE"
    },
    {
      "cell_type": "markdown",
      "metadata": {
        "id": "bQ-Ih_aM8ncG"
      },
      "source": [
        "Load expert's data (demonstrations) which is saved in ```./expert_data``` folder in this repository.\n",
        "\n",
        "> Note : See [this script](./00_generate_expert_trajectories.ipynb) for generating expert dataset."
      ],
      "id": "bQ-Ih_aM8ncG"
    },
    {
      "cell_type": "code",
      "execution_count": null,
      "metadata": {
        "id": "ZJH02Nw_8ncG"
      },
      "outputs": [],
      "source": [
        "import pickle\n",
        "\n",
        "dest_dir = \"./expert_data\"\n",
        "checkpoint_file = \"ckpt0.pkl\"\n",
        "\n",
        "# load expert data from pickle\n",
        "with open(f\"{dest_dir}/{checkpoint_file}\", \"rb\") as f:\n",
        "    exp_data = pickle.load(f)\n",
        "exp_states = torch.tensor(exp_data[\"states\"]).to(device)\n",
        "exp_actions = torch.tensor(exp_data[\"actions\"]).to(device)\n",
        "timestep_lens = exp_data[\"timestep_lens\"]"
      ],
      "id": "ZJH02Nw_8ncG"
    },
    {
      "cell_type": "markdown",
      "metadata": {
        "id": "l3THZEnR8ncH"
      },
      "source": [
        "### 2. Create networks\n",
        "\n",
        "Now I define the following policy network $\\pi_{\\theta}$, value network, and discriminator network $D_w$.<br>\n",
        "In TRPO (also, PPO) implementation, not only the policy network, but the value network is also required.\n",
        "\n",
        "- Policy network : It receives one-hot state as input. It then returns the optimal action logits as output.\n",
        "- Value network : It receives one-hot state as input. It then returns a single value as output.\n",
        "- Discriminator network : It receives one-hot state and one-hot action as input. It then returns a value of range (0, 1)."
      ],
      "id": "l3THZEnR8ncH"
    },
    {
      "cell_type": "code",
      "execution_count": null,
      "metadata": {
        "id": "V3-8h03t8ncH"
      },
      "outputs": [],
      "source": [
        "import torch.nn as nn\n",
        "from torch.nn import functional as F\n",
        "\n",
        "STATE_SIZE = env.grid_size*env.grid_size  # 2500\n",
        "ACTION_SIZE = env.action_size             # 4\n",
        "\n",
        "#\n",
        "# Define model\n",
        "#\n",
        "class PolicyNet(nn.Module):\n",
        "    def __init__(self, hidden_dim=64):\n",
        "        super().__init__()\n",
        "        self.hidden = nn.Linear(STATE_SIZE, hidden_dim)\n",
        "        self.output = nn.Linear(hidden_dim, 4)\n",
        "\n",
        "    def forward(self, s):\n",
        "        outs = self.hidden(s)\n",
        "        outs = F.relu(outs)\n",
        "        logits = self.output(outs)\n",
        "        return logits\n",
        "\n",
        "class ValueNet(nn.Module):\n",
        "    def __init__(self, hidden_dim=64):\n",
        "        super().__init__()\n",
        "        self.hidden = nn.Linear(STATE_SIZE, hidden_dim)\n",
        "        self.output = nn.Linear(hidden_dim, 1)\n",
        "\n",
        "    def forward(self, s):\n",
        "        outs = self.hidden(s)\n",
        "        outs = F.relu(outs)\n",
        "        value = self.output(outs)\n",
        "        return value\n",
        "\n",
        "class DiscriminatorNet(nn.Module):\n",
        "    def __init__(self, hidden_dim=64):\n",
        "        super().__init__()\n",
        "        self.hidden1 = nn.Linear(STATE_SIZE + ACTION_SIZE, hidden_dim)\n",
        "        self.hidden2 = nn.Linear(hidden_dim, hidden_dim)\n",
        "        self.get_logits = nn.Linear(hidden_dim, 1)\n",
        "        self.get_sigmoid = nn.Sigmoid()\n",
        "\n",
        "    def forward(self, s):\n",
        "        outs = self.hidden1(s)\n",
        "        outs = F.relu(outs)\n",
        "        outs = self.hidden2(outs)\n",
        "        outs = F.relu(outs)\n",
        "        logits = self.get_logits(outs)\n",
        "        output = self.get_sigmoid(logits)\n",
        "        return output\n",
        "\n",
        "#\n",
        "# Generate model\n",
        "#\n",
        "policy_func = PolicyNet().to(device)\n",
        "value_func = ValueNet().to(device)\n",
        "discriminator = DiscriminatorNet().to(device)"
      ],
      "id": "V3-8h03t8ncH"
    },
    {
      "cell_type": "markdown",
      "metadata": {
        "id": "IRtJ4S4P8ncI"
      },
      "source": [
        "### 3. Create functions to get learner and expert data"
      ],
      "id": "IRtJ4S4P8ncI"
    },
    {
      "cell_type": "markdown",
      "metadata": {
        "id": "T7o8uwgB8ncI"
      },
      "source": [
        "Now we create a function to get expert samples.<br>\n",
        "In this example, we get 6000 samples (6000 steps) at a time."
      ],
      "id": "T7o8uwgB8ncI"
    },
    {
      "cell_type": "code",
      "execution_count": null,
      "metadata": {
        "id": "IWn3A7av8ncI"
      },
      "outputs": [],
      "source": [
        "from torch.utils.data import DataLoader\n",
        "import itertools\n",
        "\n",
        "num_samples = 6000\n",
        "\n",
        "expert_loader = DataLoader(\n",
        "    list(zip(exp_states, exp_actions)),\n",
        "    batch_size=num_samples,\n",
        "    shuffle=False,\n",
        ")\n",
        "expert_iter = iter(itertools.cycle(expert_loader))\n",
        "\n",
        "def get_data_by_expert(num_samples=num_samples):\n",
        "    data_length = 0\n",
        "    while data_length < num_samples:\n",
        "        states, actions = next(expert_iter)\n",
        "        data_length = len(states)\n",
        "    return states, actions"
      ],
      "id": "IWn3A7av8ncI"
    },
    {
      "cell_type": "markdown",
      "metadata": {
        "id": "qjVmrJtJ8ncJ"
      },
      "source": [
        "Not only sampling by the expert, but sampling by policy $\\pi$ is also required, because we need the expectation $\\mathbb{E}_{\\pi}(\\cdot)$.\n",
        "\n",
        "In sampling by policy $\\pi$, we need values and advantages for applying TRPO (or PPO) algorithm.\n",
        "\n",
        "> Note : See [here](https://github.com/tsmatz/reinforcement-learning-tutorials/blob/master/03-actor-critic.ipynb) for theoretical aspects of values and advantages in RL.\n",
        "\n",
        "In this example, I'll use TD (temporal difference) and GAE (generalized advantage estimation) for getting values and advantages in TRPO (or PPO).\n",
        "\n",
        "Here I then briefly summarize TD and GAE.\n",
        "\n",
        "Suppose, $V(\\cdot)$ is the value network.<br>\n",
        "In TD (temporal difference), we get the value at time-step $t$ by $r_t + \\gamma V(s_{t+1})$, where $r_t$ is a real score at $t$. (I note that $r_t = \\log(D(s_t, a_t))$ in this example.)<br>\n",
        "We then get value's difference (between value and estimated value) $\\delta_t^V$ by :\n",
        "\n",
        "$\\displaystyle \\delta_t^V \\coloneqq r_t + \\gamma V(s_{t+1}) - V(s_t)$\n",
        "\n",
        "In [GAE (generalized advantage estimation)](https://arxiv.org/pdf/1506.02438), the advantage at $t$ is obtained by :\n",
        "\n",
        "$\\displaystyle \\hat{A}_t^{\\verb|GAE|} \\coloneqq \\sum_{l=0}^{\\infty} (\\gamma \\lambda_{\\verb|GAE|})^l \\delta_{t+l}^V$\n",
        "\n",
        "where $\\lambda_{\\verb|GAE|} \\in [0, 1]$ is a controlling parameter (between bias and variance) in GAE.\n",
        "\n",
        "When you set $\\lambda_{\\verb|GAE|}=1.0$, then $\\hat{A}_t^{\\verb|GAE|}$ is just a diffrence of values without generalization as follows. (See [original paper](https://arxiv.org/pdf/1506.02438) for details.)\n",
        "\n",
        "$\\displaystyle \\sum_{l=0}^{k - 1} \\gamma^l \\delta_{t+l}^V = -V(s_t) + r_t + \\gamma r_{t+1} + \\cdots + \\gamma^{k-1} r_{t+k-1} + \\gamma^k V(s_{t+k}) $\n",
        "\n",
        "It's worth noting that the rewards are never used in GAIL algorithm (because it's imitation learning !), but **here we use episode's reward (reward result) to evaluate how the agent is learned** in this example. (You won't use reward in practical GAIL algorithm, but here I use only for checking how well it's working.)\n",
        "\n",
        "> Note : As I have mentioned above, the truncation in environment is not performed in the environemnt. Instead, this function handles the truncation as follows."
      ],
      "id": "qjVmrJtJ8ncJ"
    },
    {
      "cell_type": "code",
      "execution_count": null,
      "metadata": {
        "id": "7ZcPSxad8ncJ"
      },
      "outputs": [],
      "source": [
        "MAX_TIMESTEP = 200\n",
        "\n",
        "gamma = 0.995\n",
        "gae_lambda = 1.0\n",
        "\n",
        "def get_data_by_learner_policy(\n",
        "    env,\n",
        "    policy_net,\n",
        "    value_net,\n",
        "    discriminator_net,\n",
        "    gamma=gamma,\n",
        "    gae_lambda=gae_lambda,\n",
        "    num_samples=num_samples,\n",
        "    batch_size=128,\n",
        "):\n",
        "    \"\"\"\n",
        "    Collect samples with policy pi.\n",
        "    To speed up training, this function runs as a batch.\n",
        "\n",
        "    Parameters\n",
        "    ----------\n",
        "    env : GridWorld\n",
        "        Environment class.\n",
        "    policy_net : torch.nn.Module\n",
        "        Policy network to pick up action.\n",
        "    value_net : torch.nn.Module\n",
        "        Value network used to get values and advantages.\n",
        "    discriminator_net : torch.nn.Module\n",
        "        Discriminator network used to get values and advantages\n",
        "    gamma : float\n",
        "        A discount value.\n",
        "    gae_lambda : float\n",
        "        A parameter controlling bias and variance in GAE. (See above)\n",
        "    num_samples : int\n",
        "        Number of samples to pick up.\n",
        "    batch_size : int\n",
        "        Batch size used to pick up samples.\n",
        "\n",
        "    Returns\n",
        "    ----------\n",
        "    states : torch.tensor((num_samples), dtype=int)\n",
        "        Collected states.\n",
        "    actions : torch.tensor((num_samples), dtype=int)\n",
        "        Collected actions.\n",
        "    action_logits : torch.tensor((num_samples, ACTION_SIZE), dtype=float)\n",
        "        Logits used to pick up actions.\n",
        "    advantages : torch.tensor((num_samples), dtype=float)\n",
        "        Advantages which is used to optimize policy.\n",
        "        This advantage is obtained by GAE (generalized advantage estimation).\n",
        "        This tensor has graph to be optimized (i.e, can be used for optimization.)\n",
        "    discount : torch.tensor((num_samples), dtype=float)\n",
        "        Discount factor gamma^t.\n",
        "        Later this coefficient is used to get gamma-discounted causal entropy.\n",
        "    average_reward : torch.tensor(float)\n",
        "        The average of episode's reward in all executed episodes.\n",
        "        This reward is not used in GAIL algorithm,\n",
        "        but it's used for the evaluation of training in this example.\n",
        "    \"\"\"\n",
        "\n",
        "    ##########\n",
        "    # Operations are processed as a batch.\n",
        "    # All working tensor has dimension: (step_count, batch_size, ...)\n",
        "    ##########\n",
        "\n",
        "    # initialize results\n",
        "    states = torch.empty((0), dtype=int).to(device)\n",
        "    actions = torch.empty((0), dtype=int).to(device)\n",
        "    action_logits = torch.empty((0, ACTION_SIZE), dtype=float).to(device)\n",
        "    advantages = torch.empty((0), dtype=float).to(device)\n",
        "    discount = torch.empty((0), dtype=float).to(device)\n",
        "\n",
        "    # note : reward is not used in GAIL, but it's used to evaluate how well it's learned...\n",
        "    episode_rewards = torch.empty((0)).to(device)\n",
        "\n",
        "    s = torch.empty((0)).to(device)\n",
        "    while len(states) < num_samples:\n",
        "        #\n",
        "        # initialize episode\n",
        "        #\n",
        "        if s.nelement() == 0:\n",
        "            reward_total = torch.zeros(batch_size).to(device)\n",
        "            s = env.reset(batch_size)\n",
        "            states_ep = torch.empty((0, batch_size), dtype=int).to(device)\n",
        "            actions_ep = torch.empty((0, batch_size), dtype=int).to(device)\n",
        "            action_logits_ep = torch.empty((0, batch_size, ACTION_SIZE), dtype=float).to(device)\n",
        "\n",
        "        #\n",
        "        # step episode\n",
        "        #\n",
        "\n",
        "        # get state\n",
        "        states_ep = torch.cat((states_ep, s.unsqueeze(dim=0)), dim=0)\n",
        "        # get action with policy pi\n",
        "        s_onehot = F.one_hot(s, num_classes=STATE_SIZE)\n",
        "        logits = policy_net(s_onehot.float()).detach()\n",
        "        probs = F.softmax(logits, dim=-1)\n",
        "        a = torch.multinomial(probs, num_samples=1).squeeze(dim=-1)\n",
        "        actions_ep = torch.cat((actions_ep, a.unsqueeze(dim=0)), dim=0)\n",
        "        action_logits_ep = torch.cat((action_logits_ep, logits.unsqueeze(dim=0)), dim=0)\n",
        "        # step to the next state\n",
        "        s, r, done = env.step(a, s)\n",
        "        # (note : reward is only used to evaluate)\n",
        "        reward_total += r\n",
        "\n",
        "        #\n",
        "        # finalize episode\n",
        "        #\n",
        "\n",
        "        # pick up indices to be done (not truncated) and add to reward's record\n",
        "        done_indices = done.nonzero().squeeze(dim=-1)\n",
        "        if env.step_count==MAX_TIMESTEP:\n",
        "            episode_rewards = torch.cat((episode_rewards, reward_total))\n",
        "        elif len(done_indices) > 0:\n",
        "            episode_rewards = torch.cat((episode_rewards, reward_total[done_indices]))\n",
        "        # pick up indices to be finalized (terminated or truncated)\n",
        "        trunc = torch.tensor((env.step_count==MAX_TIMESTEP) or (env.step_count >= num_samples - len(states))).to(device)\n",
        "        fin = torch.logical_or(done, trunc)\n",
        "        fin_indices = fin.nonzero().squeeze(dim=-1)\n",
        "        if len(fin_indices) > 0:\n",
        "            fin_len = len(fin_indices)\n",
        "            # pick up results to be finalized\n",
        "            states_fin = states_ep[:,fin_indices]\n",
        "            actions_fin = actions_ep[:,fin_indices]\n",
        "            action_logits_fin = action_logits_ep[:,fin_indices,:]\n",
        "            # get log(D(s,a))\n",
        "            states_onehot_fin = F.one_hot(states_fin, num_classes=STATE_SIZE).float()\n",
        "            actions_onehot_fin = F.one_hot(actions_fin, num_classes=ACTION_SIZE).float()\n",
        "            state_action_fin = torch.cat((states_onehot_fin, actions_onehot_fin), dim=-1)\n",
        "            d_log_fin = torch.log(discriminator_net(state_action_fin).detach().squeeze(dim=-1)) # detach() - gradient update in discriminator is not required\n",
        "            # get values and value loss (see above for TD)\n",
        "            values_current_fin = value_net(states_onehot_fin).squeeze(dim=-1)\n",
        "            # when it's truncated, set next value in last element. 0 otherwise.\n",
        "            if trunc:\n",
        "                state_last = s[fin_indices]\n",
        "                state_last_onehot = F.one_hot(state_last, num_classes=STATE_SIZE).float()\n",
        "                value_last = value_net(state_last_onehot).squeeze(dim=-1)\n",
        "                value_last = value_last.masked_fill(mask=done[fin_indices], value=0.0)\n",
        "            else:\n",
        "                value_last = torch.zeros(fin_len).to(device)\n",
        "            values_next_fin = torch.cat((values_current_fin[1:,:], value_last.unsqueeze(dim=0)), dim=0)\n",
        "            # get delta\n",
        "            delta_fin = d_log_fin + values_next_fin * gamma - values_current_fin\n",
        "            # get advantages (see above for GAE)\n",
        "            gae_params = torch.tensor([(gamma * gae_lambda)**i for i in range(env.step_count)]).to(device)\n",
        "            gae_params = gae_params.unsqueeze(dim=-1).expand(-1, fin_len)\n",
        "            advs_fin = [torch.sum(gae_params[:env.step_count - i,:] * delta_fin[i:,:], dim=0) for i in range(env.step_count)]\n",
        "            advs_fin = torch.stack(advs_fin)\n",
        "            # get gamma-discount\n",
        "            discount_fin = torch.tensor([gamma**i for i in range(env.step_count)]).to(device)\n",
        "            discount_fin = discount_fin.unsqueeze(dim=-1).expand(-1, fin_len)\n",
        "            # add to results\n",
        "            states = torch.cat((states, states_fin.transpose(0,1).flatten()))\n",
        "            actions = torch.cat((actions, actions_fin.transpose(0,1).flatten()))\n",
        "            action_logits = torch.cat((action_logits, action_logits_fin.transpose(0,1).flatten(start_dim=0,end_dim=1)))\n",
        "            advantages = torch.cat((advantages, advs_fin.transpose(0,1).flatten()))\n",
        "            discount = torch.cat((discount, discount_fin.transpose(0,1).flatten()))\n",
        "            # remove finalized items in batch\n",
        "            work_indices = (fin==False).nonzero().squeeze(dim=-1)\n",
        "            states_ep = states_ep[:,work_indices]\n",
        "            actions_ep = actions_ep[:,work_indices]\n",
        "            action_logits_ep = action_logits_ep[:,work_indices,:]\n",
        "            s = s[work_indices]\n",
        "            reward_total = reward_total[work_indices]\n",
        "\n",
        "    # truncate results\n",
        "    states = states[:num_samples]\n",
        "    actions = actions[:num_samples]\n",
        "    action_logits = action_logits[:num_samples,:]\n",
        "    advantages = advantages[:num_samples]\n",
        "    discount = discount[:num_samples]\n",
        "    # shuffle results\n",
        "    rnd_indices = torch.randperm(num_samples)\n",
        "    states = states[rnd_indices]\n",
        "    actions = actions[rnd_indices]\n",
        "    action_logits = action_logits[rnd_indices,:]\n",
        "    advantages = advantages[rnd_indices]\n",
        "    discount = discount[rnd_indices]\n",
        "\n",
        "    return states, actions, action_logits, advantages, discount, torch.mean(episode_rewards)"
      ],
      "id": "7ZcPSxad8ncJ"
    },
    {
      "cell_type": "markdown",
      "metadata": {
        "id": "8pPOpiha8ncL"
      },
      "source": [
        "### 4. Create a function to get loss for updating $D_w$ (discriminator network)"
      ],
      "id": "8pPOpiha8ncL"
    },
    {
      "cell_type": "markdown",
      "metadata": {
        "id": "aO5VpF5F8ncL"
      },
      "source": [
        "Now I build a function to get loss for updating $D_w$ by maximizing $\\mathbb{E}_{\\pi} [\\log(D(s, a))] + \\mathbb{E}_{\\pi_E} [\\log(1 - D(s, a))]$.<br>\n",
        "Maximizing above equation is equivalent to minimizing the following equation. Each term can then be obtained by binary cross entropy (BCE) loss.\n",
        "\n",
        "$\\displaystyle \\verb|discriminator_loss| \\coloneqq (-\\mathbb{E}_{\\pi} [\\log(D(s, a))]) + (-\\mathbb{E}_{\\pi_E} [\\log(1 - D(s, a))])$"
      ],
      "id": "aO5VpF5F8ncL"
    },
    {
      "cell_type": "code",
      "execution_count": null,
      "metadata": {
        "id": "_CP7UMth8ncL"
      },
      "outputs": [],
      "source": [
        "def get_discriminator_loss(discriminator_net, exp_states, exp_actions, pi_states, pi_actions):\n",
        "    \"\"\"\n",
        "    Collect samples with policy pi.\n",
        "    To speed up training, this function runs as batch.\n",
        "\n",
        "    Parameters\n",
        "    ----------\n",
        "    discriminator_net : torch.nn.Module\n",
        "        Discriminator network to be updated\n",
        "    exp_states : torch.tensor((num_samples), dtype=int)\n",
        "        States visited by expert policy.\n",
        "    exp_actions : torch.tensor((num_samples), dtype=int)\n",
        "        Corresponding actions to be taken by expert.\n",
        "    pi_states : torch.tensor((num_samples), dtype=int)\n",
        "        States visited by policy pi.\n",
        "    pi_actions : torch.tensor((num_samples), dtype=int)\n",
        "        Corresponding actions to be taken by policy pi.\n",
        "\n",
        "    Returns\n",
        "    ----------\n",
        "    Mean of discriminator loss\n",
        "    \"\"\"\n",
        "\n",
        "    # get D(s,a)\n",
        "    states_onehot_pi = F.one_hot(pi_states, num_classes=STATE_SIZE).float()\n",
        "    actions_onehot_pi = F.one_hot(pi_actions, num_classes=ACTION_SIZE).float()\n",
        "    state_action_pi = torch.cat((states_onehot_pi, actions_onehot_pi), dim=-1)\n",
        "    d_pi = discriminator_net(state_action_pi).squeeze(dim=-1)\n",
        "\n",
        "    states_onehot_exp = F.one_hot(exp_states, num_classes=STATE_SIZE).float()\n",
        "    actions_onehot_exp = F.one_hot(exp_actions, num_classes=ACTION_SIZE).float()\n",
        "    state_action_exp = torch.cat((states_onehot_exp, actions_onehot_exp), dim=-1)\n",
        "    d_exp = discriminator_net(state_action_exp).squeeze(dim=-1)\n",
        "\n",
        "    # get mean of binary cross entropy (BCE) loss\n",
        "    mean_loss_pi = F.binary_cross_entropy(d_pi, torch.ones_like(d_pi).to(device))\n",
        "    mean_loss_exp = F.binary_cross_entropy(d_exp, torch.zeros_like(d_exp).to(device))\n",
        "\n",
        "    return mean_loss_pi + mean_loss_exp"
      ],
      "id": "_CP7UMth8ncL"
    },
    {
      "cell_type": "markdown",
      "metadata": {
        "id": "Gjtve3AA8ncM"
      },
      "source": [
        "### 5. Create a function to get loss for updating $\\pi_{\\theta}$ (policy network)"
      ],
      "id": "Gjtve3AA8ncM"
    },
    {
      "cell_type": "markdown",
      "metadata": {
        "id": "iJjL1wAe8ncO"
      },
      "source": [
        "Now we create a function to get loss for updating $\\theta$ to minimize $\\mathbb{E}_{\\pi} [\\log(D(s, a))] - \\lambda H(\\pi) $ (using the updated discriminator $D(s,a)$) with reinforcement learning algorithms.\n",
        "\n",
        "In [original paper](https://arxiv.org/pdf/1606.03476), TRPO (trust region policy optimization) is used to update policy parameters $\\theta$, but here **I instead use PPO** with entropy regularizer (see [here](https://github.com/tsmatz/reinforcement-learning-tutorials/blob/master/04-ppo.ipynb)) to update $\\theta$, because PPO is easier to implement.<br>\n",
        "I note that both TRPO and PPO are motivated by the same objective to avoid stepping so far (by using KL-divergence) in optimizing policy.\n",
        "\n",
        "> Note : In practical TRPO (to solve problems analytically), it needs approximation by Taylor expansion and Lagrangians.\n",
        "\n",
        "Now let's briefly summarize PPO algorithm.\n",
        "\n",
        "As I have discussed in [here](https://github.com/tsmatz/reinforcement-learning-tutorials/blob/master/04-ppo.ipynb), PPO algorithm optimizes $\\theta$ to minimize advantage loss, KL (KL-divergence) loss, value loss, and also entropy loss $- \\lambda H(\\pi)$. (Here $\\lambda$ is a weight's coefficient for entropy loss.)\n",
        "\n",
        "As I have discussed in [here](https://github.com/tsmatz/reinforcement-learning-tutorials/blob/master/04-ppo.ipynb), the advantage loss is obtained by the following equation (see below note) :\n",
        "\n",
        "$\\displaystyle \\mathbb{E}_{\\pi} \\left[ \\frac{P(a | \\pi_\\theta (s))}{P(a | \\pi_{\\theta_{old}} (s))} A \\right]$\n",
        "\n",
        "where $A$ is the advantage obtained by the value $\\log(D(s, a))$.\n",
        "\n",
        "> Note : In regular RL, $\\mathbb{E}(R)$ (where $R$ is reward) is maximized in optimization, but here $\\mathbb{E}(\\log(D(s,a)))$ should be minimized, because $\\log(D(s,a))$ is a loss score (which value is always negative) and $\\log(D(s,a))$ is getting lower (i.e, $D(s,a)$ is closer to 0) when it’s optimized.<br>\n",
        "> Then advantages in PPO should also be minimized (not maximized) in policy optimization in GAIL algorithm.\n",
        "\n",
        "The entropy $ H $ is $\\gamma$-discounted causal entropy as follows. (See [MCE IRL example](./04_mce_irl.ipynb).) :\n",
        "\n",
        "$\\displaystyle H(\\pi) \\coloneqq \\mathbb{E}_{\\pi} \\left[ -\\sum_t \\gamma^t \\log \\pi_t(a_t|s_t) \\right] $\n",
        "\n",
        "For value loss, I'll simply use the mean square loss (MSE) of advantages in this example. (See above description for GAE with $\\lambda_{\\verb|GAE|}=1.0$.)<br>\n",
        "Unlike advantages itself, value loss is always positive.\n",
        "\n",
        "> Note : Log probability is equivalent to the negative value of cross-entropy error in categorical distribution. I have then used ```-torch.nn.functional.cross_entropy()``` to get log probability.\n",
        "\n",
        "> Note : In PPO, advantage can also be normalized as $(A-\\mu) / \\sigma$, where $\\mu$ is a mean and $\\sigma$ is a standard deviation of advantages.<br>\n",
        "> In this training, I haven't used normalized advantage."
      ],
      "id": "iJjL1wAe8ncO"
    },
    {
      "cell_type": "code",
      "execution_count": null,
      "metadata": {
        "id": "OSp4wFR68ncP"
      },
      "outputs": [],
      "source": [
        "def get_policy_loss(policy_net, states, actions, logits, advantages, discount):\n",
        "    logits_old = logits\n",
        "\n",
        "    # get logits to be used for optimization\n",
        "    s_onehot = F.one_hot(states, num_classes=STATE_SIZE)\n",
        "    logits_new = policy_net(s_onehot.float())\n",
        "\n",
        "    # get advantage loss (see above)\n",
        "    logprb_old = -F.cross_entropy(logits_old, actions, reduction=\"none\") # get log probability (see above note)\n",
        "    logprb_new = -F.cross_entropy(logits_new, actions, reduction=\"none\") # get log probability (see above note)\n",
        "    prb_ratio = torch.exp(logprb_new - logprb_old) # P(a|pi_new(s)) / P(a|pi_old(s))\n",
        "    advantage_loss = prb_ratio * advantages\n",
        "\n",
        "    # get value loss (see above)\n",
        "    value_loss = torch.mean(advantages**2)\n",
        "\n",
        "    # get KL loss\n",
        "    # (see https://github.com/tsmatz/reinforcement-learning-tutorials/blob/master/04-ppo.ipynb)\n",
        "    l_old = logits_old - torch.amax(logits_old, dim=1, keepdim=True) # reduce quantity\n",
        "    l_new = logits_new - torch.amax(logits_new, dim=1, keepdim=True) # reduce quantity\n",
        "    e_old = torch.exp(l_old)\n",
        "    e_new = torch.exp(l_new)\n",
        "    e_sum_old = torch.sum(e_old, dim=1, keepdim=True)\n",
        "    e_sum_new = torch.sum(e_new, dim=1, keepdim=True)\n",
        "    p_old = e_old / e_sum_old\n",
        "    kl_loss = torch.sum(\n",
        "        p_old * (l_old - torch.log(e_sum_old) - l_new + torch.log(e_sum_new)),\n",
        "        dim=1,\n",
        "        keepdim=True)\n",
        "\n",
        "    # get gamma-discounted causal entropy loss (see above)\n",
        "    entropy_loss = -discount * logprb_new\n",
        "\n",
        "    return advantage_loss, value_loss, kl_loss, entropy_loss"
      ],
      "id": "OSp4wFR68ncP"
    },
    {
      "cell_type": "markdown",
      "metadata": {
        "id": "KKPUxd798ncQ"
      },
      "source": [
        "### 6. Put it all together (Train and optimize parameter)"
      ],
      "id": "KKPUxd798ncQ"
    },
    {
      "cell_type": "markdown",
      "metadata": {
        "id": "4Ft5awI48ncQ"
      },
      "source": [
        "Now we alternately update $w$ (discriminator network) and $\\theta$ (policy network).\n",
        "\n",
        "In this game, the maximum episode's reward without losing any rewards is ```10.0```, and I have then trained the agent until the estimated reward is over ```5.0```. (See [Readme.md](https://github.com/tsmatz/imitation-learning-tutorials/blob/master/Readme.md) for game rule in this environment.)\n",
        "\n",
        "> Note : The reward is not used in optimization, and it's used only for evaluation. (The reward cannot be used in practices.)"
      ],
      "id": "4Ft5awI48ncQ"
    },
    {
      "cell_type": "code",
      "execution_count": null,
      "metadata": {
        "colab": {
          "base_uri": "https://localhost:8080/"
        },
        "id": "bshwlA-F8ncR",
        "outputId": "e19effff-8bcd-402d-93e5-a220ec0e9572"
      },
      "outputs": [
        {
          "output_type": "stream",
          "name": "stdout",
          "text": [
            "iter0 - reward mean -66.8984\n",
            "iter200 - reward mean -66.7211\n",
            "iter400 - reward mean -24.2926\n",
            "iter600 - reward mean -5.2324\n",
            "iter800 - reward mean -1.4758\n",
            "iter1000 - reward mean 0.3354\n",
            "iter1200 - reward mean 1.3792\n",
            "iter1400 - reward mean 2.0224\n",
            "iter1600 - reward mean 2.4058\n",
            "iter1800 - reward mean 2.9117\n",
            "iter2000 - reward mean 2.9053\n",
            "iter2200 - reward mean 3.3491\n",
            "iter2400 - reward mean 3.5652\n",
            "iter2600 - reward mean 3.8741\n",
            "iter2800 - reward mean 3.9068\n",
            "iter3000 - reward mean 4.0853\n",
            "iter3200 - reward mean 4.2966\n",
            "iter3400 - reward mean 4.4805\n",
            "iter3600 - reward mean 4.7280\n",
            "iter3800 - reward mean 4.6663\n",
            "iter3814 - reward mean 5.2295\n",
            "Done\n"
          ]
        }
      ],
      "source": [
        "import numpy as np\n",
        "\n",
        "vf_coeff = 0.01\n",
        "kl_coeff = 1.0\n",
        "_lambda = 0.005\n",
        "\n",
        "reward_records = []\n",
        "\n",
        "opt_d = torch.optim.AdamW(discriminator.parameters(), lr=0.001)\n",
        "opt_pi = torch.optim.AdamW(list(policy_func.parameters()) + list(value_func.parameters()), lr=0.001)\n",
        "\n",
        "for iter_num in range(10000):\n",
        "    # get expert data\n",
        "    states_ex, actions_ex = get_data_by_expert()\n",
        "\n",
        "    # get data by policy pi\n",
        "    states, actions, logits, advantages, discount, reward_mean = get_data_by_learner_policy(\n",
        "        env=env,\n",
        "        policy_net=policy_func,\n",
        "        value_net=value_func,\n",
        "        discriminator_net=discriminator,\n",
        "    )\n",
        "    reward_records.append(reward_mean.item())\n",
        "\n",
        "    # update discriminator\n",
        "    d_loss = get_discriminator_loss(\n",
        "        discriminator,\n",
        "        states_ex,\n",
        "        actions_ex,\n",
        "        states,\n",
        "        actions,\n",
        "    )\n",
        "    opt_d.zero_grad()\n",
        "    d_loss.backward()\n",
        "    opt_d.step()\n",
        "\n",
        "    # update policy\n",
        "    adv_loss, val_loss, kl_loss, ent_loss = get_policy_loss(\n",
        "        policy_func,\n",
        "        states,\n",
        "        actions,\n",
        "        logits,\n",
        "        advantages,\n",
        "        discount,\n",
        "    )\n",
        "    pi_loss = adv_loss + val_loss * vf_coeff + kl_loss * kl_coeff + ent_loss * _lambda\n",
        "    opt_pi.zero_grad()\n",
        "    pi_loss.sum().backward()\n",
        "    opt_pi.step()\n",
        "\n",
        "    # output log\n",
        "    if iter_num % 200 == 0:\n",
        "        line_end = \"\\n\"\n",
        "        print_reward = np.average(reward_records[-200:])\n",
        "    else:\n",
        "        line_end = \"\\r\"\n",
        "        print_reward = reward_records[-1]\n",
        "    print(\"iter{} - reward mean {:2.4f}\".format(iter_num, print_reward), end=line_end)\n",
        "\n",
        "    # stop if reward mean reaches to threshold\n",
        "    if np.average(reward_records[-20:]) > 5.0:\n",
        "        break\n",
        "\n",
        "print(\"\\nDone\")"
      ],
      "id": "bshwlA-F8ncR"
    },
    {
      "cell_type": "markdown",
      "metadata": {
        "id": "kYc2BwTL8ncR"
      },
      "source": [
        "I plot results of evaluated episode reward till 1000 iterations.<br>\n",
        "As you can see below, the agent is well-trained and optimized."
      ],
      "id": "kYc2BwTL8ncR"
    },
    {
      "cell_type": "code",
      "execution_count": null,
      "metadata": {
        "id": "Zcs1ZPDF8ncR",
        "colab": {
          "base_uri": "https://localhost:8080/",
          "height": 448
        },
        "outputId": "2f91312e-f7a7-460d-cd35-7ea8536f3bc7"
      },
      "outputs": [
        {
          "output_type": "execute_result",
          "data": {
            "text/plain": [
              "[<matplotlib.lines.Line2D at 0x7a17465ccc20>]"
            ]
          },
          "metadata": {},
          "execution_count": 15
        },
        {
          "output_type": "display_data",
          "data": {
            "text/plain": [
              "<Figure size 640x480 with 1 Axes>"
            ],
            "image/png": "[encoded data removed]"
          },
          "metadata": {}
        }
      ],
      "source": [
        "import matplotlib.pyplot as plt\n",
        "\n",
        "plot_records = reward_records[:1000]\n",
        "plt.plot(plot_records)"
      ],
      "id": "Zcs1ZPDF8ncR"
    },
    {
      "cell_type": "markdown",
      "metadata": {
        "id": "gZ_taXkE8ncS"
      },
      "source": [
        "The following is the plotting of all evaluated results in the training."
      ],
      "id": "gZ_taXkE8ncS"
    },
    {
      "cell_type": "code",
      "execution_count": null,
      "metadata": {
        "id": "UDfPfDVK8ncS",
        "colab": {
          "base_uri": "https://localhost:8080/"
        },
        "outputId": "bbba2907-a6f7-4e9a-8a1f-06858f7f13ee"
      },
      "outputs": [
        {
          "output_type": "execute_result",
          "data": {
            "text/plain": [
              "[<matplotlib.lines.Line2D at 0x7a17465c3620>]"
            ]
          },
          "metadata": {},
          "execution_count": 16
        },
        {
          "output_type": "display_data",
          "data": {
            "text/plain": [
              "<Figure size 640x480 with 1 Axes>"
            ],
            "image/png": "[encoded data removed]"
          },
          "metadata": {}
        }
      ],
      "source": [
        "import matplotlib.pyplot as plt\n",
        "\n",
        "plt.plot(reward_records)"
      ],
      "id": "UDfPfDVK8ncS"
    },
    {
      "cell_type": "code",
      "execution_count": null,
      "metadata": {
        "id": "GYf5yZPS8ncT"
      },
      "outputs": [],
      "source": [],
      "id": "GYf5yZPS8ncT"
    }
  ],
  "metadata": {
    "kernelspec": {
      "display_name": "Python 3",
      "name": "python3"
    },
    "language_info": {
      "codemirror_mode": {
        "name": "ipython",
        "version": 3
      },
      "file_extension": ".py",
      "mimetype": "text/x-python",
      "name": "python",
      "nbconvert_exporter": "python",
      "pygments_lexer": "ipython3",
      "version": "3.7.4"
    },
    "colab": {
      "provenance": [],
      "gpuType": "L4"
    },
    "accelerator": "GPU"
  },
  "nbformat": 4,
  "nbformat_minor": 5
}