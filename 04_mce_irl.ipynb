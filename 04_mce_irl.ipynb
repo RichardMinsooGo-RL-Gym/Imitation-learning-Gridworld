{
 "cells": [
  {
   "cell_type": "markdown",
   "id": "8f35fd98-8613-45a2-959b-e5da21d9d4d3",
   "metadata": {},
   "source": [
    "# Maximum Causal Entropy Inverse Reinforcement Learning (MCE IRL)\n",
    "\n",
    "Maximum Causal Entropy (MCE) IRL [[Ziebart et al., 2010](https://www.cs.cmu.edu/~bziebart/publications/thesis-bziebart.pdf)] is one of popular IRL algorithms, and has much affected a lot of today's works (such as, [GAIL](./06_gail.ipynb)) in IRL.\n",
    "\n",
    "The previous [Maximum Entropy IRL](./03_maxent_irl.ipynb) algorithm is based on the conditional entropy $-\\sum_s \\sum_a P(a, s) log P(a|s)$, which assumes the action $a$ is conditioned only on state $s$.<br>\n",
    "On contrary, Maximum Causal Entropy (MCE) IRL applies the causality of time-steps by introducing the causally conditioned probability $\\prod_{t=0}^{T-1} P(a_t | s_{0:t}, a_{0:t-1})$.<br>\n",
    "In MCE IRL, the following **causal entropy** with a discount $\\gamma$ is applied instead.\n",
    "\n",
    "$\\displaystyle H(A_{0:T-1} || S_{0:T-1}) = -\\sum_{t=0}^{T-1} \\sum_{a_{0:t},x_{0:t}} \\gamma^t P(a_{0:t},s_{0:t}) \\log(\\pi(a_t | s_{0:t}, a_{0:t-1})) = \\mathbb{E}_{\\pi} \\left[ -\\sum_{t=0}^{T-1} \\gamma^t \\log \\pi_t(a_t | s_t) \\right]$\n",
    "\n",
    "Especially when the transition probability is stochastic (i.e, stochastic dynamics), this time-step causality (i.e, causally conditioned probability) makes sense.\n",
    "\n",
    "> Note : When it's deterministic dynamics (i.e, transition probability has ```1.0``` for one successor state and ```0.0``` for all others), it's known that maximizing the causal entropy reduces to a conditional entropy maximization. (MCE IRL is then simplified to Maximum Entropy IRL.)<br>\n",
    "> See Theorem 4.22 in [original paper](https://www.cs.cmu.edu/~bziebart/publications/thesis-bziebart.pdf).\n",
    "\n",
    "Because Maximum Entropy IRL algorithm (see [here](./03_maxent_irl.ipynb)) has a loss of time-steps causality in the conditional entropy, it suffers by needing a bias term for the transition probabilities.<br>\n",
    "Maximum Causal Entropy (MCE) IRL fixes this problem by applying the causal entropy instead.\n",
    "\n",
    "> Note : In this example, however, the transition probability is deterministic. Here I apply MCE RL also in this example for your learning purpose.\n",
    "\n",
    "*(back to [index](https://github.com/tsmatz/imitation-learning-tutorials/))*"
   ]
  },
  {
   "cell_type": "markdown",
   "id": "11b768b1-aa1a-46c8-bb9c-f6475f059925",
   "metadata": {},
   "source": [
    "## Overview of Maximum Causal Entropy Inverse Reinforcement Learning method\n",
    "\n",
    "Here I'll follow the paper \"[A Primer on Maximum Causal Entropy Inverse Reinforcement Learning](https://arxiv.org/pdf/2203.11409)\", which is the compressed (concise) derivation of MCE IRL algorithm.\n",
    "\n",
    "In this example, here I assume that the number of time-step (horizon) $T$ is finite.\n",
    "\n",
    "As I have discussed in [previous example](./03_maxent_irl.ipynb), we consider to find policy $\\pi$ :\n",
    "\n",
    "$\\displaystyle \\max_{\\pi} H(A_{0:T-1} || S_{0:T-1}) $\n",
    "\n",
    "subject to the following constraint (i.e, feature expectation matching) :\n",
    "\n",
    "$\\displaystyle \\mathbb{E}_{\\pi} \\left[ \\sum_{t=0}^{T-1} \\gamma^t \\phi(S_t,A_t) \\right] = \\mathbb{E}_{\\pi^{\\ast}} \\left[ \\sum_{t=0}^{T-1} \\gamma^t \\phi(S_t,A_t) \\right]$\n",
    "\n",
    "where $\\pi^{\\ast}$ is expert policy.\n",
    "\n",
    "> Note : See above definition for $H(A_{0:T-1} || S_{0:T-1})$.\n",
    "\n",
    "Same as in [previous example](./03_maxent_irl.ipynb), we solve this primal problem by applying Lagrangian, making dual problem, solving dual problem with KKT conditions, and optimizing parameters with gradient methods.\n",
    "\n",
    "Lagrangian $\\Lambda(\\pi, \\theta)$ is formed as follows.\n",
    "\n",
    "$\\displaystyle \\Lambda(\\pi, \\theta)=H(A_{0:T-1}||S_{0:T-1}) + \\theta^T \\cdot \\left( \\mathbb{E}_{\\pi} \\left[ \\sum_{t=0}^{T-1} \\gamma^t \\phi(S_t,A_t) \\right] - \\mathbb{E}_{\\pi^{\\ast}} \\left[ \\sum_{t=0}^{T-1} \\gamma^t \\phi(S_t,A_t) \\right] \\right) \\;\\;\\;\\;\\;\\;\\ (1)$\n",
    "\n",
    "By Lagrangian duality, this problem is to find :\n",
    "\n",
    "$\\displaystyle \\min_{\\theta} \\left( \\max_{\\pi} \\Lambda(\\pi, \\theta) \\right) \\;\\;\\;\\;\\;\\;\\ (2)$\n",
    "\n",
    "MCE IRL method is to alternately update $\\pi$ and $\\theta$ as follows. :\n",
    "\n",
    "- Update $\\pi$ to maximize $\\Lambda(\\pi, \\theta)$.\n",
    "- Update $\\theta$ to minimize above (2)\n",
    "\n",
    "Now we focus on the nested $\\max_{\\pi} \\Lambda(\\pi, \\theta)$ for a given $\\theta$.\n",
    "\n",
    "Recall that $\\pi(a_t|s_t)$ has the following constraints. :\n",
    "\n",
    "$\\pi(a_t|s_t) \\geq 0$ and $\\sum_{a_t} \\pi(a_t|s_t) = 1$\n",
    "\n",
    "Therefore, when we denote $h_{s_t}(\\pi) = \\sum_{a_t} \\pi(a_t|s_t) - 1$, this problem can be expressed as follows. :\n",
    "\n",
    "$\\displaystyle \\max_{\\pi} \\Lambda(\\pi, \\theta)$\n",
    "\n",
    "subject to :\n",
    "\n",
    "$h_{s_t}(\\pi) = 0 \\;\\;\\;\\;\\;\\; \\forall t = 0, 1, \\ldots , T-1 \\;\\;\\; \\forall s_t$\n",
    "\n",
    "By applying Lagrangian again, this problem can be written as:\n",
    "\n",
    "$\\displaystyle \\psi(\\pi, \\mu, \\theta) = \\Lambda(\\pi, \\theta) + \\sum_{s_t, t} \\mu_{s_t} h_{s_t}(\\pi)$\n",
    "\n",
    "with the following conditions. :\n",
    "\n",
    "$\\displaystyle \\nabla_{\\pi} \\psi(\\pi, \\mu, \\theta)=0 $\n",
    "\n",
    "$\\displaystyle h_{s_t}(\\pi) = 0 \\;\\;\\;\\; (\\forall t = 0, 1, \\ldots , T-1 \\;\\;\\; \\forall s_t) $\n",
    "\n",
    "It's known that both conditions (KKT conditions) are satisfied by the following policy $\\pi(a_t,s_t)$ :\n",
    "\n",
    "$\\displaystyle \\pi_t(a_t | s_t) = \\exp \\left( Q_{\\theta, t}^{\\verb|soft|}(s_t, a_t) - V_{\\theta, t}^{\\verb|soft|}(s_t) \\right)$\n",
    "\n",
    "in which, $Q_{\\theta, t}^{\\verb|soft|}(S_t, A_t)$ and $V_{\\theta, t}^{\\verb|soft|}(S_t)$ are recursively obtained as follows. :\n",
    "\n",
    "- $\\displaystyle V_{\\theta, t}^{\\verb|soft|}(s_t) = \\log \\sum_{a_t} \\exp  Q_{\\theta, t}^{\\verb|soft|}(s_t, a_t) \\;\\;\\; (\\forall t = 0,1,\\ldots,T-1) $\n",
    "- $\\displaystyle Q_{\\theta, t}^{\\verb|soft|}(s_t, a_t) = \\theta^T \\cdot \\phi(s_t, a_t) + \\gamma \\mathbb{E}_{\\mathcal{T}} \\left[ V_{\\theta,t+1}^{\\verb|soft|}(S_{t+1}) | s_t, a_t \\right] \\;\\;\\; (\\forall t = 0,1,\\ldots,T-2) $\n",
    "- $\\displaystyle  Q_{\\theta, T-1}^{\\verb|soft|}(s_{T-1}, a_{T-1}) = \\theta^T \\cdot \\phi(s_{T-1},a_{T-1}) $\n",
    "\n",
    "> Note : See the paper \"[A Primer on Maximum Causal Entropy Inverse Reinforcement Learning](https://arxiv.org/pdf/2203.11409)\" for this proof.<br>\n",
    "> This satisfies : $\\sum_{a_t} \\pi_t(a_t | s_t) = 1.0 \\;\\;\\; \\forall t, s_t$\n",
    "\n",
    "Here $\\mathbb{E}_{\\mathcal{T}}$ is the expectation to transit states with known transition probability.<br>\n",
    "Thus, such like previous Maximum Entropy IRL, the state transition distribution should also be known in this method. (See the [next example](./05_relent_irl.ipynb) about approximation for the unknown transition.)\n",
    "\n",
    "In abstraction, $Q^{\\verb|soft|}(s_t,a_t)$ and $V^{\\verb|soft|}(s_t)$ corresponds to the traditional Q-value and Value in regular reinforcement learning respectively (see [here](https://github.com/tsmatz/reinforcement-learning-tutorials/blob/master/03-actor-critic.ipynb)), but it's log-sum-exp values, not values itself. (This is the reason why the name implies \"soft\".)\n",
    "\n",
    "Next we consider to update $\\theta$ by applying gradient descent with respect to $\\theta$.<br>\n",
    "Form equation (1), the gradient (nabla) is obtained by :\n",
    "\n",
    "$\\displaystyle \\nabla_{\\theta} \\Lambda(\\pi, \\theta) = \\mathbb{E}_{\\pi} \\left[ \\sum_{t=0}^{T-1} \\gamma^t \\phi(S_t,A_t) \\right] - \\mathbb{E}_{\\pi^{\\ast}} \\left[ \\sum_{t=0}^{T-1} \\gamma^t \\phi(S_t,A_t) \\right]$\n",
    "\n",
    "The second term is obtained by expert demonstrations.<br>\n",
    "The first term is computed by the probability of initial states, the policy $\\pi$ (which is obtained above), and transition probability.\n",
    "\n",
    "As you will see in [GAIL example](./06_gail.ipynb) (generative adversarial imitation learning) later, this method is refined to non-linear rewards."
   ]
  },
  {
   "cell_type": "markdown",
   "id": "c28d3d0d-fc31-4c20-8ad7-48cd1db62b03",
   "metadata": {},
   "source": [
    "## Implementation"
   ]
  },
  {
   "cell_type": "markdown",
   "id": "581094d6-950f-4cc4-8e1b-c949891ff32b",
   "metadata": {},
   "source": [
    "Now let's start implementation.\n",
    "\n",
    "> Note : To speed up computation, I'll implement operations with PyTorch tensors."
   ]
  },
  {
   "cell_type": "markdown",
   "id": "8a481dfe-e6d2-40fe-a385-8675f32c04ea",
   "metadata": {},
   "source": [
    "### 1. Restore environment and load expert's data"
   ]
  },
  {
   "cell_type": "markdown",
   "id": "d3abdcb3-9fdb-4e66-a79e-e9b96e044a70",
   "metadata": {},
   "source": [
    "Before we start, we need to install the required packages."
   ]
  },
  {
   "cell_type": "code",
   "execution_count": null,
   "id": "06d26139-be8c-43a0-94de-75bc5780cc8d",
   "metadata": {},
   "outputs": [],
   "source": [
    "!pip install torch numpy"
   ]
  },
  {
   "cell_type": "markdown",
   "id": "0299bbf4-3b27-4650-bc78-838adae1b4a7",
   "metadata": {},
   "source": [
    "Firstly, I restore GridWorld environment from JSON file.\n",
    "\n",
    "For details about this environment, see [Readme.md](https://github.com/tsmatz/imitation-learning-tutorials/blob/master/Readme.md).\n",
    "\n",
    "> Note : See [this script](./00_generate_expert_trajectories.ipynb) for generating the same environment."
   ]
  },
  {
   "cell_type": "code",
   "execution_count": 1,
   "id": "68996e4b-bfdb-44ba-9372-45055df41a68",
   "metadata": {},
   "outputs": [],
   "source": [
    "import torch\n",
    "import json\n",
    "from gridworld import GridWorld\n",
    "\n",
    "device = torch.device(\"cuda\" if torch.cuda.is_available() else \"cpu\")\n",
    "\n",
    "with open(\"gridworld.json\", \"r\") as f:\n",
    "    json_object = json.load(f)\n",
    "    env = GridWorld(**json_object, device=device)"
   ]
  },
  {
   "cell_type": "markdown",
   "id": "94061ec6-b5e1-43bf-a120-4d8b260875e8",
   "metadata": {},
   "source": [
    "Now I visualize our GridWorld environment.\n",
    "\n",
    "The number in each cell indicates the reward score on this state.<br>\n",
    "The goal state is on the right-bottom corner (in which the reward is ```10.0```), and the initial state is uniformly picked up from the gray-colored cells.<br>\n",
    "If the agent can reach to goal state without losing any rewards, it will get ```10.0``` for total reward.\n",
    "\n",
    "See [Readme.md](https://github.com/tsmatz/imitation-learning-tutorials/blob/master/Readme.md) for details about the game rule of this environment."
   ]
  },
  {
   "cell_type": "code",
   "execution_count": 2,
   "id": "fbdd08de-3c29-4969-975d-e8ac92e8ac5a",
   "metadata": {},
   "outputs": [
    {
     "data": {
      "text/html": [
       "<table><tr><td>0</td><td>-1</td><td>0</td><td>0</td><td>0</td><td>-1</td><td bgcolor=\"gray\">0</td><td bgcolor=\"gray\">0</td><td bgcolor=\"gray\">0</td><td bgcolor=\"gray\">0</td><td bgcolor=\"gray\">0</td><td bgcolor=\"gray\">0</td><td>-1</td><td bgcolor=\"gray\">0</td><td>-1</td><td>-1</td><td>-1</td><td>-1</td><td bgcolor=\"gray\">0</td><td>-1</td><td bgcolor=\"gray\">0</td><td>-1</td><td bgcolor=\"gray\">0</td><td bgcolor=\"gray\">0</td><td bgcolor=\"gray\">0</td><td>-1</td><td bgcolor=\"gray\">0</td><td bgcolor=\"gray\">0</td><td bgcolor=\"gray\">0</td><td>-1</td><td>-1</td><td>0</td><td>-1</td><td bgcolor=\"gray\">0</td><td bgcolor=\"gray\">0</td><td bgcolor=\"gray\">0</td><td bgcolor=\"gray\">0</td><td>-1</td><td>-1</td><td>0</td><td>0</td><td>0</td><td>0</td><td>0</td><td>0</td><td>0</td><td>0</td><td>0</td><td>0</td><td>0</td></tr><tr><td>-1</td><td>0</td><td>0</td><td>0</td><td>0</td><td>-1</td><td bgcolor=\"gray\">0</td><td>-1</td><td bgcolor=\"gray\">0</td><td bgcolor=\"gray\">0</td><td bgcolor=\"gray\">0</td><td bgcolor=\"gray\">0</td><td bgcolor=\"gray\">0</td><td bgcolor=\"gray\">0</td><td bgcolor=\"gray\">0</td><td bgcolor=\"gray\">0</td><td bgcolor=\"gray\">0</td><td bgcolor=\"gray\">0</td><td bgcolor=\"gray\">0</td><td bgcolor=\"gray\">0</td><td bgcolor=\"gray\">0</td><td>-1</td><td>-1</td><td>-1</td><td bgcolor=\"gray\">0</td><td>-1</td><td bgcolor=\"gray\">0</td><td bgcolor=\"gray\">0</td><td bgcolor=\"gray\">0</td><td bgcolor=\"gray\">0</td><td bgcolor=\"gray\">0</td><td>-1</td><td bgcolor=\"gray\">0</td><td>-1</td><td bgcolor=\"gray\">0</td><td>-1</td><td bgcolor=\"gray\">0</td><td>-1</td><td>0</td><td>-1</td><td>-1</td><td>0</td><td>0</td><td>0</td><td>-1</td><td>-1</td><td>0</td><td>0</td><td>-1</td><td>-1</td></tr><tr><td>0</td><td>0</td><td>-1</td><td>-1</td><td>0</td><td>-1</td><td bgcolor=\"gray\">0</td><td>-1</td><td bgcolor=\"gray\">0</td><td>-1</td><td bgcolor=\"gray\">0</td><td bgcolor=\"gray\">0</td><td bgcolor=\"gray\">0</td><td bgcolor=\"gray\">0</td><td bgcolor=\"gray\">0</td><td bgcolor=\"gray\">0</td><td bgcolor=\"gray\">0</td><td>-1</td><td bgcolor=\"gray\">0</td><td bgcolor=\"gray\">0</td><td>-1</td><td bgcolor=\"gray\">0</td><td bgcolor=\"gray\">0</td><td>-1</td><td bgcolor=\"gray\">0</td><td bgcolor=\"gray\">0</td><td bgcolor=\"gray\">0</td><td bgcolor=\"gray\">0</td><td bgcolor=\"gray\">0</td><td bgcolor=\"gray\">0</td><td bgcolor=\"gray\">0</td><td>-1</td><td bgcolor=\"gray\">0</td><td bgcolor=\"gray\">0</td><td>-1</td><td bgcolor=\"gray\">0</td><td bgcolor=\"gray\">0</td><td>-1</td><td>-1</td><td bgcolor=\"gray\">0</td><td bgcolor=\"gray\">0</td><td>-1</td><td>0</td><td>0</td><td>0</td><td>0</td><td>-1</td><td>0</td><td>0</td><td>0</td></tr><tr><td>0</td><td>0</td><td>-1</td><td bgcolor=\"gray\">0</td><td>-1</td><td>-1</td><td bgcolor=\"gray\">0</td><td bgcolor=\"gray\">0</td><td>-1</td><td bgcolor=\"gray\">0</td><td>-1</td><td bgcolor=\"gray\">0</td><td bgcolor=\"gray\">0</td><td bgcolor=\"gray\">0</td><td bgcolor=\"gray\">0</td><td>-1</td><td bgcolor=\"gray\">0</td><td>-1</td><td bgcolor=\"gray\">0</td><td>-1</td><td>0</td><td>-1</td><td bgcolor=\"gray\">0</td><td bgcolor=\"gray\">0</td><td>-1</td><td>-1</td><td bgcolor=\"gray\">0</td><td bgcolor=\"gray\">0</td><td>-1</td><td bgcolor=\"gray\">0</td><td bgcolor=\"gray\">0</td><td bgcolor=\"gray\">0</td><td bgcolor=\"gray\">0</td><td bgcolor=\"gray\">0</td><td bgcolor=\"gray\">0</td><td bgcolor=\"gray\">0</td><td bgcolor=\"gray\">0</td><td bgcolor=\"gray\">0</td><td bgcolor=\"gray\">0</td><td bgcolor=\"gray\">0</td><td bgcolor=\"gray\">0</td><td>-1</td><td>0</td><td>0</td><td>0</td><td>0</td><td>0</td><td>0</td><td>0</td><td>-1</td></tr><tr><td>-1</td><td>-1</td><td>-1</td><td bgcolor=\"gray\">0</td><td bgcolor=\"gray\">0</td><td bgcolor=\"gray\">0</td><td bgcolor=\"gray\">0</td><td bgcolor=\"gray\">0</td><td bgcolor=\"gray\">0</td><td bgcolor=\"gray\">0</td><td bgcolor=\"gray\">0</td><td bgcolor=\"gray\">0</td><td bgcolor=\"gray\">0</td><td bgcolor=\"gray\">0</td><td bgcolor=\"gray\">0</td><td bgcolor=\"gray\">0</td><td bgcolor=\"gray\">0</td><td bgcolor=\"gray\">0</td><td bgcolor=\"gray\">0</td><td>-1</td><td>-1</td><td bgcolor=\"gray\">0</td><td>-1</td><td bgcolor=\"gray\">0</td><td bgcolor=\"gray\">0</td><td bgcolor=\"gray\">0</td><td bgcolor=\"gray\">0</td><td bgcolor=\"gray\">0</td><td bgcolor=\"gray\">0</td><td bgcolor=\"gray\">0</td><td bgcolor=\"gray\">0</td><td bgcolor=\"gray\">0</td><td bgcolor=\"gray\">0</td><td bgcolor=\"gray\">0</td><td bgcolor=\"gray\">0</td><td>-1</td><td bgcolor=\"gray\">0</td><td>-1</td><td bgcolor=\"gray\">0</td><td bgcolor=\"gray\">0</td><td bgcolor=\"gray\">0</td><td>-1</td><td>0</td><td>0</td><td>-1</td><td>0</td><td>-1</td><td>-1</td><td>0</td><td>0</td></tr><tr><td>0</td><td>-1</td><td>-1</td><td bgcolor=\"gray\">0</td><td bgcolor=\"gray\">0</td><td>-1</td><td bgcolor=\"gray\">0</td><td>-1</td><td bgcolor=\"gray\">0</td><td bgcolor=\"gray\">0</td><td>-1</td><td bgcolor=\"gray\">0</td><td bgcolor=\"gray\">0</td><td>-1</td><td bgcolor=\"gray\">0</td><td bgcolor=\"gray\">0</td><td>-1</td><td>-1</td><td bgcolor=\"gray\">0</td><td bgcolor=\"gray\">0</td><td>-1</td><td bgcolor=\"gray\">0</td><td bgcolor=\"gray\">0</td><td bgcolor=\"gray\">0</td><td>-1</td><td bgcolor=\"gray\">0</td><td bgcolor=\"gray\">0</td><td bgcolor=\"gray\">0</td><td bgcolor=\"gray\">0</td><td>-1</td><td>-1</td><td bgcolor=\"gray\">0</td><td bgcolor=\"gray\">0</td><td>-1</td><td bgcolor=\"gray\">0</td><td>-1</td><td>-1</td><td>-1</td><td>-1</td><td bgcolor=\"gray\">0</td><td bgcolor=\"gray\">0</td><td>-1</td><td>0</td><td>-1</td><td>0</td><td>0</td><td>0</td><td>0</td><td>0</td><td>-1</td></tr><tr><td>-1</td><td>-1</td><td bgcolor=\"gray\">0</td><td bgcolor=\"gray\">0</td><td bgcolor=\"gray\">0</td><td bgcolor=\"gray\">0</td><td bgcolor=\"gray\">0</td><td bgcolor=\"gray\">0</td><td bgcolor=\"gray\">0</td><td bgcolor=\"gray\">0</td><td bgcolor=\"gray\">0</td><td bgcolor=\"gray\">0</td><td>-1</td><td>0</td><td>-1</td><td bgcolor=\"gray\">0</td><td bgcolor=\"gray\">0</td><td bgcolor=\"gray\">0</td><td bgcolor=\"gray\">0</td><td bgcolor=\"gray\">0</td><td>-1</td><td>-1</td><td bgcolor=\"gray\">0</td><td bgcolor=\"gray\">0</td><td>-1</td><td>-1</td><td bgcolor=\"gray\">0</td><td bgcolor=\"gray\">0</td><td>-1</td><td>-1</td><td>0</td><td>-1</td><td bgcolor=\"gray\">0</td><td bgcolor=\"gray\">0</td><td bgcolor=\"gray\">0</td><td bgcolor=\"gray\">0</td><td bgcolor=\"gray\">0</td><td bgcolor=\"gray\">0</td><td bgcolor=\"gray\">0</td><td>-1</td><td>-1</td><td>0</td><td>0</td><td>0</td><td>-1</td><td>0</td><td>-1</td><td>0</td><td>-1</td><td>-1</td></tr><tr><td bgcolor=\"gray\">0</td><td bgcolor=\"gray\">0</td><td bgcolor=\"gray\">0</td><td bgcolor=\"gray\">0</td><td>-1</td><td bgcolor=\"gray\">0</td><td bgcolor=\"gray\">0</td><td bgcolor=\"gray\">0</td><td>-1</td><td bgcolor=\"gray\">0</td><td bgcolor=\"gray\">0</td><td bgcolor=\"gray\">0</td><td bgcolor=\"gray\">0</td><td>-1</td><td bgcolor=\"gray\">0</td><td bgcolor=\"gray\">0</td><td>-1</td><td>-1</td><td bgcolor=\"gray\">0</td><td bgcolor=\"gray\">0</td><td>-1</td><td bgcolor=\"gray\">0</td><td bgcolor=\"gray\">0</td><td>-1</td><td bgcolor=\"gray\">0</td><td bgcolor=\"gray\">0</td><td>-1</td><td bgcolor=\"gray\">0</td><td bgcolor=\"gray\">0</td><td bgcolor=\"gray\">0</td><td>-1</td><td>-1</td><td bgcolor=\"gray\">0</td><td bgcolor=\"gray\">0</td><td>-1</td><td bgcolor=\"gray\">0</td><td>-1</td><td bgcolor=\"gray\">0</td><td>-1</td><td>0</td><td>0</td><td>-1</td><td>0</td><td>-1</td><td>0</td><td>0</td><td>0</td><td>0</td><td>0</td><td>0</td></tr><tr><td bgcolor=\"gray\">0</td><td bgcolor=\"gray\">0</td><td bgcolor=\"gray\">0</td><td bgcolor=\"gray\">0</td><td bgcolor=\"gray\">0</td><td bgcolor=\"gray\">0</td><td bgcolor=\"gray\">0</td><td bgcolor=\"gray\">0</td><td bgcolor=\"gray\">0</td><td bgcolor=\"gray\">0</td><td>-1</td><td>-1</td><td bgcolor=\"gray\">0</td><td>-1</td><td bgcolor=\"gray\">0</td><td bgcolor=\"gray\">0</td><td>-1</td><td bgcolor=\"gray\">0</td><td bgcolor=\"gray\">0</td><td>-1</td><td>-1</td><td bgcolor=\"gray\">0</td><td bgcolor=\"gray\">0</td><td bgcolor=\"gray\">0</td><td bgcolor=\"gray\">0</td><td bgcolor=\"gray\">0</td><td bgcolor=\"gray\">0</td><td>-1</td><td bgcolor=\"gray\">0</td><td bgcolor=\"gray\">0</td><td bgcolor=\"gray\">0</td><td>-1</td><td>-1</td><td>-1</td><td>-1</td><td>-1</td><td>-1</td><td bgcolor=\"gray\">0</td><td>-1</td><td>-1</td><td>0</td><td>-1</td><td>0</td><td>0</td><td>0</td><td>-1</td><td>0</td><td>0</td><td>0</td><td>0</td></tr><tr><td bgcolor=\"gray\">0</td><td bgcolor=\"gray\">0</td><td bgcolor=\"gray\">0</td><td>-1</td><td bgcolor=\"gray\">0</td><td>-1</td><td bgcolor=\"gray\">0</td><td bgcolor=\"gray\">0</td><td>-1</td><td>-1</td><td bgcolor=\"gray\">0</td><td bgcolor=\"gray\">0</td><td>-1</td><td bgcolor=\"gray\">0</td><td bgcolor=\"gray\">0</td><td bgcolor=\"gray\">0</td><td bgcolor=\"gray\">0</td><td bgcolor=\"gray\">0</td><td bgcolor=\"gray\">0</td><td bgcolor=\"gray\">0</td><td bgcolor=\"gray\">0</td><td bgcolor=\"gray\">0</td><td>-1</td><td>-1</td><td>-1</td><td bgcolor=\"gray\">0</td><td>-1</td><td bgcolor=\"gray\">0</td><td bgcolor=\"gray\">0</td><td bgcolor=\"gray\">0</td><td bgcolor=\"gray\">0</td><td bgcolor=\"gray\">0</td><td bgcolor=\"gray\">0</td><td bgcolor=\"gray\">0</td><td bgcolor=\"gray\">0</td><td bgcolor=\"gray\">0</td><td bgcolor=\"gray\">0</td><td>-1</td><td>0</td><td>0</td><td>0</td><td>0</td><td>0</td><td>0</td><td>-1</td><td>-1</td><td>0</td><td>-1</td><td>-1</td><td>-1</td></tr><tr><td bgcolor=\"gray\">0</td><td bgcolor=\"gray\">0</td><td bgcolor=\"gray\">0</td><td bgcolor=\"gray\">0</td><td bgcolor=\"gray\">0</td><td>-1</td><td bgcolor=\"gray\">0</td><td bgcolor=\"gray\">0</td><td bgcolor=\"gray\">0</td><td bgcolor=\"gray\">0</td><td>-1</td><td bgcolor=\"gray\">0</td><td bgcolor=\"gray\">0</td><td>-1</td><td bgcolor=\"gray\">0</td><td bgcolor=\"gray\">0</td><td bgcolor=\"gray\">0</td><td>-1</td><td bgcolor=\"gray\">0</td><td bgcolor=\"gray\">0</td><td bgcolor=\"gray\">0</td><td>-1</td><td bgcolor=\"gray\">0</td><td bgcolor=\"gray\">0</td><td>-1</td><td bgcolor=\"gray\">0</td><td bgcolor=\"gray\">0</td><td bgcolor=\"gray\">0</td><td>-1</td><td>-1</td><td bgcolor=\"gray\">0</td><td>-1</td><td>-1</td><td bgcolor=\"gray\">0</td><td bgcolor=\"gray\">0</td><td bgcolor=\"gray\">0</td><td bgcolor=\"gray\">0</td><td bgcolor=\"gray\">0</td><td>-1</td><td>-1</td><td>-1</td><td>-1</td><td>-1</td><td>-1</td><td>0</td><td>0</td><td>-1</td><td>-1</td><td>-1</td><td bgcolor=\"gray\">0</td></tr><tr><td>-1</td><td bgcolor=\"gray\">0</td><td>-1</td><td bgcolor=\"gray\">0</td><td bgcolor=\"gray\">0</td><td bgcolor=\"gray\">0</td><td>-1</td><td bgcolor=\"gray\">0</td><td>-1</td><td bgcolor=\"gray\">0</td><td bgcolor=\"gray\">0</td><td bgcolor=\"gray\">0</td><td bgcolor=\"gray\">0</td><td bgcolor=\"gray\">0</td><td bgcolor=\"gray\">0</td><td bgcolor=\"gray\">0</td><td bgcolor=\"gray\">0</td><td>-1</td><td bgcolor=\"gray\">0</td><td bgcolor=\"gray\">0</td><td>-1</td><td bgcolor=\"gray\">0</td><td bgcolor=\"gray\">0</td><td>-1</td><td bgcolor=\"gray\">0</td><td bgcolor=\"gray\">0</td><td bgcolor=\"gray\">0</td><td bgcolor=\"gray\">0</td><td bgcolor=\"gray\">0</td><td bgcolor=\"gray\">0</td><td bgcolor=\"gray\">0</td><td>-1</td><td>-1</td><td bgcolor=\"gray\">0</td><td bgcolor=\"gray\">0</td><td bgcolor=\"gray\">0</td><td bgcolor=\"gray\">0</td><td>-1</td><td bgcolor=\"gray\">0</td><td bgcolor=\"gray\">0</td><td bgcolor=\"gray\">0</td><td bgcolor=\"gray\">0</td><td bgcolor=\"gray\">0</td><td>-1</td><td>-1</td><td>0</td><td>-1</td><td bgcolor=\"gray\">0</td><td bgcolor=\"gray\">0</td><td bgcolor=\"gray\">0</td></tr><tr><td>-1</td><td bgcolor=\"gray\">0</td><td>-1</td><td bgcolor=\"gray\">0</td><td>-1</td><td bgcolor=\"gray\">0</td><td bgcolor=\"gray\">0</td><td bgcolor=\"gray\">0</td><td bgcolor=\"gray\">0</td><td>-1</td><td bgcolor=\"gray\">0</td><td bgcolor=\"gray\">0</td><td bgcolor=\"gray\">0</td><td bgcolor=\"gray\">0</td><td>-1</td><td bgcolor=\"gray\">0</td><td bgcolor=\"gray\">0</td><td bgcolor=\"gray\">0</td><td>-1</td><td bgcolor=\"gray\">0</td><td>-1</td><td bgcolor=\"gray\">0</td><td>-1</td><td>-1</td><td>-1</td><td bgcolor=\"gray\">0</td><td>-1</td><td bgcolor=\"gray\">0</td><td bgcolor=\"gray\">0</td><td bgcolor=\"gray\">0</td><td>-1</td><td>-1</td><td bgcolor=\"gray\">0</td><td bgcolor=\"gray\">0</td><td bgcolor=\"gray\">0</td><td bgcolor=\"gray\">0</td><td>-1</td><td bgcolor=\"gray\">0</td><td bgcolor=\"gray\">0</td><td bgcolor=\"gray\">0</td><td>-1</td><td>-1</td><td bgcolor=\"gray\">0</td><td bgcolor=\"gray\">0</td><td bgcolor=\"gray\">0</td><td>-1</td><td bgcolor=\"gray\">0</td><td>-1</td><td bgcolor=\"gray\">0</td><td bgcolor=\"gray\">0</td></tr><tr><td bgcolor=\"gray\">0</td><td bgcolor=\"gray\">0</td><td bgcolor=\"gray\">0</td><td>-1</td><td bgcolor=\"gray\">0</td><td>-1</td><td bgcolor=\"gray\">0</td><td bgcolor=\"gray\">0</td><td>-1</td><td>-1</td><td>-1</td><td bgcolor=\"gray\">0</td><td bgcolor=\"gray\">0</td><td bgcolor=\"gray\">0</td><td>-1</td><td bgcolor=\"gray\">0</td><td bgcolor=\"gray\">0</td><td bgcolor=\"gray\">0</td><td bgcolor=\"gray\">0</td><td bgcolor=\"gray\">0</td><td>-1</td><td bgcolor=\"gray\">0</td><td bgcolor=\"gray\">0</td><td bgcolor=\"gray\">0</td><td bgcolor=\"gray\">0</td><td bgcolor=\"gray\">0</td><td>-1</td><td>-1</td><td bgcolor=\"gray\">0</td><td bgcolor=\"gray\">0</td><td bgcolor=\"gray\">0</td><td bgcolor=\"gray\">0</td><td bgcolor=\"gray\">0</td><td bgcolor=\"gray\">0</td><td bgcolor=\"gray\">0</td><td bgcolor=\"gray\">0</td><td bgcolor=\"gray\">0</td><td bgcolor=\"gray\">0</td><td>-1</td><td bgcolor=\"gray\">0</td><td bgcolor=\"gray\">0</td><td bgcolor=\"gray\">0</td><td bgcolor=\"gray\">0</td><td>-1</td><td bgcolor=\"gray\">0</td><td>-1</td><td bgcolor=\"gray\">0</td><td bgcolor=\"gray\">0</td><td bgcolor=\"gray\">0</td><td bgcolor=\"gray\">0</td></tr><tr><td>-1</td><td bgcolor=\"gray\">0</td><td>-1</td><td bgcolor=\"gray\">0</td><td bgcolor=\"gray\">0</td><td>-1</td><td bgcolor=\"gray\">0</td><td>-1</td><td>-1</td><td>-1</td><td bgcolor=\"gray\">0</td><td bgcolor=\"gray\">0</td><td>-1</td><td bgcolor=\"gray\">0</td><td bgcolor=\"gray\">0</td><td bgcolor=\"gray\">0</td><td>-1</td><td bgcolor=\"gray\">0</td><td>-1</td><td bgcolor=\"gray\">0</td><td bgcolor=\"gray\">0</td><td bgcolor=\"gray\">0</td><td bgcolor=\"gray\">0</td><td bgcolor=\"gray\">0</td><td bgcolor=\"gray\">0</td><td>-1</td><td>-1</td><td>0</td><td>-1</td><td>-1</td><td bgcolor=\"gray\">0</td><td>-1</td><td bgcolor=\"gray\">0</td><td>-1</td><td>-1</td><td bgcolor=\"gray\">0</td><td>-1</td><td bgcolor=\"gray\">0</td><td bgcolor=\"gray\">0</td><td bgcolor=\"gray\">0</td><td bgcolor=\"gray\">0</td><td bgcolor=\"gray\">0</td><td>-1</td><td>0</td><td>-1</td><td bgcolor=\"gray\">0</td><td bgcolor=\"gray\">0</td><td bgcolor=\"gray\">0</td><td>-1</td><td bgcolor=\"gray\">0</td></tr><tr><td>-1</td><td>-1</td><td bgcolor=\"gray\">0</td><td bgcolor=\"gray\">0</td><td>-1</td><td bgcolor=\"gray\">0</td><td bgcolor=\"gray\">0</td><td>-1</td><td>-1</td><td bgcolor=\"gray\">0</td><td bgcolor=\"gray\">0</td><td bgcolor=\"gray\">0</td><td>-1</td><td bgcolor=\"gray\">0</td><td bgcolor=\"gray\">0</td><td bgcolor=\"gray\">0</td><td>-1</td><td bgcolor=\"gray\">0</td><td bgcolor=\"gray\">0</td><td bgcolor=\"gray\">0</td><td bgcolor=\"gray\">0</td><td>-1</td><td bgcolor=\"gray\">0</td><td>-1</td><td bgcolor=\"gray\">0</td><td>-1</td><td>0</td><td>-1</td><td>0</td><td>-1</td><td>-1</td><td>-1</td><td bgcolor=\"gray\">0</td><td bgcolor=\"gray\">0</td><td bgcolor=\"gray\">0</td><td bgcolor=\"gray\">0</td><td bgcolor=\"gray\">0</td><td>-1</td><td>-1</td><td>-1</td><td>-1</td><td>-1</td><td>-1</td><td>-1</td><td>-1</td><td bgcolor=\"gray\">0</td><td bgcolor=\"gray\">0</td><td>-1</td><td>0</td><td>-1</td></tr><tr><td>0</td><td>-1</td><td bgcolor=\"gray\">0</td><td bgcolor=\"gray\">0</td><td bgcolor=\"gray\">0</td><td bgcolor=\"gray\">0</td><td bgcolor=\"gray\">0</td><td>-1</td><td bgcolor=\"gray\">0</td><td bgcolor=\"gray\">0</td><td bgcolor=\"gray\">0</td><td bgcolor=\"gray\">0</td><td bgcolor=\"gray\">0</td><td bgcolor=\"gray\">0</td><td>-1</td><td bgcolor=\"gray\">0</td><td bgcolor=\"gray\">0</td><td>-1</td><td>-1</td><td bgcolor=\"gray\">0</td><td bgcolor=\"gray\">0</td><td>-1</td><td>-1</td><td>0</td><td>-1</td><td>0</td><td>-1</td><td>0</td><td>-1</td><td>-1</td><td bgcolor=\"gray\">0</td><td bgcolor=\"gray\">0</td><td bgcolor=\"gray\">0</td><td bgcolor=\"gray\">0</td><td bgcolor=\"gray\">0</td><td bgcolor=\"gray\">0</td><td bgcolor=\"gray\">0</td><td>-1</td><td>-1</td><td bgcolor=\"gray\">0</td><td>-1</td><td bgcolor=\"gray\">0</td><td>-1</td><td>-1</td><td>0</td><td>-1</td><td bgcolor=\"gray\">0</td><td>-1</td><td>-1</td><td>-1</td></tr><tr><td>0</td><td>-1</td><td bgcolor=\"gray\">0</td><td bgcolor=\"gray\">0</td><td>-1</td><td>-1</td><td bgcolor=\"gray\">0</td><td bgcolor=\"gray\">0</td><td bgcolor=\"gray\">0</td><td bgcolor=\"gray\">0</td><td bgcolor=\"gray\">0</td><td bgcolor=\"gray\">0</td><td bgcolor=\"gray\">0</td><td>-1</td><td bgcolor=\"gray\">0</td><td bgcolor=\"gray\">0</td><td bgcolor=\"gray\">0</td><td bgcolor=\"gray\">0</td><td bgcolor=\"gray\">0</td><td>-1</td><td bgcolor=\"gray\">0</td><td bgcolor=\"gray\">0</td><td bgcolor=\"gray\">0</td><td>-1</td><td>0</td><td>0</td><td>-1</td><td>0</td><td>0</td><td>0</td><td>-1</td><td>-1</td><td bgcolor=\"gray\">0</td><td>-1</td><td bgcolor=\"gray\">0</td><td>-1</td><td>-1</td><td bgcolor=\"gray\">0</td><td>-1</td><td bgcolor=\"gray\">0</td><td bgcolor=\"gray\">0</td><td bgcolor=\"gray\">0</td><td>-1</td><td>-1</td><td>-1</td><td bgcolor=\"gray\">0</td><td bgcolor=\"gray\">0</td><td bgcolor=\"gray\">0</td><td bgcolor=\"gray\">0</td><td>-1</td></tr><tr><td>0</td><td>-1</td><td>-1</td><td bgcolor=\"gray\">0</td><td bgcolor=\"gray\">0</td><td bgcolor=\"gray\">0</td><td bgcolor=\"gray\">0</td><td bgcolor=\"gray\">0</td><td bgcolor=\"gray\">0</td><td bgcolor=\"gray\">0</td><td bgcolor=\"gray\">0</td><td>-1</td><td bgcolor=\"gray\">0</td><td bgcolor=\"gray\">0</td><td>-1</td><td bgcolor=\"gray\">0</td><td>-1</td><td>-1</td><td>-1</td><td bgcolor=\"gray\">0</td><td bgcolor=\"gray\">0</td><td bgcolor=\"gray\">0</td><td>-1</td><td>0</td><td>0</td><td>-1</td><td>0</td><td>0</td><td>0</td><td>-1</td><td bgcolor=\"gray\">0</td><td bgcolor=\"gray\">0</td><td bgcolor=\"gray\">0</td><td bgcolor=\"gray\">0</td><td bgcolor=\"gray\">0</td><td>-1</td><td bgcolor=\"gray\">0</td><td bgcolor=\"gray\">0</td><td bgcolor=\"gray\">0</td><td bgcolor=\"gray\">0</td><td>-1</td><td bgcolor=\"gray\">0</td><td bgcolor=\"gray\">0</td><td bgcolor=\"gray\">0</td><td bgcolor=\"gray\">0</td><td bgcolor=\"gray\">0</td><td bgcolor=\"gray\">0</td><td bgcolor=\"gray\">0</td><td>-1</td><td>0</td></tr><tr><td>0</td><td>-1</td><td>-1</td><td bgcolor=\"gray\">0</td><td bgcolor=\"gray\">0</td><td bgcolor=\"gray\">0</td><td>-1</td><td bgcolor=\"gray\">0</td><td bgcolor=\"gray\">0</td><td bgcolor=\"gray\">0</td><td>-1</td><td bgcolor=\"gray\">0</td><td bgcolor=\"gray\">0</td><td bgcolor=\"gray\">0</td><td bgcolor=\"gray\">0</td><td>-1</td><td bgcolor=\"gray\">0</td><td bgcolor=\"gray\">0</td><td bgcolor=\"gray\">0</td><td bgcolor=\"gray\">0</td><td bgcolor=\"gray\">0</td><td bgcolor=\"gray\">0</td><td>-1</td><td>0</td><td>-1</td><td bgcolor=\"gray\">0</td><td>-1</td><td>-1</td><td>-1</td><td bgcolor=\"gray\">0</td><td bgcolor=\"gray\">0</td><td bgcolor=\"gray\">0</td><td bgcolor=\"gray\">0</td><td bgcolor=\"gray\">0</td><td>-1</td><td>-1</td><td bgcolor=\"gray\">0</td><td bgcolor=\"gray\">0</td><td bgcolor=\"gray\">0</td><td bgcolor=\"gray\">0</td><td bgcolor=\"gray\">0</td><td bgcolor=\"gray\">0</td><td bgcolor=\"gray\">0</td><td bgcolor=\"gray\">0</td><td bgcolor=\"gray\">0</td><td bgcolor=\"gray\">0</td><td>-1</td><td bgcolor=\"gray\">0</td><td>-1</td><td>-1</td></tr><tr><td>-1</td><td>-1</td><td>-1</td><td>-1</td><td bgcolor=\"gray\">0</td><td bgcolor=\"gray\">0</td><td bgcolor=\"gray\">0</td><td>-1</td><td>-1</td><td bgcolor=\"gray\">0</td><td>-1</td><td>-1</td><td bgcolor=\"gray\">0</td><td bgcolor=\"gray\">0</td><td>-1</td><td bgcolor=\"gray\">0</td><td bgcolor=\"gray\">0</td><td>-1</td><td bgcolor=\"gray\">0</td><td bgcolor=\"gray\">0</td><td bgcolor=\"gray\">0</td><td bgcolor=\"gray\">0</td><td bgcolor=\"gray\">0</td><td>-1</td><td bgcolor=\"gray\">0</td><td bgcolor=\"gray\">0</td><td bgcolor=\"gray\">0</td><td bgcolor=\"gray\">0</td><td bgcolor=\"gray\">0</td><td>-1</td><td>-1</td><td bgcolor=\"gray\">0</td><td bgcolor=\"gray\">0</td><td bgcolor=\"gray\">0</td><td>-1</td><td bgcolor=\"gray\">0</td><td bgcolor=\"gray\">0</td><td bgcolor=\"gray\">0</td><td>-1</td><td>-1</td><td>-1</td><td>-1</td><td bgcolor=\"gray\">0</td><td bgcolor=\"gray\">0</td><td>-1</td><td>-1</td><td bgcolor=\"gray\">0</td><td>-1</td><td>-1</td><td>-1</td></tr><tr><td>-1</td><td bgcolor=\"gray\">0</td><td bgcolor=\"gray\">0</td><td bgcolor=\"gray\">0</td><td bgcolor=\"gray\">0</td><td bgcolor=\"gray\">0</td><td>-1</td><td bgcolor=\"gray\">0</td><td bgcolor=\"gray\">0</td><td bgcolor=\"gray\">0</td><td>-1</td><td bgcolor=\"gray\">0</td><td bgcolor=\"gray\">0</td><td>-1</td><td>-1</td><td>-1</td><td bgcolor=\"gray\">0</td><td bgcolor=\"gray\">0</td><td>-1</td><td bgcolor=\"gray\">0</td><td bgcolor=\"gray\">0</td><td bgcolor=\"gray\">0</td><td>-1</td><td bgcolor=\"gray\">0</td><td bgcolor=\"gray\">0</td><td>-1</td><td bgcolor=\"gray\">0</td><td bgcolor=\"gray\">0</td><td bgcolor=\"gray\">0</td><td bgcolor=\"gray\">0</td><td>-1</td><td>-1</td><td bgcolor=\"gray\">0</td><td bgcolor=\"gray\">0</td><td bgcolor=\"gray\">0</td><td bgcolor=\"gray\">0</td><td>-1</td><td bgcolor=\"gray\">0</td><td>-1</td><td>0</td><td>0</td><td>-1</td><td bgcolor=\"gray\">0</td><td bgcolor=\"gray\">0</td><td>-1</td><td bgcolor=\"gray\">0</td><td bgcolor=\"gray\">0</td><td bgcolor=\"gray\">0</td><td bgcolor=\"gray\">0</td><td bgcolor=\"gray\">0</td></tr><tr><td>0</td><td>-1</td><td bgcolor=\"gray\">0</td><td bgcolor=\"gray\">0</td><td>-1</td><td bgcolor=\"gray\">0</td><td>-1</td><td>-1</td><td>-1</td><td bgcolor=\"gray\">0</td><td>-1</td><td>-1</td><td>-1</td><td bgcolor=\"gray\">0</td><td bgcolor=\"gray\">0</td><td bgcolor=\"gray\">0</td><td bgcolor=\"gray\">0</td><td bgcolor=\"gray\">0</td><td bgcolor=\"gray\">0</td><td bgcolor=\"gray\">0</td><td bgcolor=\"gray\">0</td><td bgcolor=\"gray\">0</td><td bgcolor=\"gray\">0</td><td>-1</td><td>-1</td><td bgcolor=\"gray\">0</td><td bgcolor=\"gray\">0</td><td>-1</td><td bgcolor=\"gray\">0</td><td bgcolor=\"gray\">0</td><td bgcolor=\"gray\">0</td><td>-1</td><td bgcolor=\"gray\">0</td><td bgcolor=\"gray\">0</td><td>-1</td><td>-1</td><td>-1</td><td>-1</td><td bgcolor=\"gray\">0</td><td>-1</td><td>-1</td><td bgcolor=\"gray\">0</td><td bgcolor=\"gray\">0</td><td>-1</td><td>-1</td><td bgcolor=\"gray\">0</td><td>-1</td><td bgcolor=\"gray\">0</td><td>-1</td><td bgcolor=\"gray\">0</td></tr><tr><td>-1</td><td bgcolor=\"gray\">0</td><td bgcolor=\"gray\">0</td><td bgcolor=\"gray\">0</td><td>-1</td><td>-1</td><td bgcolor=\"gray\">0</td><td bgcolor=\"gray\">0</td><td>-1</td><td bgcolor=\"gray\">0</td><td bgcolor=\"gray\">0</td><td bgcolor=\"gray\">0</td><td bgcolor=\"gray\">0</td><td bgcolor=\"gray\">0</td><td bgcolor=\"gray\">0</td><td bgcolor=\"gray\">0</td><td>-1</td><td bgcolor=\"gray\">0</td><td>-1</td><td bgcolor=\"gray\">0</td><td bgcolor=\"gray\">0</td><td>-1</td><td bgcolor=\"gray\">0</td><td>-1</td><td>-1</td><td bgcolor=\"gray\">0</td><td bgcolor=\"gray\">0</td><td>-1</td><td>-1</td><td bgcolor=\"gray\">0</td><td>-1</td><td bgcolor=\"gray\">0</td><td bgcolor=\"gray\">0</td><td bgcolor=\"gray\">0</td><td bgcolor=\"gray\">0</td><td>-1</td><td>-1</td><td>-1</td><td bgcolor=\"gray\">0</td><td bgcolor=\"gray\">0</td><td bgcolor=\"gray\">0</td><td bgcolor=\"gray\">0</td><td bgcolor=\"gray\">0</td><td bgcolor=\"gray\">0</td><td bgcolor=\"gray\">0</td><td>-1</td><td>-1</td><td bgcolor=\"gray\">0</td><td bgcolor=\"gray\">0</td><td bgcolor=\"gray\">0</td></tr><tr><td bgcolor=\"gray\">0</td><td bgcolor=\"gray\">0</td><td bgcolor=\"gray\">0</td><td>-1</td><td bgcolor=\"gray\">0</td><td bgcolor=\"gray\">0</td><td bgcolor=\"gray\">0</td><td>-1</td><td bgcolor=\"gray\">0</td><td bgcolor=\"gray\">0</td><td>-1</td><td bgcolor=\"gray\">0</td><td>-1</td><td bgcolor=\"gray\">0</td><td bgcolor=\"gray\">0</td><td bgcolor=\"gray\">0</td><td bgcolor=\"gray\">0</td><td>-1</td><td bgcolor=\"gray\">0</td><td>-1</td><td bgcolor=\"gray\">0</td><td bgcolor=\"gray\">0</td><td bgcolor=\"gray\">0</td><td bgcolor=\"gray\">0</td><td>-1</td><td bgcolor=\"gray\">0</td><td bgcolor=\"gray\">0</td><td bgcolor=\"gray\">0</td><td>-1</td><td bgcolor=\"gray\">0</td><td>-1</td><td bgcolor=\"gray\">0</td><td bgcolor=\"gray\">0</td><td bgcolor=\"gray\">0</td><td>-1</td><td bgcolor=\"gray\">0</td><td bgcolor=\"gray\">0</td><td>-1</td><td bgcolor=\"gray\">0</td><td bgcolor=\"gray\">0</td><td>-1</td><td>-1</td><td bgcolor=\"gray\">0</td><td>-1</td><td>-1</td><td>-1</td><td>-1</td><td>-1</td><td bgcolor=\"gray\">0</td><td bgcolor=\"gray\">0</td></tr><tr><td bgcolor=\"gray\">0</td><td>-1</td><td bgcolor=\"gray\">0</td><td>-1</td><td bgcolor=\"gray\">0</td><td bgcolor=\"gray\">0</td><td bgcolor=\"gray\">0</td><td bgcolor=\"gray\">0</td><td bgcolor=\"gray\">0</td><td bgcolor=\"gray\">0</td><td>-1</td><td bgcolor=\"gray\">0</td><td>-1</td><td>-1</td><td bgcolor=\"gray\">0</td><td>-1</td><td bgcolor=\"gray\">0</td><td>-1</td><td bgcolor=\"gray\">0</td><td bgcolor=\"gray\">0</td><td bgcolor=\"gray\">0</td><td>-1</td><td bgcolor=\"gray\">0</td><td bgcolor=\"gray\">0</td><td>-1</td><td bgcolor=\"gray\">0</td><td>-1</td><td>-1</td><td bgcolor=\"gray\">0</td><td bgcolor=\"gray\">0</td><td>-1</td><td bgcolor=\"gray\">0</td><td bgcolor=\"gray\">0</td><td bgcolor=\"gray\">0</td><td bgcolor=\"gray\">0</td><td bgcolor=\"gray\">0</td><td>-1</td><td>-1</td><td>-1</td><td bgcolor=\"gray\">0</td><td>-1</td><td bgcolor=\"gray\">0</td><td bgcolor=\"gray\">0</td><td bgcolor=\"gray\">0</td><td bgcolor=\"gray\">0</td><td>-1</td><td>-1</td><td>-1</td><td bgcolor=\"gray\">0</td><td bgcolor=\"gray\">0</td></tr><tr><td>-1</td><td bgcolor=\"gray\">0</td><td bgcolor=\"gray\">0</td><td bgcolor=\"gray\">0</td><td bgcolor=\"gray\">0</td><td bgcolor=\"gray\">0</td><td bgcolor=\"gray\">0</td><td bgcolor=\"gray\">0</td><td bgcolor=\"gray\">0</td><td>-1</td><td>0</td><td>-1</td><td>-1</td><td bgcolor=\"gray\">0</td><td bgcolor=\"gray\">0</td><td bgcolor=\"gray\">0</td><td>-1</td><td>-1</td><td bgcolor=\"gray\">0</td><td>-1</td><td>-1</td><td>0</td><td>-1</td><td bgcolor=\"gray\">0</td><td bgcolor=\"gray\">0</td><td bgcolor=\"gray\">0</td><td>-1</td><td bgcolor=\"gray\">0</td><td bgcolor=\"gray\">0</td><td bgcolor=\"gray\">0</td><td bgcolor=\"gray\">0</td><td>-1</td><td bgcolor=\"gray\">0</td><td>-1</td><td bgcolor=\"gray\">0</td><td>-1</td><td bgcolor=\"gray\">0</td><td bgcolor=\"gray\">0</td><td>-1</td><td bgcolor=\"gray\">0</td><td bgcolor=\"gray\">0</td><td>-1</td><td bgcolor=\"gray\">0</td><td bgcolor=\"gray\">0</td><td bgcolor=\"gray\">0</td><td bgcolor=\"gray\">0</td><td bgcolor=\"gray\">0</td><td bgcolor=\"gray\">0</td><td>-1</td><td bgcolor=\"gray\">0</td></tr><tr><td bgcolor=\"gray\">0</td><td>-1</td><td>-1</td><td>-1</td><td bgcolor=\"gray\">0</td><td>-1</td><td>-1</td><td bgcolor=\"gray\">0</td><td bgcolor=\"gray\">0</td><td>-1</td><td>-1</td><td bgcolor=\"gray\">0</td><td>-1</td><td bgcolor=\"gray\">0</td><td bgcolor=\"gray\">0</td><td bgcolor=\"gray\">0</td><td bgcolor=\"gray\">0</td><td>-1</td><td bgcolor=\"gray\">0</td><td bgcolor=\"gray\">0</td><td bgcolor=\"gray\">0</td><td>-1</td><td bgcolor=\"gray\">0</td><td bgcolor=\"gray\">0</td><td bgcolor=\"gray\">0</td><td bgcolor=\"gray\">0</td><td bgcolor=\"gray\">0</td><td bgcolor=\"gray\">0</td><td bgcolor=\"gray\">0</td><td>-1</td><td>-1</td><td bgcolor=\"gray\">0</td><td bgcolor=\"gray\">0</td><td bgcolor=\"gray\">0</td><td>-1</td><td bgcolor=\"gray\">0</td><td bgcolor=\"gray\">0</td><td bgcolor=\"gray\">0</td><td bgcolor=\"gray\">0</td><td bgcolor=\"gray\">0</td><td bgcolor=\"gray\">0</td><td bgcolor=\"gray\">0</td><td>-1</td><td bgcolor=\"gray\">0</td><td bgcolor=\"gray\">0</td><td bgcolor=\"gray\">0</td><td bgcolor=\"gray\">0</td><td bgcolor=\"gray\">0</td><td bgcolor=\"gray\">0</td><td bgcolor=\"gray\">0</td></tr><tr><td bgcolor=\"gray\">0</td><td bgcolor=\"gray\">0</td><td>-1</td><td>-1</td><td bgcolor=\"gray\">0</td><td bgcolor=\"gray\">0</td><td>-1</td><td>-1</td><td bgcolor=\"gray\">0</td><td bgcolor=\"gray\">0</td><td bgcolor=\"gray\">0</td><td bgcolor=\"gray\">0</td><td bgcolor=\"gray\">0</td><td>-1</td><td bgcolor=\"gray\">0</td><td bgcolor=\"gray\">0</td><td>-1</td><td>-1</td><td bgcolor=\"gray\">0</td><td bgcolor=\"gray\">0</td><td bgcolor=\"gray\">0</td><td>-1</td><td bgcolor=\"gray\">0</td><td bgcolor=\"gray\">0</td><td>-1</td><td bgcolor=\"gray\">0</td><td bgcolor=\"gray\">0</td><td>-1</td><td bgcolor=\"gray\">0</td><td>-1</td><td>-1</td><td bgcolor=\"gray\">0</td><td bgcolor=\"gray\">0</td><td bgcolor=\"gray\">0</td><td>-1</td><td>-1</td><td bgcolor=\"gray\">0</td><td bgcolor=\"gray\">0</td><td bgcolor=\"gray\">0</td><td bgcolor=\"gray\">0</td><td bgcolor=\"gray\">0</td><td>-1</td><td bgcolor=\"gray\">0</td><td bgcolor=\"gray\">0</td><td>-1</td><td bgcolor=\"gray\">0</td><td bgcolor=\"gray\">0</td><td>-1</td><td bgcolor=\"gray\">0</td><td bgcolor=\"gray\">0</td></tr><tr><td bgcolor=\"gray\">0</td><td bgcolor=\"gray\">0</td><td bgcolor=\"gray\">0</td><td bgcolor=\"gray\">0</td><td bgcolor=\"gray\">0</td><td bgcolor=\"gray\">0</td><td>-1</td><td>-1</td><td>-1</td><td>-1</td><td bgcolor=\"gray\">0</td><td bgcolor=\"gray\">0</td><td bgcolor=\"gray\">0</td><td bgcolor=\"gray\">0</td><td>-1</td><td bgcolor=\"gray\">0</td><td>-1</td><td bgcolor=\"gray\">0</td><td>-1</td><td bgcolor=\"gray\">0</td><td bgcolor=\"gray\">0</td><td bgcolor=\"gray\">0</td><td bgcolor=\"gray\">0</td><td>-1</td><td>-1</td><td>-1</td><td>-1</td><td>-1</td><td>-1</td><td>-1</td><td>-1</td><td bgcolor=\"gray\">0</td><td bgcolor=\"gray\">0</td><td bgcolor=\"gray\">0</td><td>-1</td><td>0</td><td>-1</td><td bgcolor=\"gray\">0</td><td>-1</td><td bgcolor=\"gray\">0</td><td bgcolor=\"gray\">0</td><td bgcolor=\"gray\">0</td><td bgcolor=\"gray\">0</td><td bgcolor=\"gray\">0</td><td bgcolor=\"gray\">0</td><td bgcolor=\"gray\">0</td><td bgcolor=\"gray\">0</td><td>-1</td><td bgcolor=\"gray\">0</td><td bgcolor=\"gray\">0</td></tr><tr><td bgcolor=\"gray\">0</td><td>-1</td><td bgcolor=\"gray\">0</td><td>-1</td><td bgcolor=\"gray\">0</td><td bgcolor=\"gray\">0</td><td bgcolor=\"gray\">0</td><td>-1</td><td>-1</td><td bgcolor=\"gray\">0</td><td bgcolor=\"gray\">0</td><td>-1</td><td bgcolor=\"gray\">0</td><td>-1</td><td>-1</td><td bgcolor=\"gray\">0</td><td bgcolor=\"gray\">0</td><td bgcolor=\"gray\">0</td><td bgcolor=\"gray\">0</td><td bgcolor=\"gray\">0</td><td bgcolor=\"gray\">0</td><td bgcolor=\"gray\">0</td><td bgcolor=\"gray\">0</td><td bgcolor=\"gray\">0</td><td bgcolor=\"gray\">0</td><td bgcolor=\"gray\">0</td><td bgcolor=\"gray\">0</td><td bgcolor=\"gray\">0</td><td bgcolor=\"gray\">0</td><td bgcolor=\"gray\">0</td><td bgcolor=\"gray\">0</td><td bgcolor=\"gray\">0</td><td bgcolor=\"gray\">0</td><td>-1</td><td>0</td><td>-1</td><td bgcolor=\"gray\">0</td><td bgcolor=\"gray\">0</td><td bgcolor=\"gray\">0</td><td bgcolor=\"gray\">0</td><td bgcolor=\"gray\">0</td><td>-1</td><td>-1</td><td bgcolor=\"gray\">0</td><td bgcolor=\"gray\">0</td><td bgcolor=\"gray\">0</td><td bgcolor=\"gray\">0</td><td bgcolor=\"gray\">0</td><td bgcolor=\"gray\">0</td><td bgcolor=\"gray\">0</td></tr><tr><td bgcolor=\"gray\">0</td><td bgcolor=\"gray\">0</td><td>-1</td><td bgcolor=\"gray\">0</td><td bgcolor=\"gray\">0</td><td>-1</td><td>-1</td><td>-1</td><td bgcolor=\"gray\">0</td><td bgcolor=\"gray\">0</td><td bgcolor=\"gray\">0</td><td bgcolor=\"gray\">0</td><td bgcolor=\"gray\">0</td><td bgcolor=\"gray\">0</td><td bgcolor=\"gray\">0</td><td bgcolor=\"gray\">0</td><td bgcolor=\"gray\">0</td><td>-1</td><td>-1</td><td bgcolor=\"gray\">0</td><td bgcolor=\"gray\">0</td><td bgcolor=\"gray\">0</td><td>-1</td><td>-1</td><td>-1</td><td bgcolor=\"gray\">0</td><td bgcolor=\"gray\">0</td><td bgcolor=\"gray\">0</td><td bgcolor=\"gray\">0</td><td bgcolor=\"gray\">0</td><td bgcolor=\"gray\">0</td><td>-1</td><td>-1</td><td>0</td><td>0</td><td>0</td><td>-1</td><td bgcolor=\"gray\">0</td><td bgcolor=\"gray\">0</td><td>-1</td><td>-1</td><td bgcolor=\"gray\">0</td><td bgcolor=\"gray\">0</td><td bgcolor=\"gray\">0</td><td bgcolor=\"gray\">0</td><td>-1</td><td>-1</td><td bgcolor=\"gray\">0</td><td bgcolor=\"gray\">0</td><td>-1</td></tr><tr><td bgcolor=\"gray\">0</td><td bgcolor=\"gray\">0</td><td bgcolor=\"gray\">0</td><td bgcolor=\"gray\">0</td><td>-1</td><td>0</td><td>-1</td><td bgcolor=\"gray\">0</td><td bgcolor=\"gray\">0</td><td bgcolor=\"gray\">0</td><td bgcolor=\"gray\">0</td><td bgcolor=\"gray\">0</td><td bgcolor=\"gray\">0</td><td bgcolor=\"gray\">0</td><td bgcolor=\"gray\">0</td><td bgcolor=\"gray\">0</td><td bgcolor=\"gray\">0</td><td>-1</td><td bgcolor=\"gray\">0</td><td>-1</td><td>-1</td><td>-1</td><td>0</td><td>-1</td><td>-1</td><td>-1</td><td bgcolor=\"gray\">0</td><td bgcolor=\"gray\">0</td><td bgcolor=\"gray\">0</td><td>-1</td><td bgcolor=\"gray\">0</td><td bgcolor=\"gray\">0</td><td bgcolor=\"gray\">0</td><td>-1</td><td>0</td><td>-1</td><td>-1</td><td bgcolor=\"gray\">0</td><td bgcolor=\"gray\">0</td><td bgcolor=\"gray\">0</td><td bgcolor=\"gray\">0</td><td bgcolor=\"gray\">0</td><td bgcolor=\"gray\">0</td><td bgcolor=\"gray\">0</td><td bgcolor=\"gray\">0</td><td bgcolor=\"gray\">0</td><td>-1</td><td bgcolor=\"gray\">0</td><td bgcolor=\"gray\">0</td><td bgcolor=\"gray\">0</td></tr><tr><td>-1</td><td bgcolor=\"gray\">0</td><td bgcolor=\"gray\">0</td><td>-1</td><td>-1</td><td>0</td><td>-1</td><td bgcolor=\"gray\">0</td><td>-1</td><td bgcolor=\"gray\">0</td><td bgcolor=\"gray\">0</td><td bgcolor=\"gray\">0</td><td bgcolor=\"gray\">0</td><td bgcolor=\"gray\">0</td><td>-1</td><td bgcolor=\"gray\">0</td><td>-1</td><td>-1</td><td bgcolor=\"gray\">0</td><td>-1</td><td bgcolor=\"gray\">0</td><td bgcolor=\"gray\">0</td><td>-1</td><td bgcolor=\"gray\">0</td><td bgcolor=\"gray\">0</td><td>-1</td><td bgcolor=\"gray\">0</td><td bgcolor=\"gray\">0</td><td bgcolor=\"gray\">0</td><td>-1</td><td>-1</td><td bgcolor=\"gray\">0</td><td bgcolor=\"gray\">0</td><td bgcolor=\"gray\">0</td><td>-1</td><td bgcolor=\"gray\">0</td><td bgcolor=\"gray\">0</td><td bgcolor=\"gray\">0</td><td>-1</td><td>-1</td><td bgcolor=\"gray\">0</td><td>-1</td><td bgcolor=\"gray\">0</td><td>-1</td><td>-1</td><td bgcolor=\"gray\">0</td><td bgcolor=\"gray\">0</td><td bgcolor=\"gray\">0</td><td bgcolor=\"gray\">0</td><td bgcolor=\"gray\">0</td></tr><tr><td bgcolor=\"gray\">0</td><td bgcolor=\"gray\">0</td><td>-1</td><td bgcolor=\"gray\">0</td><td bgcolor=\"gray\">0</td><td>-1</td><td bgcolor=\"gray\">0</td><td>-1</td><td bgcolor=\"gray\">0</td><td>-1</td><td>-1</td><td bgcolor=\"gray\">0</td><td bgcolor=\"gray\">0</td><td>-1</td><td>-1</td><td>-1</td><td>-1</td><td>-1</td><td bgcolor=\"gray\">0</td><td bgcolor=\"gray\">0</td><td bgcolor=\"gray\">0</td><td>-1</td><td>-1</td><td bgcolor=\"gray\">0</td><td>-1</td><td bgcolor=\"gray\">0</td><td bgcolor=\"gray\">0</td><td bgcolor=\"gray\">0</td><td bgcolor=\"gray\">0</td><td bgcolor=\"gray\">0</td><td bgcolor=\"gray\">0</td><td bgcolor=\"gray\">0</td><td bgcolor=\"gray\">0</td><td>-1</td><td>-1</td><td>-1</td><td bgcolor=\"gray\">0</td><td bgcolor=\"gray\">0</td><td bgcolor=\"gray\">0</td><td>-1</td><td bgcolor=\"gray\">0</td><td bgcolor=\"gray\">0</td><td bgcolor=\"gray\">0</td><td>-1</td><td bgcolor=\"gray\">0</td><td bgcolor=\"gray\">0</td><td>-1</td><td>-1</td><td bgcolor=\"gray\">0</td><td bgcolor=\"gray\">0</td></tr><tr><td bgcolor=\"gray\">0</td><td>-1</td><td>-1</td><td bgcolor=\"gray\">0</td><td bgcolor=\"gray\">0</td><td bgcolor=\"gray\">0</td><td bgcolor=\"gray\">0</td><td bgcolor=\"gray\">0</td><td bgcolor=\"gray\">0</td><td bgcolor=\"gray\">0</td><td>-1</td><td bgcolor=\"gray\">0</td><td>-1</td><td>0</td><td>-1</td><td bgcolor=\"gray\">0</td><td>-1</td><td bgcolor=\"gray\">0</td><td bgcolor=\"gray\">0</td><td bgcolor=\"gray\">0</td><td bgcolor=\"gray\">0</td><td bgcolor=\"gray\">0</td><td bgcolor=\"gray\">0</td><td bgcolor=\"gray\">0</td><td>-1</td><td bgcolor=\"gray\">0</td><td bgcolor=\"gray\">0</td><td bgcolor=\"gray\">0</td><td bgcolor=\"gray\">0</td><td>-1</td><td bgcolor=\"gray\">0</td><td bgcolor=\"gray\">0</td><td bgcolor=\"gray\">0</td><td bgcolor=\"gray\">0</td><td bgcolor=\"gray\">0</td><td bgcolor=\"gray\">0</td><td>-1</td><td bgcolor=\"gray\">0</td><td bgcolor=\"gray\">0</td><td>-1</td><td>-1</td><td bgcolor=\"gray\">0</td><td bgcolor=\"gray\">0</td><td bgcolor=\"gray\">0</td><td bgcolor=\"gray\">0</td><td>-1</td><td bgcolor=\"gray\">0</td><td bgcolor=\"gray\">0</td><td bgcolor=\"gray\">0</td><td bgcolor=\"gray\">0</td></tr><tr><td bgcolor=\"gray\">0</td><td bgcolor=\"gray\">0</td><td bgcolor=\"gray\">0</td><td bgcolor=\"gray\">0</td><td>-1</td><td bgcolor=\"gray\">0</td><td>-1</td><td bgcolor=\"gray\">0</td><td bgcolor=\"gray\">0</td><td bgcolor=\"gray\">0</td><td>-1</td><td bgcolor=\"gray\">0</td><td>-1</td><td>-1</td><td bgcolor=\"gray\">0</td><td bgcolor=\"gray\">0</td><td bgcolor=\"gray\">0</td><td bgcolor=\"gray\">0</td><td bgcolor=\"gray\">0</td><td>-1</td><td>-1</td><td bgcolor=\"gray\">0</td><td bgcolor=\"gray\">0</td><td bgcolor=\"gray\">0</td><td bgcolor=\"gray\">0</td><td bgcolor=\"gray\">0</td><td>-1</td><td bgcolor=\"gray\">0</td><td bgcolor=\"gray\">0</td><td bgcolor=\"gray\">0</td><td bgcolor=\"gray\">0</td><td bgcolor=\"gray\">0</td><td bgcolor=\"gray\">0</td><td bgcolor=\"gray\">0</td><td>-1</td><td bgcolor=\"gray\">0</td><td bgcolor=\"gray\">0</td><td>-1</td><td bgcolor=\"gray\">0</td><td bgcolor=\"gray\">0</td><td bgcolor=\"gray\">0</td><td bgcolor=\"gray\">0</td><td bgcolor=\"gray\">0</td><td>-1</td><td>-1</td><td bgcolor=\"gray\">0</td><td bgcolor=\"gray\">0</td><td>-1</td><td bgcolor=\"gray\">0</td><td bgcolor=\"gray\">0</td></tr><tr><td bgcolor=\"gray\">0</td><td bgcolor=\"gray\">0</td><td bgcolor=\"gray\">0</td><td>-1</td><td bgcolor=\"gray\">0</td><td bgcolor=\"gray\">0</td><td>-1</td><td bgcolor=\"gray\">0</td><td>-1</td><td bgcolor=\"gray\">0</td><td bgcolor=\"gray\">0</td><td bgcolor=\"gray\">0</td><td>-1</td><td bgcolor=\"gray\">0</td><td bgcolor=\"gray\">0</td><td>-1</td><td>-1</td><td>-1</td><td bgcolor=\"gray\">0</td><td bgcolor=\"gray\">0</td><td bgcolor=\"gray\">0</td><td bgcolor=\"gray\">0</td><td bgcolor=\"gray\">0</td><td bgcolor=\"gray\">0</td><td>-1</td><td bgcolor=\"gray\">0</td><td bgcolor=\"gray\">0</td><td bgcolor=\"gray\">0</td><td>-1</td><td bgcolor=\"gray\">0</td><td>-1</td><td bgcolor=\"gray\">0</td><td bgcolor=\"gray\">0</td><td>-1</td><td>-1</td><td bgcolor=\"gray\">0</td><td bgcolor=\"gray\">0</td><td bgcolor=\"gray\">0</td><td bgcolor=\"gray\">0</td><td>-1</td><td>-1</td><td bgcolor=\"gray\">0</td><td bgcolor=\"gray\">0</td><td bgcolor=\"gray\">0</td><td bgcolor=\"gray\">0</td><td bgcolor=\"gray\">0</td><td bgcolor=\"gray\">0</td><td>-1</td><td bgcolor=\"gray\">0</td><td>-1</td></tr><tr><td bgcolor=\"gray\">0</td><td bgcolor=\"gray\">0</td><td bgcolor=\"gray\">0</td><td bgcolor=\"gray\">0</td><td bgcolor=\"gray\">0</td><td bgcolor=\"gray\">0</td><td bgcolor=\"gray\">0</td><td>-1</td><td>-1</td><td bgcolor=\"gray\">0</td><td bgcolor=\"gray\">0</td><td bgcolor=\"gray\">0</td><td bgcolor=\"gray\">0</td><td bgcolor=\"gray\">0</td><td bgcolor=\"gray\">0</td><td bgcolor=\"gray\">0</td><td>-1</td><td bgcolor=\"gray\">0</td><td bgcolor=\"gray\">0</td><td bgcolor=\"gray\">0</td><td>-1</td><td>-1</td><td bgcolor=\"gray\">0</td><td bgcolor=\"gray\">0</td><td bgcolor=\"gray\">0</td><td>-1</td><td>-1</td><td>-1</td><td bgcolor=\"gray\">0</td><td>-1</td><td bgcolor=\"gray\">0</td><td bgcolor=\"gray\">0</td><td>-1</td><td>0</td><td>-1</td><td bgcolor=\"gray\">0</td><td>-1</td><td bgcolor=\"gray\">0</td><td>-1</td><td bgcolor=\"gray\">0</td><td bgcolor=\"gray\">0</td><td bgcolor=\"gray\">0</td><td bgcolor=\"gray\">0</td><td>-1</td><td>-1</td><td bgcolor=\"gray\">0</td><td bgcolor=\"gray\">0</td><td bgcolor=\"gray\">0</td><td bgcolor=\"gray\">0</td><td bgcolor=\"gray\">0</td></tr><tr><td bgcolor=\"gray\">0</td><td bgcolor=\"gray\">0</td><td bgcolor=\"gray\">0</td><td bgcolor=\"gray\">0</td><td bgcolor=\"gray\">0</td><td bgcolor=\"gray\">0</td><td>-1</td><td bgcolor=\"gray\">0</td><td bgcolor=\"gray\">0</td><td>-1</td><td bgcolor=\"gray\">0</td><td bgcolor=\"gray\">0</td><td>-1</td><td bgcolor=\"gray\">0</td><td>-1</td><td bgcolor=\"gray\">0</td><td bgcolor=\"gray\">0</td><td bgcolor=\"gray\">0</td><td bgcolor=\"gray\">0</td><td bgcolor=\"gray\">0</td><td>-1</td><td>0</td><td>-1</td><td bgcolor=\"gray\">0</td><td bgcolor=\"gray\">0</td><td bgcolor=\"gray\">0</td><td bgcolor=\"gray\">0</td><td bgcolor=\"gray\">0</td><td bgcolor=\"gray\">0</td><td>-1</td><td bgcolor=\"gray\">0</td><td>-1</td><td bgcolor=\"gray\">0</td><td>-1</td><td bgcolor=\"gray\">0</td><td bgcolor=\"gray\">0</td><td bgcolor=\"gray\">0</td><td bgcolor=\"gray\">0</td><td bgcolor=\"gray\">0</td><td bgcolor=\"gray\">0</td><td bgcolor=\"gray\">0</td><td>-1</td><td bgcolor=\"gray\">0</td><td>-1</td><td>-1</td><td bgcolor=\"gray\">0</td><td bgcolor=\"gray\">0</td><td bgcolor=\"gray\">0</td><td>-1</td><td bgcolor=\"gray\">0</td></tr><tr><td bgcolor=\"gray\">0</td><td>-1</td><td bgcolor=\"gray\">0</td><td bgcolor=\"gray\">0</td><td bgcolor=\"gray\">0</td><td>-1</td><td>-1</td><td>-1</td><td bgcolor=\"gray\">0</td><td bgcolor=\"gray\">0</td><td bgcolor=\"gray\">0</td><td>-1</td><td bgcolor=\"gray\">0</td><td>-1</td><td bgcolor=\"gray\">0</td><td>-1</td><td bgcolor=\"gray\">0</td><td>-1</td><td>-1</td><td bgcolor=\"gray\">0</td><td bgcolor=\"gray\">0</td><td>-1</td><td>-1</td><td bgcolor=\"gray\">0</td><td bgcolor=\"gray\">0</td><td bgcolor=\"gray\">0</td><td>-1</td><td>-1</td><td bgcolor=\"gray\">0</td><td bgcolor=\"gray\">0</td><td bgcolor=\"gray\">0</td><td bgcolor=\"gray\">0</td><td bgcolor=\"gray\">0</td><td>-1</td><td bgcolor=\"gray\">0</td><td>-1</td><td bgcolor=\"gray\">0</td><td bgcolor=\"gray\">0</td><td>-1</td><td>-1</td><td>-1</td><td>-1</td><td>-1</td><td bgcolor=\"gray\">0</td><td bgcolor=\"gray\">0</td><td bgcolor=\"gray\">0</td><td>-1</td><td>-1</td><td>-1</td><td bgcolor=\"gray\">0</td></tr><tr><td bgcolor=\"gray\">0</td><td bgcolor=\"gray\">0</td><td bgcolor=\"gray\">0</td><td bgcolor=\"gray\">0</td><td>-1</td><td>-1</td><td>-1</td><td bgcolor=\"gray\">0</td><td bgcolor=\"gray\">0</td><td>-1</td><td bgcolor=\"gray\">0</td><td>-1</td><td bgcolor=\"gray\">0</td><td>-1</td><td bgcolor=\"gray\">0</td><td>-1</td><td>-1</td><td>-1</td><td bgcolor=\"gray\">0</td><td bgcolor=\"gray\">0</td><td>-1</td><td bgcolor=\"gray\">0</td><td bgcolor=\"gray\">0</td><td bgcolor=\"gray\">0</td><td bgcolor=\"gray\">0</td><td>-1</td><td>-1</td><td>-1</td><td bgcolor=\"gray\">0</td><td bgcolor=\"gray\">0</td><td bgcolor=\"gray\">0</td><td bgcolor=\"gray\">0</td><td>-1</td><td bgcolor=\"gray\">0</td><td bgcolor=\"gray\">0</td><td>-1</td><td bgcolor=\"gray\">0</td><td>-1</td><td bgcolor=\"gray\">0</td><td bgcolor=\"gray\">0</td><td bgcolor=\"gray\">0</td><td bgcolor=\"gray\">0</td><td bgcolor=\"gray\">0</td><td>-1</td><td>-1</td><td bgcolor=\"gray\">0</td><td bgcolor=\"gray\">0</td><td bgcolor=\"gray\">0</td><td>-1</td><td bgcolor=\"gray\">0</td></tr><tr><td bgcolor=\"gray\">0</td><td bgcolor=\"gray\">0</td><td bgcolor=\"gray\">0</td><td>-1</td><td bgcolor=\"gray\">0</td><td bgcolor=\"gray\">0</td><td bgcolor=\"gray\">0</td><td bgcolor=\"gray\">0</td><td bgcolor=\"gray\">0</td><td bgcolor=\"gray\">0</td><td bgcolor=\"gray\">0</td><td>-1</td><td bgcolor=\"gray\">0</td><td bgcolor=\"gray\">0</td><td bgcolor=\"gray\">0</td><td bgcolor=\"gray\">0</td><td bgcolor=\"gray\">0</td><td bgcolor=\"gray\">0</td><td>-1</td><td bgcolor=\"gray\">0</td><td bgcolor=\"gray\">0</td><td>-1</td><td>-1</td><td bgcolor=\"gray\">0</td><td>-1</td><td bgcolor=\"gray\">0</td><td>-1</td><td bgcolor=\"gray\">0</td><td bgcolor=\"gray\">0</td><td>-1</td><td bgcolor=\"gray\">0</td><td bgcolor=\"gray\">0</td><td bgcolor=\"gray\">0</td><td bgcolor=\"gray\">0</td><td>-1</td><td bgcolor=\"gray\">0</td><td bgcolor=\"gray\">0</td><td bgcolor=\"gray\">0</td><td bgcolor=\"gray\">0</td><td bgcolor=\"gray\">0</td><td bgcolor=\"gray\">0</td><td>-1</td><td bgcolor=\"gray\">0</td><td bgcolor=\"gray\">0</td><td>-1</td><td>-1</td><td>-1</td><td bgcolor=\"gray\">0</td><td>-1</td><td>-1</td></tr><tr><td bgcolor=\"gray\">0</td><td bgcolor=\"gray\">0</td><td bgcolor=\"gray\">0</td><td bgcolor=\"gray\">0</td><td bgcolor=\"gray\">0</td><td bgcolor=\"gray\">0</td><td bgcolor=\"gray\">0</td><td bgcolor=\"gray\">0</td><td>-1</td><td>-1</td><td bgcolor=\"gray\">0</td><td bgcolor=\"gray\">0</td><td bgcolor=\"gray\">0</td><td>-1</td><td bgcolor=\"gray\">0</td><td bgcolor=\"gray\">0</td><td bgcolor=\"gray\">0</td><td>-1</td><td>-1</td><td>-1</td><td bgcolor=\"gray\">0</td><td bgcolor=\"gray\">0</td><td bgcolor=\"gray\">0</td><td bgcolor=\"gray\">0</td><td bgcolor=\"gray\">0</td><td bgcolor=\"gray\">0</td><td bgcolor=\"gray\">0</td><td bgcolor=\"gray\">0</td><td>-1</td><td bgcolor=\"gray\">0</td><td>-1</td><td>-1</td><td bgcolor=\"gray\">0</td><td>-1</td><td bgcolor=\"gray\">0</td><td>-1</td><td bgcolor=\"gray\">0</td><td bgcolor=\"gray\">0</td><td>-1</td><td bgcolor=\"gray\">0</td><td bgcolor=\"gray\">0</td><td bgcolor=\"gray\">0</td><td bgcolor=\"gray\">0</td><td bgcolor=\"gray\">0</td><td bgcolor=\"gray\">0</td><td bgcolor=\"gray\">0</td><td bgcolor=\"gray\">0</td><td bgcolor=\"gray\">0</td><td bgcolor=\"gray\">0</td><td bgcolor=\"gray\">0</td></tr><tr><td>-1</td><td>-1</td><td bgcolor=\"gray\">0</td><td bgcolor=\"gray\">0</td><td bgcolor=\"gray\">0</td><td bgcolor=\"gray\">0</td><td bgcolor=\"gray\">0</td><td>-1</td><td bgcolor=\"gray\">0</td><td bgcolor=\"gray\">0</td><td bgcolor=\"gray\">0</td><td>-1</td><td bgcolor=\"gray\">0</td><td bgcolor=\"gray\">0</td><td>-1</td><td>-1</td><td>-1</td><td bgcolor=\"gray\">0</td><td>-1</td><td bgcolor=\"gray\">0</td><td bgcolor=\"gray\">0</td><td bgcolor=\"gray\">0</td><td>-1</td><td bgcolor=\"gray\">0</td><td bgcolor=\"gray\">0</td><td bgcolor=\"gray\">0</td><td bgcolor=\"gray\">0</td><td>-1</td><td bgcolor=\"gray\">0</td><td bgcolor=\"gray\">0</td><td>-1</td><td>-1</td><td bgcolor=\"gray\">0</td><td>-1</td><td bgcolor=\"gray\">0</td><td>-1</td><td>-1</td><td bgcolor=\"gray\">0</td><td bgcolor=\"gray\">0</td><td>-1</td><td>-1</td><td bgcolor=\"gray\">0</td><td>-1</td><td bgcolor=\"gray\">0</td><td>-1</td><td bgcolor=\"gray\">0</td><td bgcolor=\"gray\">0</td><td bgcolor=\"gray\">0</td><td bgcolor=\"gray\">0</td><td bgcolor=\"gray\">0</td></tr><tr><td>-1</td><td>0</td><td>-1</td><td>-1</td><td>-1</td><td>-1</td><td bgcolor=\"gray\">0</td><td bgcolor=\"gray\">0</td><td bgcolor=\"gray\">0</td><td>-1</td><td bgcolor=\"gray\">0</td><td bgcolor=\"gray\">0</td><td>-1</td><td bgcolor=\"gray\">0</td><td bgcolor=\"gray\">0</td><td bgcolor=\"gray\">0</td><td>-1</td><td bgcolor=\"gray\">0</td><td bgcolor=\"gray\">0</td><td bgcolor=\"gray\">0</td><td>-1</td><td>-1</td><td bgcolor=\"gray\">0</td><td bgcolor=\"gray\">0</td><td bgcolor=\"gray\">0</td><td>-1</td><td bgcolor=\"gray\">0</td><td>-1</td><td bgcolor=\"gray\">0</td><td bgcolor=\"gray\">0</td><td bgcolor=\"gray\">0</td><td bgcolor=\"gray\">0</td><td>-1</td><td bgcolor=\"gray\">0</td><td bgcolor=\"gray\">0</td><td bgcolor=\"gray\">0</td><td bgcolor=\"gray\">0</td><td>-1</td><td>-1</td><td bgcolor=\"gray\">0</td><td bgcolor=\"gray\">0</td><td bgcolor=\"gray\">0</td><td bgcolor=\"gray\">0</td><td bgcolor=\"gray\">0</td><td>-1</td><td>-1</td><td bgcolor=\"gray\">0</td><td bgcolor=\"gray\">0</td><td bgcolor=\"gray\">0</td><td bgcolor=\"gray\">0</td></tr><tr><td>0</td><td>0</td><td>0</td><td>0</td><td>0</td><td>-1</td><td bgcolor=\"gray\">0</td><td>-1</td><td>-1</td><td bgcolor=\"gray\">0</td><td bgcolor=\"gray\">0</td><td bgcolor=\"gray\">0</td><td bgcolor=\"gray\">0</td><td bgcolor=\"gray\">0</td><td>-1</td><td bgcolor=\"gray\">0</td><td>-1</td><td bgcolor=\"gray\">0</td><td>-1</td><td bgcolor=\"gray\">0</td><td bgcolor=\"gray\">0</td><td bgcolor=\"gray\">0</td><td bgcolor=\"gray\">0</td><td>-1</td><td>-1</td><td bgcolor=\"gray\">0</td><td>-1</td><td bgcolor=\"gray\">0</td><td bgcolor=\"gray\">0</td><td bgcolor=\"gray\">0</td><td bgcolor=\"gray\">0</td><td>-1</td><td>-1</td><td>-1</td><td bgcolor=\"gray\">0</td><td bgcolor=\"gray\">0</td><td>-1</td><td bgcolor=\"gray\">0</td><td>-1</td><td>-1</td><td bgcolor=\"gray\">0</td><td bgcolor=\"gray\">0</td><td bgcolor=\"gray\">0</td><td bgcolor=\"gray\">0</td><td bgcolor=\"gray\">0</td><td bgcolor=\"gray\">0</td><td bgcolor=\"gray\">0</td><td bgcolor=\"gray\">0</td><td bgcolor=\"gray\">0</td><td>-1</td></tr><tr><td>0</td><td>0</td><td>-1</td><td>-1</td><td>-1</td><td>-1</td><td>-1</td><td>0</td><td>0</td><td>-1</td><td bgcolor=\"gray\">0</td><td bgcolor=\"gray\">0</td><td bgcolor=\"gray\">0</td><td bgcolor=\"gray\">0</td><td>-1</td><td>-1</td><td bgcolor=\"gray\">0</td><td bgcolor=\"gray\">0</td><td>-1</td><td bgcolor=\"gray\">0</td><td bgcolor=\"gray\">0</td><td bgcolor=\"gray\">0</td><td bgcolor=\"gray\">0</td><td>-1</td><td bgcolor=\"gray\">0</td><td bgcolor=\"gray\">0</td><td bgcolor=\"gray\">0</td><td bgcolor=\"gray\">0</td><td>-1</td><td>-1</td><td>-1</td><td>0</td><td>-1</td><td>-1</td><td bgcolor=\"gray\">0</td><td bgcolor=\"gray\">0</td><td bgcolor=\"gray\">0</td><td bgcolor=\"gray\">0</td><td>-1</td><td>-1</td><td bgcolor=\"gray\">0</td><td>-1</td><td>-1</td><td bgcolor=\"gray\">0</td><td>-1</td><td bgcolor=\"gray\">0</td><td>-1</td><td bgcolor=\"gray\">0</td><td bgcolor=\"gray\">0</td><td bgcolor=\"gray\">0</td></tr><tr><td>-1</td><td>0</td><td>0</td><td>-1</td><td>-1</td><td>0</td><td>-1</td><td>0</td><td>0</td><td>-1</td><td bgcolor=\"gray\">0</td><td>-1</td><td bgcolor=\"gray\">0</td><td bgcolor=\"gray\">0</td><td bgcolor=\"gray\">0</td><td bgcolor=\"gray\">0</td><td bgcolor=\"gray\">0</td><td bgcolor=\"gray\">0</td><td>-1</td><td>-1</td><td bgcolor=\"gray\">0</td><td>-1</td><td bgcolor=\"gray\">0</td><td bgcolor=\"gray\">0</td><td bgcolor=\"gray\">0</td><td>-1</td><td bgcolor=\"gray\">0</td><td bgcolor=\"gray\">0</td><td bgcolor=\"gray\">0</td><td bgcolor=\"gray\">0</td><td bgcolor=\"gray\">0</td><td>-1</td><td bgcolor=\"gray\">0</td><td bgcolor=\"gray\">0</td><td bgcolor=\"gray\">0</td><td bgcolor=\"gray\">0</td><td bgcolor=\"gray\">0</td><td bgcolor=\"gray\">0</td><td>-1</td><td bgcolor=\"gray\">0</td><td bgcolor=\"gray\">0</td><td>-1</td><td>-1</td><td bgcolor=\"gray\">0</td><td bgcolor=\"gray\">0</td><td bgcolor=\"gray\">0</td><td>-1</td><td bgcolor=\"gray\">0</td><td bgcolor=\"gray\">0</td><td bgcolor=\"gray\">0</td></tr><tr><td>-1</td><td>0</td><td>0</td><td>0</td><td>-1</td><td>0</td><td>-1</td><td>-1</td><td>-1</td><td>-1</td><td bgcolor=\"gray\">0</td><td>-1</td><td bgcolor=\"gray\">0</td><td>-1</td><td>-1</td><td bgcolor=\"gray\">0</td><td bgcolor=\"gray\">0</td><td>-1</td><td bgcolor=\"gray\">0</td><td bgcolor=\"gray\">0</td><td bgcolor=\"gray\">0</td><td>-1</td><td bgcolor=\"gray\">0</td><td bgcolor=\"gray\">0</td><td bgcolor=\"gray\">0</td><td bgcolor=\"gray\">0</td><td>-1</td><td>-1</td><td bgcolor=\"gray\">0</td><td bgcolor=\"gray\">0</td><td bgcolor=\"gray\">0</td><td bgcolor=\"gray\">0</td><td bgcolor=\"gray\">0</td><td>-1</td><td bgcolor=\"gray\">0</td><td>-1</td><td>-1</td><td bgcolor=\"gray\">0</td><td bgcolor=\"gray\">0</td><td>-1</td><td bgcolor=\"gray\">0</td><td bgcolor=\"gray\">0</td><td bgcolor=\"gray\">0</td><td bgcolor=\"gray\">0</td><td bgcolor=\"gray\">0</td><td>-1</td><td bgcolor=\"gray\">0</td><td bgcolor=\"gray\">0</td><td>-1</td><td bgcolor=\"gray\">10</td></tr></table>"
      ],
      "text/plain": [
       "<IPython.core.display.HTML object>"
      ]
     },
     "metadata": {},
     "output_type": "display_data"
    }
   ],
   "source": [
    "from IPython.display import HTML, display\n",
    "\n",
    "valid_states_all = torch.cat((env.valid_states, torch.tensor([env.grid_size-1,env.grid_size-1]).to(device).unsqueeze(dim=0)))\n",
    "valid_states_all = valid_states_all[:,0] * env.grid_size + valid_states_all[:,1]\n",
    "\n",
    "html_text = \"<table>\"\n",
    "for row in range(env.grid_size):\n",
    "    html_text += \"<tr>\"\n",
    "    for col in range(env.grid_size):\n",
    "        if row*env.grid_size + col in valid_states_all:\n",
    "            html_text += \"<td bgcolor=\\\"gray\\\">\"\n",
    "        else:\n",
    "            html_text += \"<td>\"\n",
    "        html_text += str(env.reward_map[row*env.grid_size+col].tolist())\n",
    "        html_text += \"</td>\"\n",
    "    html_text += \"</tr>\"\n",
    "html_text += \"</table>\"\n",
    "\n",
    "display(HTML(html_text))"
   ]
  },
  {
   "cell_type": "markdown",
   "id": "0c63817a-3e5c-4d6b-b030-28121ae6d9ca",
   "metadata": {},
   "source": [
    "Load expert's data (demonstrations) which is saved in ```./expert_data``` folder in this repository.\n",
    "\n",
    "> Note : See [this script](./00_generate_expert_trajectories.ipynb) for generating expert dataset."
   ]
  },
  {
   "cell_type": "code",
   "execution_count": 3,
   "id": "ee96def9-7c0c-453f-8314-4f1443abbb06",
   "metadata": {},
   "outputs": [],
   "source": [
    "import pickle\n",
    "\n",
    "dest_dir = \"./expert_data\"\n",
    "checkpoint_file = \"ckpt0.pkl\"\n",
    "\n",
    "# load expert data from pickle\n",
    "with open(f\"{dest_dir}/{checkpoint_file}\", \"rb\") as f:\n",
    "    exp_data = pickle.load(f)\n",
    "exp_states = exp_data[\"states\"]\n",
    "exp_actions = exp_data[\"actions\"]\n",
    "timestep_lens = exp_data[\"timestep_lens\"]"
   ]
  },
  {
   "cell_type": "markdown",
   "id": "37dd6191-0902-4e34-89d5-9c712cbb70be",
   "metadata": {},
   "source": [
    "### 2. Create a function to build feature vector $\\phi(s,a)$"
   ]
  },
  {
   "cell_type": "markdown",
   "id": "70d1cce9-e5af-42e9-8653-f589bfaab0f7",
   "metadata": {},
   "source": [
    "First I create a function to build feature vector $\\phi(s,a)$.\n",
    "\n",
    "In this example, we simply build an one-hot vector $\\phi(s,a)$, which has flatten elements of a matrix ``````(STATE_SIZE, ACTION_SIZE)``````, in which $s$-th row and $a$-th column is one, and zeros for all others. (Therefore the number of one-hot's elements is ```STATE_SIZE * ACTION_SIZE```.)<br>\n",
    "For instance, $\\phi(3, 2)$ has ```1.0``` in 14th element and ```0.0``` for others, because ```3 x 4 + 2 = 14```. (Here ```4``` is the size of available actions.)\n",
    "\n",
    "This feature is valid, because the reward becomes linear to this feature vector $\\phi(s,a)$, i.e, $\\verb|reward| = \\theta^T \\cdot \\phi(s,a)$."
   ]
  },
  {
   "cell_type": "code",
   "execution_count": 4,
   "id": "f6aa19cc-fe3d-4612-b467-d595c12bce9b",
   "metadata": {},
   "outputs": [],
   "source": [
    "from torch.nn import functional as F\n",
    "\n",
    "STATE_SIZE = env.grid_size*env.grid_size  # 2500\n",
    "ACTION_SIZE = env.action_size             # 4\n",
    "\n",
    "def get_features(s, a):\n",
    "    \"\"\"\n",
    "    Return feature vectors corresponding states s and actions a.\n",
    "\n",
    "    Parameters\n",
    "    ----------\n",
    "    s : torch.tensor((...), dtype=int)\n",
    "        Tensor of state id.\n",
    "        This can have arbitrary shape, but the shape must be same as the shape of a.\n",
    "    a : torch.tensor((...), dtype=int)\n",
    "        Tensor of action id.\n",
    "        This can have arbitrary shape, but the shape must be same as the shape of s.\n",
    "\n",
    "    Returns\n",
    "    ----------\n",
    "    torch.tensor((..., STATE_SIZE*ACTION_SIZE), dtype=int)\n",
    "        Generated feature vectors.\n",
    "        When the shape of arguments is (*), the shape of returned result is (*, 2500*4).\n",
    "    \"\"\"\n",
    "    assert s.size() == a.size()\n",
    "    ids = s * ACTION_SIZE + a\n",
    "    return F.one_hot(ids, num_classes=STATE_SIZE*ACTION_SIZE).float()"
   ]
  },
  {
   "cell_type": "markdown",
   "id": "e0d25076-ea51-4275-97cd-5d16c92c2d16",
   "metadata": {},
   "source": [
    "Now I create a matrix for all features (```feature_matrix```), which shape is ```(STATE_SIZE, ACTION_SIZE, STATE_SIZE*ACTION_SIZE)``` and ```feature_matrix[i,j,:]``` is the feature vector for taking action ```j``` on state ```i```."
   ]
  },
  {
   "cell_type": "code",
   "execution_count": 5,
   "id": "56b95390-1ebb-4773-a300-9b40c3875066",
   "metadata": {},
   "outputs": [
    {
     "data": {
      "text/plain": [
       "tensor([[[1., 0., 0.,  ..., 0., 0., 0.],\n",
       "         [0., 1., 0.,  ..., 0., 0., 0.],\n",
       "         [0., 0., 1.,  ..., 0., 0., 0.],\n",
       "         [0., 0., 0.,  ..., 0., 0., 0.]],\n",
       "\n",
       "        [[0., 0., 0.,  ..., 0., 0., 0.],\n",
       "         [0., 0., 0.,  ..., 0., 0., 0.],\n",
       "         [0., 0., 0.,  ..., 0., 0., 0.],\n",
       "         [0., 0., 0.,  ..., 0., 0., 0.]],\n",
       "\n",
       "        [[0., 0., 0.,  ..., 0., 0., 0.],\n",
       "         [0., 0., 0.,  ..., 0., 0., 0.],\n",
       "         [0., 0., 0.,  ..., 0., 0., 0.],\n",
       "         [0., 0., 0.,  ..., 0., 0., 0.]],\n",
       "\n",
       "        ...,\n",
       "\n",
       "        [[0., 0., 0.,  ..., 0., 0., 0.],\n",
       "         [0., 0., 0.,  ..., 0., 0., 0.],\n",
       "         [0., 0., 0.,  ..., 0., 0., 0.],\n",
       "         [0., 0., 0.,  ..., 0., 0., 0.]],\n",
       "\n",
       "        [[0., 0., 0.,  ..., 0., 0., 0.],\n",
       "         [0., 0., 0.,  ..., 0., 0., 0.],\n",
       "         [0., 0., 0.,  ..., 0., 0., 0.],\n",
       "         [0., 0., 0.,  ..., 0., 0., 0.]],\n",
       "\n",
       "        [[0., 0., 0.,  ..., 0., 0., 0.],\n",
       "         [0., 0., 0.,  ..., 1., 0., 0.],\n",
       "         [0., 0., 0.,  ..., 0., 1., 0.],\n",
       "         [0., 0., 0.,  ..., 0., 0., 1.]]], device='cuda:0')"
      ]
     },
     "execution_count": 5,
     "metadata": {},
     "output_type": "execute_result"
    }
   ],
   "source": [
    "s = torch.arange(STATE_SIZE).to(device)\n",
    "s = s.unsqueeze(dim=-1).expand(-1,ACTION_SIZE)\n",
    "a = torch.arange(ACTION_SIZE).to(device)\n",
    "a = a.unsqueeze(dim=0).expand(STATE_SIZE,-1)\n",
    "feature_matrix = get_features(s, a)\n",
    "feature_matrix"
   ]
  },
  {
   "cell_type": "markdown",
   "id": "a8fc4cc0-9f5b-453b-872f-7fa8662289dc",
   "metadata": {},
   "source": [
    "### 3. Create a transition probability matrix"
   ]
  },
  {
   "cell_type": "markdown",
   "id": "eb18d9cb-8d53-48af-baee-4a5c3be6bb5e",
   "metadata": {},
   "source": [
    "As I have mentioned above, the algorithm (Maximum Causal Entropy IRL learner) should know the transition probabilities.\n",
    "\n",
    "Now I generate a matrix with shape ```(STATE_SIZE, ACTION_SIZE, STATE_SIZE)```, in which the transition probability $p(s_k | s_i, a_j)$ is stored in the element of $(i,j,k)$, where $i, k = 0,1,\\ldots,2499$ and $j=0,1,2,3$.\n",
    "\n",
    "In this example, the environment has deterministic transition, where $p(s_k | s_i, a_j ) = 1.0$ for one successor state and $0.0$ for all others.\n",
    "\n",
    "> Note : You can apply stochastic probability in this environment by setting ```transition_prob=True``` in constructor - in which, the action succeeds with probability `0.7`, a failure results in a uniform random transition (i.e, `0.1`, `0.1`, `0.1` respectively) to one of the adjacent states. (Change [this script](./00_generate_expert_trajectories.ipynb) and recreate expert's data.)<br>\n",
    "> If you apply the stochastic transition probability, you should set the corresponding probabilities ($0 \\lt p \\lt 1$) in below matrics instead."
   ]
  },
  {
   "cell_type": "code",
   "execution_count": 6,
   "id": "fbac7315-466f-4905-bc8b-41cb58be6ec3",
   "metadata": {},
   "outputs": [
    {
     "name": "stdout",
     "output_type": "stream",
     "text": [
      "***** transition matrix (shape : (2500, 4))*****\n",
      "tensor([[   0,   50,    0,    1],\n",
      "        [   1,   51,    0,    2],\n",
      "        [   2,   52,    1,    3],\n",
      "        ...,\n",
      "        [2447, 2497, 2496, 2498],\n",
      "        [2448, 2498, 2497, 2499],\n",
      "        [2449, 2499, 2498, 2499]], device='cuda:0')\n",
      "***** transition probability matrix (shape : (2500, 4, 2500))*****\n",
      "tensor([[[1., 0., 0.,  ..., 0., 0., 0.],\n",
      "         [0., 0., 0.,  ..., 0., 0., 0.],\n",
      "         [1., 0., 0.,  ..., 0., 0., 0.],\n",
      "         [0., 1., 0.,  ..., 0., 0., 0.]],\n",
      "\n",
      "        [[0., 1., 0.,  ..., 0., 0., 0.],\n",
      "         [0., 0., 0.,  ..., 0., 0., 0.],\n",
      "         [1., 0., 0.,  ..., 0., 0., 0.],\n",
      "         [0., 0., 1.,  ..., 0., 0., 0.]],\n",
      "\n",
      "        [[0., 0., 1.,  ..., 0., 0., 0.],\n",
      "         [0., 0., 0.,  ..., 0., 0., 0.],\n",
      "         [0., 1., 0.,  ..., 0., 0., 0.],\n",
      "         [0., 0., 0.,  ..., 0., 0., 0.]],\n",
      "\n",
      "        ...,\n",
      "\n",
      "        [[0., 0., 0.,  ..., 0., 0., 0.],\n",
      "         [0., 0., 0.,  ..., 1., 0., 0.],\n",
      "         [0., 0., 0.,  ..., 0., 0., 0.],\n",
      "         [0., 0., 0.,  ..., 0., 1., 0.]],\n",
      "\n",
      "        [[0., 0., 0.,  ..., 0., 0., 0.],\n",
      "         [0., 0., 0.,  ..., 0., 1., 0.],\n",
      "         [0., 0., 0.,  ..., 1., 0., 0.],\n",
      "         [0., 0., 0.,  ..., 0., 0., 1.]],\n",
      "\n",
      "        [[0., 0., 0.,  ..., 0., 0., 0.],\n",
      "         [0., 0., 0.,  ..., 0., 0., 1.],\n",
      "         [0., 0., 0.,  ..., 0., 1., 0.],\n",
      "         [0., 0., 0.,  ..., 0., 0., 1.]]], device='cuda:0')\n"
     ]
    }
   ],
   "source": [
    "states = torch.arange(STATE_SIZE).to(device)\n",
    "states = states.unsqueeze(dim=-1).expand(-1,ACTION_SIZE)\n",
    "\n",
    "actions = torch.arange(ACTION_SIZE).to(device)\n",
    "actions = actions.unsqueeze(dim=0).expand(STATE_SIZE,-1)\n",
    "\n",
    "next_states = env.step(actions.flatten(), states.flatten(), trans_state_only=True)\n",
    "next_states = torch.reshape(next_states, (STATE_SIZE, ACTION_SIZE))\n",
    "print(f\"***** transition matrix (shape : ({STATE_SIZE}, {ACTION_SIZE}))*****\")\n",
    "print(next_states)\n",
    "\n",
    "tran_probs = F.one_hot(next_states, num_classes=STATE_SIZE).float()\n",
    "print(f\"***** transition probability matrix (shape : ({STATE_SIZE}, {ACTION_SIZE}, {STATE_SIZE}))*****\")\n",
    "print(tran_probs)"
   ]
  },
  {
   "cell_type": "markdown",
   "id": "8f4a4a28-d92c-4499-b66d-9f2863f265c2",
   "metadata": {},
   "source": [
    "### 4. Create a function to get $V_{\\theta,t}^{\\verb|soft|}$ and $Q_{\\theta,t}^{\\verb|soft|}$"
   ]
  },
  {
   "cell_type": "markdown",
   "id": "9e6388b8-b8a1-4ac9-b906-5e92c9f20825",
   "metadata": {},
   "source": [
    "I create a function to build the following $V_{\\theta, t}^{\\verb|soft|}(s_t)$ and $Q_{\\theta, t}^{\\verb|soft|}(s_t, a_t)$ with current $\\theta$.\n",
    "\n",
    "- $\\displaystyle V_{\\theta, t}^{\\verb|soft|}(s_t) = \\log \\sum_{a_t} \\exp  Q_{\\theta, t}^{\\verb|soft|}(s_t, a_t) \\;\\;\\; (\\forall t = 0,1,\\ldots,T-1) $\n",
    "- $\\displaystyle Q_{\\theta, t}^{\\verb|soft|}(s_t, a_t) = \\theta^T \\cdot \\phi(s_t, a_t) + \\gamma \\mathbb{E}_{\\mathcal{T}} \\left[ V_{\\theta,t+1}^{\\verb|soft|}(S_{t+1}) | s_t, a_t \\right] \\;\\;\\; (\\forall t = 0,1,\\ldots,T-2) $\n",
    "- $\\displaystyle  Q_{\\theta, T-1}^{\\verb|soft|}(s_{T-1}, a_{T-1}) = \\theta^T \\cdot \\phi(s_{T-1},a_{T-1}) $\n",
    "\n",
    "The generated $V_{\\theta, t}^{\\verb|soft|}(S_t)$ is a matrix with shape ```(T, STATE_SIZE)```, and the generated $Q_{\\theta, t}^{\\verb|soft|}(S_t, A_t)$ is a matrix with shape ```(T, STATE_SIZE, ACTION_SIZE)```, where ```T``` is maximum time-step (i.e, horizon).\n",
    "\n",
    "> Note : To prevent from overflow, use ```torch.logsumexp()``` for log-sum-exp (i.e, soft) computation."
   ]
  },
  {
   "cell_type": "code",
   "execution_count": 7,
   "id": "79222946-fc7c-4ecc-b75a-616cc4924ae1",
   "metadata": {},
   "outputs": [],
   "source": [
    "T = env.max_timestep\n",
    "gamma = 1.0\n",
    "\n",
    "def generate_soft_values(theta, tran_probs, feature_matrix, gamma):\n",
    "    \"\"\"\n",
    "    Generate V and Q value's matrix. (See above.)\n",
    "\n",
    "    Parameters\n",
    "    ----------\n",
    "    theta : torch.tensor((STATE_SIZE*ACTION_SIZE), dtype=float)\n",
    "        Current reward's weight.\n",
    "    tran_probs : torch.tensor((STATE_SIZE, ACTION_SIZE, STATE_SIZE), dtype=float)\n",
    "        State transition probability matrix.\n",
    "    feature_matrix : torch.tensor((STATE_SIZE, ACTION_SIZE, STATE_SIZE*ACTION_SIZE), dtype=float)\n",
    "        All features for state and action pairs.\n",
    "        For instance, the feature of state i and action j is feature_matrix[i, j, :],\n",
    "        which shape is (STATE_SIZE*ACTION_SIZE).\n",
    "    gamma : float\n",
    "        Discount value (0 < gamma <= 1.0).\n",
    "\n",
    "    Returns\n",
    "    ----------\n",
    "    V : torch.tensor((T, STATE_SIZE), dtype=float)\n",
    "        Generated soft value matrix.\n",
    "    Q : torch.tensor((T, STATE_SIZE, ACTION_SIZE), dtype=float)\n",
    "        Generated soft Q-value matrix.\n",
    "    \"\"\"\n",
    "\n",
    "    # initialize\n",
    "    V = torch.zeros((T, STATE_SIZE)).to(device)\n",
    "    Q = torch.zeros((T, STATE_SIZE, ACTION_SIZE)).to(device)\n",
    "    # compute Q_{T-1}\n",
    "    Q[T-1,:,:] = torch.sum(torch.mul(feature_matrix, theta), dim=-1)\n",
    "    # loop for each T-1, T-2, ... , 0\n",
    "    for t in reversed(range(T)):\n",
    "        # compute Q_t\n",
    "        if t != T-1:\n",
    "            Q[t,:,:] = Q[T-1,:,:] + gamma * torch.sum(torch.mul(tran_probs,V[t+1,:]), dim=-1)\n",
    "        # compute V_t\n",
    "        V[t,:] = torch.logsumexp(Q[t,:,:], dim=-1)\n",
    "    # return results\n",
    "    return V, Q"
   ]
  },
  {
   "cell_type": "markdown",
   "id": "38bc6125-0569-4c23-b8c4-3c7c76cd2122",
   "metadata": {},
   "source": [
    "### 5. Create a function to get policy $\\pi$"
   ]
  },
  {
   "cell_type": "markdown",
   "id": "a3e071d9-239e-4f1f-b504-c5cacdb07056",
   "metadata": {},
   "source": [
    "With above $V_{\\theta, t}^{\\verb|soft|}(s_t)$ and $Q_{\\theta, t}^{\\verb|soft|}(s_t, a_t)$, you can get a time-dependant policy $\\pi$ as follows. \n",
    "\n",
    "$\\displaystyle \\pi_t(a_t | s_t) = \\exp \\left( Q_{\\theta, t}^{\\verb|soft|}(s_t, a_t) - V_{\\theta, t}^{\\verb|soft|}(s_t) \\right)$\n",
    "\n",
    "In this example, a function returns a matrix with shape ```(T, STATE_SIZE, ACTION_SIZE)```, in which the element of ```(i, j, k)``` is $\\pi_i(k | j)$.\n",
    "\n",
    "> Note : This always satisfies : $\\sum_{a_t} \\pi_t(a_t | s_t) = 1.0 \\;\\;\\; \\forall t, s_t$"
   ]
  },
  {
   "cell_type": "code",
   "execution_count": 8,
   "id": "be91d3cc-1dc6-46ae-9dbc-34b9bb44f017",
   "metadata": {},
   "outputs": [],
   "source": [
    "def generate_policy(v, q):\n",
    "    return torch.exp(q - v.unsqueeze(dim=-1).expand(-1, -1, ACTION_SIZE))"
   ]
  },
  {
   "cell_type": "markdown",
   "id": "4970e2b9-046a-4b39-81c3-e2957d76d005",
   "metadata": {},
   "source": [
    "### 6. Get expectation in expert policy"
   ]
  },
  {
   "cell_type": "markdown",
   "id": "6bed34e6-fa92-41a6-96c0-2526b4e2b050",
   "metadata": {},
   "source": [
    "Now let's compute the following expectation by expert.<br>\n",
    "This expectation is easily obtained by using expert trajectories.\n",
    "\n",
    "$\\displaystyle \\mathbb{E}_{\\pi^{\\ast}} \\left[ \\sum_{t=0}^{T-1} \\gamma^t \\phi(S_t,A_t) \\right]$"
   ]
  },
  {
   "cell_type": "code",
   "execution_count": 9,
   "id": "6f78c4e5-0a46-4610-b8c5-c6701586d948",
   "metadata": {},
   "outputs": [],
   "source": [
    "import numpy as np\n",
    "\n",
    "#\n",
    "# Build states, actions, and mask in numpy array\n",
    "#\n",
    "\n",
    "states_all = []\n",
    "actions_all = []\n",
    "mask_all = []\n",
    "\n",
    "# loop all trajectories in demonstration\n",
    "current_timestep = 0\n",
    "for timestep_len in timestep_lens:\n",
    "    # pick up states and actions in a single trajectory\n",
    "    states = exp_states[current_timestep:current_timestep+timestep_len]\n",
    "    actions = exp_actions[current_timestep:current_timestep+timestep_len]\n",
    "\n",
    "    # create mask (in which, TRUE in existing time-step, FALSE otherwise)\n",
    "    mask = np.zeros(T, dtype=bool)\n",
    "    mask[:len(states)] = True\n",
    "\n",
    "    # fill (pad) states and actions\n",
    "    states_traj = np.zeros(T, dtype=int)\n",
    "    states_traj[:len(states)] = states\n",
    "    actions_traj = np.zeros(T, dtype=int)\n",
    "    actions_traj[:len(actions)] = actions\n",
    "\n",
    "    # stack results\n",
    "    states_all.append(states_traj)\n",
    "    actions_all.append(actions_traj)\n",
    "    mask_all.append(mask)\n",
    "\n",
    "    # proceed to next trajectory\n",
    "    current_timestep += timestep_len\n",
    "\n",
    "# convert to numpy\n",
    "states_all = np.stack(states_all, axis=0)\n",
    "actions_all = np.stack(actions_all, axis=0)\n",
    "mask_all = np.stack(mask_all, axis=0)\n",
    "\n",
    "#\n",
    "# Compute expectation in tensor\n",
    "#\n",
    "\n",
    "# convert to tensor\n",
    "states_t = torch.from_numpy(states_all).to(device)\n",
    "actions_t = torch.from_numpy(actions_all).to(device)\n",
    "mask_t = torch.from_numpy(mask_all).to(device)\n",
    "\n",
    "# Note : loop episode to prevent memory allocation error\n",
    "episode_len = len(timestep_lens)\n",
    "discount = torch.tensor([gamma**i for i in range(T)]).to(device)\n",
    "sum_of_features = torch.zeros(STATE_SIZE*ACTION_SIZE).to(device)\n",
    "for i in range(episode_len):\n",
    "    # get feature vector\n",
    "    features = get_features(states_t[i,:], actions_t[i,:])\n",
    "    # get mask\n",
    "    mask_i = mask_t[i,:]\n",
    "    discount_i = discount * mask_i\n",
    "    # compute the sum of discounted features\n",
    "    sum_of_features += torch.sum(features * discount_i.unsqueeze(dim=-1).expand(-1,STATE_SIZE*ACTION_SIZE), dim=0)\n",
    "# divide by the number of trajectories\n",
    "feature_exp = sum_of_features / episode_len"
   ]
  },
  {
   "cell_type": "markdown",
   "id": "12286be8-ee74-4865-a7fc-bc39644cc37e",
   "metadata": {},
   "source": [
    "### 7. Create a function to get expectation in learner policy $\\pi$"
   ]
  },
  {
   "cell_type": "markdown",
   "id": "54e2ec5c-d44d-406f-a358-3cea952beb2b",
   "metadata": {},
   "source": [
    "Now I create a function to get the following expectation by $\\pi$.\n",
    "\n",
    "$\\displaystyle \\mathbb{E}_{\\pi} \\left[ \\sum_{t=0}^{T-1} \\gamma^t \\phi(S_t,A_t) \\right]$\n",
    "\n",
    "In this example, I compute the expectation with state visitation frequecy in each time-step and by proceeding time-steps. (See below note.)\n",
    "\n",
    "Probability of the initial state can be obtained by $\\frac{1}{\\verb| the number of possible initial states|}$.\n",
    "\n",
    "> Note : An optimized algorithm (which computes state visitation frequencies) is often used to get feature expectation by policy. (See algorithm 9.3 in [original paper](https://www.cs.cmu.edu/~bziebart/publications/thesis-bziebart.pdf).)"
   ]
  },
  {
   "cell_type": "code",
   "execution_count": 10,
   "id": "84d020e4-56bd-476c-acf3-1bdcdb545835",
   "metadata": {},
   "outputs": [],
   "source": [
    "# compute initial state frequency\n",
    "valid_states_2d = env.valid_states\n",
    "valid_states_1d = valid_states_2d[:,0] * env.grid_size + valid_states_2d[:,1]\n",
    "initial_state_prob = torch.zeros(STATE_SIZE).to(device)\n",
    "initial_state_prob[valid_states_1d] = 1.0 / valid_states_1d.size(dim=0)\n",
    "\n",
    "# create a function to get expectation in policy pi\n",
    "def get_expectation_by_policy(pi, tran_probs, feature_matrix, gamma, initial_state_prob):\n",
    "    current_state_prob = initial_state_prob\n",
    "    flatten_feature_matrix = torch.reshape(feature_matrix, (STATE_SIZE*ACTION_SIZE, STATE_SIZE*ACTION_SIZE))\n",
    "    # initialize expectation (the sum in all time-step)\n",
    "    sum_of_features = torch.zeros(STATE_SIZE*ACTION_SIZE).to(device)\n",
    "    # iterate time-step\n",
    "    for t in range(T):\n",
    "        # set zero as probability in goal state (because it's ended)\n",
    "        current_state_prob[STATE_SIZE - 1] = 0.0\n",
    "        # compute probability for taking action a on state s by :\n",
    "        # [probability in current state s] * pi(a|s)\n",
    "        s_a_prob = current_state_prob.unsqueeze(dim=-1).expand(-1,ACTION_SIZE) * pi[t,:,:]\n",
    "        # compute the expectation at time-step t by summation of :\n",
    "        # gamma^t * phi(s, a) * [above probability]\n",
    "        average_feature = torch.sum(torch.flatten(s_a_prob).unsqueeze(dim=-1).expand(-1,STATE_SIZE*ACTION_SIZE) * flatten_feature_matrix, dim=0)\n",
    "        sum_of_features += (gamma**t) * average_feature\n",
    "        # update current state probability\n",
    "        s_a_snext_prob = s_a_prob.unsqueeze(dim=-1).expand(-1,-1,STATE_SIZE) * tran_probs\n",
    "        current_state_prob = torch.sum(torch.sum(s_a_snext_prob, dim=1), dim=0)\n",
    "    return sum_of_features"
   ]
  },
  {
   "cell_type": "markdown",
   "id": "9fd0e4d6-6e21-4e0c-8f5c-f9bdc06043de",
   "metadata": {},
   "source": [
    "### 8. Put it all together (Train parameters)"
   ]
  },
  {
   "cell_type": "markdown",
   "id": "866b767a-96c4-4493-8b6a-61292342d31a",
   "metadata": {},
   "source": [
    "Finally, put it all together and then optimize parameter $\\theta$.\n",
    "\n",
    "In the middle of training, I want to check how $\\pi_{\\theta}$ is optimized.<br>\n",
    "So, before optimizing parameters, I create a function for evaluation."
   ]
  },
  {
   "cell_type": "code",
   "execution_count": 11,
   "id": "13917d5f-3545-4c32-94a1-e3b4ae3e74e9",
   "metadata": {},
   "outputs": [],
   "source": [
    "def evaluate(env, pi, batch_size=128):\n",
    "    total_reward = torch.tensor(0.0).to(device)\n",
    "    s = env.reset(batch_size)\n",
    "    for t in range(T):\n",
    "        a_probs = pi[t,s,:]\n",
    "        a = torch.multinomial(a_probs, num_samples=1).squeeze(dim=-1)\n",
    "        s, r, term, trunc = env.step(a, s)\n",
    "        total_reward += torch.sum(r)\n",
    "        done = torch.logical_or(term, trunc)\n",
    "        work_indices = (done==False).nonzero().squeeze(dim=-1)\n",
    "        if not (len(work_indices) > 0):\n",
    "            break;\n",
    "        s = s[work_indices]\n",
    "    return total_reward.item() / batch_size"
   ]
  },
  {
   "cell_type": "markdown",
   "id": "c8d886f2-e3df-4dd8-a4de-020294c710d1",
   "metadata": {},
   "source": [
    "Now let's run the optimization for $\\theta$."
   ]
  },
  {
   "cell_type": "code",
   "execution_count": 12,
   "id": "449c9953-9427-4443-9414-d140d2019943",
   "metadata": {},
   "outputs": [
    {
     "name": "stdout",
     "output_type": "stream",
     "text": [
      "iter 0 - nabla average=0.02448 max=1.12727, lr=0.10000\n",
      "estimated reward is -70.2656.\n",
      "iter 50 - nabla average=0.00640 max=0.14586, lr=0.05000\n",
      "estimated reward is -6.2891.\n",
      "iter 100 - nabla average=0.00468 max=0.10194, lr=0.05000\n",
      "estimated reward is -4.3203.\n",
      "iter 150 - nabla average=0.00380 max=0.07801, lr=0.05000\n",
      "estimated reward is -0.0391.\n",
      "iter 200 - nabla average=0.00325 max=0.06317, lr=0.05000\n",
      "estimated reward is 1.1953.\n",
      "iter 250 - nabla average=0.00285 max=0.05308, lr=0.05000\n",
      "estimated reward is 3.3594.\n",
      "iter 300 - nabla average=0.00255 max=0.04579, lr=0.05000\n",
      "estimated reward is 3.1875.\n",
      "iter 350 - nabla average=0.00232 max=0.04026, lr=0.05000\n",
      "estimated reward is 2.4844.\n",
      "iter 400 - nabla average=0.00213 max=0.03594, lr=0.05000\n",
      "estimated reward is 3.5078.\n",
      "iter 450 - nabla average=0.00197 max=0.03246, lr=0.05000\n",
      "estimated reward is 3.5000.\n",
      "iter 500 - nabla average=0.00184 max=0.02958, lr=0.05000\n",
      "estimated reward is 4.0391.\n",
      "\n",
      "Done\n"
     ]
    }
   ],
   "source": [
    "learning_rate = 0.1\n",
    "\n",
    "# initialize theta\n",
    "theta = torch.empty(STATE_SIZE*ACTION_SIZE).to(device)\n",
    "torch.nn.init.uniform_(theta, a=0.0, b=1.0)\n",
    "\n",
    "prev_nabla_max = float(\"inf\")\n",
    "for iter_num in range(501):\n",
    "    # get V and Q with current theta\n",
    "    v, q = generate_soft_values(theta, tran_probs, feature_matrix, gamma)\n",
    "    # get pi with current theta\n",
    "    pi = generate_policy(v, q)\n",
    "    # compute nabla\n",
    "    feature_pi = get_expectation_by_policy(pi, tran_probs, feature_matrix, gamma, initial_state_prob)\n",
    "    nabla = feature_pi - feature_exp\n",
    "    # update theta (apply gradient descent)\n",
    "    theta -= nabla * learning_rate\n",
    "    # output logs\n",
    "    nabla_mean = torch.mean(torch.abs(nabla)).item()\n",
    "    nabla_max = torch.max(torch.abs(nabla)).item()\n",
    "    print(\"iter {} - nabla average={:1.5f} max={:1.5f}, lr={:1.5f}\".format(iter_num, nabla_mean, nabla_max, learning_rate), end=\"\\r\")\n",
    "    if iter_num % 50 == 0:\n",
    "        reward = evaluate(env, pi)\n",
    "        print(\"\\nestimated reward is {:.4f}.\".format(reward))\n",
    "    # adjust learning rate\n",
    "    if prev_nabla_max < nabla_max:\n",
    "        learning_rate /= 2.0\n",
    "        prev_nabla_max = float(\"inf\")\n",
    "    else:\n",
    "        prev_nabla_max = nabla_max\n",
    "\n",
    "print(\"\\nDone\")"
   ]
  },
  {
   "cell_type": "markdown",
   "id": "d6138606-90f5-41bd-afe0-4d19bc9475ac",
   "metadata": {},
   "source": [
    "## Show results"
   ]
  },
  {
   "cell_type": "markdown",
   "id": "62b857a5-7cd5-480d-b6e9-758f0c70f696",
   "metadata": {},
   "source": [
    "The following shows you which direction has high reward's weight in the trained parameters $\\theta$.<br>\n",
    "In this environment, the state in right-bottom corner is a goal state. (See [Readme.md](https://github.com/tsmatz/imitation-learning-tutorials/blob/master/Readme.md) for game rule in this environment.)<br>\n",
    "As you can see below, the parameters are optimized to reach to the goal.\n",
    "\n",
    "I note that the gray-colored cells are valid states, in which the agent can reach to the goal without losing any rewards.<br>\n",
    "In this environment, the initial state is picked up from these gray-colored states."
   ]
  },
  {
   "cell_type": "code",
   "execution_count": 13,
   "id": "97011145-075a-46b7-8c1a-2d9803d7adda",
   "metadata": {},
   "outputs": [
    {
     "data": {
      "text/html": [
       "<table><tr><td></td><td></td><td></td><td></td><td></td><td></td><td bgcolor=\"gray\">&#x2193;</td><td bgcolor=\"gray\">&#x2191;</td><td bgcolor=\"gray\">&#x2193;</td><td bgcolor=\"gray\">&#x2192;</td><td bgcolor=\"gray\">&#x2192;</td><td bgcolor=\"gray\">&#x2191;</td><td></td><td bgcolor=\"gray\">&#x2191;</td><td></td><td></td><td></td><td></td><td bgcolor=\"gray\">&#x2193;</td><td></td><td bgcolor=\"gray\">&#x2190;</td><td></td><td bgcolor=\"gray\">&#x2190;</td><td bgcolor=\"gray\">&#x2191;</td><td bgcolor=\"gray\">&#x2193;</td><td></td><td bgcolor=\"gray\">&#x2192;</td><td bgcolor=\"gray\">&#x2192;</td><td bgcolor=\"gray\">&#x2192;</td><td></td><td></td><td></td><td></td><td bgcolor=\"gray\">&#x2193;</td><td bgcolor=\"gray\">&#x2190;</td><td bgcolor=\"gray\">&#x2192;</td><td bgcolor=\"gray\">&#x2193;</td><td></td><td></td><td></td><td></td><td></td><td></td><td></td><td></td><td></td><td></td><td></td><td></td><td></td></tr><tr><td></td><td></td><td></td><td></td><td></td><td></td><td bgcolor=\"gray\">&#x2193;</td><td></td><td bgcolor=\"gray\">&#x2192;</td><td bgcolor=\"gray\">&#x2190;</td><td bgcolor=\"gray\">&#x2190;</td><td bgcolor=\"gray\">&#x2190;</td><td bgcolor=\"gray\">&#x2193;</td><td bgcolor=\"gray\">&#x2193;</td><td bgcolor=\"gray\">&#x2191;</td><td bgcolor=\"gray\">&#x2192;</td><td bgcolor=\"gray\">&#x2191;</td><td bgcolor=\"gray\">&#x2192;</td><td bgcolor=\"gray\">&#x2193;</td><td bgcolor=\"gray\">&#x2191;</td><td bgcolor=\"gray\">&#x2190;</td><td></td><td></td><td></td><td bgcolor=\"gray\">&#x2192;</td><td></td><td bgcolor=\"gray\">&#x2192;</td><td bgcolor=\"gray\">&#x2193;</td><td bgcolor=\"gray\">&#x2192;</td><td bgcolor=\"gray\">&#x2192;</td><td bgcolor=\"gray\">&#x2193;</td><td></td><td bgcolor=\"gray\">&#x2192;</td><td></td><td bgcolor=\"gray\">&#x2192;</td><td></td><td bgcolor=\"gray\">&#x2190;</td><td></td><td></td><td></td><td></td><td></td><td></td><td></td><td></td><td></td><td></td><td></td><td></td><td></td></tr><tr><td></td><td></td><td></td><td></td><td></td><td></td><td bgcolor=\"gray\">&#x2192;</td><td></td><td bgcolor=\"gray\">&#x2191;</td><td></td><td bgcolor=\"gray\">&#x2193;</td><td bgcolor=\"gray\">&#x2192;</td><td bgcolor=\"gray\">&#x2192;</td><td bgcolor=\"gray\">&#x2190;</td><td bgcolor=\"gray\">&#x2190;</td><td bgcolor=\"gray\">&#x2191;</td><td bgcolor=\"gray\">&#x2192;</td><td></td><td bgcolor=\"gray\">&#x2193;</td><td bgcolor=\"gray\">&#x2193;</td><td></td><td bgcolor=\"gray\">&#x2193;</td><td bgcolor=\"gray\">&#x2191;</td><td></td><td bgcolor=\"gray\">&#x2193;</td><td bgcolor=\"gray\">&#x2190;</td><td bgcolor=\"gray\">&#x2192;</td><td bgcolor=\"gray\">&#x2192;</td><td bgcolor=\"gray\">&#x2190;</td><td bgcolor=\"gray\">&#x2191;</td><td bgcolor=\"gray\">&#x2191;</td><td></td><td bgcolor=\"gray\">&#x2192;</td><td bgcolor=\"gray\">&#x2191;</td><td></td><td bgcolor=\"gray\">&#x2191;</td><td bgcolor=\"gray\">&#x2192;</td><td></td><td></td><td bgcolor=\"gray\">&#x2191;</td><td bgcolor=\"gray\">&#x2192;</td><td></td><td></td><td></td><td></td><td></td><td></td><td></td><td></td><td></td></tr><tr><td></td><td></td><td></td><td bgcolor=\"gray\">&#x2193;</td><td></td><td></td><td bgcolor=\"gray\">&#x2190;</td><td bgcolor=\"gray\">&#x2191;</td><td></td><td bgcolor=\"gray\">&#x2192;</td><td></td><td bgcolor=\"gray\">&#x2192;</td><td bgcolor=\"gray\">&#x2192;</td><td bgcolor=\"gray\">&#x2190;</td><td bgcolor=\"gray\">&#x2190;</td><td></td><td bgcolor=\"gray\">&#x2192;</td><td></td><td bgcolor=\"gray\">&#x2191;</td><td></td><td></td><td></td><td bgcolor=\"gray\">&#x2191;</td><td bgcolor=\"gray\">&#x2192;</td><td></td><td></td><td bgcolor=\"gray\">&#x2193;</td><td bgcolor=\"gray\">&#x2191;</td><td></td><td bgcolor=\"gray\">&#x2192;</td><td bgcolor=\"gray\">&#x2192;</td><td bgcolor=\"gray\">&#x2190;</td><td bgcolor=\"gray\">&#x2193;</td><td bgcolor=\"gray\">&#x2193;</td><td bgcolor=\"gray\">&#x2192;</td><td bgcolor=\"gray\">&#x2192;</td><td bgcolor=\"gray\">&#x2192;</td><td bgcolor=\"gray\">&#x2191;</td><td bgcolor=\"gray\">&#x2192;</td><td bgcolor=\"gray\">&#x2192;</td><td bgcolor=\"gray\">&#x2193;</td><td></td><td></td><td></td><td></td><td></td><td></td><td></td><td></td><td></td></tr><tr><td></td><td></td><td></td><td bgcolor=\"gray\">&#x2193;</td><td bgcolor=\"gray\">&#x2192;</td><td bgcolor=\"gray\">&#x2190;</td><td bgcolor=\"gray\">&#x2192;</td><td bgcolor=\"gray\">&#x2191;</td><td bgcolor=\"gray\">&#x2193;</td><td bgcolor=\"gray\">&#x2190;</td><td bgcolor=\"gray\">&#x2190;</td><td bgcolor=\"gray\">&#x2190;</td><td bgcolor=\"gray\">&#x2191;</td><td bgcolor=\"gray\">&#x2191;</td><td bgcolor=\"gray\">&#x2190;</td><td bgcolor=\"gray\">&#x2193;</td><td bgcolor=\"gray\">&#x2193;</td><td bgcolor=\"gray\">&#x2190;</td><td bgcolor=\"gray\">&#x2192;</td><td></td><td></td><td bgcolor=\"gray\">&#x2193;</td><td></td><td bgcolor=\"gray\">&#x2192;</td><td bgcolor=\"gray\">&#x2191;</td><td bgcolor=\"gray\">&#x2190;</td><td bgcolor=\"gray\">&#x2190;</td><td bgcolor=\"gray\">&#x2190;</td><td bgcolor=\"gray\">&#x2191;</td><td bgcolor=\"gray\">&#x2193;</td><td bgcolor=\"gray\">&#x2191;</td><td bgcolor=\"gray\">&#x2192;</td><td bgcolor=\"gray\">&#x2192;</td><td bgcolor=\"gray\">&#x2192;</td><td bgcolor=\"gray\">&#x2193;</td><td></td><td bgcolor=\"gray\">&#x2191;</td><td></td><td bgcolor=\"gray\">&#x2192;</td><td bgcolor=\"gray\">&#x2190;</td><td bgcolor=\"gray\">&#x2192;</td><td></td><td></td><td></td><td></td><td></td><td></td><td></td><td></td><td></td></tr><tr><td></td><td></td><td></td><td bgcolor=\"gray\">&#x2191;</td><td bgcolor=\"gray\">&#x2192;</td><td></td><td bgcolor=\"gray\">&#x2192;</td><td></td><td bgcolor=\"gray\">&#x2190;</td><td bgcolor=\"gray\">&#x2193;</td><td></td><td bgcolor=\"gray\">&#x2191;</td><td bgcolor=\"gray\">&#x2190;</td><td></td><td bgcolor=\"gray\">&#x2192;</td><td bgcolor=\"gray\">&#x2193;</td><td></td><td></td><td bgcolor=\"gray\">&#x2192;</td><td bgcolor=\"gray\">&#x2192;</td><td></td><td bgcolor=\"gray\">&#x2192;</td><td bgcolor=\"gray\">&#x2193;</td><td bgcolor=\"gray\">&#x2193;</td><td></td><td bgcolor=\"gray\">&#x2193;</td><td bgcolor=\"gray\">&#x2190;</td><td bgcolor=\"gray\">&#x2190;</td><td bgcolor=\"gray\">&#x2191;</td><td></td><td></td><td bgcolor=\"gray\">&#x2191;</td><td bgcolor=\"gray\">&#x2191;</td><td></td><td bgcolor=\"gray\">&#x2193;</td><td></td><td></td><td></td><td></td><td bgcolor=\"gray\">&#x2190;</td><td bgcolor=\"gray\">&#x2192;</td><td></td><td></td><td></td><td></td><td></td><td></td><td></td><td></td><td></td></tr><tr><td></td><td></td><td bgcolor=\"gray\">&#x2192;</td><td bgcolor=\"gray\">&#x2191;</td><td bgcolor=\"gray\">&#x2190;</td><td bgcolor=\"gray\">&#x2190;</td><td bgcolor=\"gray\">&#x2193;</td><td bgcolor=\"gray\">&#x2190;</td><td bgcolor=\"gray\">&#x2192;</td><td bgcolor=\"gray\">&#x2191;</td><td bgcolor=\"gray\">&#x2192;</td><td bgcolor=\"gray\">&#x2193;</td><td></td><td></td><td></td><td bgcolor=\"gray\">&#x2192;</td><td bgcolor=\"gray\">&#x2190;</td><td bgcolor=\"gray\">&#x2193;</td><td bgcolor=\"gray\">&#x2193;</td><td bgcolor=\"gray\">&#x2190;</td><td></td><td></td><td bgcolor=\"gray\">&#x2191;</td><td bgcolor=\"gray\">&#x2190;</td><td></td><td></td><td bgcolor=\"gray\">&#x2192;</td><td bgcolor=\"gray\">&#x2191;</td><td></td><td></td><td></td><td></td><td bgcolor=\"gray\">&#x2190;</td><td bgcolor=\"gray\">&#x2192;</td><td bgcolor=\"gray\">&#x2192;</td><td bgcolor=\"gray\">&#x2193;</td><td bgcolor=\"gray\">&#x2193;</td><td bgcolor=\"gray\">&#x2193;</td><td bgcolor=\"gray\">&#x2192;</td><td></td><td></td><td></td><td></td><td></td><td></td><td></td><td></td><td></td><td></td><td></td></tr><tr><td bgcolor=\"gray\">&#x2193;</td><td bgcolor=\"gray\">&#x2192;</td><td bgcolor=\"gray\">&#x2192;</td><td bgcolor=\"gray\">&#x2190;</td><td></td><td bgcolor=\"gray\">&#x2193;</td><td bgcolor=\"gray\">&#x2193;</td><td bgcolor=\"gray\">&#x2191;</td><td></td><td bgcolor=\"gray\">&#x2193;</td><td bgcolor=\"gray\">&#x2192;</td><td bgcolor=\"gray\">&#x2190;</td><td bgcolor=\"gray\">&#x2191;</td><td></td><td bgcolor=\"gray\">&#x2192;</td><td bgcolor=\"gray\">&#x2192;</td><td></td><td></td><td bgcolor=\"gray\">&#x2193;</td><td bgcolor=\"gray\">&#x2190;</td><td></td><td bgcolor=\"gray\">&#x2192;</td><td bgcolor=\"gray\">&#x2193;</td><td></td><td bgcolor=\"gray\">&#x2190;</td><td bgcolor=\"gray\">&#x2191;</td><td></td><td bgcolor=\"gray\">&#x2190;</td><td bgcolor=\"gray\">&#x2190;</td><td bgcolor=\"gray\">&#x2192;</td><td></td><td></td><td bgcolor=\"gray\">&#x2191;</td><td bgcolor=\"gray\">&#x2190;</td><td></td><td bgcolor=\"gray\">&#x2193;</td><td></td><td bgcolor=\"gray\">&#x2193;</td><td></td><td></td><td></td><td></td><td></td><td></td><td></td><td></td><td></td><td></td><td></td><td></td></tr><tr><td bgcolor=\"gray\">&#x2192;</td><td bgcolor=\"gray\">&#x2192;</td><td bgcolor=\"gray\">&#x2192;</td><td bgcolor=\"gray\">&#x2193;</td><td bgcolor=\"gray\">&#x2193;</td><td bgcolor=\"gray\">&#x2192;</td><td bgcolor=\"gray\">&#x2192;</td><td bgcolor=\"gray\">&#x2193;</td><td bgcolor=\"gray\">&#x2193;</td><td bgcolor=\"gray\">&#x2190;</td><td></td><td></td><td bgcolor=\"gray\">&#x2192;</td><td></td><td bgcolor=\"gray\">&#x2190;</td><td bgcolor=\"gray\">&#x2190;</td><td></td><td bgcolor=\"gray\">&#x2192;</td><td bgcolor=\"gray\">&#x2193;</td><td></td><td></td><td bgcolor=\"gray\">&#x2193;</td><td bgcolor=\"gray\">&#x2192;</td><td bgcolor=\"gray\">&#x2192;</td><td bgcolor=\"gray\">&#x2193;</td><td bgcolor=\"gray\">&#x2193;</td><td bgcolor=\"gray\">&#x2193;</td><td></td><td bgcolor=\"gray\">&#x2190;</td><td bgcolor=\"gray\">&#x2192;</td><td bgcolor=\"gray\">&#x2190;</td><td></td><td></td><td></td><td></td><td></td><td></td><td bgcolor=\"gray\">&#x2193;</td><td></td><td></td><td></td><td></td><td></td><td></td><td></td><td></td><td></td><td></td><td></td><td></td></tr><tr><td bgcolor=\"gray\">&#x2192;</td><td bgcolor=\"gray\">&#x2192;</td><td bgcolor=\"gray\">&#x2191;</td><td></td><td bgcolor=\"gray\">&#x2193;</td><td></td><td bgcolor=\"gray\">&#x2190;</td><td bgcolor=\"gray\">&#x2193;</td><td></td><td></td><td bgcolor=\"gray\">&#x2192;</td><td bgcolor=\"gray\">&#x2191;</td><td></td><td bgcolor=\"gray\">&#x2191;</td><td bgcolor=\"gray\">&#x2192;</td><td bgcolor=\"gray\">&#x2192;</td><td bgcolor=\"gray\">&#x2191;</td><td bgcolor=\"gray\">&#x2190;</td><td bgcolor=\"gray\">&#x2190;</td><td bgcolor=\"gray\">&#x2192;</td><td bgcolor=\"gray\">&#x2190;</td><td bgcolor=\"gray\">&#x2190;</td><td></td><td></td><td></td><td bgcolor=\"gray\">&#x2191;</td><td></td><td bgcolor=\"gray\">&#x2192;</td><td bgcolor=\"gray\">&#x2192;</td><td bgcolor=\"gray\">&#x2190;</td><td bgcolor=\"gray\">&#x2192;</td><td bgcolor=\"gray\">&#x2191;</td><td bgcolor=\"gray\">&#x2192;</td><td bgcolor=\"gray\">&#x2192;</td><td bgcolor=\"gray\">&#x2193;</td><td bgcolor=\"gray\">&#x2193;</td><td bgcolor=\"gray\">&#x2191;</td><td></td><td></td><td></td><td></td><td></td><td></td><td></td><td></td><td></td><td></td><td></td><td></td><td></td></tr><tr><td bgcolor=\"gray\">&#x2190;</td><td bgcolor=\"gray\">&#x2191;</td><td bgcolor=\"gray\">&#x2193;</td><td bgcolor=\"gray\">&#x2192;</td><td bgcolor=\"gray\">&#x2191;</td><td></td><td bgcolor=\"gray\">&#x2191;</td><td bgcolor=\"gray\">&#x2192;</td><td bgcolor=\"gray\">&#x2192;</td><td bgcolor=\"gray\">&#x2193;</td><td></td><td bgcolor=\"gray\">&#x2190;</td><td bgcolor=\"gray\">&#x2193;</td><td></td><td bgcolor=\"gray\">&#x2191;</td><td bgcolor=\"gray\">&#x2193;</td><td bgcolor=\"gray\">&#x2190;</td><td></td><td bgcolor=\"gray\">&#x2191;</td><td bgcolor=\"gray\">&#x2193;</td><td bgcolor=\"gray\">&#x2192;</td><td></td><td bgcolor=\"gray\">&#x2192;</td><td bgcolor=\"gray\">&#x2190;</td><td></td><td bgcolor=\"gray\">&#x2192;</td><td bgcolor=\"gray\">&#x2193;</td><td bgcolor=\"gray\">&#x2190;</td><td></td><td></td><td bgcolor=\"gray\">&#x2191;</td><td></td><td></td><td bgcolor=\"gray\">&#x2191;</td><td bgcolor=\"gray\">&#x2192;</td><td bgcolor=\"gray\">&#x2190;</td><td bgcolor=\"gray\">&#x2190;</td><td bgcolor=\"gray\">&#x2192;</td><td></td><td></td><td></td><td></td><td></td><td></td><td></td><td></td><td></td><td></td><td></td><td bgcolor=\"gray\">&#x2191;</td></tr><tr><td></td><td bgcolor=\"gray\">&#x2193;</td><td></td><td bgcolor=\"gray\">&#x2193;</td><td bgcolor=\"gray\">&#x2190;</td><td bgcolor=\"gray\">&#x2190;</td><td></td><td bgcolor=\"gray\">&#x2193;</td><td></td><td bgcolor=\"gray\">&#x2192;</td><td bgcolor=\"gray\">&#x2192;</td><td bgcolor=\"gray\">&#x2192;</td><td bgcolor=\"gray\">&#x2192;</td><td bgcolor=\"gray\">&#x2192;</td><td bgcolor=\"gray\">&#x2192;</td><td bgcolor=\"gray\">&#x2193;</td><td bgcolor=\"gray\">&#x2193;</td><td></td><td bgcolor=\"gray\">&#x2191;</td><td bgcolor=\"gray\">&#x2193;</td><td></td><td bgcolor=\"gray\">&#x2192;</td><td bgcolor=\"gray\">&#x2191;</td><td></td><td bgcolor=\"gray\">&#x2191;</td><td bgcolor=\"gray\">&#x2191;</td><td bgcolor=\"gray\">&#x2192;</td><td bgcolor=\"gray\">&#x2193;</td><td bgcolor=\"gray\">&#x2190;</td><td bgcolor=\"gray\">&#x2190;</td><td bgcolor=\"gray\">&#x2190;</td><td></td><td></td><td bgcolor=\"gray\">&#x2192;</td><td bgcolor=\"gray\">&#x2193;</td><td bgcolor=\"gray\">&#x2191;</td><td bgcolor=\"gray\">&#x2191;</td><td></td><td bgcolor=\"gray\">&#x2193;</td><td bgcolor=\"gray\">&#x2193;</td><td bgcolor=\"gray\">&#x2191;</td><td bgcolor=\"gray\">&#x2192;</td><td bgcolor=\"gray\">&#x2191;</td><td></td><td></td><td></td><td></td><td bgcolor=\"gray\">&#x2190;</td><td bgcolor=\"gray\">&#x2190;</td><td bgcolor=\"gray\">&#x2192;</td></tr><tr><td></td><td bgcolor=\"gray\">&#x2193;</td><td></td><td bgcolor=\"gray\">&#x2191;</td><td></td><td bgcolor=\"gray\">&#x2190;</td><td bgcolor=\"gray\">&#x2190;</td><td bgcolor=\"gray\">&#x2190;</td><td bgcolor=\"gray\">&#x2193;</td><td></td><td bgcolor=\"gray\">&#x2192;</td><td bgcolor=\"gray\">&#x2192;</td><td bgcolor=\"gray\">&#x2190;</td><td bgcolor=\"gray\">&#x2192;</td><td></td><td bgcolor=\"gray\">&#x2192;</td><td bgcolor=\"gray\">&#x2193;</td><td bgcolor=\"gray\">&#x2190;</td><td></td><td bgcolor=\"gray\">&#x2191;</td><td></td><td bgcolor=\"gray\">&#x2191;</td><td></td><td></td><td></td><td bgcolor=\"gray\">&#x2191;</td><td></td><td bgcolor=\"gray\">&#x2191;</td><td bgcolor=\"gray\">&#x2192;</td><td bgcolor=\"gray\">&#x2190;</td><td></td><td></td><td bgcolor=\"gray\">&#x2192;</td><td bgcolor=\"gray\">&#x2192;</td><td bgcolor=\"gray\">&#x2190;</td><td bgcolor=\"gray\">&#x2191;</td><td></td><td bgcolor=\"gray\">&#x2192;</td><td bgcolor=\"gray\">&#x2190;</td><td bgcolor=\"gray\">&#x2193;</td><td></td><td></td><td bgcolor=\"gray\">&#x2193;</td><td bgcolor=\"gray\">&#x2190;</td><td bgcolor=\"gray\">&#x2191;</td><td></td><td bgcolor=\"gray\">&#x2190;</td><td></td><td bgcolor=\"gray\">&#x2192;</td><td bgcolor=\"gray\">&#x2190;</td></tr><tr><td bgcolor=\"gray\">&#x2191;</td><td bgcolor=\"gray\">&#x2191;</td><td bgcolor=\"gray\">&#x2193;</td><td></td><td bgcolor=\"gray\">&#x2191;</td><td></td><td bgcolor=\"gray\">&#x2193;</td><td bgcolor=\"gray\">&#x2192;</td><td></td><td></td><td></td><td bgcolor=\"gray\">&#x2191;</td><td bgcolor=\"gray\">&#x2191;</td><td bgcolor=\"gray\">&#x2190;</td><td></td><td bgcolor=\"gray\">&#x2191;</td><td bgcolor=\"gray\">&#x2192;</td><td bgcolor=\"gray\">&#x2192;</td><td bgcolor=\"gray\">&#x2192;</td><td bgcolor=\"gray\">&#x2193;</td><td></td><td bgcolor=\"gray\">&#x2190;</td><td bgcolor=\"gray\">&#x2190;</td><td bgcolor=\"gray\">&#x2193;</td><td bgcolor=\"gray\">&#x2191;</td><td bgcolor=\"gray\">&#x2193;</td><td></td><td></td><td bgcolor=\"gray\">&#x2192;</td><td bgcolor=\"gray\">&#x2192;</td><td bgcolor=\"gray\">&#x2191;</td><td bgcolor=\"gray\">&#x2193;</td><td bgcolor=\"gray\">&#x2193;</td><td bgcolor=\"gray\">&#x2190;</td><td bgcolor=\"gray\">&#x2190;</td><td bgcolor=\"gray\">&#x2190;</td><td bgcolor=\"gray\">&#x2192;</td><td bgcolor=\"gray\">&#x2190;</td><td></td><td bgcolor=\"gray\">&#x2192;</td><td bgcolor=\"gray\">&#x2191;</td><td bgcolor=\"gray\">&#x2191;</td><td bgcolor=\"gray\">&#x2193;</td><td></td><td bgcolor=\"gray\">&#x2192;</td><td></td><td bgcolor=\"gray\">&#x2193;</td><td bgcolor=\"gray\">&#x2193;</td><td bgcolor=\"gray\">&#x2190;</td><td bgcolor=\"gray\">&#x2191;</td></tr><tr><td></td><td bgcolor=\"gray\">&#x2190;</td><td></td><td bgcolor=\"gray\">&#x2193;</td><td bgcolor=\"gray\">&#x2190;</td><td></td><td bgcolor=\"gray\">&#x2191;</td><td></td><td></td><td></td><td bgcolor=\"gray\">&#x2190;</td><td bgcolor=\"gray\">&#x2191;</td><td></td><td bgcolor=\"gray\">&#x2192;</td><td bgcolor=\"gray\">&#x2190;</td><td bgcolor=\"gray\">&#x2193;</td><td></td><td bgcolor=\"gray\">&#x2190;</td><td></td><td bgcolor=\"gray\">&#x2192;</td><td bgcolor=\"gray\">&#x2193;</td><td bgcolor=\"gray\">&#x2193;</td><td bgcolor=\"gray\">&#x2192;</td><td bgcolor=\"gray\">&#x2190;</td><td bgcolor=\"gray\">&#x2191;</td><td></td><td></td><td></td><td></td><td></td><td bgcolor=\"gray\">&#x2193;</td><td></td><td bgcolor=\"gray\">&#x2193;</td><td></td><td></td><td bgcolor=\"gray\">&#x2192;</td><td></td><td bgcolor=\"gray\">&#x2192;</td><td bgcolor=\"gray\">&#x2191;</td><td bgcolor=\"gray\">&#x2190;</td><td bgcolor=\"gray\">&#x2193;</td><td bgcolor=\"gray\">&#x2190;</td><td></td><td></td><td></td><td bgcolor=\"gray\">&#x2191;</td><td bgcolor=\"gray\">&#x2191;</td><td bgcolor=\"gray\">&#x2190;</td><td></td><td bgcolor=\"gray\">&#x2191;</td></tr><tr><td></td><td></td><td bgcolor=\"gray\">&#x2192;</td><td bgcolor=\"gray\">&#x2193;</td><td></td><td bgcolor=\"gray\">&#x2191;</td><td bgcolor=\"gray\">&#x2190;</td><td></td><td></td><td bgcolor=\"gray\">&#x2192;</td><td bgcolor=\"gray\">&#x2192;</td><td bgcolor=\"gray\">&#x2191;</td><td></td><td bgcolor=\"gray\">&#x2190;</td><td bgcolor=\"gray\">&#x2191;</td><td bgcolor=\"gray\">&#x2193;</td><td></td><td bgcolor=\"gray\">&#x2191;</td><td bgcolor=\"gray\">&#x2190;</td><td bgcolor=\"gray\">&#x2192;</td><td bgcolor=\"gray\">&#x2193;</td><td></td><td bgcolor=\"gray\">&#x2192;</td><td></td><td bgcolor=\"gray\">&#x2190;</td><td></td><td></td><td></td><td></td><td></td><td></td><td></td><td bgcolor=\"gray\">&#x2193;</td><td bgcolor=\"gray\">&#x2191;</td><td bgcolor=\"gray\">&#x2193;</td><td bgcolor=\"gray\">&#x2193;</td><td bgcolor=\"gray\">&#x2192;</td><td></td><td></td><td></td><td></td><td></td><td></td><td></td><td></td><td bgcolor=\"gray\">&#x2193;</td><td bgcolor=\"gray\">&#x2192;</td><td></td><td></td><td></td></tr><tr><td></td><td></td><td bgcolor=\"gray\">&#x2193;</td><td bgcolor=\"gray\">&#x2192;</td><td bgcolor=\"gray\">&#x2193;</td><td bgcolor=\"gray\">&#x2190;</td><td bgcolor=\"gray\">&#x2193;</td><td></td><td bgcolor=\"gray\">&#x2190;</td><td bgcolor=\"gray\">&#x2191;</td><td bgcolor=\"gray\">&#x2190;</td><td bgcolor=\"gray\">&#x2190;</td><td bgcolor=\"gray\">&#x2190;</td><td bgcolor=\"gray\">&#x2193;</td><td></td><td bgcolor=\"gray\">&#x2192;</td><td bgcolor=\"gray\">&#x2192;</td><td></td><td></td><td bgcolor=\"gray\">&#x2191;</td><td bgcolor=\"gray\">&#x2193;</td><td></td><td></td><td></td><td></td><td></td><td></td><td></td><td></td><td></td><td bgcolor=\"gray\">&#x2193;</td><td bgcolor=\"gray\">&#x2192;</td><td bgcolor=\"gray\">&#x2193;</td><td bgcolor=\"gray\">&#x2190;</td><td bgcolor=\"gray\">&#x2192;</td><td bgcolor=\"gray\">&#x2193;</td><td bgcolor=\"gray\">&#x2192;</td><td></td><td></td><td bgcolor=\"gray\">&#x2192;</td><td></td><td bgcolor=\"gray\">&#x2190;</td><td></td><td></td><td></td><td></td><td bgcolor=\"gray\">&#x2193;</td><td></td><td></td><td></td></tr><tr><td></td><td></td><td bgcolor=\"gray\">&#x2192;</td><td bgcolor=\"gray\">&#x2193;</td><td></td><td></td><td bgcolor=\"gray\">&#x2190;</td><td bgcolor=\"gray\">&#x2192;</td><td bgcolor=\"gray\">&#x2192;</td><td bgcolor=\"gray\">&#x2192;</td><td bgcolor=\"gray\">&#x2191;</td><td bgcolor=\"gray\">&#x2191;</td><td bgcolor=\"gray\">&#x2193;</td><td></td><td bgcolor=\"gray\">&#x2193;</td><td bgcolor=\"gray\">&#x2193;</td><td bgcolor=\"gray\">&#x2192;</td><td bgcolor=\"gray\">&#x2191;</td><td bgcolor=\"gray\">&#x2191;</td><td></td><td bgcolor=\"gray\">&#x2193;</td><td bgcolor=\"gray\">&#x2192;</td><td bgcolor=\"gray\">&#x2193;</td><td></td><td></td><td></td><td></td><td></td><td></td><td></td><td></td><td></td><td bgcolor=\"gray\">&#x2193;</td><td></td><td bgcolor=\"gray\">&#x2191;</td><td></td><td></td><td bgcolor=\"gray\">&#x2192;</td><td></td><td bgcolor=\"gray\">&#x2191;</td><td bgcolor=\"gray\">&#x2190;</td><td bgcolor=\"gray\">&#x2190;</td><td></td><td></td><td></td><td bgcolor=\"gray\">&#x2192;</td><td bgcolor=\"gray\">&#x2191;</td><td bgcolor=\"gray\">&#x2190;</td><td bgcolor=\"gray\">&#x2192;</td><td></td></tr><tr><td></td><td></td><td></td><td bgcolor=\"gray\">&#x2191;</td><td bgcolor=\"gray\">&#x2193;</td><td bgcolor=\"gray\">&#x2192;</td><td bgcolor=\"gray\">&#x2190;</td><td bgcolor=\"gray\">&#x2192;</td><td bgcolor=\"gray\">&#x2191;</td><td bgcolor=\"gray\">&#x2193;</td><td bgcolor=\"gray\">&#x2190;</td><td></td><td bgcolor=\"gray\">&#x2193;</td><td bgcolor=\"gray\">&#x2191;</td><td></td><td bgcolor=\"gray\">&#x2190;</td><td></td><td></td><td></td><td bgcolor=\"gray\">&#x2191;</td><td bgcolor=\"gray\">&#x2193;</td><td bgcolor=\"gray\">&#x2192;</td><td></td><td></td><td></td><td></td><td></td><td></td><td></td><td></td><td bgcolor=\"gray\">&#x2191;</td><td bgcolor=\"gray\">&#x2193;</td><td bgcolor=\"gray\">&#x2193;</td><td bgcolor=\"gray\">&#x2192;</td><td bgcolor=\"gray\">&#x2192;</td><td></td><td bgcolor=\"gray\">&#x2191;</td><td bgcolor=\"gray\">&#x2190;</td><td bgcolor=\"gray\">&#x2193;</td><td bgcolor=\"gray\">&#x2191;</td><td></td><td bgcolor=\"gray\">&#x2190;</td><td bgcolor=\"gray\">&#x2191;</td><td bgcolor=\"gray\">&#x2193;</td><td bgcolor=\"gray\">&#x2192;</td><td bgcolor=\"gray\">&#x2190;</td><td bgcolor=\"gray\">&#x2190;</td><td bgcolor=\"gray\">&#x2192;</td><td></td><td></td></tr><tr><td></td><td></td><td></td><td bgcolor=\"gray\">&#x2193;</td><td bgcolor=\"gray\">&#x2192;</td><td bgcolor=\"gray\">&#x2191;</td><td></td><td bgcolor=\"gray\">&#x2191;</td><td bgcolor=\"gray\">&#x2190;</td><td bgcolor=\"gray\">&#x2190;</td><td></td><td bgcolor=\"gray\">&#x2192;</td><td bgcolor=\"gray\">&#x2190;</td><td bgcolor=\"gray\">&#x2190;</td><td bgcolor=\"gray\">&#x2193;</td><td></td><td bgcolor=\"gray\">&#x2192;</td><td bgcolor=\"gray\">&#x2191;</td><td bgcolor=\"gray\">&#x2190;</td><td bgcolor=\"gray\">&#x2193;</td><td bgcolor=\"gray\">&#x2193;</td><td bgcolor=\"gray\">&#x2193;</td><td></td><td></td><td></td><td bgcolor=\"gray\">&#x2191;</td><td></td><td></td><td></td><td bgcolor=\"gray\">&#x2190;</td><td bgcolor=\"gray\">&#x2191;</td><td bgcolor=\"gray\">&#x2191;</td><td bgcolor=\"gray\">&#x2193;</td><td bgcolor=\"gray\">&#x2192;</td><td></td><td></td><td bgcolor=\"gray\">&#x2191;</td><td bgcolor=\"gray\">&#x2192;</td><td bgcolor=\"gray\">&#x2190;</td><td bgcolor=\"gray\">&#x2192;</td><td bgcolor=\"gray\">&#x2192;</td><td bgcolor=\"gray\">&#x2192;</td><td bgcolor=\"gray\">&#x2193;</td><td bgcolor=\"gray\">&#x2190;</td><td bgcolor=\"gray\">&#x2193;</td><td bgcolor=\"gray\">&#x2193;</td><td></td><td bgcolor=\"gray\">&#x2191;</td><td></td><td></td></tr><tr><td></td><td></td><td></td><td></td><td bgcolor=\"gray\">&#x2191;</td><td bgcolor=\"gray\">&#x2191;</td><td bgcolor=\"gray\">&#x2190;</td><td></td><td></td><td bgcolor=\"gray\">&#x2192;</td><td></td><td></td><td bgcolor=\"gray\">&#x2193;</td><td bgcolor=\"gray\">&#x2192;</td><td></td><td bgcolor=\"gray\">&#x2192;</td><td bgcolor=\"gray\">&#x2191;</td><td></td><td bgcolor=\"gray\">&#x2193;</td><td bgcolor=\"gray\">&#x2192;</td><td bgcolor=\"gray\">&#x2193;</td><td bgcolor=\"gray\">&#x2190;</td><td bgcolor=\"gray\">&#x2191;</td><td></td><td bgcolor=\"gray\">&#x2192;</td><td bgcolor=\"gray\">&#x2193;</td><td bgcolor=\"gray\">&#x2190;</td><td bgcolor=\"gray\">&#x2193;</td><td bgcolor=\"gray\">&#x2191;</td><td></td><td></td><td bgcolor=\"gray\">&#x2191;</td><td bgcolor=\"gray\">&#x2193;</td><td bgcolor=\"gray\">&#x2192;</td><td></td><td bgcolor=\"gray\">&#x2192;</td><td bgcolor=\"gray\">&#x2190;</td><td bgcolor=\"gray\">&#x2191;</td><td></td><td></td><td></td><td></td><td bgcolor=\"gray\">&#x2193;</td><td bgcolor=\"gray\">&#x2193;</td><td></td><td></td><td bgcolor=\"gray\">&#x2190;</td><td></td><td></td><td></td></tr><tr><td></td><td bgcolor=\"gray\">&#x2190;</td><td bgcolor=\"gray\">&#x2190;</td><td bgcolor=\"gray\">&#x2192;</td><td bgcolor=\"gray\">&#x2190;</td><td bgcolor=\"gray\">&#x2192;</td><td></td><td bgcolor=\"gray\">&#x2192;</td><td bgcolor=\"gray\">&#x2192;</td><td bgcolor=\"gray\">&#x2192;</td><td></td><td bgcolor=\"gray\">&#x2191;</td><td bgcolor=\"gray\">&#x2191;</td><td></td><td></td><td></td><td bgcolor=\"gray\">&#x2193;</td><td bgcolor=\"gray\">&#x2191;</td><td></td><td bgcolor=\"gray\">&#x2192;</td><td bgcolor=\"gray\">&#x2193;</td><td bgcolor=\"gray\">&#x2191;</td><td></td><td bgcolor=\"gray\">&#x2191;</td><td bgcolor=\"gray\">&#x2193;</td><td></td><td bgcolor=\"gray\">&#x2191;</td><td bgcolor=\"gray\">&#x2190;</td><td bgcolor=\"gray\">&#x2191;</td><td bgcolor=\"gray\">&#x2190;</td><td></td><td></td><td bgcolor=\"gray\">&#x2193;</td><td bgcolor=\"gray\">&#x2193;</td><td bgcolor=\"gray\">&#x2193;</td><td bgcolor=\"gray\">&#x2192;</td><td></td><td bgcolor=\"gray\">&#x2191;</td><td></td><td></td><td></td><td></td><td bgcolor=\"gray\">&#x2193;</td><td bgcolor=\"gray\">&#x2192;</td><td></td><td bgcolor=\"gray\">&#x2192;</td><td bgcolor=\"gray\">&#x2192;</td><td bgcolor=\"gray\">&#x2193;</td><td bgcolor=\"gray\">&#x2193;</td><td bgcolor=\"gray\">&#x2193;</td></tr><tr><td></td><td></td><td bgcolor=\"gray\">&#x2193;</td><td bgcolor=\"gray\">&#x2193;</td><td></td><td bgcolor=\"gray\">&#x2193;</td><td></td><td></td><td></td><td bgcolor=\"gray\">&#x2193;</td><td></td><td></td><td></td><td bgcolor=\"gray\">&#x2192;</td><td bgcolor=\"gray\">&#x2191;</td><td bgcolor=\"gray\">&#x2192;</td><td bgcolor=\"gray\">&#x2192;</td><td bgcolor=\"gray\">&#x2192;</td><td bgcolor=\"gray\">&#x2190;</td><td bgcolor=\"gray\">&#x2192;</td><td bgcolor=\"gray\">&#x2193;</td><td bgcolor=\"gray\">&#x2191;</td><td bgcolor=\"gray\">&#x2193;</td><td></td><td></td><td bgcolor=\"gray\">&#x2191;</td><td bgcolor=\"gray\">&#x2193;</td><td></td><td bgcolor=\"gray\">&#x2191;</td><td bgcolor=\"gray\">&#x2190;</td><td bgcolor=\"gray\">&#x2191;</td><td></td><td bgcolor=\"gray\">&#x2193;</td><td bgcolor=\"gray\">&#x2192;</td><td></td><td></td><td></td><td></td><td bgcolor=\"gray\">&#x2190;</td><td></td><td></td><td bgcolor=\"gray\">&#x2192;</td><td bgcolor=\"gray\">&#x2193;</td><td></td><td></td><td bgcolor=\"gray\">&#x2191;</td><td></td><td bgcolor=\"gray\">&#x2193;</td><td></td><td bgcolor=\"gray\">&#x2191;</td></tr><tr><td></td><td bgcolor=\"gray\">&#x2190;</td><td bgcolor=\"gray\">&#x2192;</td><td bgcolor=\"gray\">&#x2190;</td><td></td><td></td><td bgcolor=\"gray\">&#x2190;</td><td bgcolor=\"gray\">&#x2191;</td><td></td><td bgcolor=\"gray\">&#x2193;</td><td bgcolor=\"gray\">&#x2191;</td><td bgcolor=\"gray\">&#x2192;</td><td bgcolor=\"gray\">&#x2192;</td><td bgcolor=\"gray\">&#x2192;</td><td bgcolor=\"gray\">&#x2190;</td><td bgcolor=\"gray\">&#x2193;</td><td></td><td bgcolor=\"gray\">&#x2193;</td><td></td><td bgcolor=\"gray\">&#x2191;</td><td bgcolor=\"gray\">&#x2193;</td><td></td><td bgcolor=\"gray\">&#x2191;</td><td></td><td></td><td bgcolor=\"gray\">&#x2191;</td><td bgcolor=\"gray\">&#x2191;</td><td></td><td></td><td bgcolor=\"gray\">&#x2193;</td><td></td><td bgcolor=\"gray\">&#x2190;</td><td bgcolor=\"gray\">&#x2193;</td><td bgcolor=\"gray\">&#x2190;</td><td bgcolor=\"gray\">&#x2191;</td><td></td><td></td><td></td><td bgcolor=\"gray\">&#x2190;</td><td bgcolor=\"gray\">&#x2193;</td><td bgcolor=\"gray\">&#x2193;</td><td bgcolor=\"gray\">&#x2191;</td><td bgcolor=\"gray\">&#x2193;</td><td bgcolor=\"gray\">&#x2190;</td><td bgcolor=\"gray\">&#x2190;</td><td></td><td></td><td bgcolor=\"gray\">&#x2192;</td><td bgcolor=\"gray\">&#x2193;</td><td bgcolor=\"gray\">&#x2191;</td></tr><tr><td bgcolor=\"gray\">&#x2191;</td><td bgcolor=\"gray\">&#x2192;</td><td bgcolor=\"gray\">&#x2192;</td><td></td><td bgcolor=\"gray\">&#x2191;</td><td bgcolor=\"gray\">&#x2193;</td><td bgcolor=\"gray\">&#x2190;</td><td></td><td bgcolor=\"gray\">&#x2191;</td><td bgcolor=\"gray\">&#x2193;</td><td></td><td bgcolor=\"gray\">&#x2193;</td><td></td><td bgcolor=\"gray\">&#x2191;</td><td bgcolor=\"gray\">&#x2193;</td><td bgcolor=\"gray\">&#x2191;</td><td bgcolor=\"gray\">&#x2190;</td><td></td><td bgcolor=\"gray\">&#x2191;</td><td></td><td bgcolor=\"gray\">&#x2192;</td><td bgcolor=\"gray\">&#x2192;</td><td bgcolor=\"gray\">&#x2193;</td><td bgcolor=\"gray\">&#x2193;</td><td></td><td bgcolor=\"gray\">&#x2193;</td><td bgcolor=\"gray\">&#x2193;</td><td bgcolor=\"gray\">&#x2191;</td><td></td><td bgcolor=\"gray\">&#x2191;</td><td></td><td bgcolor=\"gray\">&#x2190;</td><td bgcolor=\"gray\">&#x2193;</td><td bgcolor=\"gray\">&#x2190;</td><td></td><td bgcolor=\"gray\">&#x2192;</td><td bgcolor=\"gray\">&#x2193;</td><td></td><td bgcolor=\"gray\">&#x2192;</td><td bgcolor=\"gray\">&#x2191;</td><td></td><td></td><td bgcolor=\"gray\">&#x2193;</td><td></td><td></td><td></td><td></td><td></td><td bgcolor=\"gray\">&#x2192;</td><td bgcolor=\"gray\">&#x2190;</td></tr><tr><td bgcolor=\"gray\">&#x2191;</td><td></td><td bgcolor=\"gray\">&#x2191;</td><td></td><td bgcolor=\"gray\">&#x2191;</td><td bgcolor=\"gray\">&#x2192;</td><td bgcolor=\"gray\">&#x2192;</td><td bgcolor=\"gray\">&#x2193;</td><td bgcolor=\"gray\">&#x2192;</td><td bgcolor=\"gray\">&#x2191;</td><td></td><td bgcolor=\"gray\">&#x2191;</td><td></td><td></td><td bgcolor=\"gray\">&#x2191;</td><td></td><td bgcolor=\"gray\">&#x2193;</td><td></td><td bgcolor=\"gray\">&#x2190;</td><td bgcolor=\"gray\">&#x2192;</td><td bgcolor=\"gray\">&#x2193;</td><td></td><td bgcolor=\"gray\">&#x2192;</td><td bgcolor=\"gray\">&#x2193;</td><td></td><td bgcolor=\"gray\">&#x2190;</td><td></td><td></td><td bgcolor=\"gray\">&#x2191;</td><td bgcolor=\"gray\">&#x2191;</td><td></td><td bgcolor=\"gray\">&#x2192;</td><td bgcolor=\"gray\">&#x2193;</td><td bgcolor=\"gray\">&#x2193;</td><td bgcolor=\"gray\">&#x2190;</td><td bgcolor=\"gray\">&#x2193;</td><td></td><td></td><td></td><td bgcolor=\"gray\">&#x2193;</td><td></td><td bgcolor=\"gray\">&#x2191;</td><td bgcolor=\"gray\">&#x2193;</td><td bgcolor=\"gray\">&#x2191;</td><td bgcolor=\"gray\">&#x2192;</td><td></td><td></td><td></td><td bgcolor=\"gray\">&#x2193;</td><td bgcolor=\"gray\">&#x2193;</td></tr><tr><td></td><td bgcolor=\"gray\">&#x2192;</td><td bgcolor=\"gray\">&#x2192;</td><td bgcolor=\"gray\">&#x2191;</td><td bgcolor=\"gray\">&#x2192;</td><td bgcolor=\"gray\">&#x2191;</td><td bgcolor=\"gray\">&#x2190;</td><td bgcolor=\"gray\">&#x2192;</td><td bgcolor=\"gray\">&#x2193;</td><td></td><td></td><td></td><td></td><td bgcolor=\"gray\">&#x2190;</td><td bgcolor=\"gray\">&#x2191;</td><td bgcolor=\"gray\">&#x2190;</td><td></td><td></td><td bgcolor=\"gray\">&#x2193;</td><td></td><td></td><td></td><td></td><td bgcolor=\"gray\">&#x2193;</td><td bgcolor=\"gray\">&#x2192;</td><td bgcolor=\"gray\">&#x2192;</td><td></td><td bgcolor=\"gray\">&#x2190;</td><td bgcolor=\"gray\">&#x2193;</td><td bgcolor=\"gray\">&#x2192;</td><td bgcolor=\"gray\">&#x2191;</td><td></td><td bgcolor=\"gray\">&#x2193;</td><td></td><td bgcolor=\"gray\">&#x2191;</td><td></td><td bgcolor=\"gray\">&#x2190;</td><td bgcolor=\"gray\">&#x2190;</td><td></td><td bgcolor=\"gray\">&#x2191;</td><td bgcolor=\"gray\">&#x2191;</td><td></td><td bgcolor=\"gray\">&#x2192;</td><td bgcolor=\"gray\">&#x2193;</td><td bgcolor=\"gray\">&#x2191;</td><td bgcolor=\"gray\">&#x2191;</td><td bgcolor=\"gray\">&#x2190;</td><td bgcolor=\"gray\">&#x2191;</td><td></td><td bgcolor=\"gray\">&#x2193;</td></tr><tr><td bgcolor=\"gray\">&#x2191;</td><td></td><td></td><td></td><td bgcolor=\"gray\">&#x2191;</td><td></td><td></td><td bgcolor=\"gray\">&#x2192;</td><td bgcolor=\"gray\">&#x2193;</td><td></td><td></td><td bgcolor=\"gray\">&#x2190;</td><td></td><td bgcolor=\"gray\">&#x2192;</td><td bgcolor=\"gray\">&#x2191;</td><td bgcolor=\"gray\">&#x2190;</td><td bgcolor=\"gray\">&#x2193;</td><td></td><td bgcolor=\"gray\">&#x2193;</td><td bgcolor=\"gray\">&#x2190;</td><td bgcolor=\"gray\">&#x2191;</td><td></td><td bgcolor=\"gray\">&#x2191;</td><td bgcolor=\"gray\">&#x2193;</td><td bgcolor=\"gray\">&#x2190;</td><td bgcolor=\"gray\">&#x2190;</td><td bgcolor=\"gray\">&#x2190;</td><td bgcolor=\"gray\">&#x2190;</td><td bgcolor=\"gray\">&#x2191;</td><td></td><td></td><td bgcolor=\"gray\">&#x2190;</td><td bgcolor=\"gray\">&#x2193;</td><td bgcolor=\"gray\">&#x2193;</td><td></td><td bgcolor=\"gray\">&#x2193;</td><td bgcolor=\"gray\">&#x2191;</td><td bgcolor=\"gray\">&#x2191;</td><td bgcolor=\"gray\">&#x2191;</td><td bgcolor=\"gray\">&#x2190;</td><td bgcolor=\"gray\">&#x2191;</td><td bgcolor=\"gray\">&#x2190;</td><td></td><td bgcolor=\"gray\">&#x2193;</td><td bgcolor=\"gray\">&#x2192;</td><td bgcolor=\"gray\">&#x2193;</td><td bgcolor=\"gray\">&#x2192;</td><td bgcolor=\"gray\">&#x2192;</td><td bgcolor=\"gray\">&#x2193;</td><td bgcolor=\"gray\">&#x2193;</td></tr><tr><td bgcolor=\"gray\">&#x2192;</td><td bgcolor=\"gray\">&#x2190;</td><td></td><td></td><td bgcolor=\"gray\">&#x2191;</td><td bgcolor=\"gray\">&#x2190;</td><td></td><td></td><td bgcolor=\"gray\">&#x2192;</td><td bgcolor=\"gray\">&#x2192;</td><td bgcolor=\"gray\">&#x2193;</td><td bgcolor=\"gray\">&#x2190;</td><td bgcolor=\"gray\">&#x2191;</td><td></td><td bgcolor=\"gray\">&#x2190;</td><td bgcolor=\"gray\">&#x2193;</td><td></td><td></td><td bgcolor=\"gray\">&#x2192;</td><td bgcolor=\"gray\">&#x2190;</td><td bgcolor=\"gray\">&#x2191;</td><td></td><td bgcolor=\"gray\">&#x2193;</td><td bgcolor=\"gray\">&#x2190;</td><td></td><td bgcolor=\"gray\">&#x2191;</td><td bgcolor=\"gray\">&#x2192;</td><td></td><td bgcolor=\"gray\">&#x2192;</td><td></td><td></td><td bgcolor=\"gray\">&#x2190;</td><td bgcolor=\"gray\">&#x2193;</td><td bgcolor=\"gray\">&#x2192;</td><td></td><td></td><td bgcolor=\"gray\">&#x2192;</td><td bgcolor=\"gray\">&#x2192;</td><td bgcolor=\"gray\">&#x2192;</td><td bgcolor=\"gray\">&#x2192;</td><td bgcolor=\"gray\">&#x2193;</td><td></td><td bgcolor=\"gray\">&#x2192;</td><td bgcolor=\"gray\">&#x2193;</td><td></td><td bgcolor=\"gray\">&#x2193;</td><td bgcolor=\"gray\">&#x2190;</td><td></td><td bgcolor=\"gray\">&#x2191;</td><td bgcolor=\"gray\">&#x2192;</td></tr><tr><td bgcolor=\"gray\">&#x2192;</td><td bgcolor=\"gray\">&#x2191;</td><td bgcolor=\"gray\">&#x2192;</td><td bgcolor=\"gray\">&#x2190;</td><td bgcolor=\"gray\">&#x2191;</td><td bgcolor=\"gray\">&#x2191;</td><td></td><td></td><td></td><td></td><td bgcolor=\"gray\">&#x2193;</td><td bgcolor=\"gray\">&#x2190;</td><td bgcolor=\"gray\">&#x2193;</td><td bgcolor=\"gray\">&#x2191;</td><td></td><td bgcolor=\"gray\">&#x2191;</td><td></td><td bgcolor=\"gray\">&#x2191;</td><td></td><td bgcolor=\"gray\">&#x2192;</td><td bgcolor=\"gray\">&#x2193;</td><td bgcolor=\"gray\">&#x2190;</td><td bgcolor=\"gray\">&#x2193;</td><td></td><td></td><td></td><td></td><td></td><td></td><td></td><td></td><td bgcolor=\"gray\">&#x2193;</td><td bgcolor=\"gray\">&#x2190;</td><td bgcolor=\"gray\">&#x2192;</td><td></td><td></td><td></td><td bgcolor=\"gray\">&#x2192;</td><td></td><td bgcolor=\"gray\">&#x2192;</td><td bgcolor=\"gray\">&#x2192;</td><td bgcolor=\"gray\">&#x2192;</td><td bgcolor=\"gray\">&#x2192;</td><td bgcolor=\"gray\">&#x2192;</td><td bgcolor=\"gray\">&#x2192;</td><td bgcolor=\"gray\">&#x2193;</td><td bgcolor=\"gray\">&#x2193;</td><td></td><td bgcolor=\"gray\">&#x2192;</td><td bgcolor=\"gray\">&#x2192;</td></tr><tr><td bgcolor=\"gray\">&#x2190;</td><td></td><td bgcolor=\"gray\">&#x2192;</td><td></td><td bgcolor=\"gray\">&#x2192;</td><td bgcolor=\"gray\">&#x2190;</td><td bgcolor=\"gray\">&#x2190;</td><td></td><td></td><td bgcolor=\"gray\">&#x2190;</td><td bgcolor=\"gray\">&#x2193;</td><td></td><td bgcolor=\"gray\">&#x2193;</td><td></td><td></td><td bgcolor=\"gray\">&#x2192;</td><td bgcolor=\"gray\">&#x2192;</td><td bgcolor=\"gray\">&#x2192;</td><td bgcolor=\"gray\">&#x2192;</td><td bgcolor=\"gray\">&#x2192;</td><td bgcolor=\"gray\">&#x2192;</td><td bgcolor=\"gray\">&#x2190;</td><td bgcolor=\"gray\">&#x2192;</td><td bgcolor=\"gray\">&#x2192;</td><td bgcolor=\"gray\">&#x2192;</td><td bgcolor=\"gray\">&#x2192;</td><td bgcolor=\"gray\">&#x2193;</td><td bgcolor=\"gray\">&#x2191;</td><td bgcolor=\"gray\">&#x2193;</td><td bgcolor=\"gray\">&#x2193;</td><td bgcolor=\"gray\">&#x2190;</td><td bgcolor=\"gray\">&#x2190;</td><td bgcolor=\"gray\">&#x2190;</td><td></td><td></td><td></td><td bgcolor=\"gray\">&#x2192;</td><td bgcolor=\"gray\">&#x2193;</td><td bgcolor=\"gray\">&#x2191;</td><td bgcolor=\"gray\">&#x2193;</td><td bgcolor=\"gray\">&#x2192;</td><td></td><td></td><td bgcolor=\"gray\">&#x2191;</td><td bgcolor=\"gray\">&#x2192;</td><td bgcolor=\"gray\">&#x2192;</td><td bgcolor=\"gray\">&#x2192;</td><td bgcolor=\"gray\">&#x2192;</td><td bgcolor=\"gray\">&#x2193;</td><td bgcolor=\"gray\">&#x2192;</td></tr><tr><td bgcolor=\"gray\">&#x2193;</td><td bgcolor=\"gray\">&#x2193;</td><td></td><td bgcolor=\"gray\">&#x2192;</td><td bgcolor=\"gray\">&#x2192;</td><td></td><td></td><td></td><td bgcolor=\"gray\">&#x2191;</td><td bgcolor=\"gray\">&#x2191;</td><td bgcolor=\"gray\">&#x2193;</td><td bgcolor=\"gray\">&#x2193;</td><td bgcolor=\"gray\">&#x2190;</td><td bgcolor=\"gray\">&#x2192;</td><td bgcolor=\"gray\">&#x2192;</td><td bgcolor=\"gray\">&#x2191;</td><td bgcolor=\"gray\">&#x2193;</td><td></td><td></td><td bgcolor=\"gray\">&#x2190;</td><td bgcolor=\"gray\">&#x2193;</td><td bgcolor=\"gray\">&#x2193;</td><td></td><td></td><td></td><td bgcolor=\"gray\">&#x2193;</td><td bgcolor=\"gray\">&#x2192;</td><td bgcolor=\"gray\">&#x2193;</td><td bgcolor=\"gray\">&#x2190;</td><td bgcolor=\"gray\">&#x2190;</td><td bgcolor=\"gray\">&#x2190;</td><td></td><td></td><td></td><td></td><td></td><td></td><td bgcolor=\"gray\">&#x2193;</td><td bgcolor=\"gray\">&#x2190;</td><td></td><td></td><td bgcolor=\"gray\">&#x2192;</td><td bgcolor=\"gray\">&#x2191;</td><td bgcolor=\"gray\">&#x2191;</td><td bgcolor=\"gray\">&#x2191;</td><td></td><td></td><td bgcolor=\"gray\">&#x2191;</td><td bgcolor=\"gray\">&#x2193;</td><td></td></tr><tr><td bgcolor=\"gray\">&#x2192;</td><td bgcolor=\"gray\">&#x2191;</td><td bgcolor=\"gray\">&#x2192;</td><td bgcolor=\"gray\">&#x2190;</td><td></td><td></td><td></td><td bgcolor=\"gray\">&#x2192;</td><td bgcolor=\"gray\">&#x2193;</td><td bgcolor=\"gray\">&#x2192;</td><td bgcolor=\"gray\">&#x2192;</td><td bgcolor=\"gray\">&#x2192;</td><td bgcolor=\"gray\">&#x2191;</td><td bgcolor=\"gray\">&#x2190;</td><td bgcolor=\"gray\">&#x2191;</td><td bgcolor=\"gray\">&#x2190;</td><td bgcolor=\"gray\">&#x2191;</td><td></td><td bgcolor=\"gray\">&#x2190;</td><td></td><td></td><td></td><td></td><td></td><td></td><td></td><td bgcolor=\"gray\">&#x2192;</td><td bgcolor=\"gray\">&#x2193;</td><td bgcolor=\"gray\">&#x2193;</td><td></td><td bgcolor=\"gray\">&#x2192;</td><td bgcolor=\"gray\">&#x2192;</td><td bgcolor=\"gray\">&#x2191;</td><td></td><td></td><td></td><td></td><td bgcolor=\"gray\">&#x2192;</td><td bgcolor=\"gray\">&#x2193;</td><td bgcolor=\"gray\">&#x2191;</td><td bgcolor=\"gray\">&#x2190;</td><td bgcolor=\"gray\">&#x2192;</td><td bgcolor=\"gray\">&#x2190;</td><td bgcolor=\"gray\">&#x2190;</td><td bgcolor=\"gray\">&#x2190;</td><td bgcolor=\"gray\">&#x2190;</td><td></td><td bgcolor=\"gray\">&#x2190;</td><td bgcolor=\"gray\">&#x2193;</td><td bgcolor=\"gray\">&#x2191;</td></tr><tr><td></td><td bgcolor=\"gray\">&#x2192;</td><td bgcolor=\"gray\">&#x2191;</td><td></td><td></td><td></td><td></td><td bgcolor=\"gray\">&#x2191;</td><td></td><td bgcolor=\"gray\">&#x2191;</td><td bgcolor=\"gray\">&#x2193;</td><td bgcolor=\"gray\">&#x2191;</td><td bgcolor=\"gray\">&#x2192;</td><td bgcolor=\"gray\">&#x2191;</td><td></td><td bgcolor=\"gray\">&#x2192;</td><td></td><td></td><td bgcolor=\"gray\">&#x2193;</td><td></td><td bgcolor=\"gray\">&#x2190;</td><td bgcolor=\"gray\">&#x2190;</td><td></td><td bgcolor=\"gray\">&#x2190;</td><td bgcolor=\"gray\">&#x2190;</td><td></td><td bgcolor=\"gray\">&#x2192;</td><td bgcolor=\"gray\">&#x2193;</td><td bgcolor=\"gray\">&#x2193;</td><td></td><td></td><td bgcolor=\"gray\">&#x2190;</td><td bgcolor=\"gray\">&#x2192;</td><td bgcolor=\"gray\">&#x2190;</td><td></td><td bgcolor=\"gray\">&#x2191;</td><td bgcolor=\"gray\">&#x2193;</td><td bgcolor=\"gray\">&#x2190;</td><td></td><td></td><td bgcolor=\"gray\">&#x2193;</td><td></td><td bgcolor=\"gray\">&#x2192;</td><td></td><td></td><td bgcolor=\"gray\">&#x2191;</td><td bgcolor=\"gray\">&#x2193;</td><td bgcolor=\"gray\">&#x2191;</td><td bgcolor=\"gray\">&#x2193;</td><td bgcolor=\"gray\">&#x2192;</td></tr><tr><td bgcolor=\"gray\">&#x2190;</td><td bgcolor=\"gray\">&#x2190;</td><td></td><td bgcolor=\"gray\">&#x2192;</td><td bgcolor=\"gray\">&#x2191;</td><td></td><td bgcolor=\"gray\">&#x2192;</td><td></td><td bgcolor=\"gray\">&#x2193;</td><td></td><td></td><td bgcolor=\"gray\">&#x2190;</td><td bgcolor=\"gray\">&#x2192;</td><td></td><td></td><td></td><td></td><td></td><td bgcolor=\"gray\">&#x2190;</td><td bgcolor=\"gray\">&#x2190;</td><td bgcolor=\"gray\">&#x2192;</td><td></td><td></td><td bgcolor=\"gray\">&#x2191;</td><td></td><td bgcolor=\"gray\">&#x2191;</td><td bgcolor=\"gray\">&#x2190;</td><td bgcolor=\"gray\">&#x2192;</td><td bgcolor=\"gray\">&#x2192;</td><td bgcolor=\"gray\">&#x2192;</td><td bgcolor=\"gray\">&#x2192;</td><td bgcolor=\"gray\">&#x2193;</td><td bgcolor=\"gray\">&#x2193;</td><td></td><td></td><td></td><td bgcolor=\"gray\">&#x2193;</td><td bgcolor=\"gray\">&#x2192;</td><td bgcolor=\"gray\">&#x2192;</td><td></td><td bgcolor=\"gray\">&#x2193;</td><td bgcolor=\"gray\">&#x2190;</td><td bgcolor=\"gray\">&#x2192;</td><td></td><td bgcolor=\"gray\">&#x2190;</td><td bgcolor=\"gray\">&#x2191;</td><td></td><td></td><td bgcolor=\"gray\">&#x2193;</td><td bgcolor=\"gray\">&#x2193;</td></tr><tr><td bgcolor=\"gray\">&#x2193;</td><td></td><td></td><td bgcolor=\"gray\">&#x2191;</td><td bgcolor=\"gray\">&#x2191;</td><td bgcolor=\"gray\">&#x2190;</td><td bgcolor=\"gray\">&#x2190;</td><td bgcolor=\"gray\">&#x2192;</td><td bgcolor=\"gray\">&#x2191;</td><td bgcolor=\"gray\">&#x2192;</td><td></td><td bgcolor=\"gray\">&#x2190;</td><td></td><td></td><td></td><td bgcolor=\"gray\">&#x2193;</td><td></td><td bgcolor=\"gray\">&#x2192;</td><td bgcolor=\"gray\">&#x2192;</td><td bgcolor=\"gray\">&#x2190;</td><td bgcolor=\"gray\">&#x2192;</td><td bgcolor=\"gray\">&#x2191;</td><td bgcolor=\"gray\">&#x2190;</td><td bgcolor=\"gray\">&#x2192;</td><td></td><td bgcolor=\"gray\">&#x2192;</td><td bgcolor=\"gray\">&#x2192;</td><td bgcolor=\"gray\">&#x2191;</td><td bgcolor=\"gray\">&#x2190;</td><td></td><td bgcolor=\"gray\">&#x2192;</td><td bgcolor=\"gray\">&#x2192;</td><td bgcolor=\"gray\">&#x2192;</td><td bgcolor=\"gray\">&#x2192;</td><td bgcolor=\"gray\">&#x2192;</td><td bgcolor=\"gray\">&#x2193;</td><td></td><td bgcolor=\"gray\">&#x2192;</td><td bgcolor=\"gray\">&#x2191;</td><td></td><td></td><td bgcolor=\"gray\">&#x2191;</td><td bgcolor=\"gray\">&#x2192;</td><td bgcolor=\"gray\">&#x2191;</td><td bgcolor=\"gray\">&#x2193;</td><td></td><td bgcolor=\"gray\">&#x2190;</td><td bgcolor=\"gray\">&#x2191;</td><td bgcolor=\"gray\">&#x2193;</td><td bgcolor=\"gray\">&#x2190;</td></tr><tr><td bgcolor=\"gray\">&#x2193;</td><td bgcolor=\"gray\">&#x2190;</td><td bgcolor=\"gray\">&#x2190;</td><td bgcolor=\"gray\">&#x2190;</td><td></td><td bgcolor=\"gray\">&#x2193;</td><td></td><td bgcolor=\"gray\">&#x2193;</td><td bgcolor=\"gray\">&#x2193;</td><td bgcolor=\"gray\">&#x2192;</td><td></td><td bgcolor=\"gray\">&#x2190;</td><td></td><td></td><td bgcolor=\"gray\">&#x2190;</td><td bgcolor=\"gray\">&#x2192;</td><td bgcolor=\"gray\">&#x2191;</td><td bgcolor=\"gray\">&#x2190;</td><td bgcolor=\"gray\">&#x2192;</td><td></td><td></td><td bgcolor=\"gray\">&#x2192;</td><td bgcolor=\"gray\">&#x2192;</td><td bgcolor=\"gray\">&#x2192;</td><td bgcolor=\"gray\">&#x2192;</td><td bgcolor=\"gray\">&#x2191;</td><td></td><td bgcolor=\"gray\">&#x2193;</td><td bgcolor=\"gray\">&#x2193;</td><td bgcolor=\"gray\">&#x2192;</td><td bgcolor=\"gray\">&#x2193;</td><td bgcolor=\"gray\">&#x2191;</td><td bgcolor=\"gray\">&#x2190;</td><td bgcolor=\"gray\">&#x2193;</td><td></td><td bgcolor=\"gray\">&#x2193;</td><td bgcolor=\"gray\">&#x2192;</td><td></td><td bgcolor=\"gray\">&#x2192;</td><td bgcolor=\"gray\">&#x2192;</td><td bgcolor=\"gray\">&#x2192;</td><td bgcolor=\"gray\">&#x2190;</td><td bgcolor=\"gray\">&#x2193;</td><td></td><td></td><td bgcolor=\"gray\">&#x2192;</td><td bgcolor=\"gray\">&#x2191;</td><td></td><td bgcolor=\"gray\">&#x2193;</td><td bgcolor=\"gray\">&#x2190;</td></tr><tr><td bgcolor=\"gray\">&#x2191;</td><td bgcolor=\"gray\">&#x2193;</td><td bgcolor=\"gray\">&#x2193;</td><td></td><td bgcolor=\"gray\">&#x2192;</td><td bgcolor=\"gray\">&#x2193;</td><td></td><td bgcolor=\"gray\">&#x2190;</td><td></td><td bgcolor=\"gray\">&#x2192;</td><td bgcolor=\"gray\">&#x2192;</td><td bgcolor=\"gray\">&#x2192;</td><td></td><td bgcolor=\"gray\">&#x2192;</td><td bgcolor=\"gray\">&#x2192;</td><td></td><td></td><td></td><td bgcolor=\"gray\">&#x2193;</td><td bgcolor=\"gray\">&#x2192;</td><td bgcolor=\"gray\">&#x2192;</td><td bgcolor=\"gray\">&#x2192;</td><td bgcolor=\"gray\">&#x2190;</td><td bgcolor=\"gray\">&#x2191;</td><td></td><td bgcolor=\"gray\">&#x2191;</td><td bgcolor=\"gray\">&#x2190;</td><td bgcolor=\"gray\">&#x2190;</td><td></td><td bgcolor=\"gray\">&#x2192;</td><td></td><td bgcolor=\"gray\">&#x2191;</td><td bgcolor=\"gray\">&#x2193;</td><td></td><td></td><td bgcolor=\"gray\">&#x2193;</td><td bgcolor=\"gray\">&#x2191;</td><td bgcolor=\"gray\">&#x2192;</td><td bgcolor=\"gray\">&#x2193;</td><td></td><td></td><td bgcolor=\"gray\">&#x2193;</td><td bgcolor=\"gray\">&#x2190;</td><td bgcolor=\"gray\">&#x2192;</td><td bgcolor=\"gray\">&#x2192;</td><td bgcolor=\"gray\">&#x2193;</td><td bgcolor=\"gray\">&#x2192;</td><td></td><td bgcolor=\"gray\">&#x2193;</td><td></td></tr><tr><td bgcolor=\"gray\">&#x2192;</td><td bgcolor=\"gray\">&#x2192;</td><td bgcolor=\"gray\">&#x2193;</td><td bgcolor=\"gray\">&#x2190;</td><td bgcolor=\"gray\">&#x2191;</td><td bgcolor=\"gray\">&#x2193;</td><td bgcolor=\"gray\">&#x2193;</td><td></td><td></td><td bgcolor=\"gray\">&#x2192;</td><td bgcolor=\"gray\">&#x2192;</td><td bgcolor=\"gray\">&#x2192;</td><td bgcolor=\"gray\">&#x2192;</td><td bgcolor=\"gray\">&#x2192;</td><td bgcolor=\"gray\">&#x2192;</td><td bgcolor=\"gray\">&#x2193;</td><td></td><td bgcolor=\"gray\">&#x2193;</td><td bgcolor=\"gray\">&#x2192;</td><td bgcolor=\"gray\">&#x2191;</td><td></td><td></td><td bgcolor=\"gray\">&#x2192;</td><td bgcolor=\"gray\">&#x2190;</td><td bgcolor=\"gray\">&#x2193;</td><td></td><td></td><td></td><td bgcolor=\"gray\">&#x2191;</td><td></td><td bgcolor=\"gray\">&#x2193;</td><td bgcolor=\"gray\">&#x2193;</td><td></td><td></td><td></td><td bgcolor=\"gray\">&#x2193;</td><td></td><td bgcolor=\"gray\">&#x2191;</td><td></td><td bgcolor=\"gray\">&#x2190;</td><td bgcolor=\"gray\">&#x2192;</td><td bgcolor=\"gray\">&#x2192;</td><td bgcolor=\"gray\">&#x2190;</td><td></td><td></td><td bgcolor=\"gray\">&#x2193;</td><td bgcolor=\"gray\">&#x2190;</td><td bgcolor=\"gray\">&#x2190;</td><td bgcolor=\"gray\">&#x2190;</td><td bgcolor=\"gray\">&#x2191;</td></tr><tr><td bgcolor=\"gray\">&#x2193;</td><td bgcolor=\"gray\">&#x2191;</td><td bgcolor=\"gray\">&#x2192;</td><td bgcolor=\"gray\">&#x2190;</td><td bgcolor=\"gray\">&#x2190;</td><td bgcolor=\"gray\">&#x2191;</td><td></td><td bgcolor=\"gray\">&#x2192;</td><td bgcolor=\"gray\">&#x2191;</td><td></td><td bgcolor=\"gray\">&#x2191;</td><td bgcolor=\"gray\">&#x2191;</td><td></td><td bgcolor=\"gray\">&#x2190;</td><td></td><td bgcolor=\"gray\">&#x2192;</td><td bgcolor=\"gray\">&#x2192;</td><td bgcolor=\"gray\">&#x2192;</td><td bgcolor=\"gray\">&#x2191;</td><td bgcolor=\"gray\">&#x2191;</td><td></td><td></td><td></td><td bgcolor=\"gray\">&#x2192;</td><td bgcolor=\"gray\">&#x2193;</td><td bgcolor=\"gray\">&#x2193;</td><td bgcolor=\"gray\">&#x2192;</td><td bgcolor=\"gray\">&#x2191;</td><td bgcolor=\"gray\">&#x2190;</td><td></td><td bgcolor=\"gray\">&#x2191;</td><td></td><td bgcolor=\"gray\">&#x2191;</td><td></td><td bgcolor=\"gray\">&#x2192;</td><td bgcolor=\"gray\">&#x2192;</td><td bgcolor=\"gray\">&#x2193;</td><td bgcolor=\"gray\">&#x2191;</td><td bgcolor=\"gray\">&#x2193;</td><td bgcolor=\"gray\">&#x2191;</td><td bgcolor=\"gray\">&#x2193;</td><td></td><td bgcolor=\"gray\">&#x2191;</td><td></td><td></td><td bgcolor=\"gray\">&#x2193;</td><td bgcolor=\"gray\">&#x2192;</td><td bgcolor=\"gray\">&#x2192;</td><td></td><td bgcolor=\"gray\">&#x2192;</td></tr><tr><td bgcolor=\"gray\">&#x2193;</td><td></td><td bgcolor=\"gray\">&#x2191;</td><td bgcolor=\"gray\">&#x2191;</td><td bgcolor=\"gray\">&#x2192;</td><td></td><td></td><td></td><td bgcolor=\"gray\">&#x2191;</td><td bgcolor=\"gray\">&#x2193;</td><td bgcolor=\"gray\">&#x2191;</td><td></td><td bgcolor=\"gray\">&#x2190;</td><td></td><td bgcolor=\"gray\">&#x2193;</td><td></td><td bgcolor=\"gray\">&#x2191;</td><td></td><td></td><td bgcolor=\"gray\">&#x2193;</td><td bgcolor=\"gray\">&#x2190;</td><td></td><td></td><td bgcolor=\"gray\">&#x2191;</td><td bgcolor=\"gray\">&#x2192;</td><td bgcolor=\"gray\">&#x2190;</td><td></td><td></td><td bgcolor=\"gray\">&#x2190;</td><td bgcolor=\"gray\">&#x2191;</td><td bgcolor=\"gray\">&#x2193;</td><td bgcolor=\"gray\">&#x2193;</td><td bgcolor=\"gray\">&#x2193;</td><td></td><td bgcolor=\"gray\">&#x2191;</td><td></td><td bgcolor=\"gray\">&#x2193;</td><td bgcolor=\"gray\">&#x2192;</td><td></td><td></td><td></td><td></td><td></td><td bgcolor=\"gray\">&#x2192;</td><td bgcolor=\"gray\">&#x2190;</td><td bgcolor=\"gray\">&#x2193;</td><td></td><td></td><td></td><td bgcolor=\"gray\">&#x2191;</td></tr><tr><td bgcolor=\"gray\">&#x2192;</td><td bgcolor=\"gray\">&#x2191;</td><td bgcolor=\"gray\">&#x2193;</td><td bgcolor=\"gray\">&#x2190;</td><td></td><td></td><td></td><td bgcolor=\"gray\">&#x2190;</td><td bgcolor=\"gray\">&#x2191;</td><td></td><td bgcolor=\"gray\">&#x2191;</td><td></td><td bgcolor=\"gray\">&#x2192;</td><td></td><td bgcolor=\"gray\">&#x2191;</td><td></td><td></td><td></td><td bgcolor=\"gray\">&#x2190;</td><td bgcolor=\"gray\">&#x2190;</td><td></td><td bgcolor=\"gray\">&#x2193;</td><td bgcolor=\"gray\">&#x2191;</td><td bgcolor=\"gray\">&#x2191;</td><td bgcolor=\"gray\">&#x2193;</td><td></td><td></td><td></td><td bgcolor=\"gray\">&#x2192;</td><td bgcolor=\"gray\">&#x2192;</td><td bgcolor=\"gray\">&#x2192;</td><td bgcolor=\"gray\">&#x2193;</td><td></td><td bgcolor=\"gray\">&#x2192;</td><td bgcolor=\"gray\">&#x2191;</td><td></td><td bgcolor=\"gray\">&#x2193;</td><td></td><td bgcolor=\"gray\">&#x2191;</td><td bgcolor=\"gray\">&#x2191;</td><td bgcolor=\"gray\">&#x2191;</td><td bgcolor=\"gray\">&#x2192;</td><td bgcolor=\"gray\">&#x2191;</td><td></td><td></td><td bgcolor=\"gray\">&#x2192;</td><td bgcolor=\"gray\">&#x2192;</td><td bgcolor=\"gray\">&#x2193;</td><td></td><td bgcolor=\"gray\">&#x2191;</td></tr><tr><td bgcolor=\"gray\">&#x2192;</td><td bgcolor=\"gray\">&#x2192;</td><td bgcolor=\"gray\">&#x2191;</td><td></td><td bgcolor=\"gray\">&#x2190;</td><td bgcolor=\"gray\">&#x2190;</td><td bgcolor=\"gray\">&#x2191;</td><td bgcolor=\"gray\">&#x2193;</td><td bgcolor=\"gray\">&#x2190;</td><td bgcolor=\"gray\">&#x2192;</td><td bgcolor=\"gray\">&#x2191;</td><td></td><td bgcolor=\"gray\">&#x2192;</td><td bgcolor=\"gray\">&#x2191;</td><td bgcolor=\"gray\">&#x2193;</td><td bgcolor=\"gray\">&#x2192;</td><td bgcolor=\"gray\">&#x2193;</td><td bgcolor=\"gray\">&#x2192;</td><td></td><td bgcolor=\"gray\">&#x2193;</td><td bgcolor=\"gray\">&#x2190;</td><td></td><td></td><td bgcolor=\"gray\">&#x2191;</td><td></td><td bgcolor=\"gray\">&#x2191;</td><td></td><td bgcolor=\"gray\">&#x2192;</td><td bgcolor=\"gray\">&#x2191;</td><td></td><td bgcolor=\"gray\">&#x2190;</td><td bgcolor=\"gray\">&#x2192;</td><td bgcolor=\"gray\">&#x2192;</td><td bgcolor=\"gray\">&#x2191;</td><td></td><td bgcolor=\"gray\">&#x2191;</td><td bgcolor=\"gray\">&#x2192;</td><td bgcolor=\"gray\">&#x2192;</td><td bgcolor=\"gray\">&#x2192;</td><td bgcolor=\"gray\">&#x2193;</td><td bgcolor=\"gray\">&#x2193;</td><td></td><td bgcolor=\"gray\">&#x2190;</td><td bgcolor=\"gray\">&#x2192;</td><td></td><td></td><td></td><td bgcolor=\"gray\">&#x2193;</td><td></td><td></td></tr><tr><td bgcolor=\"gray\">&#x2191;</td><td bgcolor=\"gray\">&#x2193;</td><td bgcolor=\"gray\">&#x2191;</td><td bgcolor=\"gray\">&#x2192;</td><td bgcolor=\"gray\">&#x2190;</td><td bgcolor=\"gray\">&#x2192;</td><td bgcolor=\"gray\">&#x2190;</td><td bgcolor=\"gray\">&#x2190;</td><td></td><td></td><td bgcolor=\"gray\">&#x2191;</td><td bgcolor=\"gray\">&#x2192;</td><td bgcolor=\"gray\">&#x2192;</td><td></td><td bgcolor=\"gray\">&#x2192;</td><td bgcolor=\"gray\">&#x2191;</td><td bgcolor=\"gray\">&#x2190;</td><td></td><td></td><td></td><td bgcolor=\"gray\">&#x2192;</td><td bgcolor=\"gray\">&#x2190;</td><td bgcolor=\"gray\">&#x2192;</td><td bgcolor=\"gray\">&#x2192;</td><td bgcolor=\"gray\">&#x2192;</td><td bgcolor=\"gray\">&#x2192;</td><td bgcolor=\"gray\">&#x2192;</td><td bgcolor=\"gray\">&#x2191;</td><td></td><td bgcolor=\"gray\">&#x2192;</td><td></td><td></td><td bgcolor=\"gray\">&#x2190;</td><td></td><td bgcolor=\"gray\">&#x2190;</td><td></td><td bgcolor=\"gray\">&#x2190;</td><td bgcolor=\"gray\">&#x2190;</td><td></td><td bgcolor=\"gray\">&#x2192;</td><td bgcolor=\"gray\">&#x2192;</td><td bgcolor=\"gray\">&#x2192;</td><td bgcolor=\"gray\">&#x2192;</td><td bgcolor=\"gray\">&#x2192;</td><td bgcolor=\"gray\">&#x2192;</td><td bgcolor=\"gray\">&#x2192;</td><td bgcolor=\"gray\">&#x2193;</td><td bgcolor=\"gray\">&#x2193;</td><td bgcolor=\"gray\">&#x2193;</td><td bgcolor=\"gray\">&#x2191;</td></tr><tr><td></td><td></td><td bgcolor=\"gray\">&#x2190;</td><td bgcolor=\"gray\">&#x2192;</td><td bgcolor=\"gray\">&#x2191;</td><td bgcolor=\"gray\">&#x2192;</td><td bgcolor=\"gray\">&#x2193;</td><td></td><td bgcolor=\"gray\">&#x2193;</td><td bgcolor=\"gray\">&#x2191;</td><td bgcolor=\"gray\">&#x2193;</td><td></td><td bgcolor=\"gray\">&#x2193;</td><td bgcolor=\"gray\">&#x2191;</td><td></td><td></td><td></td><td bgcolor=\"gray\">&#x2190;</td><td></td><td bgcolor=\"gray\">&#x2192;</td><td bgcolor=\"gray\">&#x2193;</td><td bgcolor=\"gray\">&#x2191;</td><td></td><td bgcolor=\"gray\">&#x2192;</td><td bgcolor=\"gray\">&#x2191;</td><td bgcolor=\"gray\">&#x2193;</td><td bgcolor=\"gray\">&#x2190;</td><td></td><td bgcolor=\"gray\">&#x2192;</td><td bgcolor=\"gray\">&#x2193;</td><td></td><td></td><td bgcolor=\"gray\">&#x2190;</td><td></td><td bgcolor=\"gray\">&#x2190;</td><td></td><td></td><td bgcolor=\"gray\">&#x2193;</td><td bgcolor=\"gray\">&#x2193;</td><td></td><td></td><td bgcolor=\"gray\">&#x2190;</td><td></td><td bgcolor=\"gray\">&#x2193;</td><td></td><td bgcolor=\"gray\">&#x2190;</td><td bgcolor=\"gray\">&#x2192;</td><td bgcolor=\"gray\">&#x2193;</td><td bgcolor=\"gray\">&#x2193;</td><td bgcolor=\"gray\">&#x2191;</td></tr><tr><td></td><td></td><td></td><td></td><td></td><td></td><td bgcolor=\"gray\">&#x2192;</td><td bgcolor=\"gray\">&#x2192;</td><td bgcolor=\"gray\">&#x2193;</td><td></td><td bgcolor=\"gray\">&#x2191;</td><td bgcolor=\"gray\">&#x2193;</td><td></td><td bgcolor=\"gray\">&#x2191;</td><td bgcolor=\"gray\">&#x2191;</td><td bgcolor=\"gray\">&#x2193;</td><td></td><td bgcolor=\"gray\">&#x2192;</td><td bgcolor=\"gray\">&#x2192;</td><td bgcolor=\"gray\">&#x2191;</td><td></td><td></td><td bgcolor=\"gray\">&#x2192;</td><td bgcolor=\"gray\">&#x2191;</td><td bgcolor=\"gray\">&#x2190;</td><td></td><td bgcolor=\"gray\">&#x2191;</td><td></td><td bgcolor=\"gray\">&#x2190;</td><td bgcolor=\"gray\">&#x2191;</td><td bgcolor=\"gray\">&#x2190;</td><td bgcolor=\"gray\">&#x2193;</td><td></td><td bgcolor=\"gray\">&#x2190;</td><td bgcolor=\"gray\">&#x2191;</td><td bgcolor=\"gray\">&#x2193;</td><td bgcolor=\"gray\">&#x2191;</td><td></td><td></td><td bgcolor=\"gray\">&#x2190;</td><td bgcolor=\"gray\">&#x2192;</td><td bgcolor=\"gray\">&#x2193;</td><td bgcolor=\"gray\">&#x2190;</td><td bgcolor=\"gray\">&#x2190;</td><td></td><td></td><td bgcolor=\"gray\">&#x2192;</td><td bgcolor=\"gray\">&#x2193;</td><td bgcolor=\"gray\">&#x2193;</td><td bgcolor=\"gray\">&#x2191;</td></tr><tr><td></td><td></td><td></td><td></td><td></td><td></td><td bgcolor=\"gray\">&#x2191;</td><td></td><td></td><td bgcolor=\"gray\">&#x2192;</td><td bgcolor=\"gray\">&#x2192;</td><td bgcolor=\"gray\">&#x2193;</td><td bgcolor=\"gray\">&#x2193;</td><td bgcolor=\"gray\">&#x2193;</td><td></td><td bgcolor=\"gray\">&#x2190;</td><td></td><td bgcolor=\"gray\">&#x2191;</td><td></td><td bgcolor=\"gray\">&#x2193;</td><td bgcolor=\"gray\">&#x2191;</td><td bgcolor=\"gray\">&#x2193;</td><td bgcolor=\"gray\">&#x2191;</td><td></td><td></td><td bgcolor=\"gray\">&#x2190;</td><td></td><td bgcolor=\"gray\">&#x2193;</td><td bgcolor=\"gray\">&#x2192;</td><td bgcolor=\"gray\">&#x2191;</td><td bgcolor=\"gray\">&#x2191;</td><td></td><td></td><td></td><td bgcolor=\"gray\">&#x2191;</td><td bgcolor=\"gray\">&#x2192;</td><td></td><td bgcolor=\"gray\">&#x2192;</td><td></td><td></td><td bgcolor=\"gray\">&#x2192;</td><td bgcolor=\"gray\">&#x2192;</td><td bgcolor=\"gray\">&#x2192;</td><td bgcolor=\"gray\">&#x2192;</td><td bgcolor=\"gray\">&#x2192;</td><td bgcolor=\"gray\">&#x2190;</td><td bgcolor=\"gray\">&#x2192;</td><td bgcolor=\"gray\">&#x2192;</td><td bgcolor=\"gray\">&#x2193;</td><td></td></tr><tr><td></td><td></td><td></td><td></td><td></td><td></td><td></td><td></td><td></td><td></td><td bgcolor=\"gray\">&#x2190;</td><td bgcolor=\"gray\">&#x2192;</td><td bgcolor=\"gray\">&#x2191;</td><td bgcolor=\"gray\">&#x2193;</td><td></td><td></td><td bgcolor=\"gray\">&#x2192;</td><td bgcolor=\"gray\">&#x2191;</td><td></td><td bgcolor=\"gray\">&#x2193;</td><td bgcolor=\"gray\">&#x2190;</td><td bgcolor=\"gray\">&#x2192;</td><td bgcolor=\"gray\">&#x2193;</td><td></td><td bgcolor=\"gray\">&#x2190;</td><td bgcolor=\"gray\">&#x2193;</td><td bgcolor=\"gray\">&#x2191;</td><td bgcolor=\"gray\">&#x2191;</td><td></td><td></td><td></td><td></td><td></td><td></td><td bgcolor=\"gray\">&#x2193;</td><td bgcolor=\"gray\">&#x2193;</td><td bgcolor=\"gray\">&#x2193;</td><td bgcolor=\"gray\">&#x2191;</td><td></td><td></td><td bgcolor=\"gray\">&#x2191;</td><td></td><td></td><td bgcolor=\"gray\">&#x2192;</td><td></td><td bgcolor=\"gray\">&#x2191;</td><td></td><td bgcolor=\"gray\">&#x2192;</td><td bgcolor=\"gray\">&#x2193;</td><td bgcolor=\"gray\">&#x2193;</td></tr><tr><td></td><td></td><td></td><td></td><td></td><td></td><td></td><td></td><td></td><td></td><td bgcolor=\"gray\">&#x2190;</td><td></td><td bgcolor=\"gray\">&#x2192;</td><td bgcolor=\"gray\">&#x2190;</td><td bgcolor=\"gray\">&#x2190;</td><td bgcolor=\"gray\">&#x2192;</td><td bgcolor=\"gray\">&#x2192;</td><td bgcolor=\"gray\">&#x2192;</td><td></td><td></td><td bgcolor=\"gray\">&#x2190;</td><td></td><td bgcolor=\"gray\">&#x2191;</td><td bgcolor=\"gray\">&#x2190;</td><td bgcolor=\"gray\">&#x2192;</td><td></td><td bgcolor=\"gray\">&#x2190;</td><td bgcolor=\"gray\">&#x2191;</td><td bgcolor=\"gray\">&#x2193;</td><td bgcolor=\"gray\">&#x2190;</td><td bgcolor=\"gray\">&#x2192;</td><td></td><td bgcolor=\"gray\">&#x2192;</td><td bgcolor=\"gray\">&#x2192;</td><td bgcolor=\"gray\">&#x2192;</td><td bgcolor=\"gray\">&#x2191;</td><td bgcolor=\"gray\">&#x2191;</td><td bgcolor=\"gray\">&#x2191;</td><td></td><td bgcolor=\"gray\">&#x2190;</td><td bgcolor=\"gray\">&#x2191;</td><td></td><td></td><td bgcolor=\"gray\">&#x2193;</td><td bgcolor=\"gray\">&#x2192;</td><td bgcolor=\"gray\">&#x2190;</td><td></td><td bgcolor=\"gray\">&#x2190;</td><td bgcolor=\"gray\">&#x2192;</td><td bgcolor=\"gray\">&#x2193;</td></tr><tr><td></td><td></td><td></td><td></td><td></td><td></td><td></td><td></td><td></td><td></td><td bgcolor=\"gray\">&#x2191;</td><td></td><td bgcolor=\"gray\">&#x2192;</td><td></td><td></td><td bgcolor=\"gray\">&#x2190;</td><td bgcolor=\"gray\">&#x2191;</td><td></td><td bgcolor=\"gray\">&#x2193;</td><td bgcolor=\"gray\">&#x2190;</td><td bgcolor=\"gray\">&#x2193;</td><td></td><td bgcolor=\"gray\">&#x2193;</td><td bgcolor=\"gray\">&#x2191;</td><td bgcolor=\"gray\">&#x2192;</td><td bgcolor=\"gray\">&#x2190;</td><td></td><td></td><td bgcolor=\"gray\">&#x2193;</td><td bgcolor=\"gray\">&#x2193;</td><td bgcolor=\"gray\">&#x2192;</td><td bgcolor=\"gray\">&#x2193;</td><td bgcolor=\"gray\">&#x2191;</td><td></td><td bgcolor=\"gray\">&#x2191;</td><td></td><td></td><td bgcolor=\"gray\">&#x2190;</td><td bgcolor=\"gray\">&#x2190;</td><td></td><td bgcolor=\"gray\">&#x2191;</td><td bgcolor=\"gray\">&#x2191;</td><td bgcolor=\"gray\">&#x2193;</td><td bgcolor=\"gray\">&#x2193;</td><td bgcolor=\"gray\">&#x2190;</td><td></td><td bgcolor=\"gray\">&#x2191;</td><td bgcolor=\"gray\">&#x2191;</td><td></td><td bgcolor=\"gray\">&#x2190;</td></tr></table>"
      ],
      "text/plain": [
       "<IPython.core.display.HTML object>"
      ]
     },
     "metadata": {},
     "output_type": "display_data"
    }
   ],
   "source": [
    "from IPython.display import HTML, display\n",
    "\n",
    "# get all initial states\n",
    "valid_states_all = torch.cat((env.valid_states, torch.tensor([env.grid_size-1,env.grid_size-1]).to(device).unsqueeze(dim=0)))\n",
    "valid_states_all = valid_states_all[:,0] * env.grid_size + valid_states_all[:,1]\n",
    "\n",
    "# create direction table\n",
    "state_action_theta = torch.reshape(theta, (STATE_SIZE, ACTION_SIZE))\n",
    "direction_table = torch.argmax(state_action_theta, dim=-1)\n",
    "direction_table = torch.reshape(direction_table, (env.grid_size, env.grid_size))\n",
    "direction_table = direction_table.cpu().numpy()\n",
    "\n",
    "# show\n",
    "html_text = \"<table>\"\n",
    "for row in range(env.grid_size):\n",
    "    html_text += \"<tr>\"\n",
    "    for col in range(env.grid_size):\n",
    "        if row*env.grid_size + col in valid_states_all:\n",
    "            html_text += \"<td bgcolor=\\\"gray\\\">\"\n",
    "            #\n",
    "            # show direction\n",
    "            #\n",
    "            index = direction_table[row, col]\n",
    "            if index == 0:\n",
    "                html_text += \"&#x2191;\" # up\n",
    "            elif index == 1:\n",
    "                html_text += \"&#x2193;\" # down\n",
    "            elif index == 2:\n",
    "                html_text += \"&#x2190;\" # left\n",
    "            elif index == 3:\n",
    "                html_text += \"&#x2192;\" # right\n",
    "        else:\n",
    "            html_text += \"<td>\"\n",
    "        html_text += \"</td>\"\n",
    "    html_text += \"</tr>\"\n",
    "html_text += \"</table>\"\n",
    "\n",
    "display(HTML(html_text))"
   ]
  },
  {
   "cell_type": "code",
   "execution_count": null,
   "id": "747e7d18-ab7f-4e05-a61a-6625e55f2790",
   "metadata": {},
   "outputs": [],
   "source": []
  }
 ],
 "metadata": {
  "kernelspec": {
   "display_name": "Python 3 (ipykernel)",
   "language": "python",
   "name": "python3"
  },
  "language_info": {
   "codemirror_mode": {
    "name": "ipython",
    "version": 3
   },
   "file_extension": ".py",
   "mimetype": "text/x-python",
   "name": "python",
   "nbconvert_exporter": "python",
   "pygments_lexer": "ipython3",
   "version": "3.10.12"
  }
 },
 "nbformat": 4,
 "nbformat_minor": 5
}
